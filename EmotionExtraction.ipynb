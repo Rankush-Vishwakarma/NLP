{
  "nbformat": 4,
  "nbformat_minor": 0,
  "metadata": {
    "colab": {
      "provenance": [],
      "collapsed_sections": []
    },
    "kernelspec": {
      "display_name": "Python 3",
      "name": "python3"
    },
    "language_info": {
      "name": "python"
    }
  },
  "cells": [
    {
      "cell_type": "code",
      "metadata": {
        "colab": {
          "base_uri": "https://localhost:8080/"
        },
        "id": "gIeASMo8fysg",
        "outputId": "6bd9440b-b214-4cdf-a598-245524190e44"
      },
      "source": [
        "!pip install neattext"
      ],
      "execution_count": null,
      "outputs": [
        {
          "output_type": "stream",
          "text": [
            "Collecting neattext\n",
            "\u001b[?25l  Downloading https://files.pythonhosted.org/packages/1c/ac/f858b75b2d479d39cb43d92a21b892510b52240b27b48614a8da18e738b7/neattext-0.1.0-py3-none-any.whl (112kB)\n",
            "\r\u001b[K     |███                             | 10kB 21.3MB/s eta 0:00:01\r\u001b[K     |█████▉                          | 20kB 28.2MB/s eta 0:00:01\r\u001b[K     |████████▊                       | 30kB 24.3MB/s eta 0:00:01\r\u001b[K     |███████████▊                    | 40kB 19.6MB/s eta 0:00:01\r\u001b[K     |██████████████▋                 | 51kB 15.2MB/s eta 0:00:01\r\u001b[K     |█████████████████▌              | 61kB 10.9MB/s eta 0:00:01\r\u001b[K     |████████████████████▌           | 71kB 11.9MB/s eta 0:00:01\r\u001b[K     |███████████████████████▍        | 81kB 13.1MB/s eta 0:00:01\r\u001b[K     |██████████████████████████▎     | 92kB 12.1MB/s eta 0:00:01\r\u001b[K     |█████████████████████████████▎  | 102kB 13.1MB/s eta 0:00:01\r\u001b[K     |████████████████████████████████| 112kB 13.1MB/s \n",
            "\u001b[?25hInstalling collected packages: neattext\n",
            "Successfully installed neattext-0.1.0\n"
          ],
          "name": "stdout"
        }
      ]
    },
    {
      "cell_type": "code",
      "metadata": {
        "id": "n7Z8fw9xfeFS"
      },
      "source": [
        "import pandas as pd\n",
        "import numpy as np\n",
        "import matplotlib.pyplot as plt\n",
        "from matplotlib.pyplot import figure\n",
        "import seaborn as sns\n",
        "import neattext.functions as nfx"
      ],
      "execution_count": null,
      "outputs": []
    },
    {
      "cell_type": "code",
      "metadata": {
        "id": "YkZEU4HRgDuC"
      },
      "source": [
        "df = pd.read_csv('/content/drive/MyDrive/Emotion_datsetfecer.csv')"
      ],
      "execution_count": null,
      "outputs": []
    },
    {
      "cell_type": "code",
      "metadata": {
        "id": "FYqRPqysgD2b"
      },
      "source": [
        "df2 = pd.read_csv('/content/drive/MyDrive/emotion_dataset.csv')"
      ],
      "execution_count": null,
      "outputs": []
    },
    {
      "cell_type": "code",
      "metadata": {
        "id": "-YGEF762gD5y"
      },
      "source": [
        "df3 = df2.append(df)"
      ],
      "execution_count": null,
      "outputs": []
    },
    {
      "cell_type": "code",
      "metadata": {
        "id": "Sse6hH1pmTTU"
      },
      "source": [
        "df4 = pd.read_csv('/content/drive/MyDrive/dailydialogue.csv')"
      ],
      "execution_count": null,
      "outputs": []
    },
    {
      "cell_type": "code",
      "metadata": {
        "colab": {
          "base_uri": "https://localhost:8080/",
          "height": 203
        },
        "id": "fHwfARNbmj8x",
        "outputId": "59f19bc1-fbcb-4db1-b02f-2361898504f9"
      },
      "source": [
        "df3.head()"
      ],
      "execution_count": null,
      "outputs": [
        {
          "output_type": "execute_result",
          "data": {
            "text/html": [
              "<div>\n",
              "<style scoped>\n",
              "    .dataframe tbody tr th:only-of-type {\n",
              "        vertical-align: middle;\n",
              "    }\n",
              "\n",
              "    .dataframe tbody tr th {\n",
              "        vertical-align: top;\n",
              "    }\n",
              "\n",
              "    .dataframe thead th {\n",
              "        text-align: right;\n",
              "    }\n",
              "</style>\n",
              "<table border=\"1\" class=\"dataframe\">\n",
              "  <thead>\n",
              "    <tr style=\"text-align: right;\">\n",
              "      <th></th>\n",
              "      <th>Emotion</th>\n",
              "      <th>Text</th>\n",
              "    </tr>\n",
              "  </thead>\n",
              "  <tbody>\n",
              "    <tr>\n",
              "      <th>0</th>\n",
              "      <td>happy</td>\n",
              "      <td>I suppose I am happy being so ` tiny' ; it mea...</td>\n",
              "    </tr>\n",
              "    <tr>\n",
              "      <th>1</th>\n",
              "      <td>happy</td>\n",
              "      <td>Lennox has always truly wanted to fight for th...</td>\n",
              "    </tr>\n",
              "    <tr>\n",
              "      <th>2</th>\n",
              "      <td>happy</td>\n",
              "      <td>He was a professional musician now , still sen...</td>\n",
              "    </tr>\n",
              "    <tr>\n",
              "      <th>3</th>\n",
              "      <td>happy</td>\n",
              "      <td>Holmes is happy having the freedom of the hous...</td>\n",
              "    </tr>\n",
              "    <tr>\n",
              "      <th>4</th>\n",
              "      <td>happy</td>\n",
              "      <td>I had problems with tutors trying to encourage...</td>\n",
              "    </tr>\n",
              "  </tbody>\n",
              "</table>\n",
              "</div>"
            ],
            "text/plain": [
              "  Emotion                                               Text\n",
              "0   happy  I suppose I am happy being so ` tiny' ; it mea...\n",
              "1   happy  Lennox has always truly wanted to fight for th...\n",
              "2   happy  He was a professional musician now , still sen...\n",
              "3   happy  Holmes is happy having the freedom of the hous...\n",
              "4   happy  I had problems with tutors trying to encourage..."
            ]
          },
          "metadata": {
            "tags": []
          },
          "execution_count": 8
        }
      ]
    },
    {
      "cell_type": "code",
      "metadata": {
        "colab": {
          "base_uri": "https://localhost:8080/"
        },
        "id": "Fr8naBwAgD82",
        "outputId": "6503a605-3492-4591-d3be-0381f6b0df2a"
      },
      "source": [
        "df3['Emotion'].value_counts()"
      ],
      "execution_count": null,
      "outputs": [
        {
          "output_type": "execute_result",
          "data": {
            "text/plain": [
              "anger       1554\n",
              "fear        1504\n",
              "shame       1200\n",
              "disgust     1162\n",
              "joy         1081\n",
              "sadness     1067\n",
              "guilt       1052\n",
              "sad          575\n",
              "happy        479\n",
              "surprise     213\n",
              "Name: Emotion, dtype: int64"
            ]
          },
          "metadata": {
            "tags": []
          },
          "execution_count": 9
        }
      ]
    },
    {
      "cell_type": "code",
      "metadata": {
        "id": "IStgfvXbgD_3"
      },
      "source": [
        "from textblob import TextBlob\n"
      ],
      "execution_count": null,
      "outputs": []
    },
    {
      "cell_type": "code",
      "metadata": {
        "id": "5ucToq0JgEDG"
      },
      "source": [
        "def getsentiment(text):\n",
        "  blob = TextBlob(text)\n",
        "  sentiment = blob.sentiment.polarity\n",
        "  if sentiment > 0:\n",
        "    result = 'Postive'\n",
        "  elif sentiment < 0:\n",
        "    result = 'Negative'\n",
        "  else:\n",
        "    result = 'Neutral'\n",
        "  return result"
      ],
      "execution_count": null,
      "outputs": []
    },
    {
      "cell_type": "code",
      "metadata": {
        "id": "uGPYhpOEgEGf"
      },
      "source": [
        "#getsentiment('i am happy')"
      ],
      "execution_count": null,
      "outputs": []
    },
    {
      "cell_type": "code",
      "metadata": {
        "id": "CeycqS3Cp8X3"
      },
      "source": [
        "df3['Sentiment'] = df3['Text'].apply(getsentiment)"
      ],
      "execution_count": null,
      "outputs": []
    },
    {
      "cell_type": "code",
      "metadata": {
        "colab": {
          "base_uri": "https://localhost:8080/",
          "height": 203
        },
        "id": "olWFneCUp8ah",
        "outputId": "a359fba7-9e3c-4a36-c9b0-8dda28b37e3f"
      },
      "source": [
        "df3.tail()"
      ],
      "execution_count": null,
      "outputs": [
        {
          "output_type": "execute_result",
          "data": {
            "text/html": [
              "<div>\n",
              "<style scoped>\n",
              "    .dataframe tbody tr th:only-of-type {\n",
              "        vertical-align: middle;\n",
              "    }\n",
              "\n",
              "    .dataframe tbody tr th {\n",
              "        vertical-align: top;\n",
              "    }\n",
              "\n",
              "    .dataframe thead th {\n",
              "        text-align: right;\n",
              "    }\n",
              "</style>\n",
              "<table border=\"1\" class=\"dataframe\">\n",
              "  <thead>\n",
              "    <tr style=\"text-align: right;\">\n",
              "      <th></th>\n",
              "      <th>Emotion</th>\n",
              "      <th>Text</th>\n",
              "      <th>Sentiment</th>\n",
              "    </tr>\n",
              "  </thead>\n",
              "  <tbody>\n",
              "    <tr>\n",
              "      <th>7468</th>\n",
              "      <td>anger</td>\n",
              "      <td>Two years back someone invited me to be the tu...</td>\n",
              "      <td>Negative</td>\n",
              "    </tr>\n",
              "    <tr>\n",
              "      <th>7469</th>\n",
              "      <td>sadness</td>\n",
              "      <td>I had taken the responsibility to do something...</td>\n",
              "      <td>Negative</td>\n",
              "    </tr>\n",
              "    <tr>\n",
              "      <th>7470</th>\n",
              "      <td>disgust</td>\n",
              "      <td>I was at home and I heard a loud sound of spit...</td>\n",
              "      <td>Postive</td>\n",
              "    </tr>\n",
              "    <tr>\n",
              "      <th>7471</th>\n",
              "      <td>shame</td>\n",
              "      <td>I did not do the homework that the teacher had...</td>\n",
              "      <td>Neutral</td>\n",
              "    </tr>\n",
              "    <tr>\n",
              "      <th>7472</th>\n",
              "      <td>guilt</td>\n",
              "      <td>I had shouted at my younger brother and he was...</td>\n",
              "      <td>Negative</td>\n",
              "    </tr>\n",
              "  </tbody>\n",
              "</table>\n",
              "</div>"
            ],
            "text/plain": [
              "      Emotion                                               Text Sentiment\n",
              "7468    anger  Two years back someone invited me to be the tu...  Negative\n",
              "7469  sadness  I had taken the responsibility to do something...  Negative\n",
              "7470  disgust  I was at home and I heard a loud sound of spit...   Postive\n",
              "7471    shame  I did not do the homework that the teacher had...   Neutral\n",
              "7472    guilt  I had shouted at my younger brother and he was...  Negative"
            ]
          },
          "metadata": {
            "tags": []
          },
          "execution_count": 14
        }
      ]
    },
    {
      "cell_type": "code",
      "metadata": {
        "id": "GoeHbpjEp8dz"
      },
      "source": [
        "df3['cleanText'] = df3['Text'].apply(nfx.remove_stopwords)"
      ],
      "execution_count": null,
      "outputs": []
    },
    {
      "cell_type": "code",
      "metadata": {
        "id": "T9BNVwt3p8fb"
      },
      "source": [
        "df3['cleanText'] = df3['cleanText'].apply(nfx.remove_userhandles)\n",
        "df3['cleanText'] = df3['cleanText'].apply(nfx.remove_punctuations)"
      ],
      "execution_count": null,
      "outputs": []
    },
    {
      "cell_type": "code",
      "metadata": {
        "colab": {
          "base_uri": "https://localhost:8080/",
          "height": 203
        },
        "id": "28YBLdyjDxHF",
        "outputId": "05db42d7-a44e-4bf6-f895-e3889adb2741"
      },
      "source": [
        "df3[['Text','cleanText']][:5]"
      ],
      "execution_count": null,
      "outputs": [
        {
          "output_type": "execute_result",
          "data": {
            "text/html": [
              "<div>\n",
              "<style scoped>\n",
              "    .dataframe tbody tr th:only-of-type {\n",
              "        vertical-align: middle;\n",
              "    }\n",
              "\n",
              "    .dataframe tbody tr th {\n",
              "        vertical-align: top;\n",
              "    }\n",
              "\n",
              "    .dataframe thead th {\n",
              "        text-align: right;\n",
              "    }\n",
              "</style>\n",
              "<table border=\"1\" class=\"dataframe\">\n",
              "  <thead>\n",
              "    <tr style=\"text-align: right;\">\n",
              "      <th></th>\n",
              "      <th>Text</th>\n",
              "      <th>cleanText</th>\n",
              "    </tr>\n",
              "  </thead>\n",
              "  <tbody>\n",
              "    <tr>\n",
              "      <th>0</th>\n",
              "      <td>I suppose I am happy being so ` tiny' ; it mea...</td>\n",
              "      <td>suppose happy  tiny  means able surprise peopl...</td>\n",
              "    </tr>\n",
              "    <tr>\n",
              "      <th>1</th>\n",
              "      <td>Lennox has always truly wanted to fight for th...</td>\n",
              "      <td>Lennox truly wanted fight world title happy ta...</td>\n",
              "    </tr>\n",
              "    <tr>\n",
              "      <th>2</th>\n",
              "      <td>He was a professional musician now , still sen...</td>\n",
              "      <td>professional musician  sensitive happy loved</td>\n",
              "    </tr>\n",
              "    <tr>\n",
              "      <th>3</th>\n",
              "      <td>Holmes is happy having the freedom of the hous...</td>\n",
              "      <td>Holmes happy freedom house</td>\n",
              "    </tr>\n",
              "    <tr>\n",
              "      <th>4</th>\n",
              "      <td>I had problems with tutors trying to encourage...</td>\n",
              "      <td>problems tutors trying encourage diversity wor...</td>\n",
              "    </tr>\n",
              "  </tbody>\n",
              "</table>\n",
              "</div>"
            ],
            "text/plain": [
              "                                                Text                                          cleanText\n",
              "0  I suppose I am happy being so ` tiny' ; it mea...  suppose happy  tiny  means able surprise peopl...\n",
              "1  Lennox has always truly wanted to fight for th...  Lennox truly wanted fight world title happy ta...\n",
              "2  He was a professional musician now , still sen...      professional musician  sensitive happy loved \n",
              "3  Holmes is happy having the freedom of the hous...                        Holmes happy freedom house \n",
              "4  I had problems with tutors trying to encourage...  problems tutors trying encourage diversity wor..."
            ]
          },
          "metadata": {
            "tags": []
          },
          "execution_count": 17
        }
      ]
    },
    {
      "cell_type": "code",
      "metadata": {
        "id": "u26LCYi-p8hX"
      },
      "source": [
        "from collections import Counter,OrderedDict"
      ],
      "execution_count": null,
      "outputs": []
    },
    {
      "cell_type": "code",
      "metadata": {
        "id": "0ZLrZ68Bp8lt"
      },
      "source": [
        "def extract_keywords(text,num=50):\n",
        "  tokens = [tok for tok in text.split()]\n",
        "  most_common_token = Counter(tokens).most_common(num)\n",
        "  return dict(most_common_token)"
      ],
      "execution_count": null,
      "outputs": []
    },
    {
      "cell_type": "code",
      "metadata": {
        "id": "TlVY5fXdr56m"
      },
      "source": [
        "emotion_list = df3['Emotion'].unique().tolist()"
      ],
      "execution_count": null,
      "outputs": []
    },
    {
      "cell_type": "code",
      "metadata": {
        "id": "RNKD5LtvEM_H"
      },
      "source": [],
      "execution_count": null,
      "outputs": []
    },
    {
      "cell_type": "code",
      "metadata": {
        "colab": {
          "base_uri": "https://localhost:8080/"
        },
        "id": "ZaHR9TxHsIft",
        "outputId": "8ac43249-ddc8-42ae-ce30-25c711895dd7"
      },
      "source": [
        "emotion_list"
      ],
      "execution_count": null,
      "outputs": [
        {
          "output_type": "execute_result",
          "data": {
            "text/plain": [
              "['happy',\n",
              " 'sad',\n",
              " 'surprise',\n",
              " 'disgust',\n",
              " 'anger',\n",
              " 'fear',\n",
              " 'shame',\n",
              " 'joy',\n",
              " 'sadness',\n",
              " 'guilt']"
            ]
          },
          "metadata": {
            "tags": []
          },
          "execution_count": 21
        }
      ]
    },
    {
      "cell_type": "code",
      "metadata": {
        "id": "M5tzYtA1EZnA"
      },
      "source": [
        "#df[df['Emotion']=='joy']\n",
        "joy_list = df3[df3['Emotion']=='joy']['cleanText'].tolist()\n",
        "joy_sent = ' '.join(joy_list)#for future refernce"
      ],
      "execution_count": null,
      "outputs": []
    },
    {
      "cell_type": "code",
      "metadata": {
        "colab": {
          "base_uri": "https://localhost:8080/"
        },
        "id": "ly1CP3csFofx",
        "outputId": "0d7183a9-0763-4722-9ed6-68d7f0f4c911"
      },
      "source": [
        "joy_keywords = extract_keywords(joy_sent)\n",
        "joy_keywords"
      ],
      "execution_count": null,
      "outputs": [
        {
          "output_type": "execute_result",
          "data": {
            "text/plain": [
              "{'University': 27,\n",
              " 'accepted': 47,\n",
              " 'admitted': 28,\n",
              " 'birthday': 27,\n",
              " 'boyfriend': 42,\n",
              " 'came': 57,\n",
              " 'close': 34,\n",
              " 'day': 46,\n",
              " 'exam': 54,\n",
              " 'examination': 41,\n",
              " 'exams': 35,\n",
              " 'family': 27,\n",
              " 'feeling': 28,\n",
              " 'felt': 98,\n",
              " 'found': 26,\n",
              " 'friend': 122,\n",
              " 'friends': 64,\n",
              " 'gave': 35,\n",
              " 'girl': 36,\n",
              " 'girlfriend': 32,\n",
              " 'good': 75,\n",
              " 'got': 116,\n",
              " 'happy': 95,\n",
              " 'heard': 45,\n",
              " 'home': 42,\n",
              " 'it': 27,\n",
              " 'joy': 88,\n",
              " 'letter': 37,\n",
              " 'long': 57,\n",
              " 'love': 49,\n",
              " 'me': 74,\n",
              " 'met': 51,\n",
              " 'months': 28,\n",
              " 'parents': 27,\n",
              " 'passed': 98,\n",
              " 'person': 25,\n",
              " 'present': 26,\n",
              " 'received': 51,\n",
              " 'results': 39,\n",
              " 'saw': 37,\n",
              " 'school': 61,\n",
              " 'seen': 32,\n",
              " 'selected': 40,\n",
              " 'time': 103,\n",
              " 'told': 51,\n",
              " 'university': 48,\n",
              " 'wanted': 25,\n",
              " 'went': 42,\n",
              " 'year': 67,\n",
              " 'years': 36}"
            ]
          },
          "metadata": {
            "tags": []
          },
          "execution_count": 23
        }
      ]
    },
    {
      "cell_type": "code",
      "metadata": {
        "id": "qNN3oOW4p8n8"
      },
      "source": [
        "from sklearn.linear_model import LogisticRegression\n",
        "from sklearn.naive_bayes import MultinomialNB\n",
        "from sklearn.feature_extraction.text import CountVectorizer,TfidfVectorizer\n",
        "from sklearn.metrics import accuracy_score, confusion_matrix, classification_report,plot_confusion_matrix"
      ],
      "execution_count": null,
      "outputs": []
    },
    {
      "cell_type": "code",
      "metadata": {
        "id": "wdMtbyQBHbK6"
      },
      "source": [],
      "execution_count": null,
      "outputs": []
    },
    {
      "cell_type": "code",
      "metadata": {
        "id": "Ftx90tXZHbN2"
      },
      "source": [],
      "execution_count": null,
      "outputs": []
    },
    {
      "cell_type": "code",
      "metadata": {
        "id": "cyYPZ-_rtvue"
      },
      "source": [
        "from sklearn.model_selection import train_test_split"
      ],
      "execution_count": null,
      "outputs": []
    },
    {
      "cell_type": "code",
      "metadata": {
        "id": "YUx7BCcAFk4f"
      },
      "source": [
        "xfeatures = df3['cleanText']\n",
        "ylabels = df3['Emotion']"
      ],
      "execution_count": null,
      "outputs": []
    },
    {
      "cell_type": "code",
      "metadata": {
        "id": "nS_H6Hrntvxs",
        "colab": {
          "base_uri": "https://localhost:8080/"
        },
        "outputId": "272a8f2e-d51d-490b-d0b9-a05f89e017c3"
      },
      "source": [
        "print(xfeatures[:5])"
      ],
      "execution_count": null,
      "outputs": [
        {
          "output_type": "stream",
          "text": [
            "0    suppose happy  tiny  means able surprise peopl...\n",
            "1    Lennox truly wanted fight world title happy ta...\n",
            "2        professional musician  sensitive happy loved \n",
            "3                          Holmes happy freedom house \n",
            "4    problems tutors trying encourage diversity wor...\n",
            "Name: cleanText, dtype: object\n"
          ],
          "name": "stdout"
        }
      ]
    },
    {
      "cell_type": "code",
      "metadata": {
        "id": "x8ODDnSItv1E"
      },
      "source": [
        "#vectoriztion\n",
        "cv = CountVectorizer()\n",
        "X = cv.fit_transform(xfeatures)"
      ],
      "execution_count": null,
      "outputs": []
    },
    {
      "cell_type": "code",
      "metadata": {
        "id": "O0sqhKTAtv33"
      },
      "source": [
        "#get features by name "
      ],
      "execution_count": null,
      "outputs": []
    },
    {
      "cell_type": "code",
      "metadata": {
        "id": "zSLfhFJ3tv60",
        "colab": {
          "base_uri": "https://localhost:8080/"
        },
        "outputId": "5f9f52d2-95e1-4710-d643-020422c95156"
      },
      "source": [
        "cv.get_feature_names()"
      ],
      "execution_count": null,
      "outputs": [
        {
          "output_type": "execute_result",
          "data": {
            "text/plain": [
              "['00',\n",
              " '000',\n",
              " '10',\n",
              " '100',\n",
              " '1000',\n",
              " '100000',\n",
              " '102',\n",
              " '1030',\n",
              " '10t',\n",
              " '10th',\n",
              " '10year',\n",
              " '10yrs',\n",
              " '11',\n",
              " '110km',\n",
              " '1130',\n",
              " '11months',\n",
              " '11th',\n",
              " '12',\n",
              " '120',\n",
              " '1200',\n",
              " '122',\n",
              " '1230',\n",
              " '128600',\n",
              " '1295',\n",
              " '12th',\n",
              " '12yearold',\n",
              " '13',\n",
              " '1314',\n",
              " '13th',\n",
              " '14',\n",
              " '140',\n",
              " '1400',\n",
              " '15',\n",
              " '150',\n",
              " '1500',\n",
              " '1516',\n",
              " '15yearold',\n",
              " '16',\n",
              " '16year',\n",
              " '16yearold',\n",
              " '17',\n",
              " '1741',\n",
              " '17th',\n",
              " '18',\n",
              " '180',\n",
              " '187',\n",
              " '1878',\n",
              " '18th',\n",
              " '18years',\n",
              " '19',\n",
              " '191523',\n",
              " '1917',\n",
              " '1926',\n",
              " '1929',\n",
              " '1930s',\n",
              " '1936',\n",
              " '1939',\n",
              " '1940s',\n",
              " '1956',\n",
              " '1960',\n",
              " '1960s',\n",
              " '1966',\n",
              " '1968',\n",
              " '1972',\n",
              " '1973',\n",
              " '1974',\n",
              " '1975',\n",
              " '1976',\n",
              " '1977',\n",
              " '1978',\n",
              " '1979',\n",
              " '1980',\n",
              " '1980s',\n",
              " '1982',\n",
              " '1983',\n",
              " '1984',\n",
              " '1985',\n",
              " '1986',\n",
              " '1987',\n",
              " '1989',\n",
              " '1991',\n",
              " '1992',\n",
              " '199394',\n",
              " '1997',\n",
              " '19th',\n",
              " '1a',\n",
              " '1bs',\n",
              " '1st',\n",
              " '20',\n",
              " '200',\n",
              " '2000',\n",
              " '20000',\n",
              " '200000',\n",
              " '2035',\n",
              " '20s',\n",
              " '20th',\n",
              " '21',\n",
              " '210',\n",
              " '2118',\n",
              " '218',\n",
              " '218000',\n",
              " '21st',\n",
              " '22',\n",
              " '22nd',\n",
              " '23',\n",
              " '230',\n",
              " '2300',\n",
              " '231',\n",
              " '23monthold',\n",
              " '23rd',\n",
              " '24',\n",
              " '24th',\n",
              " '25th',\n",
              " '26',\n",
              " '263',\n",
              " '28',\n",
              " '28th',\n",
              " '2a',\n",
              " '2c',\n",
              " '2nd',\n",
              " '30',\n",
              " '300',\n",
              " '3000',\n",
              " '30s',\n",
              " '30th',\n",
              " '31',\n",
              " '31st',\n",
              " '32',\n",
              " '33',\n",
              " '330',\n",
              " '330000',\n",
              " '33yearold',\n",
              " '34',\n",
              " '35',\n",
              " '37574',\n",
              " '38',\n",
              " '380',\n",
              " '3rd',\n",
              " '3s',\n",
              " '40',\n",
              " '400',\n",
              " '40000',\n",
              " '4050',\n",
              " '40th',\n",
              " '40yearold',\n",
              " '430',\n",
              " '45',\n",
              " '46',\n",
              " '48',\n",
              " '49er',\n",
              " '49ers',\n",
              " '4letter',\n",
              " '4s',\n",
              " '4th',\n",
              " '50',\n",
              " '500',\n",
              " '50000',\n",
              " '500000',\n",
              " '50p',\n",
              " '51',\n",
              " '510',\n",
              " '53',\n",
              " '55',\n",
              " '57',\n",
              " '5b',\n",
              " '5c',\n",
              " '5s',\n",
              " '5th',\n",
              " '60',\n",
              " '600',\n",
              " '612',\n",
              " '62',\n",
              " '630',\n",
              " '67',\n",
              " '68',\n",
              " '686',\n",
              " '6th',\n",
              " '70',\n",
              " '70th',\n",
              " '715',\n",
              " '75th',\n",
              " '78',\n",
              " '79',\n",
              " '7th',\n",
              " '80',\n",
              " '80s',\n",
              " '810',\n",
              " '82ndminute',\n",
              " '83',\n",
              " '84',\n",
              " '8pm',\n",
              " '8week',\n",
              " '9000',\n",
              " '910',\n",
              " '930',\n",
              " '95',\n",
              " '95day',\n",
              " '9th',\n",
              " 'aa',\n",
              " 'aaron',\n",
              " 'aback',\n",
              " 'abandoned',\n",
              " 'abandoning',\n",
              " 'abandonment',\n",
              " 'abd',\n",
              " 'abdomen',\n",
              " 'abdominal',\n",
              " 'abhorred',\n",
              " 'abhorrent',\n",
              " 'abigail',\n",
              " 'abilities',\n",
              " 'ability',\n",
              " 'abjectly',\n",
              " 'able',\n",
              " 'abnormal',\n",
              " 'aboard',\n",
              " 'abominable',\n",
              " 'aboriginal',\n",
              " 'aborted',\n",
              " 'abortion',\n",
              " 'about',\n",
              " 'above',\n",
              " 'aboveboard',\n",
              " 'abroad',\n",
              " 'abrupt',\n",
              " 'abruptely',\n",
              " 'abruptly',\n",
              " 'absailing',\n",
              " 'abscence',\n",
              " 'absence',\n",
              " 'absent',\n",
              " 'absentminded',\n",
              " 'absentmindedness',\n",
              " 'absolute',\n",
              " 'absolutely',\n",
              " 'absurd',\n",
              " 'absurdly',\n",
              " 'abuse',\n",
              " 'abused',\n",
              " 'abusing',\n",
              " 'abusive',\n",
              " 'abut',\n",
              " 'abyssinia',\n",
              " 'academic',\n",
              " 'academically',\n",
              " 'academics',\n",
              " 'academy',\n",
              " 'acccouting',\n",
              " 'accelerating',\n",
              " 'accent',\n",
              " 'accentance',\n",
              " 'accept',\n",
              " 'acceptable',\n",
              " 'acceptance',\n",
              " 'accepted',\n",
              " 'accepting',\n",
              " 'acceptted',\n",
              " 'access',\n",
              " 'accessible',\n",
              " 'accident',\n",
              " 'accidentally',\n",
              " 'accidentaly',\n",
              " 'accidently',\n",
              " 'accidents',\n",
              " 'accomodation',\n",
              " 'accompanied',\n",
              " 'accompanies',\n",
              " 'accompany',\n",
              " 'accompanying',\n",
              " 'accomplish',\n",
              " 'accomplished',\n",
              " 'accomplishing',\n",
              " 'accomplishment',\n",
              " 'accord',\n",
              " 'accorded',\n",
              " 'according',\n",
              " 'accordingly',\n",
              " 'accosted',\n",
              " 'account',\n",
              " 'accountants',\n",
              " 'accounting',\n",
              " 'accounts',\n",
              " 'accquaintances',\n",
              " 'accquainted',\n",
              " 'accquired',\n",
              " 'accquiring',\n",
              " 'accredited',\n",
              " 'accrediting',\n",
              " 'accumulated',\n",
              " 'accurately',\n",
              " 'accursed',\n",
              " 'accusations',\n",
              " 'accused',\n",
              " 'accusers',\n",
              " 'accuses',\n",
              " 'accusing',\n",
              " 'ace',\n",
              " 'ache',\n",
              " 'ached',\n",
              " 'aches',\n",
              " 'achieve',\n",
              " 'achieved',\n",
              " 'achievement',\n",
              " 'achievements',\n",
              " 'achieving',\n",
              " 'achievment',\n",
              " 'acknowledge',\n",
              " 'acknowledged',\n",
              " 'acknowledging',\n",
              " 'acquaintace',\n",
              " 'acquaintance',\n",
              " 'acquaintanced',\n",
              " 'acquaintances',\n",
              " 'acquainted',\n",
              " 'acquaintences',\n",
              " 'acquaplanned',\n",
              " 'acquiesced',\n",
              " 'acquire',\n",
              " 'acquired',\n",
              " 'acquiring',\n",
              " 'acquisition',\n",
              " 'acquitted',\n",
              " 'act',\n",
              " 'acted',\n",
              " 'acting',\n",
              " 'action',\n",
              " 'actions',\n",
              " 'actioon',\n",
              " 'active',\n",
              " 'activities',\n",
              " 'activity',\n",
              " 'actor',\n",
              " 'actors',\n",
              " 'actress',\n",
              " 'acts',\n",
              " 'actual',\n",
              " 'actually',\n",
              " 'acute',\n",
              " 'acutely',\n",
              " 'adam',\n",
              " 'adapt',\n",
              " 'add',\n",
              " 'added',\n",
              " 'addiction',\n",
              " 'addicts',\n",
              " 'adding',\n",
              " 'addition',\n",
              " 'additional',\n",
              " 'additonal',\n",
              " 'address',\n",
              " 'addressed',\n",
              " 'addressing',\n",
              " 'adepts',\n",
              " 'adequate',\n",
              " 'adequately',\n",
              " 'adheres',\n",
              " 'adjacent',\n",
              " 'adjectival',\n",
              " 'adjective',\n",
              " 'adjoining',\n",
              " 'adjust',\n",
              " 'adjusted',\n",
              " 'adked',\n",
              " 'administration',\n",
              " 'administrative',\n",
              " 'admiral',\n",
              " 'admiration',\n",
              " 'admire',\n",
              " 'admired',\n",
              " 'admiring',\n",
              " 'admission',\n",
              " 'admist',\n",
              " 'admit',\n",
              " 'admited',\n",
              " 'admits',\n",
              " 'admittance',\n",
              " 'admitted',\n",
              " 'admitting',\n",
              " 'admonished',\n",
              " 'adolescence',\n",
              " 'adolescent',\n",
              " 'adolescents',\n",
              " 'adopt',\n",
              " 'adopted',\n",
              " 'adopting',\n",
              " 'adore',\n",
              " 'adored',\n",
              " 'adoring',\n",
              " 'adorns',\n",
              " 'adresses',\n",
              " 'ads',\n",
              " 'adult',\n",
              " 'adultery',\n",
              " 'adulthood',\n",
              " 'adults',\n",
              " 'advance',\n",
              " 'advanced',\n",
              " 'advances',\n",
              " 'advantage',\n",
              " 'advantages',\n",
              " 'adventure',\n",
              " 'adventures',\n",
              " 'adventurous',\n",
              " 'adverse',\n",
              " 'advertisement',\n",
              " 'advertisements',\n",
              " 'advertisers',\n",
              " 'advice',\n",
              " 'advices',\n",
              " 'advise',\n",
              " 'advised',\n",
              " 'advisers',\n",
              " 'advisor',\n",
              " 'advocates',\n",
              " 'aea',\n",
              " 'affair',\n",
              " 'affairs',\n",
              " 'affect',\n",
              " 'affected',\n",
              " 'affection',\n",
              " 'affectionate',\n",
              " 'affects',\n",
              " 'affluence',\n",
              " 'affluent',\n",
              " 'afford',\n",
              " 'afforded',\n",
              " 'affront',\n",
              " 'affronted',\n",
              " 'aficionado',\n",
              " 'afraid',\n",
              " 'africa',\n",
              " 'african',\n",
              " 'africans',\n",
              " 'aftaid',\n",
              " 'after',\n",
              " 'aftermath',\n",
              " 'afternoon',\n",
              " 'afternoons',\n",
              " 'afterpulse',\n",
              " 'afterward',\n",
              " 'afterwards',\n",
              " 'afthur',\n",
              " 'again',\n",
              " 'against',\n",
              " 'againt',\n",
              " 'againá',\n",
              " 'agape',\n",
              " 'age',\n",
              " 'aged',\n",
              " 'agency',\n",
              " 'agent',\n",
              " 'agents',\n",
              " 'ages',\n",
              " 'aggie',\n",
              " 'aggressed',\n",
              " 'aggression',\n",
              " 'aggressions',\n",
              " 'aggressive',\n",
              " 'aggressively',\n",
              " 'aggressiveness',\n",
              " 'aggrssion',\n",
              " 'agitated',\n",
              " 'agitation',\n",
              " 'aglow',\n",
              " 'agm',\n",
              " 'agnes',\n",
              " 'ago',\n",
              " 'agony',\n",
              " 'agoraphobic',\n",
              " 'agreable',\n",
              " 'agree',\n",
              " 'agreed',\n",
              " 'agreeing',\n",
              " 'agreement',\n",
              " 'agreements',\n",
              " 'agressive',\n",
              " 'agricultural',\n",
              " 'agriculture',\n",
              " 'ah',\n",
              " 'ahead',\n",
              " 'ahmed',\n",
              " 'ai',\n",
              " 'aid',\n",
              " 'aida',\n",
              " 'aids',\n",
              " 'aimed',\n",
              " 'aiming',\n",
              " 'aims',\n",
              " 'air',\n",
              " 'aircraft',\n",
              " 'aired',\n",
              " 'aires',\n",
              " 'airlines',\n",
              " 'airplane',\n",
              " 'airport',\n",
              " 'airsplitting',\n",
              " 'aisle',\n",
              " 'aisles',\n",
              " 'akin',\n",
              " 'al',\n",
              " 'alain',\n",
              " 'alameda',\n",
              " 'alan',\n",
              " 'alarm',\n",
              " 'alarmed',\n",
              " 'albert',\n",
              " 'albums',\n",
              " 'alcohol',\n",
              " 'alcoholic',\n",
              " 'alcoholics',\n",
              " 'alcool',\n",
              " 'alcove',\n",
              " 'ald',\n",
              " 'aldridge',\n",
              " 'alert',\n",
              " 'alex',\n",
              " 'alexandra',\n",
              " 'alexei',\n",
              " 'alfed',\n",
              " 'alice',\n",
              " 'alien',\n",
              " 'alienating',\n",
              " 'alight',\n",
              " 'alike',\n",
              " 'alimony',\n",
              " 'alison',\n",
              " 'alive',\n",
              " 'all',\n",
              " 'allan',\n",
              " 'allconsuming',\n",
              " 'alleged',\n",
              " 'allegiance',\n",
              " 'alleging',\n",
              " 'allen',\n",
              " 'allergic',\n",
              " 'alleviate',\n",
              " 'alley',\n",
              " 'allocated',\n",
              " 'alloted',\n",
              " 'allotted',\n",
              " 'allow',\n",
              " 'allowance',\n",
              " 'allowances',\n",
              " 'allowed',\n",
              " 'allowing',\n",
              " 'allright',\n",
              " 'allusions',\n",
              " 'almanach',\n",
              " 'almonds',\n",
              " 'almost',\n",
              " 'alone',\n",
              " 'along',\n",
              " 'aloud',\n",
              " 'alowed',\n",
              " 'already',\n",
              " 'alright',\n",
              " 'alsatians',\n",
              " 'also',\n",
              " 'altar',\n",
              " 'altering',\n",
              " 'alternative',\n",
              " 'alternatively',\n",
              " 'alternatives',\n",
              " 'althorp',\n",
              " 'although',\n",
              " 'altogether',\n",
              " 'altough',\n",
              " 'always',\n",
              " 'am',\n",
              " 'amanda',\n",
              " 'amateurs',\n",
              " 'amazed',\n",
              " 'amazement',\n",
              " 'ambassador',\n",
              " 'ambition',\n",
              " 'ambitions',\n",
              " 'ambivalent',\n",
              " 'ambulance',\n",
              " 'ambulants',\n",
              " 'amelia',\n",
              " 'amendment',\n",
              " 'amends',\n",
              " 'america',\n",
              " 'american',\n",
              " 'americans',\n",
              " 'amerika',\n",
              " 'amicable',\n",
              " 'amid',\n",
              " 'amidophen',\n",
              " 'amidst',\n",
              " 'amnesty',\n",
              " 'amok',\n",
              " 'amounts',\n",
              " 'amphetamines',\n",
              " 'ample',\n",
              " 'amplifies',\n",
              " 'amsterdam',\n",
              " 'amt',\n",
              " 'amuse',\n",
              " 'amused',\n",
              " 'amusement',\n",
              " 'amusing',\n",
              " 'an',\n",
              " 'ana',\n",
              " 'anaemia',\n",
              " 'anaesthesia',\n",
              " 'anaesthetic',\n",
              " 'analyse',\n",
              " 'analysis',\n",
              " 'analyze',\n",
              " 'anarchy',\n",
              " 'anasthesia',\n",
              " 'anatomy',\n",
              " 'anaunts',\n",
              " 'anbd',\n",
              " 'anc',\n",
              " 'and',\n",
              " 'andreotti',\n",
              " 'andrew',\n",
              " 'andrus',\n",
              " 'andy',\n",
              " 'anf',\n",
              " 'angalo',\n",
              " 'angeles',\n",
              " 'anger',\n",
              " 'angered',\n",
              " 'angers',\n",
              " 'angle',\n",
              " 'angled',\n",
              " 'angrgy',\n",
              " 'angrily',\n",
              " 'angrilyá',\n",
              " 'angry',\n",
              " 'anguish',\n",
              " 'anguished',\n",
              " 'animal',\n",
              " 'animals',\n",
              " 'ankle',\n",
              " 'ann',\n",
              " 'anna',\n",
              " 'annabel',\n",
              " 'annd',\n",
              " 'anne',\n",
              " 'annie',\n",
              " 'anniversary',\n",
              " 'annotating',\n",
              " 'announce',\n",
              " 'announced',\n",
              " 'announcement',\n",
              " 'announcing',\n",
              " 'annoyance',\n",
              " 'annoyed',\n",
              " 'annoying',\n",
              " 'annual',\n",
              " 'annus',\n",
              " 'ano',\n",
              " 'anonymous',\n",
              " 'another',\n",
              " 'anothers',\n",
              " 'ans',\n",
              " 'answer',\n",
              " 'answered',\n",
              " 'answering',\n",
              " 'answers',\n",
              " 'antagonistic',\n",
              " 'anthony',\n",
              " 'anti',\n",
              " 'antibolshevist',\n",
              " 'anticipate',\n",
              " 'anticipated',\n",
              " 'anticipation',\n",
              " 'anticipatory',\n",
              " 'antics',\n",
              " 'antiflorio',\n",
              " 'antihygienically',\n",
              " 'antipathy',\n",
              " 'antipornography',\n",
              " 'antique',\n",
              " 'antiscience',\n",
              " 'antiscientific',\n",
              " 'antisemitism',\n",
              " 'antoinette',\n",
              " 'ants',\n",
              " 'antthing',\n",
              " 'anxiety',\n",
              " 'anxious',\n",
              " 'anxiously',\n",
              " 'any',\n",
              " 'anybody',\n",
              " 'anyhow',\n",
              " 'anyhting',\n",
              " 'anymore',\n",
              " 'anymoreá',\n",
              " 'anyone',\n",
              " 'anything',\n",
              " 'anythong',\n",
              " 'anyway',\n",
              " 'aotea',\n",
              " 'ap',\n",
              " 'apart',\n",
              " 'apartheid',\n",
              " 'apartment',\n",
              " 'apartments',\n",
              " 'apathetic',\n",
              " 'apathy',\n",
              " 'aphasia',\n",
              " 'aplin',\n",
              " 'apologetic',\n",
              " 'apologise',\n",
              " 'apologize',\n",
              " 'apologized',\n",
              " 'apologizing',\n",
              " 'apology',\n",
              " 'apoplectic',\n",
              " 'apothecaries',\n",
              " 'appalled',\n",
              " 'appalling',\n",
              " 'apparatus',\n",
              " 'apparent',\n",
              " 'apparently',\n",
              " 'appartment',\n",
              " 'appartments',\n",
              " 'appeal',\n",
              " 'appealed',\n",
              " 'appealing',\n",
              " 'appear',\n",
              " 'appearance',\n",
              " 'appearances',\n",
              " 'appeard',\n",
              " 'appeared',\n",
              " 'appearence',\n",
              " 'appearing',\n",
              " 'appears',\n",
              " 'appeased',\n",
              " 'appered',\n",
              " 'appetising',\n",
              " 'applaincesá',\n",
              " 'applauded',\n",
              " 'applause',\n",
              " 'apple',\n",
              " 'apples',\n",
              " 'applicable',\n",
              " 'applicants',\n",
              " 'application',\n",
              " 'applied',\n",
              " 'applies',\n",
              " 'apply',\n",
              " 'applying',\n",
              " 'appointed',\n",
              " 'appointment',\n",
              " 'appointments',\n",
              " 'appontment',\n",
              " 'appparently',\n",
              " 'appraching',\n",
              " 'appreciate',\n",
              " 'appreciated',\n",
              " 'appreciation',\n",
              " 'apprehended',\n",
              " 'apprehension',\n",
              " 'apprehensive',\n",
              " 'approach',\n",
              " 'approached',\n",
              " 'approaching',\n",
              " 'appropriate',\n",
              " 'appropriately',\n",
              " 'approval',\n",
              " 'approve',\n",
              " 'approved',\n",
              " 'approx',\n",
              " 'approximately',\n",
              " 'april',\n",
              " 'apron',\n",
              " 'aprox',\n",
              " 'apt',\n",
              " 'aquainted',\n",
              " 'aquarium',\n",
              " 'araminta',\n",
              " 'arbitrary',\n",
              " 'arcade',\n",
              " 'archbishop',\n",
              " 'architect',\n",
              " 'architecture',\n",
              " 'ardmore',\n",
              " 'are',\n",
              " 'area',\n",
              " 'areas',\n",
              " 'arena',\n",
              " 'argue',\n",
              " 'argued',\n",
              " 'arguing',\n",
              " 'argument',\n",
              " 'argumentations',\n",
              " 'arguments',\n",
              " 'arid',\n",
              " 'arisen',\n",
              " 'aristophanes',\n",
              " 'arithmetical',\n",
              " 'arm',\n",
              " 'armed',\n",
              " 'armenian',\n",
              " 'arminian',\n",
              " 'armor',\n",
              " 'armoury',\n",
              " 'armrest',\n",
              " 'arms',\n",
              " 'army',\n",
              " 'arnhems',\n",
              " 'arnold',\n",
              " 'arose',\n",
              " 'around',\n",
              " 'aroused',\n",
              " 'arrange',\n",
              " 'arranged',\n",
              " 'arrangements',\n",
              " 'arrest',\n",
              " 'arrested',\n",
              " 'arrival',\n",
              " 'arrive',\n",
              " 'arrived',\n",
              " 'arrives',\n",
              " 'arriving',\n",
              " 'arrogance',\n",
              " 'arrogant',\n",
              " 'arse',\n",
              " 'arsenal',\n",
              " 'art',\n",
              " 'arthur',\n",
              " 'arthurs',\n",
              " 'article',\n",
              " 'articles',\n",
              " 'articulate',\n",
              " 'artillery',\n",
              " 'artist',\n",
              " 'artistic',\n",
              " 'artists',\n",
              " 'arts',\n",
              " 'as',\n",
              " 'asciatic',\n",
              " 'asfixiated',\n",
              " 'ashamad',\n",
              " 'ashamed',\n",
              " 'ashamesd',\n",
              " 'ashi',\n",
              " 'ashley',\n",
              " 'ashtray',\n",
              " 'asia',\n",
              " 'asian',\n",
              " 'asiatic',\n",
              " 'aside',\n",
              " 'ask',\n",
              " 'askad',\n",
              " 'asked',\n",
              " 'asking',\n",
              " 'asks',\n",
              " 'asleep',\n",
              " 'aslef',\n",
              " 'aspect',\n",
              " 'aspects',\n",
              " 'asphixia',\n",
              " 'aspirations',\n",
              " 'aspirins',\n",
              " 'assassination',\n",
              " 'assault',\n",
              " 'assaulted',\n",
              " 'assaulters',\n",
              " 'assaulting',\n",
              " 'assaults',\n",
              " 'assembled',\n",
              " 'assemblies',\n",
              " 'assembly',\n",
              " 'assert',\n",
              " 'assertions',\n",
              " 'assessed',\n",
              " 'assessment',\n",
              " 'assign',\n",
              " 'assigned',\n",
              " 'assignment',\n",
              " 'assignments',\n",
              " 'assist',\n",
              " 'assistant',\n",
              " 'assistat',\n",
              " 'assisted',\n",
              " 'assisting',\n",
              " 'asskissing',\n",
              " 'associated',\n",
              " 'associates',\n",
              " 'associating',\n",
              " 'association',\n",
              " 'assortment',\n",
              " 'assulted',\n",
              " 'assume',\n",
              " 'assumed',\n",
              " 'assumption',\n",
              " 'assurance',\n",
              " 'assurances',\n",
              " 'assure',\n",
              " 'assured',\n",
              " 'asthma',\n",
              " 'aston',\n",
              " 'astonished',\n",
              " 'astonishment',\n",
              " 'astounded',\n",
              " 'astrologycal',\n",
              " 'at',\n",
              " 'ate',\n",
              " 'atheism',\n",
              " 'athelstan',\n",
              " 'athens',\n",
              " 'atherton',\n",
              " 'athlete',\n",
              " 'athletic',\n",
              " 'athletically',\n",
              " 'athletics',\n",
              " 'aticle',\n",
              " 'atlantic',\n",
              " 'atmosphere',\n",
              " 'atom',\n",
              " 'atrocities',\n",
              " 'atrocity',\n",
              " 'atrophyed',\n",
              " 'attack',\n",
              " 'attackad',\n",
              " 'attacked',\n",
              " 'attacking',\n",
              " 'attacks',\n",
              " 'attain',\n",
              " 'attainable',\n",
              " 'attained',\n",
              " 'attecked',\n",
              " 'attempt',\n",
              " 'attempted',\n",
              " 'attempting',\n",
              " 'attempts',\n",
              " 'attend',\n",
              " 'attendance',\n",
              " 'attendant',\n",
              " 'attendants',\n",
              " 'attended',\n",
              " 'attending',\n",
              " 'attention',\n",
              " 'attire',\n",
              " 'attitude',\n",
              " 'attitudes',\n",
              " 'attracted',\n",
              " 'attracting',\n",
              " 'attractive',\n",
              " 'attributed',\n",
              " 'attributes',\n",
              " 'attuned',\n",
              " 'auburn',\n",
              " 'auckland',\n",
              " 'auction',\n",
              " 'audible',\n",
              " 'audiece',\n",
              " 'audience',\n",
              " 'audiences',\n",
              " 'audiovisual',\n",
              " 'audition',\n",
              " 'auditorium',\n",
              " 'august',\n",
              " 'august1983',\n",
              " 'auguste',\n",
              " 'aunt',\n",
              " 'auntie',\n",
              " 'aunts',\n",
              " 'aunty',\n",
              " 'aupairgirl',\n",
              " 'austere',\n",
              " 'australia',\n",
              " 'australian',\n",
              " 'austrian',\n",
              " 'author',\n",
              " 'authoritarian',\n",
              " 'authoritative',\n",
              " 'authorities',\n",
              " 'authority',\n",
              " 'authorized',\n",
              " 'auto',\n",
              " 'automatically',\n",
              " 'autonomous',\n",
              " 'autonomy',\n",
              " 'autopilot',\n",
              " 'autumn',\n",
              " 'auxiliary',\n",
              " 'avail',\n",
              " 'availability',\n",
              " 'available',\n",
              " 'avaricious',\n",
              " 'avenue',\n",
              " 'average',\n",
              " 'aversion',\n",
              " 'aviator',\n",
              " 'avidly',\n",
              " 'avoid',\n",
              " 'avoided',\n",
              " 'avoiding',\n",
              " 'avoids',\n",
              " 'awaited',\n",
              " 'awake',\n",
              " 'awakened',\n",
              " ...]"
            ]
          },
          "metadata": {
            "tags": []
          },
          "execution_count": 30
        }
      ]
    },
    {
      "cell_type": "code",
      "metadata": {
        "id": "kxOyzCbmOBOd"
      },
      "source": [],
      "execution_count": null,
      "outputs": []
    },
    {
      "cell_type": "code",
      "metadata": {
        "id": "D8gI__nEHfHl"
      },
      "source": [
        "X_train,X_test, y_train,y_test = train_test_split(X,ylabels,test_size=0.3,random_state=42)\n"
      ],
      "execution_count": null,
      "outputs": []
    },
    {
      "cell_type": "code",
      "metadata": {
        "colab": {
          "base_uri": "https://localhost:8080/"
        },
        "id": "YOHgn1jLHfLZ",
        "outputId": "2d74cd35-df1d-442c-c36c-4861d7de2777"
      },
      "source": [
        "#building the model\n",
        "model = MultinomialNB()\n",
        "model.fit(X_train,y_train)"
      ],
      "execution_count": null,
      "outputs": [
        {
          "output_type": "execute_result",
          "data": {
            "text/plain": [
              "MultinomialNB(alpha=1.0, class_prior=None, fit_prior=True)"
            ]
          },
          "metadata": {
            "tags": []
          },
          "execution_count": 32
        }
      ]
    },
    {
      "cell_type": "code",
      "metadata": {
        "colab": {
          "base_uri": "https://localhost:8080/"
        },
        "id": "NErC8ZvJHfNW",
        "outputId": "275908aa-d4b3-4df9-9d15-f0a6ec73aea2"
      },
      "source": [
        "model.score(X_test,y_test)"
      ],
      "execution_count": null,
      "outputs": [
        {
          "output_type": "execute_result",
          "data": {
            "text/plain": [
              "0.5824064711830131"
            ]
          },
          "metadata": {
            "tags": []
          },
          "execution_count": 33
        }
      ]
    },
    {
      "cell_type": "code",
      "metadata": {
        "id": "nzyqapGlHfPj"
      },
      "source": [
        "y_pred_ = model.predict(X_test)"
      ],
      "execution_count": null,
      "outputs": []
    },
    {
      "cell_type": "code",
      "metadata": {
        "colab": {
          "base_uri": "https://localhost:8080/"
        },
        "id": "5lB4ilsaHfSC",
        "outputId": "f199638b-ae15-4526-9185-103b82f2e99c"
      },
      "source": [
        "y_pred_"
      ],
      "execution_count": null,
      "outputs": [
        {
          "output_type": "execute_result",
          "data": {
            "text/plain": [
              "array(['sadness', 'disgust', 'sadness', ..., 'joy', 'joy', 'anger'],\n",
              "      dtype='<U8')"
            ]
          },
          "metadata": {
            "tags": []
          },
          "execution_count": 35
        }
      ]
    },
    {
      "cell_type": "code",
      "metadata": {
        "id": "vHEOFPz3HfUZ"
      },
      "source": [
        "#single statement\n",
        "sample_text = ['I love coding']\n",
        "vect = cv.transform(sample_text).toarray()"
      ],
      "execution_count": null,
      "outputs": []
    },
    {
      "cell_type": "code",
      "metadata": {
        "colab": {
          "base_uri": "https://localhost:8080/"
        },
        "id": "OI-GzwBUHfW8",
        "outputId": "257ecb13-3253-48f7-8b1b-e4be8635e850"
      },
      "source": [
        "model.predict(vect)"
      ],
      "execution_count": null,
      "outputs": [
        {
          "output_type": "execute_result",
          "data": {
            "text/plain": [
              "array(['joy'], dtype='<U8')"
            ]
          },
          "metadata": {
            "tags": []
          },
          "execution_count": 37
        }
      ]
    },
    {
      "cell_type": "code",
      "metadata": {
        "colab": {
          "base_uri": "https://localhost:8080/"
        },
        "id": "bRNA4JzmHfbM",
        "outputId": "d48b8b3f-414b-4dca-bf1c-a8e05ab64088"
      },
      "source": [
        "#probablity for the prediction or confidence score\n",
        "model.predict_proba(vect)"
      ],
      "execution_count": null,
      "outputs": [
        {
          "output_type": "execute_result",
          "data": {
            "text/plain": [
              "array([[0.09852517, 0.07425414, 0.0852916 , 0.10940336, 0.00878685,\n",
              "        0.30803125, 0.02006817, 0.18997275, 0.10361838, 0.00204833]])"
            ]
          },
          "metadata": {
            "tags": []
          },
          "execution_count": 38
        }
      ]
    },
    {
      "cell_type": "code",
      "metadata": {
        "colab": {
          "base_uri": "https://localhost:8080/"
        },
        "id": "G_LazXO_JA3n",
        "outputId": "adfc99db-0173-47e7-dbf3-aba104e409cc"
      },
      "source": [
        "#classes for our model\n",
        "model.classes_"
      ],
      "execution_count": null,
      "outputs": [
        {
          "output_type": "execute_result",
          "data": {
            "text/plain": [
              "array(['anger', 'disgust', 'fear', 'guilt', 'happy', 'joy', 'sad',\n",
              "       'sadness', 'shame', 'surprise'], dtype='<U8')"
            ]
          },
          "metadata": {
            "tags": []
          },
          "execution_count": 39
        }
      ]
    },
    {
      "cell_type": "code",
      "metadata": {
        "colab": {
          "base_uri": "https://localhost:8080/"
        },
        "id": "LxImGjofJA6c",
        "outputId": "431ffc99-b284-4783-f02e-5a129653aef6"
      },
      "source": [
        "np.max(model.predict_proba(vect))"
      ],
      "execution_count": null,
      "outputs": [
        {
          "output_type": "execute_result",
          "data": {
            "text/plain": [
              "0.308031249273653"
            ]
          },
          "metadata": {
            "tags": []
          },
          "execution_count": 40
        }
      ]
    },
    {
      "cell_type": "code",
      "metadata": {
        "id": "_P3IIX_QJA9R"
      },
      "source": [
        "def predict_emotion(sample_text,model):\n",
        "  vect = cv.transform(sample_text).toarray()\n",
        "  acc = model.predict(vect)\n",
        "  pred_proba = model.predict_proba(vect)[0]\n",
        "  pred_percent = dict(zip(model.classes_,pred_proba))\n",
        "  sorted_emotions = sorted(pred_percent.items(), key=lambda x: x[1], reverse=True)\n",
        "  print(f'emotion in text is :{acc[0]} and prediction score is {np.max(pred_proba)}')\n",
        "  return sorted_emotions\n"
      ],
      "execution_count": null,
      "outputs": []
    },
    {
      "cell_type": "code",
      "metadata": {
        "colab": {
          "base_uri": "https://localhost:8080/"
        },
        "id": "qc5QbHImKNK-",
        "outputId": "672861d4-d945-40ee-bf36-a46908fea392"
      },
      "source": [
        "predict_emotion(sample_text,model)"
      ],
      "execution_count": null,
      "outputs": [
        {
          "output_type": "stream",
          "text": [
            "emotion in text is :joy and prediction score is 0.308031249273653\n"
          ],
          "name": "stdout"
        },
        {
          "output_type": "execute_result",
          "data": {
            "text/plain": [
              "[('joy', 0.308031249273653),\n",
              " ('sadness', 0.18997275263605432),\n",
              " ('guilt', 0.10940336474281633),\n",
              " ('shame', 0.10361838190506271),\n",
              " ('anger', 0.09852516655986576),\n",
              " ('fear', 0.08529160114465163),\n",
              " ('disgust', 0.07425413866024953),\n",
              " ('sad', 0.020068165195970593),\n",
              " ('happy', 0.008786850200634813),\n",
              " ('surprise', 0.0020483296810411954)]"
            ]
          },
          "metadata": {
            "tags": []
          },
          "execution_count": 42
        }
      ]
    },
    {
      "cell_type": "code",
      "metadata": {
        "colab": {
          "base_uri": "https://localhost:8080/"
        },
        "id": "IYM5CGoTKmj1",
        "outputId": "c7ed53d2-81a9-4840-cfa8-a52c408d2797"
      },
      "source": [
        "#evaluation\n",
        "print(classification_report(y_test,y_pred_))"
      ],
      "execution_count": null,
      "outputs": [
        {
          "output_type": "stream",
          "text": [
            "              precision    recall  f1-score   support\n",
            "\n",
            "       anger       0.53      0.56      0.54       474\n",
            "     disgust       0.69      0.55      0.61       351\n",
            "        fear       0.63      0.74      0.68       472\n",
            "       guilt       0.41      0.46      0.43       304\n",
            "       happy       0.85      0.60      0.71       144\n",
            "         joy       0.59      0.69      0.64       304\n",
            "         sad       0.83      0.51      0.63       182\n",
            "     sadness       0.55      0.56      0.56       308\n",
            "       shame       0.52      0.53      0.52       355\n",
            "    surprise       0.94      0.41      0.57        73\n",
            "\n",
            "    accuracy                           0.58      2967\n",
            "   macro avg       0.65      0.56      0.59      2967\n",
            "weighted avg       0.60      0.58      0.58      2967\n",
            "\n"
          ],
          "name": "stdout"
        }
      ]
    },
    {
      "cell_type": "code",
      "metadata": {
        "colab": {
          "base_uri": "https://localhost:8080/",
          "height": 313
        },
        "id": "eXf-19MMMNal",
        "outputId": "620efe10-e777-45cb-e279-74b1deddc305"
      },
      "source": [
        "#confusion matrix\n",
        "plt.figure(figsize=(40, 40))\n",
        "plot_confusion_matrix(model,X_test,y_test)"
      ],
      "execution_count": null,
      "outputs": [
        {
          "output_type": "execute_result",
          "data": {
            "text/plain": [
              "<sklearn.metrics._plot.confusion_matrix.ConfusionMatrixDisplay at 0x7fa2ccef5f90>"
            ]
          },
          "metadata": {
            "tags": []
          },
          "execution_count": 44
        },
        {
          "output_type": "display_data",
          "data": {
            "text/plain": [
              "<Figure size 2880x2880 with 0 Axes>"
            ]
          },
          "metadata": {
            "tags": []
          }
        },
        {
          "output_type": "display_data",
          "data": {
            "image/png": "[encoded data removed]",
            "text/plain": [
              "<Figure size 432x288 with 2 Axes>"
            ]
          },
          "metadata": {
            "tags": [],
            "needs_background": "light"
          }
        }
      ]
    },
    {
      "cell_type": "code",
      "metadata": {
        "id": "cUdaxbZ82UU6"
      },
      "source": [],
      "execution_count": null,
      "outputs": []
    },
    {
      "cell_type": "code",
      "metadata": {
        "id": "DxhtvHWXMNdn"
      },
      "source": [
        "#saving the model\n",
        "import joblib\n",
        "model_file = open('Text_classifier_nv','wb')\n",
        "joblib.dump(model,model_file)\n",
        "model_file.close()"
      ],
      "execution_count": null,
      "outputs": []
    },
    {
      "cell_type": "code",
      "metadata": {
        "colab": {
          "base_uri": "https://localhost:8080/"
        },
        "id": "3FuePRbhPA7u",
        "outputId": "d3988f91-0eab-4f0d-eaad-0af58d081ddd"
      },
      "source": [
        "#model intepretations - logictic_regression\n",
        "lr_model = LogisticRegression()\n",
        "lr_model.fit(X_train,y_train)"
      ],
      "execution_count": null,
      "outputs": [
        {
          "output_type": "stream",
          "text": [
            "/usr/local/lib/python3.7/dist-packages/sklearn/linear_model/_logistic.py:940: ConvergenceWarning: lbfgs failed to converge (status=1):\n",
            "STOP: TOTAL NO. of ITERATIONS REACHED LIMIT.\n",
            "\n",
            "Increase the number of iterations (max_iter) or scale the data as shown in:\n",
            "    https://scikit-learn.org/stable/modules/preprocessing.html\n",
            "Please also refer to the documentation for alternative solver options:\n",
            "    https://scikit-learn.org/stable/modules/linear_model.html#logistic-regression\n",
            "  extra_warning_msg=_LOGISTIC_SOLVER_CONVERGENCE_MSG)\n"
          ],
          "name": "stderr"
        },
        {
          "output_type": "execute_result",
          "data": {
            "text/plain": [
              "LogisticRegression(C=1.0, class_weight=None, dual=False, fit_intercept=True,\n",
              "                   intercept_scaling=1, l1_ratio=None, max_iter=100,\n",
              "                   multi_class='auto', n_jobs=None, penalty='l2',\n",
              "                   random_state=None, solver='lbfgs', tol=0.0001, verbose=0,\n",
              "                   warm_start=False)"
            ]
          },
          "metadata": {
            "tags": []
          },
          "execution_count": 46
        }
      ]
    },
    {
      "cell_type": "code",
      "metadata": {
        "colab": {
          "base_uri": "https://localhost:8080/"
        },
        "id": "LONZ_rGyPWYP",
        "outputId": "a7c19f12-5802-4b56-8f1e-330b8f442f02"
      },
      "source": [
        "lr_model.score(X_test,y_test)"
      ],
      "execution_count": null,
      "outputs": [
        {
          "output_type": "execute_result",
          "data": {
            "text/plain": [
              "0.6370070778564206"
            ]
          },
          "metadata": {
            "tags": []
          },
          "execution_count": 47
        }
      ]
    },
    {
      "cell_type": "code",
      "metadata": {
        "colab": {
          "base_uri": "https://localhost:8080/"
        },
        "id": "ne45iqSLPbTA",
        "outputId": "5a9d2ac5-2414-4fe5-9ab6-d92eded30a56"
      },
      "source": [
        "predict_emotion(sample_text,lr_model)"
      ],
      "execution_count": null,
      "outputs": [
        {
          "output_type": "stream",
          "text": [
            "emotion in text is :joy and prediction score is 0.3216246583246337\n"
          ],
          "name": "stdout"
        },
        {
          "output_type": "execute_result",
          "data": {
            "text/plain": [
              "[('joy', 0.3216246583246337),\n",
              " ('sadness', 0.16734570125153805),\n",
              " ('fear', 0.12837614844049267),\n",
              " ('guilt', 0.10373869437223535),\n",
              " ('anger', 0.07835593430220836),\n",
              " ('shame', 0.06572135442423005),\n",
              " ('disgust', 0.06119497874092966),\n",
              " ('sad', 0.036661542475862806),\n",
              " ('happy', 0.02327135965849455),\n",
              " ('surprise', 0.013709628009374822)]"
            ]
          },
          "metadata": {
            "tags": []
          },
          "execution_count": 48
        }
      ]
    },
    {
      "cell_type": "code",
      "metadata": {
        "id": "J0_O01l_Pkvl"
      },
      "source": [
        "#lr model is little better\n",
        "#saving the logistic model\n",
        "import joblib\n",
        "model_file = open('Text_classifier_Logistic','wb')\n",
        "joblib.dump(lr_model,model_file)\n",
        "model_file.close()"
      ],
      "execution_count": null,
      "outputs": []
    },
    {
      "cell_type": "code",
      "metadata": {
        "id": "rpy0FCzcRZNk",
        "colab": {
          "base_uri": "https://localhost:8080/"
        },
        "outputId": "6d45a769-6609-4fa7-f7c9-7ca86353e63f"
      },
      "source": [
        "predict_emotion(['I love Coding'],model)"
      ],
      "execution_count": null,
      "outputs": [
        {
          "output_type": "stream",
          "text": [
            "emotion in text is :joy and prediction score is 0.308031249273653\n"
          ],
          "name": "stdout"
        },
        {
          "output_type": "execute_result",
          "data": {
            "text/plain": [
              "[('joy', 0.308031249273653),\n",
              " ('sadness', 0.18997275263605432),\n",
              " ('guilt', 0.10940336474281633),\n",
              " ('shame', 0.10361838190506271),\n",
              " ('anger', 0.09852516655986576),\n",
              " ('fear', 0.08529160114465163),\n",
              " ('disgust', 0.07425413866024953),\n",
              " ('sad', 0.020068165195970593),\n",
              " ('happy', 0.008786850200634813),\n",
              " ('surprise', 0.0020483296810411954)]"
            ]
          },
          "metadata": {
            "tags": []
          },
          "execution_count": 50
        }
      ]
    },
    {
      "cell_type": "code",
      "metadata": {
        "id": "DosVe33TRZRf",
        "colab": {
          "base_uri": "https://localhost:8080/"
        },
        "outputId": "401b3f7a-e793-4be9-ad9a-75050562af68"
      },
      "source": [
        "predict_emotion(['I am sad'],lr_model)"
      ],
      "execution_count": null,
      "outputs": [
        {
          "output_type": "stream",
          "text": [
            "emotion in text is :sadness and prediction score is 0.4221458584932662\n"
          ],
          "name": "stdout"
        },
        {
          "output_type": "execute_result",
          "data": {
            "text/plain": [
              "[('sadness', 0.4221458584932662),\n",
              " ('sad', 0.41947527182801025),\n",
              " ('guilt', 0.06375537515094669),\n",
              " ('anger', 0.03153257813817961),\n",
              " ('disgust', 0.014600207127432164),\n",
              " ('shame', 0.013511646755577046),\n",
              " ('fear', 0.011176470894385455),\n",
              " ('happy', 0.009759082821792085),\n",
              " ('joy', 0.007968756383496858),\n",
              " ('surprise', 0.006074752406913579)]"
            ]
          },
          "metadata": {
            "tags": []
          },
          "execution_count": 51
        }
      ]
    },
    {
      "cell_type": "code",
      "metadata": {
        "id": "sRoHwOvqRZUg",
        "colab": {
          "base_uri": "https://localhost:8080/"
        },
        "outputId": "3070fe73-2240-49eb-f98d-c58d8827230a"
      },
      "source": [
        "predict_emotion(['I love gaming'], lr_model)\n"
      ],
      "execution_count": null,
      "outputs": [
        {
          "output_type": "stream",
          "text": [
            "emotion in text is :joy and prediction score is 0.3216246583246337\n"
          ],
          "name": "stdout"
        },
        {
          "output_type": "execute_result",
          "data": {
            "text/plain": [
              "[('joy', 0.3216246583246337),\n",
              " ('sadness', 0.16734570125153805),\n",
              " ('fear', 0.12837614844049267),\n",
              " ('guilt', 0.10373869437223535),\n",
              " ('anger', 0.07835593430220836),\n",
              " ('shame', 0.06572135442423005),\n",
              " ('disgust', 0.06119497874092966),\n",
              " ('sad', 0.036661542475862806),\n",
              " ('happy', 0.02327135965849455),\n",
              " ('surprise', 0.013709628009374822)]"
            ]
          },
          "metadata": {
            "tags": []
          },
          "execution_count": 52
        }
      ]
    },
    {
      "cell_type": "code",
      "metadata": {
        "colab": {
          "base_uri": "https://localhost:8080/"
        },
        "id": "eb2o7bzLK55j",
        "outputId": "af588709-def2-47c1-9b2b-6df59786e716"
      },
      "source": [
        "predict_emotion(['I am sad'],lr_model)"
      ],
      "execution_count": null,
      "outputs": [
        {
          "output_type": "stream",
          "text": [
            "emotion in text is :sadness and prediction score is 0.4221458584932662\n"
          ],
          "name": "stdout"
        },
        {
          "output_type": "execute_result",
          "data": {
            "text/plain": [
              "[('sadness', 0.4221458584932662),\n",
              " ('sad', 0.41947527182801025),\n",
              " ('guilt', 0.06375537515094669),\n",
              " ('anger', 0.03153257813817961),\n",
              " ('disgust', 0.014600207127432164),\n",
              " ('shame', 0.013511646755577046),\n",
              " ('fear', 0.011176470894385455),\n",
              " ('happy', 0.009759082821792085),\n",
              " ('joy', 0.007968756383496858),\n",
              " ('surprise', 0.006074752406913579)]"
            ]
          },
          "metadata": {
            "tags": []
          },
          "execution_count": 53
        }
      ]
    },
    {
      "cell_type": "code",
      "metadata": {
        "colab": {
          "base_uri": "https://localhost:8080/"
        },
        "id": "nKcib251Norx",
        "outputId": "078aae2e-c87a-4d67-d9b8-e0a536a16bd5"
      },
      "source": [
        "predict_emotion(['I love my car'],lr_model)"
      ],
      "execution_count": null,
      "outputs": [
        {
          "output_type": "stream",
          "text": [
            "emotion in text is :guilt and prediction score is 0.23833987811849666\n"
          ],
          "name": "stdout"
        },
        {
          "output_type": "execute_result",
          "data": {
            "text/plain": [
              "[('guilt', 0.23833987811849666),\n",
              " ('sadness', 0.22008400213562326),\n",
              " ('fear', 0.20334628948384056),\n",
              " ('joy', 0.1762966316396981),\n",
              " ('anger', 0.07333311337481098),\n",
              " ('shame', 0.03078297540237846),\n",
              " ('disgust', 0.024133213080110082),\n",
              " ('sad', 0.01612029288505181),\n",
              " ('happy', 0.00928260139424345),\n",
              " ('surprise', 0.008281002485746449)]"
            ]
          },
          "metadata": {
            "tags": []
          },
          "execution_count": 54
        }
      ]
    },
    {
      "cell_type": "code",
      "metadata": {
        "id": "fsoXMA2dRZW5",
        "colab": {
          "base_uri": "https://localhost:8080/"
        },
        "outputId": "84d34b27-86d0-4223-b345-34df23f9e2e5"
      },
      "source": [
        "predict_emotion(['I love Amity'],lr_model)"
      ],
      "execution_count": null,
      "outputs": [
        {
          "output_type": "stream",
          "text": [
            "emotion in text is :joy and prediction score is 0.3216246583246337\n"
          ],
          "name": "stdout"
        },
        {
          "output_type": "execute_result",
          "data": {
            "text/plain": [
              "[('joy', 0.3216246583246337),\n",
              " ('sadness', 0.16734570125153805),\n",
              " ('fear', 0.12837614844049267),\n",
              " ('guilt', 0.10373869437223535),\n",
              " ('anger', 0.07835593430220836),\n",
              " ('shame', 0.06572135442423005),\n",
              " ('disgust', 0.06119497874092966),\n",
              " ('sad', 0.036661542475862806),\n",
              " ('happy', 0.02327135965849455),\n",
              " ('surprise', 0.013709628009374822)]"
            ]
          },
          "metadata": {
            "tags": []
          },
          "execution_count": 55
        }
      ]
    },
    {
      "cell_type": "code",
      "metadata": {
        "colab": {
          "base_uri": "https://localhost:8080/"
        },
        "id": "BuoQdL382hL9",
        "outputId": "bbfefb94-7f89-432d-e736-18837d689f44"
      },
      "source": [
        "predict_emotion(['I hate myself'],model)"
      ],
      "execution_count": null,
      "outputs": [
        {
          "output_type": "stream",
          "text": [
            "emotion in text is :anger and prediction score is 0.3182367787467302\n"
          ],
          "name": "stdout"
        },
        {
          "output_type": "execute_result",
          "data": {
            "text/plain": [
              "[('anger', 0.3182367787467302),\n",
              " ('shame', 0.25383853384058397),\n",
              " ('guilt', 0.1264624281212136),\n",
              " ('disgust', 0.11144138319040389),\n",
              " ('sadness', 0.06961663296999011),\n",
              " ('fear', 0.05777352419131794),\n",
              " ('joy', 0.039477975239569224),\n",
              " ('happy', 0.012750330256233377),\n",
              " ('sad', 0.00708651308246278),\n",
              " ('surprise', 0.0033159003614963126)]"
            ]
          },
          "metadata": {
            "tags": []
          },
          "execution_count": 56
        }
      ]
    },
    {
      "cell_type": "code",
      "metadata": {
        "colab": {
          "base_uri": "https://localhost:8080/"
        },
        "id": "HwUjVhG__OXc",
        "outputId": "7244630a-4911-4000-d10d-e6d047f2dca9"
      },
      "source": [
        "predict_emotion(['I love Amity'],model)"
      ],
      "execution_count": null,
      "outputs": [
        {
          "output_type": "stream",
          "text": [
            "emotion in text is :joy and prediction score is 0.308031249273653\n"
          ],
          "name": "stdout"
        },
        {
          "output_type": "execute_result",
          "data": {
            "text/plain": [
              "[('joy', 0.308031249273653),\n",
              " ('sadness', 0.18997275263605432),\n",
              " ('guilt', 0.10940336474281633),\n",
              " ('shame', 0.10361838190506271),\n",
              " ('anger', 0.09852516655986576),\n",
              " ('fear', 0.08529160114465163),\n",
              " ('disgust', 0.07425413866024953),\n",
              " ('sad', 0.020068165195970593),\n",
              " ('happy', 0.008786850200634813),\n",
              " ('surprise', 0.0020483296810411954)]"
            ]
          },
          "metadata": {
            "tags": []
          },
          "execution_count": 57
        }
      ]
    },
    {
      "cell_type": "code",
      "metadata": {
        "colab": {
          "base_uri": "https://localhost:8080/"
        },
        "id": "Ds28_keUApDE",
        "outputId": "2d202c95-aa17-4201-d3c0-21b5a5b45272"
      },
      "source": [
        "predict_emotion(['I love Avengers Endgame'],model)"
      ],
      "execution_count": null,
      "outputs": [
        {
          "output_type": "stream",
          "text": [
            "emotion in text is :joy and prediction score is 0.308031249273653\n"
          ],
          "name": "stdout"
        },
        {
          "output_type": "execute_result",
          "data": {
            "text/plain": [
              "[('joy', 0.308031249273653),\n",
              " ('sadness', 0.18997275263605432),\n",
              " ('guilt', 0.10940336474281633),\n",
              " ('shame', 0.10361838190506271),\n",
              " ('anger', 0.09852516655986576),\n",
              " ('fear', 0.08529160114465163),\n",
              " ('disgust', 0.07425413866024953),\n",
              " ('sad', 0.020068165195970593),\n",
              " ('happy', 0.008786850200634813),\n",
              " ('surprise', 0.0020483296810411954)]"
            ]
          },
          "metadata": {
            "tags": []
          },
          "execution_count": 58
        }
      ]
    },
    {
      "cell_type": "code",
      "metadata": {
        "colab": {
          "base_uri": "https://localhost:8080/"
        },
        "id": "CbqV6egXZQae",
        "outputId": "ab836f5e-6090-44f9-e993-3c870643751c"
      },
      "source": [
        "from sklearn.tree import DecisionTreeClassifier\n",
        "from sklearn.metrics import classification_report\n",
        "dtree = DecisionTreeClassifier()\n",
        "dtree.fit(X_train,y_train)\n",
        "x_pred = dtree.predict(X_test)\n",
        "print('---------------------------Decision tree-----------------------------\\n\\n',classification_report(y_test,x_pred))"
      ],
      "execution_count": null,
      "outputs": [
        {
          "output_type": "stream",
          "text": [
            "---------------------------Decision tree-----------------------------\n",
            "\n",
            "               precision    recall  f1-score   support\n",
            "\n",
            "       anger       0.59      0.52      0.55       474\n",
            "     disgust       0.43      0.58      0.49       351\n",
            "        fear       0.71      0.68      0.70       472\n",
            "       guilt       0.41      0.40      0.41       304\n",
            "       happy       0.82      0.95      0.88       144\n",
            "         joy       0.48      0.50      0.49       304\n",
            "         sad       0.80      0.83      0.81       182\n",
            "     sadness       0.50      0.47      0.49       308\n",
            "       shame       0.50      0.40      0.44       355\n",
            "    surprise       0.94      0.92      0.93        73\n",
            "\n",
            "    accuracy                           0.57      2967\n",
            "   macro avg       0.62      0.63      0.62      2967\n",
            "weighted avg       0.57      0.57      0.57      2967\n",
            "\n"
          ],
          "name": "stdout"
        }
      ]
    },
    {
      "cell_type": "code",
      "metadata": {
        "colab": {
          "base_uri": "https://localhost:8080/"
        },
        "id": "TMy5RITyZpEV",
        "outputId": "94f67ccd-f718-4eff-f239-470b94cdc09b"
      },
      "source": [
        "predict_emotion(['I love coding'],dtree)"
      ],
      "execution_count": null,
      "outputs": [
        {
          "output_type": "stream",
          "text": [
            "emotion in text is :sadness and prediction score is 1.0\n"
          ],
          "name": "stdout"
        },
        {
          "output_type": "execute_result",
          "data": {
            "text/plain": [
              "[('sadness', 1.0),\n",
              " ('anger', 0.0),\n",
              " ('disgust', 0.0),\n",
              " ('fear', 0.0),\n",
              " ('guilt', 0.0),\n",
              " ('happy', 0.0),\n",
              " ('joy', 0.0),\n",
              " ('sad', 0.0),\n",
              " ('shame', 0.0),\n",
              " ('surprise', 0.0)]"
            ]
          },
          "metadata": {
            "tags": []
          },
          "execution_count": 60
        }
      ]
    },
    {
      "cell_type": "code",
      "metadata": {
        "colab": {
          "base_uri": "https://localhost:8080/"
        },
        "id": "Ok0jVbTWZpP6",
        "outputId": "8e4ce593-ace3-4e06-da33-c24f9e2f3570"
      },
      "source": [
        "from sklearn.multiclass import OneVsOneClassifier\n",
        "from sklearn.linear_model import SGDClassifier\n",
        "ovo_clf = OneVsOneClassifier(estimator=SGDClassifier())\n",
        "ovo_clf.fit(X_train,y_train)\n",
        "x_pred = ovo_clf.predict(X_test)\n",
        "print('---------------------------OneVsOne-----------------------------\\n\\n',classification_report(y_test,x_pred))\n",
        "\n"
      ],
      "execution_count": null,
      "outputs": [
        {
          "output_type": "stream",
          "text": [
            "---------------------------OneVsOne-----------------------------\n",
            "\n",
            "               precision    recall  f1-score   support\n",
            "\n",
            "       anger       0.56      0.51      0.53       474\n",
            "     disgust       0.55      0.51      0.53       351\n",
            "        fear       0.71      0.68      0.70       472\n",
            "       guilt       0.37      0.44      0.40       304\n",
            "       happy       0.89      0.93      0.91       144\n",
            "         joy       0.57      0.60      0.59       304\n",
            "         sad       0.93      0.76      0.84       182\n",
            "     sadness       0.53      0.57      0.55       308\n",
            "       shame       0.47      0.50      0.48       355\n",
            "    surprise       1.00      0.88      0.93        73\n",
            "\n",
            "    accuracy                           0.59      2967\n",
            "   macro avg       0.66      0.64      0.65      2967\n",
            "weighted avg       0.60      0.59      0.59      2967\n",
            "\n"
          ],
          "name": "stdout"
        }
      ]
    },
    {
      "cell_type": "code",
      "metadata": {
        "colab": {
          "base_uri": "https://localhost:8080/"
        },
        "id": "kvOSSltcZqah",
        "outputId": "af544e66-d7e1-47af-a0d1-4e033cc7f317"
      },
      "source": [
        "vect = cv.transform(['I felt sorry for what I did']).toarray() \n",
        "acc = ovo_clf.predict(vect)\n",
        "print(f'emotion is {acc}')\n",
        "ovo_clf.score(X_test,y_test)\n",
        "  "
      ],
      "execution_count": null,
      "outputs": [
        {
          "output_type": "stream",
          "text": [
            "emotion is ['guilt']\n"
          ],
          "name": "stdout"
        },
        {
          "output_type": "execute_result",
          "data": {
            "text/plain": [
              "0.5898213683855746"
            ]
          },
          "metadata": {
            "tags": []
          },
          "execution_count": 88
        }
      ]
    },
    {
      "cell_type": "code",
      "metadata": {
        "id": "njcZ9qIwZq5H"
      },
      "source": [],
      "execution_count": null,
      "outputs": []
    },
    {
      "cell_type": "code",
      "metadata": {
        "colab": {
          "base_uri": "https://localhost:8080/"
        },
        "id": "b-rEPVd1iVEe",
        "outputId": "83ea3edf-ad0b-4ef6-cb5b-14d051d5895f"
      },
      "source": [
        "S_clf = SGDClassifier()\n",
        "S_clf.fit(X_train,y_train)\n",
        "x_pred_4 = S_clf.predict(X_test)\n",
        "print('---------------------------SGD CLassifier  Multiclass-----------------------------\\n\\n',classification_report(y_test,x_pred_4))\n",
        "S_clf.score(X_test,y_test)"
      ],
      "execution_count": null,
      "outputs": [
        {
          "output_type": "stream",
          "text": [
            "---------------------------SGD CLassifier  Multiclass-----------------------------\n",
            "\n",
            "               precision    recall  f1-score   support\n",
            "\n",
            "       anger       0.59      0.53      0.56       474\n",
            "     disgust       0.56      0.55      0.56       351\n",
            "        fear       0.73      0.71      0.72       472\n",
            "       guilt       0.40      0.41      0.41       304\n",
            "       happy       0.90      0.96      0.93       144\n",
            "         joy       0.60      0.66      0.63       304\n",
            "         sad       0.90      0.77      0.83       182\n",
            "     sadness       0.54      0.56      0.55       308\n",
            "       shame       0.51      0.52      0.52       355\n",
            "    surprise       0.97      0.93      0.95        73\n",
            "\n",
            "    accuracy                           0.61      2967\n",
            "   macro avg       0.67      0.66      0.66      2967\n",
            "weighted avg       0.62      0.61      0.61      2967\n",
            "\n"
          ],
          "name": "stdout"
        },
        {
          "output_type": "execute_result",
          "data": {
            "text/plain": [
              "0.6127401415571284"
            ]
          },
          "metadata": {
            "tags": []
          },
          "execution_count": 63
        }
      ]
    },
    {
      "cell_type": "code",
      "metadata": {
        "colab": {
          "base_uri": "https://localhost:8080/"
        },
        "id": "GmmzVwTFib22",
        "outputId": "4583a066-0b80-4ca0-f450-da0bd931dfd4"
      },
      "source": [
        "vect = cv.transform(['I am sad']).toarray()\n",
        "acc = S_clf.predict(vect)\n",
        "print(f'emotion is {acc}')\n",
        "S_clf.score(X_test,y_test)"
      ],
      "execution_count": null,
      "outputs": [
        {
          "output_type": "stream",
          "text": [
            "emotion is ['sadness']\n"
          ],
          "name": "stdout"
        },
        {
          "output_type": "execute_result",
          "data": {
            "text/plain": [
              "0.6127401415571284"
            ]
          },
          "metadata": {
            "tags": []
          },
          "execution_count": 85
        }
      ]
    },
    {
      "cell_type": "code",
      "metadata": {
        "id": "npfXD9W0lvUf"
      },
      "source": [],
      "execution_count": null,
      "outputs": []
    },
    {
      "cell_type": "code",
      "metadata": {
        "id": "NWk0Jm9dnDUr"
      },
      "source": [],
      "execution_count": null,
      "outputs": []
    }
  ]
}
