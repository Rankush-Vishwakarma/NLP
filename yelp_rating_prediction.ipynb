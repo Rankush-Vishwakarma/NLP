{
  "nbformat": 4,
  "nbformat_minor": 0,
  "metadata": {
    "colab": {
      "provenance": [],
      "collapsed_sections": []
    },
    "kernelspec": {
      "name": "python3",
      "display_name": "Python 3"
    },
    "language_info": {
      "name": "python"
    }
  },
  "cells": [
    {
      "cell_type": "code",
      "metadata": {
        "id": "odlZStd4hsWm"
      },
      "source": [
        "import pandas as pd  \n",
        "import seaborn as sns\n",
        "import matplotlib.pyplot as plt\n",
        "from nltk.corpus import stopwords  # for removing the stop words from the reviews\n",
        "from sklearn.feature_extraction.text import TfidfTransformer # for transformation and nlp pipeline\n",
        "from sklearn.feature_extraction.text import CountVectorizer  #convert the words into count vector\n",
        "from sklearn.model_selection import train_test_split # spliting the dataset\n",
        "from sklearn.linear_model import LogisticRegression, LinearRegression\n",
        "from sklearn.metrics import confusion_matrix, classification_report\n",
        "from sklearn.pipeline import Pipeline\n",
        "from sklearn.naive_bayes import MultinomialNB\n"
      ],
      "execution_count": null,
      "outputs": []
    },
    {
      "cell_type": "code",
      "metadata": {
        "id": "R4iB7YWWipYx"
      },
      "source": [
        "df = pd.read_csv('/content/drive/MyDrive/yelp_dataset.csv')"
      ],
      "execution_count": null,
      "outputs": []
    },
    {
      "cell_type": "code",
      "metadata": {
        "colab": {
          "base_uri": "https://localhost:8080/",
          "height": 203
        },
        "id": "VfpDzSS6s-5b",
        "outputId": "19ce6fca-0a84-4887-9701-988bad1c2899"
      },
      "source": [
        "df.head()"
      ],
      "execution_count": null,
      "outputs": [
        {
          "output_type": "execute_result",
          "data": {
            "text/html": [
              "<div>\n",
              "<style scoped>\n",
              "    .dataframe tbody tr th:only-of-type {\n",
              "        vertical-align: middle;\n",
              "    }\n",
              "\n",
              "    .dataframe tbody tr th {\n",
              "        vertical-align: top;\n",
              "    }\n",
              "\n",
              "    .dataframe thead th {\n",
              "        text-align: right;\n",
              "    }\n",
              "</style>\n",
              "<table border=\"1\" class=\"dataframe\">\n",
              "  <thead>\n",
              "    <tr style=\"text-align: right;\">\n",
              "      <th></th>\n",
              "      <th>business_id</th>\n",
              "      <th>date</th>\n",
              "      <th>review_id</th>\n",
              "      <th>stars</th>\n",
              "      <th>text</th>\n",
              "      <th>type</th>\n",
              "      <th>user_id</th>\n",
              "      <th>cool</th>\n",
              "      <th>useful</th>\n",
              "      <th>funny</th>\n",
              "    </tr>\n",
              "  </thead>\n",
              "  <tbody>\n",
              "    <tr>\n",
              "      <th>0</th>\n",
              "      <td>9yKzy9PApeiPPOUJEtnvkg</td>\n",
              "      <td>2011-01-26</td>\n",
              "      <td>fWKvX83p0-ka4JS3dc6E5A</td>\n",
              "      <td>5</td>\n",
              "      <td>My wife took me here on my birthday for breakf...</td>\n",
              "      <td>review</td>\n",
              "      <td>rLtl8ZkDX5vH5nAx9C3q5Q</td>\n",
              "      <td>2.0</td>\n",
              "      <td>5.0</td>\n",
              "      <td>0.0</td>\n",
              "    </tr>\n",
              "    <tr>\n",
              "      <th>1</th>\n",
              "      <td>ZRJwVLyzEJq1VAihDhYiow</td>\n",
              "      <td>2011-07-27</td>\n",
              "      <td>IjZ33sJrzXqU-0X6U8NwyA</td>\n",
              "      <td>5</td>\n",
              "      <td>I have no idea why some people give bad review...</td>\n",
              "      <td>review</td>\n",
              "      <td>0a2KyEL0d3Yb1V6aivbIuQ</td>\n",
              "      <td>0.0</td>\n",
              "      <td>0.0</td>\n",
              "      <td>0.0</td>\n",
              "    </tr>\n",
              "    <tr>\n",
              "      <th>2</th>\n",
              "      <td>6oRAC4uyJCsJl1X0WZpVSA</td>\n",
              "      <td>2012-06-14</td>\n",
              "      <td>IESLBzqUCLdSzSqm0eCSxQ</td>\n",
              "      <td>4</td>\n",
              "      <td>love the gyro plate. Rice is so good and I als...</td>\n",
              "      <td>review</td>\n",
              "      <td>0hT2KtfLiobPvh6cDC8JQg</td>\n",
              "      <td>0.0</td>\n",
              "      <td>1.0</td>\n",
              "      <td>0.0</td>\n",
              "    </tr>\n",
              "    <tr>\n",
              "      <th>3</th>\n",
              "      <td>_1QQZuf4zZOyFCvXc0o6Vg</td>\n",
              "      <td>2010-05-27</td>\n",
              "      <td>G-WvGaISbqqaMHlNnByodA</td>\n",
              "      <td>5</td>\n",
              "      <td>Rosie, Dakota, and I LOVE Chaparral Dog Park!!...</td>\n",
              "      <td>review</td>\n",
              "      <td>uZetl9T0NcROGOyFfughhg</td>\n",
              "      <td>1.0</td>\n",
              "      <td>2.0</td>\n",
              "      <td>0.0</td>\n",
              "    </tr>\n",
              "    <tr>\n",
              "      <th>4</th>\n",
              "      <td>6ozycU1RpktNG2-1BroVtw</td>\n",
              "      <td>2012-01-05</td>\n",
              "      <td>1uJFq2r5QfJG_6ExMRCaGw</td>\n",
              "      <td>5</td>\n",
              "      <td>General Manager Scott Petello is a good egg!!!...</td>\n",
              "      <td>review</td>\n",
              "      <td>vYmM4KTsC8ZfQBg-j5MWkw</td>\n",
              "      <td>0.0</td>\n",
              "      <td>0.0</td>\n",
              "      <td>0.0</td>\n",
              "    </tr>\n",
              "  </tbody>\n",
              "</table>\n",
              "</div>"
            ],
            "text/plain": [
              "              business_id        date  ... useful  funny\n",
              "0  9yKzy9PApeiPPOUJEtnvkg  2011-01-26  ...    5.0    0.0\n",
              "1  ZRJwVLyzEJq1VAihDhYiow  2011-07-27  ...    0.0    0.0\n",
              "2  6oRAC4uyJCsJl1X0WZpVSA  2012-06-14  ...    1.0    0.0\n",
              "3  _1QQZuf4zZOyFCvXc0o6Vg  2010-05-27  ...    2.0    0.0\n",
              "4  6ozycU1RpktNG2-1BroVtw  2012-01-05  ...    0.0    0.0\n",
              "\n",
              "[5 rows x 10 columns]"
            ]
          },
          "metadata": {},
          "execution_count": 3
        }
      ]
    },
    {
      "cell_type": "code",
      "metadata": {
        "colab": {
          "base_uri": "https://localhost:8080/"
        },
        "id": "oxQ-qFZys_Bl",
        "outputId": "2b4fe9ea-e077-48ac-c72b-3f56d8f57557"
      },
      "source": [
        "df.info()"
      ],
      "execution_count": null,
      "outputs": [
        {
          "output_type": "stream",
          "name": "stdout",
          "text": [
            "<class 'pandas.core.frame.DataFrame'>\n",
            "RangeIndex: 4664 entries, 0 to 4663\n",
            "Data columns (total 10 columns):\n",
            " #   Column       Non-Null Count  Dtype  \n",
            "---  ------       --------------  -----  \n",
            " 0   business_id  4664 non-null   object \n",
            " 1   date         4664 non-null   object \n",
            " 2   review_id    4664 non-null   object \n",
            " 3   stars        4664 non-null   int64  \n",
            " 4   text         4664 non-null   object \n",
            " 5   type         4664 non-null   object \n",
            " 6   user_id      4664 non-null   object \n",
            " 7   cool         4663 non-null   float64\n",
            " 8   useful       4663 non-null   float64\n",
            " 9   funny        4663 non-null   float64\n",
            "dtypes: float64(3), int64(1), object(6)\n",
            "memory usage: 364.5+ KB\n"
          ]
        }
      ]
    },
    {
      "cell_type": "code",
      "metadata": {
        "colab": {
          "base_uri": "https://localhost:8080/",
          "height": 295
        },
        "id": "iAFJl9a9s_Ep",
        "outputId": "bd66e5df-29f4-4cb7-a259-67a10353bf56"
      },
      "source": [
        "df.describe()"
      ],
      "execution_count": null,
      "outputs": [
        {
          "output_type": "execute_result",
          "data": {
            "text/html": [
              "<div>\n",
              "<style scoped>\n",
              "    .dataframe tbody tr th:only-of-type {\n",
              "        vertical-align: middle;\n",
              "    }\n",
              "\n",
              "    .dataframe tbody tr th {\n",
              "        vertical-align: top;\n",
              "    }\n",
              "\n",
              "    .dataframe thead th {\n",
              "        text-align: right;\n",
              "    }\n",
              "</style>\n",
              "<table border=\"1\" class=\"dataframe\">\n",
              "  <thead>\n",
              "    <tr style=\"text-align: right;\">\n",
              "      <th></th>\n",
              "      <th>stars</th>\n",
              "      <th>cool</th>\n",
              "      <th>useful</th>\n",
              "      <th>funny</th>\n",
              "    </tr>\n",
              "  </thead>\n",
              "  <tbody>\n",
              "    <tr>\n",
              "      <th>count</th>\n",
              "      <td>4664.000000</td>\n",
              "      <td>4663.000000</td>\n",
              "      <td>4663.000000</td>\n",
              "      <td>4663.000000</td>\n",
              "    </tr>\n",
              "    <tr>\n",
              "      <th>mean</th>\n",
              "      <td>3.788165</td>\n",
              "      <td>0.913789</td>\n",
              "      <td>1.426764</td>\n",
              "      <td>0.758310</td>\n",
              "    </tr>\n",
              "    <tr>\n",
              "      <th>std</th>\n",
              "      <td>1.210320</td>\n",
              "      <td>2.019284</td>\n",
              "      <td>2.284314</td>\n",
              "      <td>2.021793</td>\n",
              "    </tr>\n",
              "    <tr>\n",
              "      <th>min</th>\n",
              "      <td>1.000000</td>\n",
              "      <td>0.000000</td>\n",
              "      <td>0.000000</td>\n",
              "      <td>0.000000</td>\n",
              "    </tr>\n",
              "    <tr>\n",
              "      <th>25%</th>\n",
              "      <td>3.000000</td>\n",
              "      <td>0.000000</td>\n",
              "      <td>0.000000</td>\n",
              "      <td>0.000000</td>\n",
              "    </tr>\n",
              "    <tr>\n",
              "      <th>50%</th>\n",
              "      <td>4.000000</td>\n",
              "      <td>0.000000</td>\n",
              "      <td>1.000000</td>\n",
              "      <td>0.000000</td>\n",
              "    </tr>\n",
              "    <tr>\n",
              "      <th>75%</th>\n",
              "      <td>5.000000</td>\n",
              "      <td>1.000000</td>\n",
              "      <td>2.000000</td>\n",
              "      <td>1.000000</td>\n",
              "    </tr>\n",
              "    <tr>\n",
              "      <th>max</th>\n",
              "      <td>5.000000</td>\n",
              "      <td>28.000000</td>\n",
              "      <td>28.000000</td>\n",
              "      <td>39.000000</td>\n",
              "    </tr>\n",
              "  </tbody>\n",
              "</table>\n",
              "</div>"
            ],
            "text/plain": [
              "             stars         cool       useful        funny\n",
              "count  4664.000000  4663.000000  4663.000000  4663.000000\n",
              "mean      3.788165     0.913789     1.426764     0.758310\n",
              "std       1.210320     2.019284     2.284314     2.021793\n",
              "min       1.000000     0.000000     0.000000     0.000000\n",
              "25%       3.000000     0.000000     0.000000     0.000000\n",
              "50%       4.000000     0.000000     1.000000     0.000000\n",
              "75%       5.000000     1.000000     2.000000     1.000000\n",
              "max       5.000000    28.000000    28.000000    39.000000"
            ]
          },
          "metadata": {},
          "execution_count": 5
        }
      ]
    },
    {
      "cell_type": "code",
      "metadata": {
        "colab": {
          "base_uri": "https://localhost:8080/"
        },
        "id": "CmrT_yfXs_HS",
        "outputId": "17b9aa9d-0d83-40ca-d80e-45d3921a9169"
      },
      "source": [
        "df.isnull().sum()"
      ],
      "execution_count": null,
      "outputs": [
        {
          "output_type": "execute_result",
          "data": {
            "text/plain": [
              "business_id    0\n",
              "date           0\n",
              "review_id      0\n",
              "stars          0\n",
              "text           0\n",
              "type           0\n",
              "user_id        0\n",
              "cool           1\n",
              "useful         1\n",
              "funny          1\n",
              "dtype: int64"
            ]
          },
          "metadata": {},
          "execution_count": 6
        }
      ]
    },
    {
      "cell_type": "code",
      "metadata": {
        "id": "y1rfpal8s_Nt"
      },
      "source": [
        "df['cool'].fillna(0.0,inplace=True)"
      ],
      "execution_count": null,
      "outputs": []
    },
    {
      "cell_type": "code",
      "metadata": {
        "id": "UK7lqYNds_R-"
      },
      "source": [
        "df['useful'].fillna(0.0,inplace=True)"
      ],
      "execution_count": null,
      "outputs": []
    },
    {
      "cell_type": "code",
      "metadata": {
        "id": "sUfnvOP9HPs4"
      },
      "source": [
        "df['funny'].fillna(0.0,inplace=True)"
      ],
      "execution_count": null,
      "outputs": []
    },
    {
      "cell_type": "code",
      "metadata": {
        "colab": {
          "base_uri": "https://localhost:8080/"
        },
        "id": "Gaj2Ny5qHWQJ",
        "outputId": "aeec1694-f300-4ff5-d647-8dfa590b054c"
      },
      "source": [
        "df.isnull().sum()"
      ],
      "execution_count": null,
      "outputs": [
        {
          "output_type": "execute_result",
          "data": {
            "text/plain": [
              "business_id    0\n",
              "date           0\n",
              "review_id      0\n",
              "stars          0\n",
              "text           0\n",
              "type           0\n",
              "user_id        0\n",
              "cool           0\n",
              "useful         0\n",
              "funny          0\n",
              "dtype: int64"
            ]
          },
          "metadata": {},
          "execution_count": 10
        }
      ]
    },
    {
      "cell_type": "code",
      "metadata": {
        "colab": {
          "base_uri": "https://localhost:8080/",
          "height": 743
        },
        "id": "o-gkfjrIHY9_",
        "outputId": "94345f45-ab3f-465a-a552-fda2cf66dbfd"
      },
      "source": [
        "sns.pairplot(df)"
      ],
      "execution_count": null,
      "outputs": [
        {
          "output_type": "execute_result",
          "data": {
            "text/plain": [
              "<seaborn.axisgrid.PairGrid at 0x7f6cf5b49a50>"
            ]
          },
          "metadata": {},
          "execution_count": 11
        },
        {
          "output_type": "display_data",
          "data": {
            "image/png": "[encoded data removed]",
            "text/plain": [
              "<Figure size 720x720 with 20 Axes>"
            ]
          },
          "metadata": {
            "needs_background": "light"
          }
        }
      ]
    },
    {
      "cell_type": "code",
      "metadata": {
        "colab": {
          "base_uri": "https://localhost:8080/",
          "height": 386
        },
        "id": "P0c5ToMgIB-5",
        "outputId": "aa03781c-dc03-4165-89e0-9d7f69ba299c"
      },
      "source": [
        "sns.displot(df['stars'])"
      ],
      "execution_count": null,
      "outputs": [
        {
          "output_type": "execute_result",
          "data": {
            "text/plain": [
              "<seaborn.axisgrid.FacetGrid at 0x7f6ceb936090>"
            ]
          },
          "metadata": {},
          "execution_count": 12
        },
        {
          "output_type": "display_data",
          "data": {
            "image/png": "[encoded data removed]",
            "text/plain": [
              "<Figure size 360x360 with 1 Axes>"
            ]
          },
          "metadata": {
            "needs_background": "light"
          }
        }
      ]
    },
    {
      "cell_type": "code",
      "metadata": {
        "colab": {
          "base_uri": "https://localhost:8080/",
          "height": 350
        },
        "id": "WnfnMhIXIB77",
        "outputId": "ddd346b3-d6c1-4f58-9157-8fd281a85824"
      },
      "source": [
        "sns.distplot(df['stars'])"
      ],
      "execution_count": null,
      "outputs": [
        {
          "output_type": "stream",
          "name": "stderr",
          "text": [
            "/usr/local/lib/python3.7/dist-packages/seaborn/distributions.py:2619: FutureWarning: `distplot` is a deprecated function and will be removed in a future version. Please adapt your code to use either `displot` (a figure-level function with similar flexibility) or `histplot` (an axes-level function for histograms).\n",
            "  warnings.warn(msg, FutureWarning)\n"
          ]
        },
        {
          "output_type": "execute_result",
          "data": {
            "text/plain": [
              "<matplotlib.axes._subplots.AxesSubplot at 0x7f6ce9be7390>"
            ]
          },
          "metadata": {},
          "execution_count": 13
        },
        {
          "output_type": "display_data",
          "data": {
            "image/png": "[encoded data removed]",
            "text/plain": [
              "<Figure size 432x288 with 1 Axes>"
            ]
          },
          "metadata": {
            "needs_background": "light"
          }
        }
      ]
    },
    {
      "cell_type": "markdown",
      "metadata": {
        "id": "aBK8ANCtK2PL"
      },
      "source": [
        "# Maximum 4 rating is given by the people"
      ]
    },
    {
      "cell_type": "code",
      "metadata": {
        "colab": {
          "base_uri": "https://localhost:8080/"
        },
        "id": "PsCO4dNJIB3b",
        "outputId": "3974e0e0-4753-4adc-d34a-bd5e97f62eee"
      },
      "source": [
        "df.stars.value_counts()"
      ],
      "execution_count": null,
      "outputs": [
        {
          "output_type": "execute_result",
          "data": {
            "text/plain": [
              "4    1643\n",
              "5    1572\n",
              "3     681\n",
              "2     425\n",
              "1     343\n",
              "Name: stars, dtype: int64"
            ]
          },
          "metadata": {},
          "execution_count": 14
        }
      ]
    },
    {
      "cell_type": "markdown",
      "metadata": {
        "id": "xxJhWDDEK1hc"
      },
      "source": [
        "1643 peoples gave 4 rating out of 4664 peoples"
      ]
    },
    {
      "cell_type": "markdown",
      "metadata": {
        "id": "h_2yCQbUpPGa"
      },
      "source": [
        "#NLP model"
      ]
    },
    {
      "cell_type": "code",
      "metadata": {
        "colab": {
          "base_uri": "https://localhost:8080/",
          "height": 203
        },
        "id": "Uv3aSXl-pV7j",
        "outputId": "b9be4a9a-0ec5-4cd7-fbf6-d4f9997bf5a1"
      },
      "source": [
        "df.head()"
      ],
      "execution_count": null,
      "outputs": [
        {
          "output_type": "execute_result",
          "data": {
            "text/html": [
              "<div>\n",
              "<style scoped>\n",
              "    .dataframe tbody tr th:only-of-type {\n",
              "        vertical-align: middle;\n",
              "    }\n",
              "\n",
              "    .dataframe tbody tr th {\n",
              "        vertical-align: top;\n",
              "    }\n",
              "\n",
              "    .dataframe thead th {\n",
              "        text-align: right;\n",
              "    }\n",
              "</style>\n",
              "<table border=\"1\" class=\"dataframe\">\n",
              "  <thead>\n",
              "    <tr style=\"text-align: right;\">\n",
              "      <th></th>\n",
              "      <th>business_id</th>\n",
              "      <th>date</th>\n",
              "      <th>review_id</th>\n",
              "      <th>stars</th>\n",
              "      <th>text</th>\n",
              "      <th>type</th>\n",
              "      <th>user_id</th>\n",
              "      <th>cool</th>\n",
              "      <th>useful</th>\n",
              "      <th>funny</th>\n",
              "    </tr>\n",
              "  </thead>\n",
              "  <tbody>\n",
              "    <tr>\n",
              "      <th>0</th>\n",
              "      <td>9yKzy9PApeiPPOUJEtnvkg</td>\n",
              "      <td>2011-01-26</td>\n",
              "      <td>fWKvX83p0-ka4JS3dc6E5A</td>\n",
              "      <td>5</td>\n",
              "      <td>My wife took me here on my birthday for breakf...</td>\n",
              "      <td>review</td>\n",
              "      <td>rLtl8ZkDX5vH5nAx9C3q5Q</td>\n",
              "      <td>2.0</td>\n",
              "      <td>5.0</td>\n",
              "      <td>0.0</td>\n",
              "    </tr>\n",
              "    <tr>\n",
              "      <th>1</th>\n",
              "      <td>ZRJwVLyzEJq1VAihDhYiow</td>\n",
              "      <td>2011-07-27</td>\n",
              "      <td>IjZ33sJrzXqU-0X6U8NwyA</td>\n",
              "      <td>5</td>\n",
              "      <td>I have no idea why some people give bad review...</td>\n",
              "      <td>review</td>\n",
              "      <td>0a2KyEL0d3Yb1V6aivbIuQ</td>\n",
              "      <td>0.0</td>\n",
              "      <td>0.0</td>\n",
              "      <td>0.0</td>\n",
              "    </tr>\n",
              "    <tr>\n",
              "      <th>2</th>\n",
              "      <td>6oRAC4uyJCsJl1X0WZpVSA</td>\n",
              "      <td>2012-06-14</td>\n",
              "      <td>IESLBzqUCLdSzSqm0eCSxQ</td>\n",
              "      <td>4</td>\n",
              "      <td>love the gyro plate. Rice is so good and I als...</td>\n",
              "      <td>review</td>\n",
              "      <td>0hT2KtfLiobPvh6cDC8JQg</td>\n",
              "      <td>0.0</td>\n",
              "      <td>1.0</td>\n",
              "      <td>0.0</td>\n",
              "    </tr>\n",
              "    <tr>\n",
              "      <th>3</th>\n",
              "      <td>_1QQZuf4zZOyFCvXc0o6Vg</td>\n",
              "      <td>2010-05-27</td>\n",
              "      <td>G-WvGaISbqqaMHlNnByodA</td>\n",
              "      <td>5</td>\n",
              "      <td>Rosie, Dakota, and I LOVE Chaparral Dog Park!!...</td>\n",
              "      <td>review</td>\n",
              "      <td>uZetl9T0NcROGOyFfughhg</td>\n",
              "      <td>1.0</td>\n",
              "      <td>2.0</td>\n",
              "      <td>0.0</td>\n",
              "    </tr>\n",
              "    <tr>\n",
              "      <th>4</th>\n",
              "      <td>6ozycU1RpktNG2-1BroVtw</td>\n",
              "      <td>2012-01-05</td>\n",
              "      <td>1uJFq2r5QfJG_6ExMRCaGw</td>\n",
              "      <td>5</td>\n",
              "      <td>General Manager Scott Petello is a good egg!!!...</td>\n",
              "      <td>review</td>\n",
              "      <td>vYmM4KTsC8ZfQBg-j5MWkw</td>\n",
              "      <td>0.0</td>\n",
              "      <td>0.0</td>\n",
              "      <td>0.0</td>\n",
              "    </tr>\n",
              "  </tbody>\n",
              "</table>\n",
              "</div>"
            ],
            "text/plain": [
              "              business_id        date  ... useful  funny\n",
              "0  9yKzy9PApeiPPOUJEtnvkg  2011-01-26  ...    5.0    0.0\n",
              "1  ZRJwVLyzEJq1VAihDhYiow  2011-07-27  ...    0.0    0.0\n",
              "2  6oRAC4uyJCsJl1X0WZpVSA  2012-06-14  ...    1.0    0.0\n",
              "3  _1QQZuf4zZOyFCvXc0o6Vg  2010-05-27  ...    2.0    0.0\n",
              "4  6ozycU1RpktNG2-1BroVtw  2012-01-05  ...    0.0    0.0\n",
              "\n",
              "[5 rows x 10 columns]"
            ]
          },
          "metadata": {},
          "execution_count": 15
        }
      ]
    },
    {
      "cell_type": "code",
      "metadata": {
        "id": "XNGKm1wRIB0W"
      },
      "source": [
        "X,y = df['text'],df['stars']"
      ],
      "execution_count": null,
      "outputs": []
    },
    {
      "cell_type": "code",
      "metadata": {
        "id": "muS45IqpIBxc"
      },
      "source": [
        "count_vector = CountVectorizer()"
      ],
      "execution_count": null,
      "outputs": []
    },
    {
      "cell_type": "markdown",
      "metadata": {
        "id": "qyxd4OSJquYO"
      },
      "source": [
        "Converrting the text into the vector form for further processing"
      ]
    },
    {
      "cell_type": "code",
      "metadata": {
        "id": "_ZSPZtJzIBmb"
      },
      "source": [
        "X = count_vector.fit_transform(X)"
      ],
      "execution_count": null,
      "outputs": []
    },
    {
      "cell_type": "code",
      "metadata": {
        "id": "aISRQoz_qsFd"
      },
      "source": [
        "X_train,X_test,y_train,y_test = train_test_split(X,y,test_size = 0.3, random_state = 42)"
      ],
      "execution_count": null,
      "outputs": []
    },
    {
      "cell_type": "code",
      "metadata": {
        "colab": {
          "base_uri": "https://localhost:8080/"
        },
        "id": "bjk-gTXIqsB5",
        "outputId": "a1e5fe00-bebf-4426-d5e7-98a5420874c3"
      },
      "source": [
        "model = MultinomialNB()\n",
        "model.fit(X_train,y_train)"
      ],
      "execution_count": null,
      "outputs": [
        {
          "output_type": "execute_result",
          "data": {
            "text/plain": [
              "MultinomialNB(alpha=1.0, class_prior=None, fit_prior=True)"
            ]
          },
          "metadata": {},
          "execution_count": 20
        }
      ]
    },
    {
      "cell_type": "code",
      "metadata": {
        "colab": {
          "base_uri": "https://localhost:8080/"
        },
        "id": "-CImLhbaqr-6",
        "outputId": "5316bb86-f2d8-4b1e-dd79-c6771d8daa9a"
      },
      "source": [
        "X_pred = model.predict(X_test)\n",
        "print(classification_report(y_test,X_pred))"
      ],
      "execution_count": null,
      "outputs": [
        {
          "output_type": "stream",
          "name": "stdout",
          "text": [
            "              precision    recall  f1-score   support\n",
            "\n",
            "           1       0.57      0.08      0.14       101\n",
            "           2       0.26      0.04      0.07       122\n",
            "           3       0.32      0.06      0.10       201\n",
            "           4       0.42      0.75      0.54       525\n",
            "           5       0.57      0.51      0.54       451\n",
            "\n",
            "    accuracy                           0.46      1400\n",
            "   macro avg       0.43      0.29      0.28      1400\n",
            "weighted avg       0.45      0.46      0.41      1400\n",
            "\n"
          ]
        }
      ]
    },
    {
      "cell_type": "markdown",
      "metadata": {
        "id": "XPMNewvRtKgZ"
      },
      "source": [
        "Increasing the accuracy y preprocessing the test data like removing punctuations stop word, and tokenize the word"
      ]
    },
    {
      "cell_type": "code",
      "metadata": {
        "id": "ah0puAaMtFIt"
      },
      "source": [
        "text = df['text']"
      ],
      "execution_count": null,
      "outputs": []
    },
    {
      "cell_type": "code",
      "metadata": {
        "colab": {
          "base_uri": "https://localhost:8080/"
        },
        "id": "S8tgvniJtzM-",
        "outputId": "c5ff7bd3-e47c-4944-9f7c-3086dd8d3c78"
      },
      "source": [
        "text.head()"
      ],
      "execution_count": null,
      "outputs": [
        {
          "output_type": "execute_result",
          "data": {
            "text/plain": [
              "0    My wife took me here on my birthday for breakf...\n",
              "1    I have no idea why some people give bad review...\n",
              "2    love the gyro plate. Rice is so good and I als...\n",
              "3    Rosie, Dakota, and I LOVE Chaparral Dog Park!!...\n",
              "4    General Manager Scott Petello is a good egg!!!...\n",
              "Name: text, dtype: object"
            ]
          },
          "metadata": {},
          "execution_count": 23
        }
      ]
    },
    {
      "cell_type": "markdown",
      "metadata": {
        "id": "ZiGFOyv3t4gW"
      },
      "source": [
        "removing punctuations"
      ]
    },
    {
      "cell_type": "code",
      "metadata": {
        "colab": {
          "base_uri": "https://localhost:8080/",
          "height": 35
        },
        "id": "H9sQni_4tzJl",
        "outputId": "776838f6-915b-4ef6-9cf6-e2ccb37afb7d"
      },
      "source": [
        "import string\n",
        "string.punctuation # library having all kind of punctuations"
      ],
      "execution_count": null,
      "outputs": [
        {
          "output_type": "execute_result",
          "data": {
            "application/vnd.google.colaboratory.intrinsic+json": {
              "type": "string"
            },
            "text/plain": [
              "'!\"#$%&\\'()*+,-./:;<=>?@[\\\\]^_`{|}~'"
            ]
          },
          "metadata": {},
          "execution_count": 24
        }
      ]
    },
    {
      "cell_type": "code",
      "metadata": {
        "id": "clu6zYl7tzHX"
      },
      "source": [
        "def remove_punctuations(data):\n",
        "  new_text = \"\".join([i for i in data if i not in string.punctuation])\n",
        "  return new_text"
      ],
      "execution_count": null,
      "outputs": []
    },
    {
      "cell_type": "code",
      "metadata": {
        "id": "TeX_eHF0tzFc"
      },
      "source": [
        "df['clean_text'] = df['text'].apply(lambda x:remove_punctuations(x))"
      ],
      "execution_count": null,
      "outputs": []
    },
    {
      "cell_type": "code",
      "metadata": {
        "colab": {
          "base_uri": "https://localhost:8080/"
        },
        "id": "u-DMmgIYtzDW",
        "outputId": "73475070-0dbb-4e6a-f3b3-5e1c559b3779"
      },
      "source": [
        "df['clean_text'].head()"
      ],
      "execution_count": null,
      "outputs": [
        {
          "output_type": "execute_result",
          "data": {
            "text/plain": [
              "0    My wife took me here on my birthday for breakf...\n",
              "1    I have no idea why some people give bad review...\n",
              "2    love the gyro plate Rice is so good and I also...\n",
              "3    Rosie Dakota and I LOVE Chaparral Dog Park Its...\n",
              "4    General Manager Scott Petello is a good egg No...\n",
              "Name: clean_text, dtype: object"
            ]
          },
          "metadata": {},
          "execution_count": 27
        }
      ]
    },
    {
      "cell_type": "markdown",
      "metadata": {
        "id": "0NHkFKqguu8M"
      },
      "source": [
        "changing the case to lower only"
      ]
    },
    {
      "cell_type": "code",
      "metadata": {
        "id": "EkPwkAUotzBG"
      },
      "source": [
        "df['clean_text'] = df['clean_text'].apply(lambda x: x.lower())"
      ],
      "execution_count": null,
      "outputs": []
    },
    {
      "cell_type": "code",
      "metadata": {
        "colab": {
          "base_uri": "https://localhost:8080/"
        },
        "id": "dcBfHMBity_D",
        "outputId": "9b465f5d-9f2b-4d6f-d33a-52a26cf52bd9"
      },
      "source": [
        "df['clean_text'].head()"
      ],
      "execution_count": null,
      "outputs": [
        {
          "output_type": "execute_result",
          "data": {
            "text/plain": [
              "0    my wife took me here on my birthday for breakf...\n",
              "1    i have no idea why some people give bad review...\n",
              "2    love the gyro plate rice is so good and i also...\n",
              "3    rosie dakota and i love chaparral dog park its...\n",
              "4    general manager scott petello is a good egg no...\n",
              "Name: clean_text, dtype: object"
            ]
          },
          "metadata": {},
          "execution_count": 29
        }
      ]
    },
    {
      "cell_type": "markdown",
      "metadata": {
        "id": "8AxDFBPlvRZK"
      },
      "source": [
        "stopword removing"
      ]
    },
    {
      "cell_type": "code",
      "metadata": {
        "colab": {
          "base_uri": "https://localhost:8080/"
        },
        "id": "NDbXxnkQty82",
        "outputId": "9bf449b5-e9e3-4bd0-b2c0-14e2c005f41f"
      },
      "source": [
        "import nltk \n",
        "nltk.download('stopwords')\n",
        "stopwords = nltk.corpus.stopwords.words('english')"
      ],
      "execution_count": null,
      "outputs": [
        {
          "output_type": "stream",
          "name": "stdout",
          "text": [
            "[nltk_data] Downloading package stopwords to /root/nltk_data...\n",
            "[nltk_data]   Unzipping corpora/stopwords.zip.\n"
          ]
        }
      ]
    },
    {
      "cell_type": "code",
      "metadata": {
        "colab": {
          "base_uri": "https://localhost:8080/"
        },
        "id": "VbeWocROty6q",
        "outputId": "90521e04-224a-4cc9-aae0-ff1d660e263e"
      },
      "source": [
        "stopwords[:5]"
      ],
      "execution_count": null,
      "outputs": [
        {
          "output_type": "execute_result",
          "data": {
            "text/plain": [
              "['i', 'me', 'my', 'myself', 'we']"
            ]
          },
          "metadata": {},
          "execution_count": 31
        }
      ]
    },
    {
      "cell_type": "markdown",
      "metadata": {
        "id": "XBCbwSeWwS7J"
      },
      "source": [
        "tokenizing the dataframe"
      ]
    },
    {
      "cell_type": "code",
      "metadata": {
        "id": "tDIJtPEXwQDf"
      },
      "source": [
        "import re\n",
        "def tokenization(text):\n",
        "    tokens = re.split('W+',text)\n",
        "    return tokens\n",
        "\n"
      ],
      "execution_count": null,
      "outputs": []
    },
    {
      "cell_type": "code",
      "metadata": {
        "id": "p7lRBhPnwZRs"
      },
      "source": [
        "df['token_text']= df['clean_text'].apply(lambda x: tokenization(x))"
      ],
      "execution_count": null,
      "outputs": []
    },
    {
      "cell_type": "code",
      "metadata": {
        "id": "FxBzWToUty4b"
      },
      "source": [
        "def removing_stopwords(data):\n",
        "  new_text = [i for i in data if i not in stopwords]\n",
        "  return new_text"
      ],
      "execution_count": null,
      "outputs": []
    },
    {
      "cell_type": "code",
      "metadata": {
        "colab": {
          "base_uri": "https://localhost:8080/"
        },
        "id": "TaV2o-CMwt4R",
        "outputId": "e81942f9-f5dd-4a5b-9be5-88704ed4ec73"
      },
      "source": [
        "df['token_text'][0]"
      ],
      "execution_count": null,
      "outputs": [
        {
          "output_type": "execute_result",
          "data": {
            "text/plain": [
              "['my wife took me here on my birthday for breakfast and it was excellent  the weather was perfect which made sitting outside overlooking their grounds an absolute pleasure  our waitress was excellent and our food arrived quickly on the semibusy saturday morning  it looked like the place fills up pretty quickly so the earlier you get here the better\\r\\n\\r\\ndo yourself a favor and get their bloody mary  it was phenomenal and simply the best ive ever had  im pretty sure they only use ingredients from their garden and blend them fresh when you order it  it was amazing\\r\\n\\r\\nwhile everything on the menu looks excellent i had the white truffle scrambled eggs vegetable skillet and it was tasty and delicious  it came with 2 pieces of their griddled bread with was amazing and it absolutely made the meal complete  it was the best toast ive ever had\\r\\n\\r\\nanyway i cant wait to go back']"
            ]
          },
          "metadata": {},
          "execution_count": 35
        }
      ]
    },
    {
      "cell_type": "code",
      "metadata": {
        "id": "EFmy70AXwCEQ"
      },
      "source": [
        "df['token_text'] = df['token_text'].apply(lambda x:removing_stopwords(x))"
      ],
      "execution_count": null,
      "outputs": []
    },
    {
      "cell_type": "markdown",
      "metadata": {
        "id": "aoXQamLixP3E"
      },
      "source": [
        "lemmatizing"
      ]
    },
    {
      "cell_type": "code",
      "metadata": {
        "colab": {
          "base_uri": "https://localhost:8080/"
        },
        "id": "8Jz65BF5xOgO",
        "outputId": "beb19400-18a7-4d6f-aab3-c2cb4ee84f68"
      },
      "source": [
        "from nltk.stem import WordNetLemmatizer\n",
        "nltk.download('wordnet')\n",
        "word_lemmatizer = WordNetLemmatizer()"
      ],
      "execution_count": null,
      "outputs": [
        {
          "output_type": "stream",
          "name": "stdout",
          "text": [
            "[nltk_data] Downloading package wordnet to /root/nltk_data...\n",
            "[nltk_data]   Unzipping corpora/wordnet.zip.\n"
          ]
        }
      ]
    },
    {
      "cell_type": "code",
      "metadata": {
        "id": "vBkeLjN6wCBF"
      },
      "source": [
        "def lemmatizer(text):\n",
        "  lemm_text = [word_lemmatizer.lemmatize(word) for word in text]\n",
        "  return lemm_text\n"
      ],
      "execution_count": null,
      "outputs": []
    },
    {
      "cell_type": "code",
      "metadata": {
        "id": "tDtu0NflwB-H"
      },
      "source": [
        "df['lemmatized_word']=df['token_text'].apply(lambda x:lemmatizer(x))\n"
      ],
      "execution_count": null,
      "outputs": []
    },
    {
      "cell_type": "code",
      "metadata": {
        "colab": {
          "base_uri": "https://localhost:8080/"
        },
        "id": "p9MKjeIowB7l",
        "outputId": "1f5a2096-8f38-4da6-8bb7-bd4e1f6df3e8"
      },
      "source": [
        "df['lemmatized_word'].head()"
      ],
      "execution_count": null,
      "outputs": [
        {
          "output_type": "execute_result",
          "data": {
            "text/plain": [
              "0    [my wife took me here on my birthday for break...\n",
              "1    [i have no idea why some people give bad revie...\n",
              "2    [love the gyro plate rice is so good and i als...\n",
              "3    [rosie dakota and i love chaparral dog park it...\n",
              "4    [general manager scott petello is a good egg n...\n",
              "Name: lemmatized_word, dtype: object"
            ]
          },
          "metadata": {},
          "execution_count": 40
        }
      ]
    },
    {
      "cell_type": "code",
      "metadata": {
        "id": "94gPJME-zhuq"
      },
      "source": [
        "def converting_to_string(data):\n",
        "  new_text = \"\".join([i for i in data])\n",
        "  return new_text"
      ],
      "execution_count": null,
      "outputs": []
    },
    {
      "cell_type": "code",
      "metadata": {
        "id": "drULyB1T0Qn1"
      },
      "source": [
        "df['lemmatized_word'] = df['lemmatized_word'].apply(lambda x:converting_to_string(x))"
      ],
      "execution_count": null,
      "outputs": []
    },
    {
      "cell_type": "code",
      "metadata": {
        "colab": {
          "base_uri": "https://localhost:8080/"
        },
        "id": "swDSkTeE0U5r",
        "outputId": "8f8e874e-21e8-4a8c-8ddc-701aff47b6cc"
      },
      "source": [
        "df['lemmatized_word'].head()"
      ],
      "execution_count": null,
      "outputs": [
        {
          "output_type": "execute_result",
          "data": {
            "text/plain": [
              "0    my wife took me here on my birthday for breakf...\n",
              "1    i have no idea why some people give bad review...\n",
              "2    love the gyro plate rice is so good and i also...\n",
              "3    rosie dakota and i love chaparral dog park its...\n",
              "4    general manager scott petello is a good egg no...\n",
              "Name: lemmatized_word, dtype: object"
            ]
          },
          "metadata": {},
          "execution_count": 43
        }
      ]
    },
    {
      "cell_type": "code",
      "metadata": {
        "id": "1b6z1-3QwBZ4"
      },
      "source": [
        "X_data = df['lemmatized_word']"
      ],
      "execution_count": null,
      "outputs": []
    },
    {
      "cell_type": "code",
      "metadata": {
        "colab": {
          "base_uri": "https://localhost:8080/"
        },
        "id": "m9pEKEGH6PdE",
        "outputId": "bd7104c3-db88-4645-8cc2-87226b9b5925"
      },
      "source": [
        "X_data[:5], y_train[:5]\n"
      ],
      "execution_count": null,
      "outputs": [
        {
          "output_type": "execute_result",
          "data": {
            "text/plain": [
              "(0    my wife took me here on my birthday for breakf...\n",
              " 1    i have no idea why some people give bad review...\n",
              " 2    love the gyro plate rice is so good and i also...\n",
              " 3    rosie dakota and i love chaparral dog park its...\n",
              " 4    general manager scott petello is a good egg no...\n",
              " Name: lemmatized_word, dtype: object, 3480    5\n",
              " 420     5\n",
              " 3001    4\n",
              " 6       5\n",
              " 932     3\n",
              " Name: stars, dtype: int64)"
            ]
          },
          "metadata": {},
          "execution_count": 45
        }
      ]
    },
    {
      "cell_type": "code",
      "metadata": {
        "id": "2qNg5N652Otl"
      },
      "source": [
        "X_data = count_vector.fit_transform(X_data)"
      ],
      "execution_count": null,
      "outputs": []
    },
    {
      "cell_type": "code",
      "metadata": {
        "id": "RXbGW48dwBOq"
      },
      "source": [
        "X_Train, X_Test, Y_Train, Y_Test = train_test_split(X_data, y,test_size=0.3,random_state=42)"
      ],
      "execution_count": null,
      "outputs": []
    },
    {
      "cell_type": "code",
      "metadata": {
        "colab": {
          "base_uri": "https://localhost:8080/"
        },
        "id": "698NBt2lyqjv",
        "outputId": "5965488b-b4b9-4343-e322-d00d58468468"
      },
      "source": [
        "model = MultinomialNB()\n",
        "model.fit(X_Train,Y_Train)"
      ],
      "execution_count": null,
      "outputs": [
        {
          "output_type": "execute_result",
          "data": {
            "text/plain": [
              "MultinomialNB(alpha=1.0, class_prior=None, fit_prior=True)"
            ]
          },
          "metadata": {},
          "execution_count": 48
        }
      ]
    },
    {
      "cell_type": "code",
      "metadata": {
        "colab": {
          "base_uri": "https://localhost:8080/"
        },
        "id": "tUYeEtXGyqhH",
        "outputId": "1219ed83-9763-4457-dcf0-e797f509882b"
      },
      "source": [
        "X_pred = model.predict(X_Test)\n",
        "print(classification_report(Y_Test,X_pred))"
      ],
      "execution_count": null,
      "outputs": [
        {
          "output_type": "stream",
          "name": "stdout",
          "text": [
            "              precision    recall  f1-score   support\n",
            "\n",
            "           1       0.67      0.04      0.07       101\n",
            "           2       0.17      0.02      0.03       122\n",
            "           3       0.28      0.04      0.08       201\n",
            "           4       0.42      0.76      0.54       525\n",
            "           5       0.56      0.50      0.53       451\n",
            "\n",
            "    accuracy                           0.46      1400\n",
            "   macro avg       0.42      0.27      0.25      1400\n",
            "weighted avg       0.44      0.46      0.39      1400\n",
            "\n"
          ]
        }
      ]
    },
    {
      "cell_type": "code",
      "metadata": {
        "colab": {
          "base_uri": "https://localhost:8080/"
        },
        "id": "r2827EPoyqel",
        "outputId": "158ea393-e64e-49e5-ae4f-cd87a8e58e7e"
      },
      "source": [
        "model2 = LinearRegression()\n",
        "model2.fit(X_Train,Y_Train)"
      ],
      "execution_count": null,
      "outputs": [
        {
          "output_type": "execute_result",
          "data": {
            "text/plain": [
              "LinearRegression(copy_X=True, fit_intercept=True, n_jobs=None, normalize=False)"
            ]
          },
          "metadata": {},
          "execution_count": 50
        }
      ]
    },
    {
      "cell_type": "code",
      "metadata": {
        "id": "a9C6rAGnyqcC"
      },
      "source": [
        "X_pred2 = model2.predict(X_Test)\n"
      ],
      "execution_count": null,
      "outputs": []
    },
    {
      "cell_type": "code",
      "metadata": {
        "colab": {
          "base_uri": "https://localhost:8080/"
        },
        "id": "sfcac0YT3bv2",
        "outputId": "864bfde6-2fbe-44bb-ff23-07d02cea6f0f"
      },
      "source": [
        "print(model2.intercept_)\n",
        "print(model2.coef_)"
      ],
      "execution_count": null,
      "outputs": [
        {
          "output_type": "stream",
          "name": "stdout",
          "text": [
            "4.7140661393280245\n",
            "[ 0.09448688  0.          0.         ...  0.         -0.004453\n",
            "  0.        ]\n"
          ]
        }
      ]
    },
    {
      "cell_type": "code",
      "metadata": {
        "id": "aIBBHR7H4hf-",
        "colab": {
          "base_uri": "https://localhost:8080/"
        },
        "outputId": "649040ea-b8da-49e2-e546-425daf365e00"
      },
      "source": [
        "import statsmodels.formula.api as smf\n"
      ],
      "execution_count": null,
      "outputs": [
        {
          "output_type": "stream",
          "name": "stderr",
          "text": [
            "/usr/local/lib/python3.7/dist-packages/statsmodels/tools/_testing.py:19: FutureWarning: pandas.util.testing is deprecated. Use the functions in the public API at pandas.testing instead.\n",
            "  import pandas.util.testing as tm\n"
          ]
        }
      ]
    },
    {
      "cell_type": "code",
      "metadata": {
        "colab": {
          "base_uri": "https://localhost:8080/"
        },
        "id": "_iG0L3FtyqZ2",
        "outputId": "7613d478-08a3-4f5e-d67e-d782f780fd0b"
      },
      "source": [
        "# variance score: 1 means perfect prediction\n",
        "print('Variance score: {}'.format(model2.score(X_Test, X_pred2)))"
      ],
      "execution_count": null,
      "outputs": [
        {
          "output_type": "stream",
          "name": "stdout",
          "text": [
            "Variance score: 1.0\n"
          ]
        }
      ]
    },
    {
      "cell_type": "code",
      "metadata": {
        "colab": {
          "base_uri": "https://localhost:8080/",
          "height": 303
        },
        "id": "f5ScOqKTyqYK",
        "outputId": "f1e1c72a-fa8b-4a84-bca5-4438e1465569"
      },
      "source": [
        "# plot for residual error\n",
        "plt.style.use('fivethirtyeight')\n",
        "  \n",
        "## plotting residual errors in training data\n",
        "plt.scatter(model2.predict(X_Train), model2.predict(X_Train) - Y_Train,\n",
        "            color = \"green\", s = 10, label = 'Train data')\n",
        "  \n",
        "## plotting residual errors in test data\n",
        "plt.scatter(model2.predict(X_Test), model2.predict(X_Test) - Y_Test,\n",
        "            color = \"blue\", s = 10, label = 'Test data')\n",
        "  \n",
        "## plotting line for zero residual error\n",
        "plt.hlines(y = 0, xmin = 0, xmax = 50, linewidth = 2)\n",
        "  \n",
        "## plotting legend\n",
        "plt.legend(loc = 'upper right')\n",
        "  \n",
        "## plot title\n",
        "plt.title(\"Residual errors\")\n",
        "  \n",
        "## method call for showing the plot\n",
        "plt.show()"
      ],
      "execution_count": null,
      "outputs": [
        {
          "output_type": "display_data",
          "data": {
            "image/png": "[encoded data removed]",
            "text/plain": [
              "<Figure size 432x288 with 1 Axes>"
            ]
          },
          "metadata": {}
        }
      ]
    },
    {
      "cell_type": "code",
      "metadata": {
        "colab": {
          "base_uri": "https://localhost:8080/"
        },
        "id": "pfBd-ZpqyqU4",
        "outputId": "47537aa6-44d6-4f8f-d8a6-e278f66cd973"
      },
      "source": [
        "from sklearn import metrics\n",
        "import numpy as np\n",
        "print('Mean Absolute Error:', metrics.mean_absolute_error(Y_Test, X_pred2))  \n",
        "print('Mean Squared Error:', metrics.mean_squared_error(Y_Test, X_pred2))  \n",
        "print('Root Mean Squared Error:', np.sqrt(metrics.mean_squared_error(Y_Test, X_pred2)))"
      ],
      "execution_count": null,
      "outputs": [
        {
          "output_type": "stream",
          "name": "stdout",
          "text": [
            "Mean Absolute Error: 2.3221123002682607\n",
            "Mean Squared Error: 11.227853994306571\n",
            "Root Mean Squared Error: 3.3507990083421255\n"
          ]
        }
      ]
    },
    {
      "cell_type": "markdown",
      "metadata": {
        "id": "KknVn9Uf7gay"
      },
      "source": [
        "You can see that the value of root mean squared error is 3.3507990083421255, which is less than of the mean value of the percentages. This means that our algorithm is very accurate and can still make reasonably good predictions."
      ]
    },
    {
      "cell_type": "markdown",
      "metadata": {
        "id": "h9yACW6P8zKG"
      },
      "source": [
        "multiclass classifier prediction model"
      ]
    },
    {
      "cell_type": "code",
      "metadata": {
        "colab": {
          "base_uri": "https://localhost:8080/",
          "height": 489
        },
        "id": "y1An90_iyqSk",
        "outputId": "95b23942-b107-4002-cb02-d1d5659ddd1d"
      },
      "source": [
        "df.head()"
      ],
      "execution_count": null,
      "outputs": [
        {
          "output_type": "execute_result",
          "data": {
            "text/html": [
              "<div>\n",
              "<style scoped>\n",
              "    .dataframe tbody tr th:only-of-type {\n",
              "        vertical-align: middle;\n",
              "    }\n",
              "\n",
              "    .dataframe tbody tr th {\n",
              "        vertical-align: top;\n",
              "    }\n",
              "\n",
              "    .dataframe thead th {\n",
              "        text-align: right;\n",
              "    }\n",
              "</style>\n",
              "<table border=\"1\" class=\"dataframe\">\n",
              "  <thead>\n",
              "    <tr style=\"text-align: right;\">\n",
              "      <th></th>\n",
              "      <th>business_id</th>\n",
              "      <th>date</th>\n",
              "      <th>review_id</th>\n",
              "      <th>stars</th>\n",
              "      <th>text</th>\n",
              "      <th>type</th>\n",
              "      <th>user_id</th>\n",
              "      <th>cool</th>\n",
              "      <th>useful</th>\n",
              "      <th>funny</th>\n",
              "      <th>clean_text</th>\n",
              "      <th>token_text</th>\n",
              "      <th>lemmatized_word</th>\n",
              "    </tr>\n",
              "  </thead>\n",
              "  <tbody>\n",
              "    <tr>\n",
              "      <th>0</th>\n",
              "      <td>9yKzy9PApeiPPOUJEtnvkg</td>\n",
              "      <td>2011-01-26</td>\n",
              "      <td>fWKvX83p0-ka4JS3dc6E5A</td>\n",
              "      <td>5</td>\n",
              "      <td>My wife took me here on my birthday for breakf...</td>\n",
              "      <td>review</td>\n",
              "      <td>rLtl8ZkDX5vH5nAx9C3q5Q</td>\n",
              "      <td>2.0</td>\n",
              "      <td>5.0</td>\n",
              "      <td>0.0</td>\n",
              "      <td>my wife took me here on my birthday for breakf...</td>\n",
              "      <td>[my wife took me here on my birthday for break...</td>\n",
              "      <td>my wife took me here on my birthday for breakf...</td>\n",
              "    </tr>\n",
              "    <tr>\n",
              "      <th>1</th>\n",
              "      <td>ZRJwVLyzEJq1VAihDhYiow</td>\n",
              "      <td>2011-07-27</td>\n",
              "      <td>IjZ33sJrzXqU-0X6U8NwyA</td>\n",
              "      <td>5</td>\n",
              "      <td>I have no idea why some people give bad review...</td>\n",
              "      <td>review</td>\n",
              "      <td>0a2KyEL0d3Yb1V6aivbIuQ</td>\n",
              "      <td>0.0</td>\n",
              "      <td>0.0</td>\n",
              "      <td>0.0</td>\n",
              "      <td>i have no idea why some people give bad review...</td>\n",
              "      <td>[i have no idea why some people give bad revie...</td>\n",
              "      <td>i have no idea why some people give bad review...</td>\n",
              "    </tr>\n",
              "    <tr>\n",
              "      <th>2</th>\n",
              "      <td>6oRAC4uyJCsJl1X0WZpVSA</td>\n",
              "      <td>2012-06-14</td>\n",
              "      <td>IESLBzqUCLdSzSqm0eCSxQ</td>\n",
              "      <td>4</td>\n",
              "      <td>love the gyro plate. Rice is so good and I als...</td>\n",
              "      <td>review</td>\n",
              "      <td>0hT2KtfLiobPvh6cDC8JQg</td>\n",
              "      <td>0.0</td>\n",
              "      <td>1.0</td>\n",
              "      <td>0.0</td>\n",
              "      <td>love the gyro plate rice is so good and i also...</td>\n",
              "      <td>[love the gyro plate rice is so good and i als...</td>\n",
              "      <td>love the gyro plate rice is so good and i also...</td>\n",
              "    </tr>\n",
              "    <tr>\n",
              "      <th>3</th>\n",
              "      <td>_1QQZuf4zZOyFCvXc0o6Vg</td>\n",
              "      <td>2010-05-27</td>\n",
              "      <td>G-WvGaISbqqaMHlNnByodA</td>\n",
              "      <td>5</td>\n",
              "      <td>Rosie, Dakota, and I LOVE Chaparral Dog Park!!...</td>\n",
              "      <td>review</td>\n",
              "      <td>uZetl9T0NcROGOyFfughhg</td>\n",
              "      <td>1.0</td>\n",
              "      <td>2.0</td>\n",
              "      <td>0.0</td>\n",
              "      <td>rosie dakota and i love chaparral dog park its...</td>\n",
              "      <td>[rosie dakota and i love chaparral dog park it...</td>\n",
              "      <td>rosie dakota and i love chaparral dog park its...</td>\n",
              "    </tr>\n",
              "    <tr>\n",
              "      <th>4</th>\n",
              "      <td>6ozycU1RpktNG2-1BroVtw</td>\n",
              "      <td>2012-01-05</td>\n",
              "      <td>1uJFq2r5QfJG_6ExMRCaGw</td>\n",
              "      <td>5</td>\n",
              "      <td>General Manager Scott Petello is a good egg!!!...</td>\n",
              "      <td>review</td>\n",
              "      <td>vYmM4KTsC8ZfQBg-j5MWkw</td>\n",
              "      <td>0.0</td>\n",
              "      <td>0.0</td>\n",
              "      <td>0.0</td>\n",
              "      <td>general manager scott petello is a good egg no...</td>\n",
              "      <td>[general manager scott petello is a good egg n...</td>\n",
              "      <td>general manager scott petello is a good egg no...</td>\n",
              "    </tr>\n",
              "  </tbody>\n",
              "</table>\n",
              "</div>"
            ],
            "text/plain": [
              "              business_id  ...                                    lemmatized_word\n",
              "0  9yKzy9PApeiPPOUJEtnvkg  ...  my wife took me here on my birthday for breakf...\n",
              "1  ZRJwVLyzEJq1VAihDhYiow  ...  i have no idea why some people give bad review...\n",
              "2  6oRAC4uyJCsJl1X0WZpVSA  ...  love the gyro plate rice is so good and i also...\n",
              "3  _1QQZuf4zZOyFCvXc0o6Vg  ...  rosie dakota and i love chaparral dog park its...\n",
              "4  6ozycU1RpktNG2-1BroVtw  ...  general manager scott petello is a good egg no...\n",
              "\n",
              "[5 rows x 13 columns]"
            ]
          },
          "metadata": {},
          "execution_count": 57
        }
      ]
    },
    {
      "cell_type": "code",
      "metadata": {
        "id": "Is4t5Gzl-4um"
      },
      "source": [
        "#new_df.type.unique() # since there is no other unique type rather than review we can drop this too"
      ],
      "execution_count": null,
      "outputs": []
    },
    {
      "cell_type": "code",
      "metadata": {
        "id": "lNAsM8EdyqP1"
      },
      "source": [
        "new_df = df.drop(['clean_text','text', 'token_text','review_id','user_id','date','business_id','type'], axis = 1)"
      ],
      "execution_count": null,
      "outputs": []
    },
    {
      "cell_type": "code",
      "metadata": {
        "colab": {
          "base_uri": "https://localhost:8080/",
          "height": 203
        },
        "id": "UiO5yyRHyqNh",
        "outputId": "9218ec4d-9fbe-4cfe-de87-70ee175d91b0"
      },
      "source": [
        "new_df.head()"
      ],
      "execution_count": null,
      "outputs": [
        {
          "output_type": "execute_result",
          "data": {
            "text/html": [
              "<div>\n",
              "<style scoped>\n",
              "    .dataframe tbody tr th:only-of-type {\n",
              "        vertical-align: middle;\n",
              "    }\n",
              "\n",
              "    .dataframe tbody tr th {\n",
              "        vertical-align: top;\n",
              "    }\n",
              "\n",
              "    .dataframe thead th {\n",
              "        text-align: right;\n",
              "    }\n",
              "</style>\n",
              "<table border=\"1\" class=\"dataframe\">\n",
              "  <thead>\n",
              "    <tr style=\"text-align: right;\">\n",
              "      <th></th>\n",
              "      <th>stars</th>\n",
              "      <th>cool</th>\n",
              "      <th>useful</th>\n",
              "      <th>funny</th>\n",
              "      <th>lemmatized_word</th>\n",
              "    </tr>\n",
              "  </thead>\n",
              "  <tbody>\n",
              "    <tr>\n",
              "      <th>0</th>\n",
              "      <td>5</td>\n",
              "      <td>2.0</td>\n",
              "      <td>5.0</td>\n",
              "      <td>0.0</td>\n",
              "      <td>my wife took me here on my birthday for breakf...</td>\n",
              "    </tr>\n",
              "    <tr>\n",
              "      <th>1</th>\n",
              "      <td>5</td>\n",
              "      <td>0.0</td>\n",
              "      <td>0.0</td>\n",
              "      <td>0.0</td>\n",
              "      <td>i have no idea why some people give bad review...</td>\n",
              "    </tr>\n",
              "    <tr>\n",
              "      <th>2</th>\n",
              "      <td>4</td>\n",
              "      <td>0.0</td>\n",
              "      <td>1.0</td>\n",
              "      <td>0.0</td>\n",
              "      <td>love the gyro plate rice is so good and i also...</td>\n",
              "    </tr>\n",
              "    <tr>\n",
              "      <th>3</th>\n",
              "      <td>5</td>\n",
              "      <td>1.0</td>\n",
              "      <td>2.0</td>\n",
              "      <td>0.0</td>\n",
              "      <td>rosie dakota and i love chaparral dog park its...</td>\n",
              "    </tr>\n",
              "    <tr>\n",
              "      <th>4</th>\n",
              "      <td>5</td>\n",
              "      <td>0.0</td>\n",
              "      <td>0.0</td>\n",
              "      <td>0.0</td>\n",
              "      <td>general manager scott petello is a good egg no...</td>\n",
              "    </tr>\n",
              "  </tbody>\n",
              "</table>\n",
              "</div>"
            ],
            "text/plain": [
              "   stars  cool  ...  funny                                    lemmatized_word\n",
              "0      5   2.0  ...    0.0  my wife took me here on my birthday for breakf...\n",
              "1      5   0.0  ...    0.0  i have no idea why some people give bad review...\n",
              "2      4   0.0  ...    0.0  love the gyro plate rice is so good and i also...\n",
              "3      5   1.0  ...    0.0  rosie dakota and i love chaparral dog park its...\n",
              "4      5   0.0  ...    0.0  general manager scott petello is a good egg no...\n",
              "\n",
              "[5 rows x 5 columns]"
            ]
          },
          "metadata": {},
          "execution_count": 60
        }
      ]
    },
    {
      "cell_type": "code",
      "metadata": {
        "id": "CcoG9-Dv-PF8"
      },
      "source": [
        "X_data_new = new_df['lemmatized_word']\n",
        "y_data_new = new_df.drop('lemmatized_word', axis=1)"
      ],
      "execution_count": null,
      "outputs": []
    },
    {
      "cell_type": "code",
      "metadata": {
        "colab": {
          "base_uri": "https://localhost:8080/"
        },
        "id": "dzgAHpvDyqK9",
        "outputId": "b6fd5de7-7e93-4b7b-a0db-9e863ab7d5f1"
      },
      "source": [
        "print(X_data_new.head(),'\\n\\n\\n', y_data_new.head())"
      ],
      "execution_count": null,
      "outputs": [
        {
          "output_type": "stream",
          "name": "stdout",
          "text": [
            "0    my wife took me here on my birthday for breakf...\n",
            "1    i have no idea why some people give bad review...\n",
            "2    love the gyro plate rice is so good and i also...\n",
            "3    rosie dakota and i love chaparral dog park its...\n",
            "4    general manager scott petello is a good egg no...\n",
            "Name: lemmatized_word, dtype: object \n",
            "\n",
            "\n",
            "    stars  cool  useful  funny\n",
            "0      5   2.0     5.0    0.0\n",
            "1      5   0.0     0.0    0.0\n",
            "2      4   0.0     1.0    0.0\n",
            "3      5   1.0     2.0    0.0\n",
            "4      5   0.0     0.0    0.0\n"
          ]
        }
      ]
    },
    {
      "cell_type": "markdown",
      "metadata": {
        "id": "sioQzxrSuzaP"
      },
      "source": [
        "predicting rating ie star prediction"
      ]
    },
    {
      "cell_type": "code",
      "metadata": {
        "id": "c55N1PJmAvVl"
      },
      "source": [
        "X_data_new = count_vector.fit_transform(X_data_new)\n",
        "X_train, X_test, y_train, y_test = train_test_split(X_data_new, y_data_new['stars'],test_size=0.3,random_state=42)\n"
      ],
      "execution_count": null,
      "outputs": []
    },
    {
      "cell_type": "code",
      "metadata": {
        "id": "t8qy2omt6Mgj",
        "colab": {
          "base_uri": "https://localhost:8080/"
        },
        "outputId": "032d3132-3cc8-43e8-e0ff-30a79ae5ce3d"
      },
      "source": [
        "X_train[:5]"
      ],
      "execution_count": null,
      "outputs": [
        {
          "output_type": "execute_result",
          "data": {
            "text/plain": [
              "<5x24023 sparse matrix of type '<class 'numpy.int64'>'\n",
              "\twith 371 stored elements in Compressed Sparse Row format>"
            ]
          },
          "metadata": {},
          "execution_count": 88
        }
      ]
    },
    {
      "cell_type": "code",
      "metadata": {
        "colab": {
          "base_uri": "https://localhost:8080/"
        },
        "id": "nCqY9T2Ppc8S",
        "outputId": "59af3224-95f7-4333-dcf8-8e2ed8a34cb5"
      },
      "source": [
        "y_train[:5]"
      ],
      "execution_count": null,
      "outputs": [
        {
          "output_type": "execute_result",
          "data": {
            "text/plain": [
              "3480    5\n",
              "420     5\n",
              "3001    4\n",
              "6       5\n",
              "932     3\n",
              "Name: stars, dtype: int64"
            ]
          },
          "metadata": {},
          "execution_count": 89
        }
      ]
    },
    {
      "cell_type": "code",
      "metadata": {
        "id": "Bfk9xsER4Hrb"
      },
      "source": [],
      "execution_count": null,
      "outputs": []
    },
    {
      "cell_type": "code",
      "metadata": {
        "id": "R9vdEM6FA-b5"
      },
      "source": [
        "# X_train_tfidf.shape, y_train.shape"
      ],
      "execution_count": null,
      "outputs": []
    },
    {
      "cell_type": "code",
      "metadata": {
        "id": "vuuFfDXvA-Z9",
        "colab": {
          "base_uri": "https://localhost:8080/"
        },
        "outputId": "3cbb7781-e1bd-450d-df8c-196117535fbf"
      },
      "source": [
        "from sklearn.svm import SVC # \"Support vector classifier\"  \n",
        "classifier = SVC(kernel='linear')  \n",
        "classifier.fit(X_train, y_train)  "
      ],
      "execution_count": null,
      "outputs": [
        {
          "output_type": "execute_result",
          "data": {
            "text/plain": [
              "SVC(C=1.0, break_ties=False, cache_size=200, class_weight=None, coef0=0.0,\n",
              "    decision_function_shape='ovr', degree=3, gamma='scale', kernel='linear',\n",
              "    max_iter=-1, probability=False, random_state=None, shrinking=True,\n",
              "    tol=0.001, verbose=False)"
            ]
          },
          "metadata": {},
          "execution_count": 90
        }
      ]
    },
    {
      "cell_type": "code",
      "metadata": {
        "id": "c6MK6q9IA-Xd"
      },
      "source": [
        "X_pred_2= classifier.predict(X_test)  \n"
      ],
      "execution_count": null,
      "outputs": []
    },
    {
      "cell_type": "code",
      "metadata": {
        "colab": {
          "base_uri": "https://localhost:8080/"
        },
        "id": "kHLz3OBBrZxu",
        "outputId": "4468e36a-9b92-4bb6-d8ce-560e601fac58"
      },
      "source": [
        "len(X_pred_2), len(y_test)"
      ],
      "execution_count": null,
      "outputs": [
        {
          "output_type": "execute_result",
          "data": {
            "text/plain": [
              "(1400, 1400)"
            ]
          },
          "metadata": {},
          "execution_count": 96
        }
      ]
    },
    {
      "cell_type": "code",
      "metadata": {
        "id": "Ikauj9w_A-Uo",
        "colab": {
          "base_uri": "https://localhost:8080/"
        },
        "outputId": "07e4baa6-563f-487a-93d4-6fa20716d095"
      },
      "source": [
        "print(classification_report(X_pred_2,y_test))"
      ],
      "execution_count": null,
      "outputs": [
        {
          "output_type": "stream",
          "name": "stdout",
          "text": [
            "              precision    recall  f1-score   support\n",
            "\n",
            "           1       0.39      0.34      0.36       116\n",
            "           2       0.31      0.27      0.29       140\n",
            "           3       0.27      0.26      0.27       205\n",
            "           4       0.45      0.49      0.47       473\n",
            "           5       0.54      0.53      0.53       466\n",
            "\n",
            "    accuracy                           0.44      1400\n",
            "   macro avg       0.39      0.38      0.38      1400\n",
            "weighted avg       0.43      0.44      0.43      1400\n",
            "\n"
          ]
        }
      ]
    },
    {
      "cell_type": "code",
      "metadata": {
        "id": "DIY7PSpNA-Nx"
      },
      "source": [
        "rbf = SVC(kernel='rbf', gamma=0.5, C=0.1).fit(X_train, y_train)\n",
        "poly = SVC(kernel='poly', degree=3, C=1).fit(X_train, y_train)"
      ],
      "execution_count": null,
      "outputs": []
    },
    {
      "cell_type": "code",
      "metadata": {
        "id": "DQC2eJPQA-JI"
      },
      "source": [
        "poly_pred = poly.predict(X_test)\n",
        "rbf_pred = rbf.predict(X_test)"
      ],
      "execution_count": null,
      "outputs": []
    },
    {
      "cell_type": "code",
      "metadata": {
        "id": "uMTX_nfas_CL"
      },
      "source": [
        "from sklearn.metrics import accuracy_score\n",
        "from sklearn.metrics import f1_score"
      ],
      "execution_count": null,
      "outputs": []
    },
    {
      "cell_type": "code",
      "metadata": {
        "colab": {
          "base_uri": "https://localhost:8080/"
        },
        "id": "p1Q2hasYtPQK",
        "outputId": "7d3a764e-8e61-4bca-9556-fe0981aaed54"
      },
      "source": [
        "acc_ = accuracy_score(y_test, X_pred_2)\n",
        "f1_ = f1_score(y_test, X_pred_2, average='weighted')\n",
        "print('Accuracy (linear Kernel): ', \"%.2f\" % (acc_*100))\n",
        "print('F1 (linear Kernel): ', \"%.2f\" % (f1_*100))"
      ],
      "execution_count": null,
      "outputs": [
        {
          "output_type": "stream",
          "name": "stdout",
          "text": [
            "Accuracy (linear Kernel):  43.57\n",
            "F1 (linear Kernel):  43.74\n"
          ]
        }
      ]
    },
    {
      "cell_type": "code",
      "metadata": {
        "colab": {
          "base_uri": "https://localhost:8080/"
        },
        "id": "eNeB9phks3ad",
        "outputId": "c33ce16e-5f71-41c4-8f3a-376e6f1a0553"
      },
      "source": [
        "poly_accuracy = accuracy_score(y_test, poly_pred)\n",
        "poly_f1 = f1_score(y_test, poly_pred, average='weighted')\n",
        "print('Accuracy (Polynomial Kernel): ', \"%.2f\" % (poly_accuracy*100))\n",
        "print('F1 (Polynomial Kernel): ', \"%.2f\" % (poly_f1*100))"
      ],
      "execution_count": null,
      "outputs": [
        {
          "output_type": "stream",
          "name": "stdout",
          "text": [
            "Accuracy (Polynomial Kernel):  35.36\n",
            "F1 (Polynomial Kernel):  26.40\n"
          ]
        }
      ]
    },
    {
      "cell_type": "code",
      "metadata": {
        "colab": {
          "base_uri": "https://localhost:8080/"
        },
        "id": "J2yhkO-ns3VZ",
        "outputId": "be006e57-77f9-446a-83b1-a1093e8b293d"
      },
      "source": [
        "rbf_accuracy = accuracy_score(y_test, rbf_pred)\n",
        "rbf_f1 = f1_score(y_test, rbf_pred, average='weighted')\n",
        "print('Accuracy (RBF Kernel): ', \"%.2f\" % (rbf_accuracy*100))\n",
        "print('F1 (RBF Kernel): ', \"%.2f\" % (rbf_f1*100))"
      ],
      "execution_count": null,
      "outputs": [
        {
          "output_type": "stream",
          "name": "stdout",
          "text": [
            "Accuracy (RBF Kernel):  32.21\n",
            "F1 (RBF Kernel):  15.70\n"
          ]
        }
      ]
    },
    {
      "cell_type": "markdown",
      "metadata": {
        "id": "FC69ETKSu7hR"
      },
      "source": [
        "predicting coolness in rating"
      ]
    },
    {
      "cell_type": "code",
      "metadata": {
        "id": "zksuMqQFs3TH"
      },
      "source": [
        "X_train_cool, X_test_cool, y_train_cool, y_test_cool = train_test_split(X_data_new, y_data_new['cool'],test_size=0.3,random_state=42)\n"
      ],
      "execution_count": null,
      "outputs": []
    },
    {
      "cell_type": "code",
      "metadata": {
        "id": "H4qIhJrbs3P4"
      },
      "source": [
        "cool_classifier = classifier.fit(X_train_cool, y_train_cool)  # linearclassifier "
      ],
      "execution_count": null,
      "outputs": []
    },
    {
      "cell_type": "code",
      "metadata": {
        "id": "Lco8Z_t5s3Cw"
      },
      "source": [
        "X_pred_cool = cool_classifier.predict(X_test_cool)  "
      ],
      "execution_count": null,
      "outputs": []
    },
    {
      "cell_type": "code",
      "metadata": {
        "colab": {
          "base_uri": "https://localhost:8080/"
        },
        "id": "2-EJ9Z6jvp3U",
        "outputId": "41ee05ba-0d01-4900-e3eb-f64b4af07042"
      },
      "source": [
        "acc_ = accuracy_score(y_test_cool, X_pred_cool)\n",
        "f1_ = f1_score(y_test_cool, X_pred_cool, average='weighted')\n",
        "print('Accuracy (linear Kernel) for coolness : ', \"%.2f\" % (acc_*100))\n",
        "print('F1 (linear Kernel) for coolness : ', \"%.2f\" % (f1_*100))"
      ],
      "execution_count": null,
      "outputs": [
        {
          "output_type": "stream",
          "name": "stdout",
          "text": [
            "Accuracy (linear Kernel) for coolness :  52.64\n",
            "F1 (linear Kernel) for coolness :  49.06\n"
          ]
        }
      ]
    },
    {
      "cell_type": "code",
      "metadata": {
        "id": "L2FPG9NUv6ve"
      },
      "source": [
        "rbf = SVC(kernel='rbf', gamma=0.5, C=0.1).fit(X_train_cool, y_train_cool) \n",
        "poly = SVC(kernel='poly', degree=3, C=1).fit(X_train_cool, y_train_cool) "
      ],
      "execution_count": null,
      "outputs": []
    },
    {
      "cell_type": "code",
      "metadata": {
        "id": "a6eRNepPwIxh"
      },
      "source": [
        "poly_pred = poly.predict(X_test_cool)\n",
        "rbf_pred = rbf.predict(X_test_cool)"
      ],
      "execution_count": null,
      "outputs": []
    },
    {
      "cell_type": "code",
      "metadata": {
        "colab": {
          "base_uri": "https://localhost:8080/"
        },
        "id": "AStxCOmHwA_5",
        "outputId": "6be69fc9-8f56-473f-be39-92bcf013559a"
      },
      "source": [
        "poly_accuracy = accuracy_score(y_test_cool, poly_pred)\n",
        "poly_f1 = f1_score(y_test_cool, poly_pred, average='weighted')\n",
        "print(' coolness Accuracy (Polynomial Kernel): ', \"%.2f\" % (poly_accuracy*100))\n",
        "print('coolness F1 (Polynomial Kernel): ', \"%.2f\" % (poly_f1*100))"
      ],
      "execution_count": null,
      "outputs": [
        {
          "output_type": "stream",
          "name": "stdout",
          "text": [
            " coolness Accuracy (Polynomial Kernel):  59.79\n",
            "coolness F1 (Polynomial Kernel):  47.15\n"
          ]
        }
      ]
    },
    {
      "cell_type": "code",
      "metadata": {
        "colab": {
          "base_uri": "https://localhost:8080/"
        },
        "id": "5EzijJjywPGf",
        "outputId": "255dc7da-e849-4515-c365-9cc1bc19cec0"
      },
      "source": [
        "rbf_accuracy = accuracy_score(y_test_cool, rbf_pred)\n",
        "rbf_f1 = f1_score(y_test_cool, rbf_pred, average='weighted')\n",
        "print('coolness Accuracy (RBF Kernel): ', \"%.2f\" % (rbf_accuracy*100))\n",
        "print('coolness F1 (RBF Kernel): ', \"%.2f\" % (rbf_f1*100))"
      ],
      "execution_count": null,
      "outputs": [
        {
          "output_type": "stream",
          "name": "stdout",
          "text": [
            "coolness Accuracy (RBF Kernel):  61.14\n",
            "coolness F1 (RBF Kernel):  46.40\n"
          ]
        }
      ]
    },
    {
      "cell_type": "code",
      "metadata": {
        "id": "msAHoK1awO_h"
      },
      "source": [],
      "execution_count": null,
      "outputs": []
    },
    {
      "cell_type": "code",
      "metadata": {
        "id": "Imh21C3jwO8H"
      },
      "source": [],
      "execution_count": null,
      "outputs": []
    },
    {
      "cell_type": "code",
      "metadata": {
        "id": "YoH2XU3NwO4m"
      },
      "source": [],
      "execution_count": null,
      "outputs": []
    },
    {
      "cell_type": "code",
      "metadata": {
        "id": "6BwapERtwO03"
      },
      "source": [],
      "execution_count": null,
      "outputs": []
    },
    {
      "cell_type": "code",
      "metadata": {
        "id": "gvuTiJDgwOea"
      },
      "source": [],
      "execution_count": null,
      "outputs": []
    }
  ]
}