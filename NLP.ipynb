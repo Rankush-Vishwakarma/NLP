{
  "nbformat": 4,
  "nbformat_minor": 0,
  "metadata": {
    "accelerator": "GPU",
    "colab": {
      "provenance": [],
      "collapsed_sections": []
    },
    "kernelspec": {
      "display_name": "Python 3",
      "name": "python3"
    },
    "language_info": {
      "name": "python"
    },
    "widgets": {
      "application/vnd.jupyter.widget-state+json": {
        "5e13f13257834759830aacd85833e655": {
          "model_module": "@jupyter-widgets/controls",
          "model_name": "VBoxModel",
          "model_module_version": "1.5.0",
          "state": {
            "_view_name": "VBoxView",
            "_dom_classes": [
              "widget-interact"
            ],
            "_model_name": "VBoxModel",
            "_view_module": "@jupyter-widgets/controls",
            "_model_module_version": "1.5.0",
            "_view_count": null,
            "_view_module_version": "1.5.0",
            "box_style": "",
            "layout": "IPY_MODEL_90503a2fab544acd932c4ca92009500a",
            "_model_module": "@jupyter-widgets/controls",
            "children": [
              "IPY_MODEL_f93a5023fd8945b4860a42d19647d7bd",
              "IPY_MODEL_25eef225b9254e35b21c59f4b6a8adfb"
            ]
          }
        },
        "90503a2fab544acd932c4ca92009500a": {
          "model_module": "@jupyter-widgets/base",
          "model_name": "LayoutModel",
          "model_module_version": "1.2.0",
          "state": {
            "_view_name": "LayoutView",
            "grid_template_rows": null,
            "right": null,
            "justify_content": null,
            "_view_module": "@jupyter-widgets/base",
            "overflow": null,
            "_model_module_version": "1.2.0",
            "_view_count": null,
            "flex_flow": null,
            "width": null,
            "min_width": null,
            "border": null,
            "align_items": null,
            "bottom": null,
            "_model_module": "@jupyter-widgets/base",
            "top": null,
            "grid_column": null,
            "overflow_y": null,
            "overflow_x": null,
            "grid_auto_flow": null,
            "grid_area": null,
            "grid_template_columns": null,
            "flex": null,
            "_model_name": "LayoutModel",
            "justify_items": null,
            "grid_row": null,
            "max_height": null,
            "align_content": null,
            "visibility": null,
            "align_self": null,
            "height": null,
            "min_height": null,
            "padding": null,
            "grid_auto_rows": null,
            "grid_gap": null,
            "max_width": null,
            "order": null,
            "_view_module_version": "1.2.0",
            "grid_template_areas": null,
            "object_position": null,
            "object_fit": null,
            "grid_auto_columns": null,
            "margin": null,
            "display": null,
            "left": null
          }
        },
        "f93a5023fd8945b4860a42d19647d7bd": {
          "model_module": "@jupyter-widgets/controls",
          "model_name": "DropdownModel",
          "model_module_version": "1.5.0",
          "state": {
            "_options_labels": [
              "Birth Control",
              "Depression",
              "Pain",
              "Acne",
              "Anxiety",
              "Bipolar Disorde",
              "ADHD",
              "Obesity",
              "Emergency Contraception",
              "Insomnia",
              "Diabetes, Type 2",
              "Vaginal Yeast Infection",
              "Urinary Tract Infection",
              "Weight Loss",
              "Constipation",
              "Migraine",
              "Panic Disorde",
              "High Blood Pressure",
              "Irritable Bowel Syndrome",
              "Chronic Pain",
              "Cough",
              "Bowel Preparation",
              "ibromyalgia",
              "Bacterial Infection",
              "Abnormal Uterine Bleeding",
              "Hepatitis C",
              "Major Depressive Disorde",
              "Benign Prostatic Hyperplasia",
              "Smoking Cessation",
              "Constipation, Chronic",
              "Opiate Dependence",
              "Muscle Spasm",
              "Rheumatoid Arthritis",
              "Generalized Anxiety Disorde",
              "Hypogonadism, Male",
              "Osteoarthritis",
              "Bronchitis",
              "Nausea/Vomiting",
              "Endometriosis",
              "Anxiety and Stress",
              "Underactive Thyroid",
              "Seizures",
              "Overactive Bladde",
              "Multiple Sclerosis",
              "Erectile Dysfunction",
              "Epilepsy",
              "Allergic Rhinitis",
              "Schizophrenia",
              "Hyperhidrosis",
              "Sinusitis",
              "Anesthesia",
              "Rosacea",
              "Skin or Soft Tissue Infection",
              "High Cholesterol",
              "Psoriasis",
              "Restless Legs Syndrome",
              "Obsessive Compulsive Disorde",
              "Onychomycosis, Toenail",
              "Eczema",
              "Influenza",
              "Chlamydia Infection",
              "Period Pain",
              "Atrial Fibrillation",
              "Crohn's Disease",
              "0</span> users found this comment helpful.",
              "Upper Respiratory Tract Infection",
              "Headache",
              "Chronic Myelogenous Leukemia",
              "GERD",
              "Migraine Prevention",
              "Postmenopausal Symptoms",
              "HIV Infection",
              "Bacterial Vaginitis",
              "Uterine Fibroids",
              "Asthma",
              "Asthma, acute",
              "Atrophic Vaginitis",
              "Paranoid Disorde",
              "Alcohol Withdrawal",
              "Motion Sickness",
              "Cold Sores",
              "4</span> users found this comment helpful.",
              "Herpes Simplex, Suppression",
              "Hypothyroidism, After Thyroid Removal",
              "Constipation, Drug Induced",
              "Post Traumatic Stress Disorde",
              "Polycystic Ovary Syndrome",
              "Back Pain",
              "Narcolepsy",
              "Asthma, Maintenance",
              "Hot Flashes",
              "Prostatitis",
              "High Cholesterol, Familial Heterozygous",
              "mance Anxiety",
              "Diverticulitis",
              "Menstrual Disorders",
              "Sedation",
              "Diabetes, Type 1",
              "Psoriatic Arthritis",
              "Hirsutism",
              "Skin and Structure Infection",
              "Ankylosing Spondylitis",
              "Oral Thrush",
              "Hypersomnia",
              "Keratoconjunctivitis Sicca",
              "moterol / mometasone)",
              "2</span> users found this comment helpful.",
              "Neuropathic Pain",
              "Non-Small Cell Lung Cance",
              "Trichotillomania",
              "Bronchiectasis",
              "emale Infertility",
              "Psychosis",
              "Systemic Mastocytosis",
              "Osteolytic Bone Metastases of Solid Tumors",
              "Herpes Simplex",
              "Tinnitus",
              "Hyperlipoproteinemia",
              "Left Ventricular Dysfunction",
              "Barrett's Esophagus",
              "Helicobacter Pylori Infection",
              "Anaplastic Oligodendroglioma",
              "Breast Cancer, Adjuvant",
              "Rhinitis",
              "Premature Ventricular Depolarizations",
              "Xerostomia",
              "Sjogren's Syndrome",
              "Ulcerative Colitis",
              "Benign Essential Trem",
              "Hemorrhoids",
              "Adult Human Growth Hormone Deficiency",
              "Sore Throat",
              "Not Listed / Othe",
              "Osteoporosis",
              "Inflammatory Conditions",
              "Urinary Incontinence",
              "Glaucoma",
              "1</span> users found this comment helpful.",
              "Urticaria",
              "COPD, Maintenance",
              "Reflex Sympathetic Dystrophy Syndrome",
              "Clostridial Infection",
              "Dermatomyositis",
              "Otitis Media",
              "Impetig",
              "Gastroparesis",
              "Hashimoto's disease",
              "8</span> users found this comment helpful.",
              "Nasal Congestion",
              "Schizoaffective Disorde",
              "Human Papillomavirus Prophylaxis",
              "Hyperthyroidism",
              "TSH Suppression",
              "Dysuria",
              "Angina Pectoris Prophylaxis",
              "Extrapyramidal Reaction",
              "Angina",
              "11</span> users found this comment helpful.",
              "Surgical Prophylaxis",
              "Progesterone Insufficiency",
              "Autism",
              "Kidney Infections",
              "Anorexia",
              "Stomach Ulce",
              "Conjunctivitis, Bacterial",
              "Neutropenia Associated with Chemotherapy",
              "Breakthrough Pain",
              "142</span> users found this comment helpful.",
              "Cough and Nasal Congestion",
              "Gout",
              "Breast Cancer, Metastatic",
              "Strep Throat",
              "Erosive Esophagitis",
              "Constipation, Acute",
              "Trigeminal Neuralgia",
              "Pain/Feve",
              "Night Terrors",
              "3</span> users found this comment helpful.",
              "Bladder Infection",
              "Undifferentiated Connective Tissue Disease",
              "Systemic Lupus Erythematosus",
              "Light Anesthesia",
              "Gout, Acute",
              "Glioblastoma Multiforme",
              "Diaper Rash",
              "Spondyloarthritis",
              "Nausea/Vomiting, Postoperative",
              "Bursitis",
              "Dental Abscess",
              "Breast Cance"
            ],
            "_view_name": "DropdownView",
            "style": "IPY_MODEL_85bb3380134c487ab34caa3ec85ac9ca",
            "_dom_classes": [],
            "description": "condition",
            "_model_name": "DropdownModel",
            "index": 2,
            "_view_module": "@jupyter-widgets/controls",
            "_model_module_version": "1.5.0",
            "_view_count": null,
            "disabled": false,
            "_view_module_version": "1.5.0",
            "description_tooltip": null,
            "_model_module": "@jupyter-widgets/controls",
            "layout": "IPY_MODEL_215f330bcedc48feb56b543c1a4021fd"
          }
        },
        "25eef225b9254e35b21c59f4b6a8adfb": {
          "model_module": "@jupyter-widgets/output",
          "model_name": "OutputModel",
          "model_module_version": "1.0.0",
          "state": {
            "_view_name": "OutputView",
            "msg_id": "",
            "_dom_classes": [],
            "_model_name": "OutputModel",
            "outputs": [
              {
                "output_type": "display_data",
                "data": {
                  "text/plain": "1    38\n0     7\nName: eff_score, dtype: int64"
                },
                "metadata": {}
              }
            ],
            "_view_module": "@jupyter-widgets/output",
            "_model_module_version": "1.0.0",
            "_view_count": null,
            "_view_module_version": "1.0.0",
            "layout": "IPY_MODEL_3e255fdc517c43ae962065e3cad3477d",
            "_model_module": "@jupyter-widgets/output"
          }
        },
        "85bb3380134c487ab34caa3ec85ac9ca": {
          "model_module": "@jupyter-widgets/controls",
          "model_name": "DescriptionStyleModel",
          "model_module_version": "1.5.0",
          "state": {
            "_view_name": "StyleView",
            "_model_name": "DescriptionStyleModel",
            "description_width": "",
            "_view_module": "@jupyter-widgets/base",
            "_model_module_version": "1.5.0",
            "_view_count": null,
            "_view_module_version": "1.2.0",
            "_model_module": "@jupyter-widgets/controls"
          }
        },
        "215f330bcedc48feb56b543c1a4021fd": {
          "model_module": "@jupyter-widgets/base",
          "model_name": "LayoutModel",
          "model_module_version": "1.2.0",
          "state": {
            "_view_name": "LayoutView",
            "grid_template_rows": null,
            "right": null,
            "justify_content": null,
            "_view_module": "@jupyter-widgets/base",
            "overflow": null,
            "_model_module_version": "1.2.0",
            "_view_count": null,
            "flex_flow": null,
            "width": null,
            "min_width": null,
            "border": null,
            "align_items": null,
            "bottom": null,
            "_model_module": "@jupyter-widgets/base",
            "top": null,
            "grid_column": null,
            "overflow_y": null,
            "overflow_x": null,
            "grid_auto_flow": null,
            "grid_area": null,
            "grid_template_columns": null,
            "flex": null,
            "_model_name": "LayoutModel",
            "justify_items": null,
            "grid_row": null,
            "max_height": null,
            "align_content": null,
            "visibility": null,
            "align_self": null,
            "height": null,
            "min_height": null,
            "padding": null,
            "grid_auto_rows": null,
            "grid_gap": null,
            "max_width": null,
            "order": null,
            "_view_module_version": "1.2.0",
            "grid_template_areas": null,
            "object_position": null,
            "object_fit": null,
            "grid_auto_columns": null,
            "margin": null,
            "display": null,
            "left": null
          }
        },
        "3e255fdc517c43ae962065e3cad3477d": {
          "model_module": "@jupyter-widgets/base",
          "model_name": "LayoutModel",
          "model_module_version": "1.2.0",
          "state": {
            "_view_name": "LayoutView",
            "grid_template_rows": null,
            "right": null,
            "justify_content": null,
            "_view_module": "@jupyter-widgets/base",
            "overflow": null,
            "_model_module_version": "1.2.0",
            "_view_count": null,
            "flex_flow": null,
            "width": null,
            "min_width": null,
            "border": null,
            "align_items": null,
            "bottom": null,
            "_model_module": "@jupyter-widgets/base",
            "top": null,
            "grid_column": null,
            "overflow_y": null,
            "overflow_x": null,
            "grid_auto_flow": null,
            "grid_area": null,
            "grid_template_columns": null,
            "flex": null,
            "_model_name": "LayoutModel",
            "justify_items": null,
            "grid_row": null,
            "max_height": null,
            "align_content": null,
            "visibility": null,
            "align_self": null,
            "height": null,
            "min_height": null,
            "padding": null,
            "grid_auto_rows": null,
            "grid_gap": null,
            "max_width": null,
            "order": null,
            "_view_module_version": "1.2.0",
            "grid_template_areas": null,
            "object_position": null,
            "object_fit": null,
            "grid_auto_columns": null,
            "margin": null,
            "display": null,
            "left": null
          }
        },
        "cf2ca1774d74433f85248e7acff281b5": {
          "model_module": "@jupyter-widgets/controls",
          "model_name": "VBoxModel",
          "model_module_version": "1.5.0",
          "state": {
            "_view_name": "VBoxView",
            "_dom_classes": [
              "widget-interact"
            ],
            "_model_name": "VBoxModel",
            "_view_module": "@jupyter-widgets/controls",
            "_model_module_version": "1.5.0",
            "_view_count": null,
            "_view_module_version": "1.5.0",
            "box_style": "",
            "layout": "IPY_MODEL_19a114ad731f4d6aad29ca5291670343",
            "_model_module": "@jupyter-widgets/controls",
            "children": [
              "IPY_MODEL_47b5ebdf2ac048b287d34d0138809d36",
              "IPY_MODEL_9c61626e9f8647128c42ee93ed0f6001"
            ]
          }
        },
        "19a114ad731f4d6aad29ca5291670343": {
          "model_module": "@jupyter-widgets/base",
          "model_name": "LayoutModel",
          "model_module_version": "1.2.0",
          "state": {
            "_view_name": "LayoutView",
            "grid_template_rows": null,
            "right": null,
            "justify_content": null,
            "_view_module": "@jupyter-widgets/base",
            "overflow": null,
            "_model_module_version": "1.2.0",
            "_view_count": null,
            "flex_flow": null,
            "width": null,
            "min_width": null,
            "border": null,
            "align_items": null,
            "bottom": null,
            "_model_module": "@jupyter-widgets/base",
            "top": null,
            "grid_column": null,
            "overflow_y": null,
            "overflow_x": null,
            "grid_auto_flow": null,
            "grid_area": null,
            "grid_template_columns": null,
            "flex": null,
            "_model_name": "LayoutModel",
            "justify_items": null,
            "grid_row": null,
            "max_height": null,
            "align_content": null,
            "visibility": null,
            "align_self": null,
            "height": null,
            "min_height": null,
            "padding": null,
            "grid_auto_rows": null,
            "grid_gap": null,
            "max_width": null,
            "order": null,
            "_view_module_version": "1.2.0",
            "grid_template_areas": null,
            "object_position": null,
            "object_fit": null,
            "grid_auto_columns": null,
            "margin": null,
            "display": null,
            "left": null
          }
        },
        "47b5ebdf2ac048b287d34d0138809d36": {
          "model_module": "@jupyter-widgets/controls",
          "model_name": "DropdownModel",
          "model_module_version": "1.5.0",
          "state": {
            "_options_labels": [
              "Birth Control",
              "Depression",
              "Pain",
              "Acne",
              "Anxiety",
              "Bipolar Disorde",
              "ADHD",
              "Obesity",
              "Emergency Contraception",
              "Insomnia",
              "Diabetes, Type 2",
              "Vaginal Yeast Infection",
              "Urinary Tract Infection",
              "Weight Loss",
              "Constipation",
              "Migraine",
              "Panic Disorde",
              "High Blood Pressure",
              "Irritable Bowel Syndrome",
              "Chronic Pain",
              "Cough",
              "Bowel Preparation",
              "ibromyalgia",
              "Bacterial Infection",
              "Abnormal Uterine Bleeding",
              "Hepatitis C",
              "Major Depressive Disorde",
              "Benign Prostatic Hyperplasia",
              "Smoking Cessation",
              "Constipation, Chronic",
              "Opiate Dependence",
              "Muscle Spasm",
              "Rheumatoid Arthritis",
              "Generalized Anxiety Disorde",
              "Hypogonadism, Male",
              "Osteoarthritis",
              "Bronchitis",
              "Nausea/Vomiting",
              "Endometriosis",
              "Anxiety and Stress",
              "Underactive Thyroid",
              "Seizures",
              "Overactive Bladde",
              "Multiple Sclerosis",
              "Erectile Dysfunction",
              "Epilepsy",
              "Allergic Rhinitis",
              "Schizophrenia",
              "Hyperhidrosis",
              "Sinusitis",
              "Anesthesia",
              "Rosacea",
              "Skin or Soft Tissue Infection",
              "High Cholesterol",
              "Psoriasis",
              "Restless Legs Syndrome",
              "Obsessive Compulsive Disorde",
              "Onychomycosis, Toenail",
              "Eczema",
              "Influenza",
              "Chlamydia Infection",
              "Period Pain",
              "Atrial Fibrillation",
              "Crohn's Disease",
              "0</span> users found this comment helpful.",
              "Upper Respiratory Tract Infection",
              "Headache",
              "Chronic Myelogenous Leukemia",
              "GERD",
              "Migraine Prevention",
              "Postmenopausal Symptoms",
              "HIV Infection",
              "Bacterial Vaginitis",
              "Uterine Fibroids",
              "Asthma",
              "Asthma, acute",
              "Atrophic Vaginitis",
              "Paranoid Disorde",
              "Alcohol Withdrawal",
              "Motion Sickness",
              "Cold Sores",
              "4</span> users found this comment helpful.",
              "Herpes Simplex, Suppression",
              "Hypothyroidism, After Thyroid Removal",
              "Constipation, Drug Induced",
              "Post Traumatic Stress Disorde",
              "Polycystic Ovary Syndrome",
              "Back Pain",
              "Narcolepsy",
              "Asthma, Maintenance",
              "Hot Flashes",
              "Prostatitis",
              "High Cholesterol, Familial Heterozygous",
              "mance Anxiety",
              "Diverticulitis",
              "Menstrual Disorders",
              "Sedation",
              "Diabetes, Type 1",
              "Psoriatic Arthritis",
              "Hirsutism",
              "Skin and Structure Infection",
              "Ankylosing Spondylitis",
              "Oral Thrush",
              "Hypersomnia",
              "Keratoconjunctivitis Sicca",
              "moterol / mometasone)",
              "2</span> users found this comment helpful.",
              "Neuropathic Pain",
              "Non-Small Cell Lung Cance",
              "Trichotillomania",
              "Bronchiectasis",
              "emale Infertility",
              "Psychosis",
              "Systemic Mastocytosis",
              "Osteolytic Bone Metastases of Solid Tumors",
              "Herpes Simplex",
              "Tinnitus",
              "Hyperlipoproteinemia",
              "Left Ventricular Dysfunction",
              "Barrett's Esophagus",
              "Helicobacter Pylori Infection",
              "Anaplastic Oligodendroglioma",
              "Breast Cancer, Adjuvant",
              "Rhinitis",
              "Premature Ventricular Depolarizations",
              "Xerostomia",
              "Sjogren's Syndrome",
              "Ulcerative Colitis",
              "Benign Essential Trem",
              "Hemorrhoids",
              "Adult Human Growth Hormone Deficiency",
              "Sore Throat",
              "Not Listed / Othe",
              "Osteoporosis",
              "Inflammatory Conditions",
              "Urinary Incontinence",
              "Glaucoma",
              "1</span> users found this comment helpful.",
              "Urticaria",
              "COPD, Maintenance",
              "Reflex Sympathetic Dystrophy Syndrome",
              "Clostridial Infection",
              "Dermatomyositis",
              "Otitis Media",
              "Impetig",
              "Gastroparesis",
              "Hashimoto's disease",
              "8</span> users found this comment helpful.",
              "Nasal Congestion",
              "Schizoaffective Disorde",
              "Human Papillomavirus Prophylaxis",
              "Hyperthyroidism",
              "TSH Suppression",
              "Dysuria",
              "Angina Pectoris Prophylaxis",
              "Extrapyramidal Reaction",
              "Angina",
              "11</span> users found this comment helpful.",
              "Surgical Prophylaxis",
              "Progesterone Insufficiency",
              "Autism",
              "Kidney Infections",
              "Anorexia",
              "Stomach Ulce",
              "Conjunctivitis, Bacterial",
              "Neutropenia Associated with Chemotherapy",
              "Breakthrough Pain",
              "142</span> users found this comment helpful.",
              "Cough and Nasal Congestion",
              "Gout",
              "Breast Cancer, Metastatic",
              "Strep Throat",
              "Erosive Esophagitis",
              "Constipation, Acute",
              "Trigeminal Neuralgia",
              "Pain/Feve",
              "Night Terrors",
              "3</span> users found this comment helpful.",
              "Bladder Infection",
              "Undifferentiated Connective Tissue Disease",
              "Systemic Lupus Erythematosus",
              "Light Anesthesia",
              "Gout, Acute",
              "Glioblastoma Multiforme",
              "Diaper Rash",
              "Spondyloarthritis",
              "Nausea/Vomiting, Postoperative",
              "Bursitis",
              "Dental Abscess",
              "Breast Cance"
            ],
            "_view_name": "DropdownView",
            "style": "IPY_MODEL_e55d639719464a1aadfe1c34b63ff326",
            "_dom_classes": [],
            "description": "condition",
            "_model_name": "DropdownModel",
            "index": 0,
            "_view_module": "@jupyter-widgets/controls",
            "_model_module_version": "1.5.0",
            "_view_count": null,
            "disabled": false,
            "_view_module_version": "1.5.0",
            "description_tooltip": null,
            "_model_module": "@jupyter-widgets/controls",
            "layout": "IPY_MODEL_d59bfd84a2394f6ead48c06228528c88"
          }
        },
        "9c61626e9f8647128c42ee93ed0f6001": {
          "model_module": "@jupyter-widgets/output",
          "model_name": "OutputModel",
          "model_module_version": "1.0.0",
          "state": {
            "_view_name": "OutputView",
            "msg_id": "",
            "_dom_classes": [],
            "_model_name": "OutputModel",
            "outputs": [
              {
                "output_type": "stream",
                "name": "stdout",
                "text": [
                  "top 5 drug\n",
                  "                             drugName  usefulness\n",
                  "0  Ethinyl estradiol / norelgestromin        1150\n",
                  "1                        Etonogestrel         936\n",
                  "2   Ethinyl estradiol / norethindrone         900\n",
                  "3                            NuvaRing         370\n",
                  "4                            Sprintec         243\n",
                  "last 5 drug\n",
                  "                           drugName  usefulness\n",
                  "0                            Lybrel           0\n",
                  "1                          Implanon           0\n",
                  "2                         Mononessa           0\n",
                  "3  Drospirenone / ethinyl estradiol           0\n",
                  "4  Ethinyl estradiol / norgestimate           0\n"
                ]
              }
            ],
            "_view_module": "@jupyter-widgets/output",
            "_model_module_version": "1.0.0",
            "_view_count": null,
            "_view_module_version": "1.0.0",
            "layout": "IPY_MODEL_90f7992af75c43adafce17dc20601b27",
            "_model_module": "@jupyter-widgets/output"
          }
        },
        "e55d639719464a1aadfe1c34b63ff326": {
          "model_module": "@jupyter-widgets/controls",
          "model_name": "DescriptionStyleModel",
          "model_module_version": "1.5.0",
          "state": {
            "_view_name": "StyleView",
            "_model_name": "DescriptionStyleModel",
            "description_width": "",
            "_view_module": "@jupyter-widgets/base",
            "_model_module_version": "1.5.0",
            "_view_count": null,
            "_view_module_version": "1.2.0",
            "_model_module": "@jupyter-widgets/controls"
          }
        },
        "d59bfd84a2394f6ead48c06228528c88": {
          "model_module": "@jupyter-widgets/base",
          "model_name": "LayoutModel",
          "model_module_version": "1.2.0",
          "state": {
            "_view_name": "LayoutView",
            "grid_template_rows": null,
            "right": null,
            "justify_content": null,
            "_view_module": "@jupyter-widgets/base",
            "overflow": null,
            "_model_module_version": "1.2.0",
            "_view_count": null,
            "flex_flow": null,
            "width": null,
            "min_width": null,
            "border": null,
            "align_items": null,
            "bottom": null,
            "_model_module": "@jupyter-widgets/base",
            "top": null,
            "grid_column": null,
            "overflow_y": null,
            "overflow_x": null,
            "grid_auto_flow": null,
            "grid_area": null,
            "grid_template_columns": null,
            "flex": null,
            "_model_name": "LayoutModel",
            "justify_items": null,
            "grid_row": null,
            "max_height": null,
            "align_content": null,
            "visibility": null,
            "align_self": null,
            "height": null,
            "min_height": null,
            "padding": null,
            "grid_auto_rows": null,
            "grid_gap": null,
            "max_width": null,
            "order": null,
            "_view_module_version": "1.2.0",
            "grid_template_areas": null,
            "object_position": null,
            "object_fit": null,
            "grid_auto_columns": null,
            "margin": null,
            "display": null,
            "left": null
          }
        },
        "90f7992af75c43adafce17dc20601b27": {
          "model_module": "@jupyter-widgets/base",
          "model_name": "LayoutModel",
          "model_module_version": "1.2.0",
          "state": {
            "_view_name": "LayoutView",
            "grid_template_rows": null,
            "right": null,
            "justify_content": null,
            "_view_module": "@jupyter-widgets/base",
            "overflow": null,
            "_model_module_version": "1.2.0",
            "_view_count": null,
            "flex_flow": null,
            "width": null,
            "min_width": null,
            "border": null,
            "align_items": null,
            "bottom": null,
            "_model_module": "@jupyter-widgets/base",
            "top": null,
            "grid_column": null,
            "overflow_y": null,
            "overflow_x": null,
            "grid_auto_flow": null,
            "grid_area": null,
            "grid_template_columns": null,
            "flex": null,
            "_model_name": "LayoutModel",
            "justify_items": null,
            "grid_row": null,
            "max_height": null,
            "align_content": null,
            "visibility": null,
            "align_self": null,
            "height": null,
            "min_height": null,
            "padding": null,
            "grid_auto_rows": null,
            "grid_gap": null,
            "max_width": null,
            "order": null,
            "_view_module_version": "1.2.0",
            "grid_template_areas": null,
            "object_position": null,
            "object_fit": null,
            "grid_auto_columns": null,
            "margin": null,
            "display": null,
            "left": null
          }
        }
      }
    }
  },
  "cells": [
    {
      "cell_type": "markdown",
      "metadata": {
        "id": "VWb9XbilJl0Y"
      },
      "source": [
        "NLTK - Natural Language Toolkit - suite of libraries and programs for symbolic and statistical natural language processing (NLP) for English written.\n",
        "\n",
        "- TextBlob\n",
        "- Scipy\n"
      ]
    },
    {
      "cell_type": "code",
      "metadata": {
        "colab": {
          "base_uri": "https://localhost:8080/"
        },
        "id": "4e5OpgcK4og3",
        "outputId": "8603eceb-068b-4cb8-b1e0-20d178dfddd7"
      },
      "source": [
        "!pip install TextBlob "
      ],
      "execution_count": null,
      "outputs": [
        {
          "output_type": "stream",
          "name": "stdout",
          "text": [
            "Requirement already satisfied: TextBlob in /usr/local/lib/python3.7/dist-packages (0.15.3)\n",
            "Requirement already satisfied: nltk>=3.1 in /usr/local/lib/python3.7/dist-packages (from TextBlob) (3.2.5)\n",
            "Requirement already satisfied: six in /usr/local/lib/python3.7/dist-packages (from nltk>=3.1->TextBlob) (1.15.0)\n"
          ]
        }
      ]
    },
    {
      "cell_type": "code",
      "metadata": {
        "id": "cnQpiU5X41Hr"
      },
      "source": [
        "import textblob as tb"
      ],
      "execution_count": null,
      "outputs": []
    },
    {
      "cell_type": "code",
      "metadata": {
        "id": "BseQ2PSq1ANH"
      },
      "source": [
        "import pandas as pd\n",
        "df = pd.read_csv(\"/content/drive/MyDrive/amazon_alexa.tsv\",\"\\t\")\n"
      ],
      "execution_count": null,
      "outputs": []
    },
    {
      "cell_type": "code",
      "metadata": {
        "colab": {
          "base_uri": "https://localhost:8080/",
          "height": 206
        },
        "id": "2p6OOlKZ47P3",
        "outputId": "e5e6eef0-c592-482c-84bf-d37f97b4ce3a"
      },
      "source": [
        "df.head()"
      ],
      "execution_count": null,
      "outputs": [
        {
          "output_type": "execute_result",
          "data": {
            "text/html": [
              "<div>\n",
              "<style scoped>\n",
              "    .dataframe tbody tr th:only-of-type {\n",
              "        vertical-align: middle;\n",
              "    }\n",
              "\n",
              "    .dataframe tbody tr th {\n",
              "        vertical-align: top;\n",
              "    }\n",
              "\n",
              "    .dataframe thead th {\n",
              "        text-align: right;\n",
              "    }\n",
              "</style>\n",
              "<table border=\"1\" class=\"dataframe\">\n",
              "  <thead>\n",
              "    <tr style=\"text-align: right;\">\n",
              "      <th></th>\n",
              "      <th>rating</th>\n",
              "      <th>date</th>\n",
              "      <th>variation</th>\n",
              "      <th>verified_reviews</th>\n",
              "      <th>feedback</th>\n",
              "    </tr>\n",
              "  </thead>\n",
              "  <tbody>\n",
              "    <tr>\n",
              "      <th>0</th>\n",
              "      <td>5</td>\n",
              "      <td>31-Jul-18</td>\n",
              "      <td>Charcoal Fabric</td>\n",
              "      <td>Love my Echo!</td>\n",
              "      <td>1</td>\n",
              "    </tr>\n",
              "    <tr>\n",
              "      <th>1</th>\n",
              "      <td>5</td>\n",
              "      <td>31-Jul-18</td>\n",
              "      <td>Charcoal Fabric</td>\n",
              "      <td>Loved it!</td>\n",
              "      <td>1</td>\n",
              "    </tr>\n",
              "    <tr>\n",
              "      <th>2</th>\n",
              "      <td>4</td>\n",
              "      <td>31-Jul-18</td>\n",
              "      <td>Walnut Finish</td>\n",
              "      <td>Sometimes while playing a game, you can answer...</td>\n",
              "      <td>1</td>\n",
              "    </tr>\n",
              "    <tr>\n",
              "      <th>3</th>\n",
              "      <td>5</td>\n",
              "      <td>31-Jul-18</td>\n",
              "      <td>Charcoal Fabric</td>\n",
              "      <td>I have had a lot of fun with this thing. My 4 ...</td>\n",
              "      <td>1</td>\n",
              "    </tr>\n",
              "    <tr>\n",
              "      <th>4</th>\n",
              "      <td>5</td>\n",
              "      <td>31-Jul-18</td>\n",
              "      <td>Charcoal Fabric</td>\n",
              "      <td>Music</td>\n",
              "      <td>1</td>\n",
              "    </tr>\n",
              "  </tbody>\n",
              "</table>\n",
              "</div>"
            ],
            "text/plain": [
              "   rating  ... feedback\n",
              "0       5  ...        1\n",
              "1       5  ...        1\n",
              "2       4  ...        1\n",
              "3       5  ...        1\n",
              "4       5  ...        1\n",
              "\n",
              "[5 rows x 5 columns]"
            ]
          },
          "metadata": {},
          "execution_count": 4
        }
      ]
    },
    {
      "cell_type": "code",
      "metadata": {
        "colab": {
          "base_uri": "https://localhost:8080/"
        },
        "id": "gu8pfL_Z5Cd8",
        "outputId": "8dca1203-f63d-4250-bbe6-850857c78aad"
      },
      "source": [
        "df.shape, df.columns.values"
      ],
      "execution_count": null,
      "outputs": [
        {
          "output_type": "execute_result",
          "data": {
            "text/plain": [
              "((3150, 5),\n",
              " array(['rating', 'date', 'variation', 'verified_reviews', 'feedback'],\n",
              "       dtype=object))"
            ]
          },
          "metadata": {},
          "execution_count": 6
        }
      ]
    },
    {
      "cell_type": "code",
      "metadata": {
        "colab": {
          "base_uri": "https://localhost:8080/",
          "height": 300
        },
        "id": "VtUVcRJo5ChG",
        "outputId": "a2ddf674-81d0-4850-8700-2d31c88e309b"
      },
      "source": [
        "df.describe()"
      ],
      "execution_count": null,
      "outputs": [
        {
          "output_type": "execute_result",
          "data": {
            "text/html": [
              "<div>\n",
              "<style scoped>\n",
              "    .dataframe tbody tr th:only-of-type {\n",
              "        vertical-align: middle;\n",
              "    }\n",
              "\n",
              "    .dataframe tbody tr th {\n",
              "        vertical-align: top;\n",
              "    }\n",
              "\n",
              "    .dataframe thead th {\n",
              "        text-align: right;\n",
              "    }\n",
              "</style>\n",
              "<table border=\"1\" class=\"dataframe\">\n",
              "  <thead>\n",
              "    <tr style=\"text-align: right;\">\n",
              "      <th></th>\n",
              "      <th>rating</th>\n",
              "      <th>feedback</th>\n",
              "    </tr>\n",
              "  </thead>\n",
              "  <tbody>\n",
              "    <tr>\n",
              "      <th>count</th>\n",
              "      <td>3150.000000</td>\n",
              "      <td>3150.000000</td>\n",
              "    </tr>\n",
              "    <tr>\n",
              "      <th>mean</th>\n",
              "      <td>4.463175</td>\n",
              "      <td>0.918413</td>\n",
              "    </tr>\n",
              "    <tr>\n",
              "      <th>std</th>\n",
              "      <td>1.068506</td>\n",
              "      <td>0.273778</td>\n",
              "    </tr>\n",
              "    <tr>\n",
              "      <th>min</th>\n",
              "      <td>1.000000</td>\n",
              "      <td>0.000000</td>\n",
              "    </tr>\n",
              "    <tr>\n",
              "      <th>25%</th>\n",
              "      <td>4.000000</td>\n",
              "      <td>1.000000</td>\n",
              "    </tr>\n",
              "    <tr>\n",
              "      <th>50%</th>\n",
              "      <td>5.000000</td>\n",
              "      <td>1.000000</td>\n",
              "    </tr>\n",
              "    <tr>\n",
              "      <th>75%</th>\n",
              "      <td>5.000000</td>\n",
              "      <td>1.000000</td>\n",
              "    </tr>\n",
              "    <tr>\n",
              "      <th>max</th>\n",
              "      <td>5.000000</td>\n",
              "      <td>1.000000</td>\n",
              "    </tr>\n",
              "  </tbody>\n",
              "</table>\n",
              "</div>"
            ],
            "text/plain": [
              "            rating     feedback\n",
              "count  3150.000000  3150.000000\n",
              "mean      4.463175     0.918413\n",
              "std       1.068506     0.273778\n",
              "min       1.000000     0.000000\n",
              "25%       4.000000     1.000000\n",
              "50%       5.000000     1.000000\n",
              "75%       5.000000     1.000000\n",
              "max       5.000000     1.000000"
            ]
          },
          "metadata": {},
          "execution_count": 8
        }
      ]
    },
    {
      "cell_type": "markdown",
      "metadata": {
        "id": "GtMYdjbM1_rQ"
      },
      "source": [
        "That means more than 50% people gave 5 rating"
      ]
    },
    {
      "cell_type": "code",
      "metadata": {
        "colab": {
          "base_uri": "https://localhost:8080/",
          "height": 172
        },
        "id": "0j1W1C3A1_E-",
        "outputId": "5cfbe372-bbb3-485f-d45f-70648ea3f14e"
      },
      "source": [
        "#checking the smmary for date , variation and review\n",
        "df.describe(include= 'object') "
      ],
      "execution_count": null,
      "outputs": [
        {
          "data": {
            "text/html": [
              "<div>\n",
              "<style scoped>\n",
              "    .dataframe tbody tr th:only-of-type {\n",
              "        vertical-align: middle;\n",
              "    }\n",
              "\n",
              "    .dataframe tbody tr th {\n",
              "        vertical-align: top;\n",
              "    }\n",
              "\n",
              "    .dataframe thead th {\n",
              "        text-align: right;\n",
              "    }\n",
              "</style>\n",
              "<table border=\"1\" class=\"dataframe\">\n",
              "  <thead>\n",
              "    <tr style=\"text-align: right;\">\n",
              "      <th></th>\n",
              "      <th>date</th>\n",
              "      <th>variation</th>\n",
              "      <th>verified_reviews</th>\n",
              "    </tr>\n",
              "  </thead>\n",
              "  <tbody>\n",
              "    <tr>\n",
              "      <th>count</th>\n",
              "      <td>3150</td>\n",
              "      <td>3150</td>\n",
              "      <td>3150</td>\n",
              "    </tr>\n",
              "    <tr>\n",
              "      <th>unique</th>\n",
              "      <td>77</td>\n",
              "      <td>16</td>\n",
              "      <td>2301</td>\n",
              "    </tr>\n",
              "    <tr>\n",
              "      <th>top</th>\n",
              "      <td>30-Jul-18</td>\n",
              "      <td>Black  Dot</td>\n",
              "      <td></td>\n",
              "    </tr>\n",
              "    <tr>\n",
              "      <th>freq</th>\n",
              "      <td>1603</td>\n",
              "      <td>516</td>\n",
              "      <td>79</td>\n",
              "    </tr>\n",
              "  </tbody>\n",
              "</table>\n",
              "</div>"
            ],
            "text/plain": [
              "             date   variation verified_reviews\n",
              "count        3150        3150             3150\n",
              "unique         77          16             2301\n",
              "top     30-Jul-18  Black  Dot                 \n",
              "freq         1603         516               79"
            ]
          },
          "execution_count": 7,
          "metadata": {},
          "output_type": "execute_result"
        }
      ]
    },
    {
      "cell_type": "markdown",
      "metadata": {
        "id": "TtKpB0bB2X6m"
      },
      "source": [
        "# top variation happen for black dot"
      ]
    },
    {
      "cell_type": "code",
      "metadata": {
        "colab": {
          "base_uri": "https://localhost:8080/"
        },
        "id": "iQfQuWdm5Cjy",
        "outputId": "1444ebff-10ee-4a3e-bf8c-f19847bd49e5"
      },
      "source": [
        "df['variation'].value_counts()"
      ],
      "execution_count": null,
      "outputs": [
        {
          "data": {
            "text/plain": [
              "Black  Dot                      516\n",
              "Charcoal Fabric                 430\n",
              "Configuration: Fire TV Stick    350\n",
              "Black  Plus                     270\n",
              "Black  Show                     265\n",
              "Black                           261\n",
              "Black  Spot                     241\n",
              "White  Dot                      184\n",
              "Heather Gray Fabric             157\n",
              "White  Spot                     109\n",
              "White                            91\n",
              "Sandstone Fabric                 90\n",
              "White  Show                      85\n",
              "White  Plus                      78\n",
              "Oak Finish                       14\n",
              "Walnut Finish                     9\n",
              "Name: variation, dtype: int64"
            ]
          },
          "execution_count": 8,
          "metadata": {},
          "output_type": "execute_result"
        }
      ]
    },
    {
      "cell_type": "markdown",
      "metadata": {
        "id": "aSj6c2eg2zY8"
      },
      "source": [
        "finding length , polarity and subjectivity. process of determining the attitude or emotion of the writer is called \"sentimental analysis\". for that we will use textblob library.\n"
      ]
    },
    {
      "cell_type": "code",
      "metadata": {
        "id": "6wNHQuQn5CnL"
      },
      "source": [
        "df['length'] = df['verified_reviews'].apply(len)"
      ],
      "execution_count": null,
      "outputs": []
    },
    {
      "cell_type": "code",
      "metadata": {
        "colab": {
          "base_uri": "https://localhost:8080/",
          "height": 206
        },
        "id": "Ywm4nB7B3dng",
        "outputId": "e7acdc27-a0b3-4963-c97c-65f4b72f2f28"
      },
      "source": [
        "df.head()"
      ],
      "execution_count": null,
      "outputs": [
        {
          "output_type": "execute_result",
          "data": {
            "text/html": [
              "<div>\n",
              "<style scoped>\n",
              "    .dataframe tbody tr th:only-of-type {\n",
              "        vertical-align: middle;\n",
              "    }\n",
              "\n",
              "    .dataframe tbody tr th {\n",
              "        vertical-align: top;\n",
              "    }\n",
              "\n",
              "    .dataframe thead th {\n",
              "        text-align: right;\n",
              "    }\n",
              "</style>\n",
              "<table border=\"1\" class=\"dataframe\">\n",
              "  <thead>\n",
              "    <tr style=\"text-align: right;\">\n",
              "      <th></th>\n",
              "      <th>rating</th>\n",
              "      <th>date</th>\n",
              "      <th>variation</th>\n",
              "      <th>verified_reviews</th>\n",
              "      <th>feedback</th>\n",
              "      <th>length</th>\n",
              "    </tr>\n",
              "  </thead>\n",
              "  <tbody>\n",
              "    <tr>\n",
              "      <th>0</th>\n",
              "      <td>5</td>\n",
              "      <td>31-Jul-18</td>\n",
              "      <td>Charcoal Fabric</td>\n",
              "      <td>Love my Echo!</td>\n",
              "      <td>1</td>\n",
              "      <td>13</td>\n",
              "    </tr>\n",
              "    <tr>\n",
              "      <th>1</th>\n",
              "      <td>5</td>\n",
              "      <td>31-Jul-18</td>\n",
              "      <td>Charcoal Fabric</td>\n",
              "      <td>Loved it!</td>\n",
              "      <td>1</td>\n",
              "      <td>9</td>\n",
              "    </tr>\n",
              "    <tr>\n",
              "      <th>2</th>\n",
              "      <td>4</td>\n",
              "      <td>31-Jul-18</td>\n",
              "      <td>Walnut Finish</td>\n",
              "      <td>Sometimes while playing a game, you can answer...</td>\n",
              "      <td>1</td>\n",
              "      <td>195</td>\n",
              "    </tr>\n",
              "    <tr>\n",
              "      <th>3</th>\n",
              "      <td>5</td>\n",
              "      <td>31-Jul-18</td>\n",
              "      <td>Charcoal Fabric</td>\n",
              "      <td>I have had a lot of fun with this thing. My 4 ...</td>\n",
              "      <td>1</td>\n",
              "      <td>172</td>\n",
              "    </tr>\n",
              "    <tr>\n",
              "      <th>4</th>\n",
              "      <td>5</td>\n",
              "      <td>31-Jul-18</td>\n",
              "      <td>Charcoal Fabric</td>\n",
              "      <td>Music</td>\n",
              "      <td>1</td>\n",
              "      <td>5</td>\n",
              "    </tr>\n",
              "  </tbody>\n",
              "</table>\n",
              "</div>"
            ],
            "text/plain": [
              "   rating       date  ... feedback length\n",
              "0       5  31-Jul-18  ...        1     13\n",
              "1       5  31-Jul-18  ...        1      9\n",
              "2       4  31-Jul-18  ...        1    195\n",
              "3       5  31-Jul-18  ...        1    172\n",
              "4       5  31-Jul-18  ...        1      5\n",
              "\n",
              "[5 rows x 6 columns]"
            ]
          },
          "metadata": {},
          "execution_count": 10
        }
      ]
    },
    {
      "cell_type": "markdown",
      "metadata": {
        "id": "VnSGRMPK3mfO"
      },
      "source": [
        "# text Polarity \n",
        "sentiment plarity can be determine as positive , negative and neutral ranging from [-1,1].\n",
        "\n",
        "It is the expression that determine the sentimental aspect of an opinion. in textual data, the result of sentiment analysis can be determine for each entity in the sentence document or sentence ."
      ]
    },
    {
      "cell_type": "code",
      "metadata": {
        "id": "yLwOpcBE5wW6"
      },
      "source": [],
      "execution_count": null,
      "outputs": []
    },
    {
      "cell_type": "code",
      "metadata": {
        "id": "qCOKu30L3kFw"
      },
      "source": [
        "def get_polarity(text):\n",
        "  blob = tb.TextBlob(str(text.encode('utf-8')))\n",
        "  pol = blob.sentiment.polarity\n",
        "  return pol"
      ],
      "execution_count": null,
      "outputs": []
    },
    {
      "cell_type": "code",
      "metadata": {
        "id": "B9ntglWB3j5-"
      },
      "source": [
        "df['polarity'] = df['verified_reviews'].apply(get_polarity)"
      ],
      "execution_count": null,
      "outputs": []
    },
    {
      "cell_type": "code",
      "metadata": {
        "colab": {
          "base_uri": "https://localhost:8080/",
          "height": 206
        },
        "id": "7hhgyDqT3jzk",
        "outputId": "84702759-ecac-4cdc-afa0-7b2843c8691d"
      },
      "source": [
        "df.head()"
      ],
      "execution_count": null,
      "outputs": [
        {
          "output_type": "execute_result",
          "data": {
            "text/html": [
              "<div>\n",
              "<style scoped>\n",
              "    .dataframe tbody tr th:only-of-type {\n",
              "        vertical-align: middle;\n",
              "    }\n",
              "\n",
              "    .dataframe tbody tr th {\n",
              "        vertical-align: top;\n",
              "    }\n",
              "\n",
              "    .dataframe thead th {\n",
              "        text-align: right;\n",
              "    }\n",
              "</style>\n",
              "<table border=\"1\" class=\"dataframe\">\n",
              "  <thead>\n",
              "    <tr style=\"text-align: right;\">\n",
              "      <th></th>\n",
              "      <th>rating</th>\n",
              "      <th>date</th>\n",
              "      <th>variation</th>\n",
              "      <th>verified_reviews</th>\n",
              "      <th>feedback</th>\n",
              "      <th>length</th>\n",
              "      <th>subjectivity</th>\n",
              "      <th>polarity</th>\n",
              "    </tr>\n",
              "  </thead>\n",
              "  <tbody>\n",
              "    <tr>\n",
              "      <th>0</th>\n",
              "      <td>5</td>\n",
              "      <td>31-Jul-18</td>\n",
              "      <td>Charcoal Fabric</td>\n",
              "      <td>Love my Echo!</td>\n",
              "      <td>1</td>\n",
              "      <td>13</td>\n",
              "      <td>0.6000</td>\n",
              "      <td>0.625</td>\n",
              "    </tr>\n",
              "    <tr>\n",
              "      <th>1</th>\n",
              "      <td>5</td>\n",
              "      <td>31-Jul-18</td>\n",
              "      <td>Charcoal Fabric</td>\n",
              "      <td>Loved it!</td>\n",
              "      <td>1</td>\n",
              "      <td>9</td>\n",
              "      <td>0.8000</td>\n",
              "      <td>0.875</td>\n",
              "    </tr>\n",
              "    <tr>\n",
              "      <th>2</th>\n",
              "      <td>4</td>\n",
              "      <td>31-Jul-18</td>\n",
              "      <td>Walnut Finish</td>\n",
              "      <td>Sometimes while playing a game, you can answer...</td>\n",
              "      <td>1</td>\n",
              "      <td>195</td>\n",
              "      <td>0.5125</td>\n",
              "      <td>-0.100</td>\n",
              "    </tr>\n",
              "    <tr>\n",
              "      <th>3</th>\n",
              "      <td>5</td>\n",
              "      <td>31-Jul-18</td>\n",
              "      <td>Charcoal Fabric</td>\n",
              "      <td>I have had a lot of fun with this thing. My 4 ...</td>\n",
              "      <td>1</td>\n",
              "      <td>172</td>\n",
              "      <td>0.4500</td>\n",
              "      <td>0.350</td>\n",
              "    </tr>\n",
              "    <tr>\n",
              "      <th>4</th>\n",
              "      <td>5</td>\n",
              "      <td>31-Jul-18</td>\n",
              "      <td>Charcoal Fabric</td>\n",
              "      <td>Music</td>\n",
              "      <td>1</td>\n",
              "      <td>5</td>\n",
              "      <td>0.0000</td>\n",
              "      <td>0.000</td>\n",
              "    </tr>\n",
              "  </tbody>\n",
              "</table>\n",
              "</div>"
            ],
            "text/plain": [
              "   rating       date         variation  ... length  subjectivity  polarity\n",
              "0       5  31-Jul-18  Charcoal Fabric   ...     13        0.6000     0.625\n",
              "1       5  31-Jul-18  Charcoal Fabric   ...      9        0.8000     0.875\n",
              "2       4  31-Jul-18    Walnut Finish   ...    195        0.5125    -0.100\n",
              "3       5  31-Jul-18  Charcoal Fabric   ...    172        0.4500     0.350\n",
              "4       5  31-Jul-18  Charcoal Fabric   ...      5        0.0000     0.000\n",
              "\n",
              "[5 rows x 8 columns]"
            ]
          },
          "metadata": {},
          "execution_count": 17
        }
      ]
    },
    {
      "cell_type": "markdown",
      "metadata": {
        "id": "pdgKMfnJ6T3p"
      },
      "source": [
        "in NLP, sbjectivity refers to the expression of opinion , evaluations, feelings, and speculation and thus incorporates emotion. "
      ]
    },
    {
      "cell_type": "code",
      "metadata": {
        "id": "TnmQbiX23jt4"
      },
      "source": [
        "def get_subjectivity(text):\n",
        "  blob = tb.TextBlob(str(text.encode('utf-8')))\n",
        "  subj  = blob.sentiment.subjectivity\n",
        "  return subj"
      ],
      "execution_count": null,
      "outputs": []
    },
    {
      "cell_type": "code",
      "metadata": {
        "id": "HW9xn0Mv3jnV"
      },
      "source": [
        "df['subjectivity'] = df['verified_reviews'].apply(get_subjectivity)"
      ],
      "execution_count": null,
      "outputs": []
    },
    {
      "cell_type": "code",
      "metadata": {
        "colab": {
          "base_uri": "https://localhost:8080/",
          "height": 206
        },
        "id": "aA1CnB673jXj",
        "outputId": "d1ebe56c-a3cc-4456-8c32-fc49e8a96d9c"
      },
      "source": [
        "df.head()"
      ],
      "execution_count": null,
      "outputs": [
        {
          "output_type": "execute_result",
          "data": {
            "text/html": [
              "<div>\n",
              "<style scoped>\n",
              "    .dataframe tbody tr th:only-of-type {\n",
              "        vertical-align: middle;\n",
              "    }\n",
              "\n",
              "    .dataframe tbody tr th {\n",
              "        vertical-align: top;\n",
              "    }\n",
              "\n",
              "    .dataframe thead th {\n",
              "        text-align: right;\n",
              "    }\n",
              "</style>\n",
              "<table border=\"1\" class=\"dataframe\">\n",
              "  <thead>\n",
              "    <tr style=\"text-align: right;\">\n",
              "      <th></th>\n",
              "      <th>rating</th>\n",
              "      <th>date</th>\n",
              "      <th>variation</th>\n",
              "      <th>verified_reviews</th>\n",
              "      <th>feedback</th>\n",
              "      <th>length</th>\n",
              "      <th>subjectivity</th>\n",
              "      <th>polarity</th>\n",
              "    </tr>\n",
              "  </thead>\n",
              "  <tbody>\n",
              "    <tr>\n",
              "      <th>0</th>\n",
              "      <td>5</td>\n",
              "      <td>31-Jul-18</td>\n",
              "      <td>Charcoal Fabric</td>\n",
              "      <td>Love my Echo!</td>\n",
              "      <td>1</td>\n",
              "      <td>13</td>\n",
              "      <td>0.6000</td>\n",
              "      <td>0.625</td>\n",
              "    </tr>\n",
              "    <tr>\n",
              "      <th>1</th>\n",
              "      <td>5</td>\n",
              "      <td>31-Jul-18</td>\n",
              "      <td>Charcoal Fabric</td>\n",
              "      <td>Loved it!</td>\n",
              "      <td>1</td>\n",
              "      <td>9</td>\n",
              "      <td>0.8000</td>\n",
              "      <td>0.875</td>\n",
              "    </tr>\n",
              "    <tr>\n",
              "      <th>2</th>\n",
              "      <td>4</td>\n",
              "      <td>31-Jul-18</td>\n",
              "      <td>Walnut Finish</td>\n",
              "      <td>Sometimes while playing a game, you can answer...</td>\n",
              "      <td>1</td>\n",
              "      <td>195</td>\n",
              "      <td>0.5125</td>\n",
              "      <td>-0.100</td>\n",
              "    </tr>\n",
              "    <tr>\n",
              "      <th>3</th>\n",
              "      <td>5</td>\n",
              "      <td>31-Jul-18</td>\n",
              "      <td>Charcoal Fabric</td>\n",
              "      <td>I have had a lot of fun with this thing. My 4 ...</td>\n",
              "      <td>1</td>\n",
              "      <td>172</td>\n",
              "      <td>0.4500</td>\n",
              "      <td>0.350</td>\n",
              "    </tr>\n",
              "    <tr>\n",
              "      <th>4</th>\n",
              "      <td>5</td>\n",
              "      <td>31-Jul-18</td>\n",
              "      <td>Charcoal Fabric</td>\n",
              "      <td>Music</td>\n",
              "      <td>1</td>\n",
              "      <td>5</td>\n",
              "      <td>0.0000</td>\n",
              "      <td>0.000</td>\n",
              "    </tr>\n",
              "  </tbody>\n",
              "</table>\n",
              "</div>"
            ],
            "text/plain": [
              "   rating       date         variation  ... length  subjectivity  polarity\n",
              "0       5  31-Jul-18  Charcoal Fabric   ...     13        0.6000     0.625\n",
              "1       5  31-Jul-18  Charcoal Fabric   ...      9        0.8000     0.875\n",
              "2       4  31-Jul-18    Walnut Finish   ...    195        0.5125    -0.100\n",
              "3       5  31-Jul-18  Charcoal Fabric   ...    172        0.4500     0.350\n",
              "4       5  31-Jul-18  Charcoal Fabric   ...      5        0.0000     0.000\n",
              "\n",
              "[5 rows x 8 columns]"
            ]
          },
          "metadata": {},
          "execution_count": 19
        }
      ]
    },
    {
      "cell_type": "code",
      "metadata": {
        "colab": {
          "base_uri": "https://localhost:8080/",
          "height": 300
        },
        "id": "ifj3F0jM3jNB",
        "outputId": "162d01d4-93a1-4671-9ba6-117ecffba8dd"
      },
      "source": [
        "df[['length','polarity','subjectivity']].describe()"
      ],
      "execution_count": null,
      "outputs": [
        {
          "output_type": "execute_result",
          "data": {
            "text/html": [
              "<div>\n",
              "<style scoped>\n",
              "    .dataframe tbody tr th:only-of-type {\n",
              "        vertical-align: middle;\n",
              "    }\n",
              "\n",
              "    .dataframe tbody tr th {\n",
              "        vertical-align: top;\n",
              "    }\n",
              "\n",
              "    .dataframe thead th {\n",
              "        text-align: right;\n",
              "    }\n",
              "</style>\n",
              "<table border=\"1\" class=\"dataframe\">\n",
              "  <thead>\n",
              "    <tr style=\"text-align: right;\">\n",
              "      <th></th>\n",
              "      <th>length</th>\n",
              "      <th>polarity</th>\n",
              "      <th>subjectivity</th>\n",
              "    </tr>\n",
              "  </thead>\n",
              "  <tbody>\n",
              "    <tr>\n",
              "      <th>count</th>\n",
              "      <td>3150.000000</td>\n",
              "      <td>3150.000000</td>\n",
              "      <td>3150.000000</td>\n",
              "    </tr>\n",
              "    <tr>\n",
              "      <th>mean</th>\n",
              "      <td>132.049524</td>\n",
              "      <td>0.349792</td>\n",
              "      <td>0.528922</td>\n",
              "    </tr>\n",
              "    <tr>\n",
              "      <th>std</th>\n",
              "      <td>182.099952</td>\n",
              "      <td>0.303362</td>\n",
              "      <td>0.256324</td>\n",
              "    </tr>\n",
              "    <tr>\n",
              "      <th>min</th>\n",
              "      <td>1.000000</td>\n",
              "      <td>-1.000000</td>\n",
              "      <td>0.000000</td>\n",
              "    </tr>\n",
              "    <tr>\n",
              "      <th>25%</th>\n",
              "      <td>30.000000</td>\n",
              "      <td>0.123852</td>\n",
              "      <td>0.419196</td>\n",
              "    </tr>\n",
              "    <tr>\n",
              "      <th>50%</th>\n",
              "      <td>74.000000</td>\n",
              "      <td>0.350000</td>\n",
              "      <td>0.585000</td>\n",
              "    </tr>\n",
              "    <tr>\n",
              "      <th>75%</th>\n",
              "      <td>165.000000</td>\n",
              "      <td>0.533333</td>\n",
              "      <td>0.695486</td>\n",
              "    </tr>\n",
              "    <tr>\n",
              "      <th>max</th>\n",
              "      <td>2851.000000</td>\n",
              "      <td>1.000000</td>\n",
              "      <td>1.000000</td>\n",
              "    </tr>\n",
              "  </tbody>\n",
              "</table>\n",
              "</div>"
            ],
            "text/plain": [
              "            length     polarity  subjectivity\n",
              "count  3150.000000  3150.000000   3150.000000\n",
              "mean    132.049524     0.349792      0.528922\n",
              "std     182.099952     0.303362      0.256324\n",
              "min       1.000000    -1.000000      0.000000\n",
              "25%      30.000000     0.123852      0.419196\n",
              "50%      74.000000     0.350000      0.585000\n",
              "75%     165.000000     0.533333      0.695486\n",
              "max    2851.000000     1.000000      1.000000"
            ]
          },
          "metadata": {},
          "execution_count": 20
        }
      ]
    },
    {
      "cell_type": "markdown",
      "metadata": {
        "id": "uyhXcKTK7tBc"
      },
      "source": [
        "# finding the words and punctuation"
      ]
    },
    {
      "cell_type": "code",
      "metadata": {
        "colab": {
          "base_uri": "https://localhost:8080/"
        },
        "id": "FO2cW2t5PYPJ",
        "outputId": "eb3584d1-586b-478e-c4b8-baaabe1e322c"
      },
      "source": [
        "'hello world i  am rankush '.split()"
      ],
      "execution_count": null,
      "outputs": [
        {
          "output_type": "execute_result",
          "data": {
            "text/plain": [
              "['hello', 'world', 'i', 'am', 'rankush']"
            ]
          },
          "metadata": {},
          "execution_count": 21
        }
      ]
    },
    {
      "cell_type": "code",
      "metadata": {
        "id": "Mx98xRWk3i7T"
      },
      "source": [
        "#word count\n",
        "df['word_count'] = df['verified_reviews'].apply(lambda x: len(x.split()))"
      ],
      "execution_count": null,
      "outputs": []
    },
    {
      "cell_type": "code",
      "metadata": {
        "id": "YJAKlC_i7_g-"
      },
      "source": [
        "# word density\n",
        "df['word_density'] = df['length']/(df['word_count']+1)"
      ],
      "execution_count": null,
      "outputs": []
    },
    {
      "cell_type": "code",
      "metadata": {
        "colab": {
          "base_uri": "https://localhost:8080/"
        },
        "id": "mVeMJ1LxP1cf",
        "outputId": "50a21523-cbeb-4077-827a-b2f6dab62945"
      },
      "source": [
        "import string\n",
        "punctuation = string.punctuation\n",
        "print(punctuation)"
      ],
      "execution_count": null,
      "outputs": [
        {
          "output_type": "stream",
          "name": "stdout",
          "text": [
            "!\"#$%&'()*+,-./:;<=>?@[\\]^_`{|}~\n"
          ]
        }
      ]
    },
    {
      "cell_type": "code",
      "metadata": {
        "id": "AQ2z0EtM8UbH"
      },
      "source": [
        "import string\n",
        "punctuation = string.punctuation\n",
        "df['punctuation_count'] = df['verified_reviews'].apply(lambda x: len(\"\".join(_ for _ in x if _ in punctuation)))"
      ],
      "execution_count": null,
      "outputs": []
    },
    {
      "cell_type": "code",
      "metadata": {
        "colab": {
          "base_uri": "https://localhost:8080/",
          "height": 206
        },
        "id": "l_XxzOjaQG3j",
        "outputId": "4dfb3c3a-444e-43f8-9507-87f72e14cd3b"
      },
      "source": [
        "df.head()"
      ],
      "execution_count": null,
      "outputs": [
        {
          "output_type": "execute_result",
          "data": {
            "text/html": [
              "<div>\n",
              "<style scoped>\n",
              "    .dataframe tbody tr th:only-of-type {\n",
              "        vertical-align: middle;\n",
              "    }\n",
              "\n",
              "    .dataframe tbody tr th {\n",
              "        vertical-align: top;\n",
              "    }\n",
              "\n",
              "    .dataframe thead th {\n",
              "        text-align: right;\n",
              "    }\n",
              "</style>\n",
              "<table border=\"1\" class=\"dataframe\">\n",
              "  <thead>\n",
              "    <tr style=\"text-align: right;\">\n",
              "      <th></th>\n",
              "      <th>rating</th>\n",
              "      <th>date</th>\n",
              "      <th>variation</th>\n",
              "      <th>verified_reviews</th>\n",
              "      <th>feedback</th>\n",
              "      <th>length</th>\n",
              "      <th>subjectivity</th>\n",
              "      <th>polarity</th>\n",
              "      <th>word_count</th>\n",
              "      <th>word_density</th>\n",
              "      <th>punctuation_count</th>\n",
              "    </tr>\n",
              "  </thead>\n",
              "  <tbody>\n",
              "    <tr>\n",
              "      <th>0</th>\n",
              "      <td>5</td>\n",
              "      <td>31-Jul-18</td>\n",
              "      <td>Charcoal Fabric</td>\n",
              "      <td>Love my Echo!</td>\n",
              "      <td>1</td>\n",
              "      <td>13</td>\n",
              "      <td>0.6000</td>\n",
              "      <td>0.625</td>\n",
              "      <td>3</td>\n",
              "      <td>3.250000</td>\n",
              "      <td>1</td>\n",
              "    </tr>\n",
              "    <tr>\n",
              "      <th>1</th>\n",
              "      <td>5</td>\n",
              "      <td>31-Jul-18</td>\n",
              "      <td>Charcoal Fabric</td>\n",
              "      <td>Loved it!</td>\n",
              "      <td>1</td>\n",
              "      <td>9</td>\n",
              "      <td>0.8000</td>\n",
              "      <td>0.875</td>\n",
              "      <td>2</td>\n",
              "      <td>3.000000</td>\n",
              "      <td>1</td>\n",
              "    </tr>\n",
              "    <tr>\n",
              "      <th>2</th>\n",
              "      <td>4</td>\n",
              "      <td>31-Jul-18</td>\n",
              "      <td>Walnut Finish</td>\n",
              "      <td>Sometimes while playing a game, you can answer...</td>\n",
              "      <td>1</td>\n",
              "      <td>195</td>\n",
              "      <td>0.5125</td>\n",
              "      <td>-0.100</td>\n",
              "      <td>38</td>\n",
              "      <td>5.000000</td>\n",
              "      <td>3</td>\n",
              "    </tr>\n",
              "    <tr>\n",
              "      <th>3</th>\n",
              "      <td>5</td>\n",
              "      <td>31-Jul-18</td>\n",
              "      <td>Charcoal Fabric</td>\n",
              "      <td>I have had a lot of fun with this thing. My 4 ...</td>\n",
              "      <td>1</td>\n",
              "      <td>172</td>\n",
              "      <td>0.4500</td>\n",
              "      <td>0.350</td>\n",
              "      <td>34</td>\n",
              "      <td>4.914286</td>\n",
              "      <td>4</td>\n",
              "    </tr>\n",
              "    <tr>\n",
              "      <th>4</th>\n",
              "      <td>5</td>\n",
              "      <td>31-Jul-18</td>\n",
              "      <td>Charcoal Fabric</td>\n",
              "      <td>Music</td>\n",
              "      <td>1</td>\n",
              "      <td>5</td>\n",
              "      <td>0.0000</td>\n",
              "      <td>0.000</td>\n",
              "      <td>1</td>\n",
              "      <td>2.500000</td>\n",
              "      <td>0</td>\n",
              "    </tr>\n",
              "  </tbody>\n",
              "</table>\n",
              "</div>"
            ],
            "text/plain": [
              "   rating       date  ... word_density punctuation_count\n",
              "0       5  31-Jul-18  ...     3.250000                 1\n",
              "1       5  31-Jul-18  ...     3.000000                 1\n",
              "2       4  31-Jul-18  ...     5.000000                 3\n",
              "3       5  31-Jul-18  ...     4.914286                 4\n",
              "4       5  31-Jul-18  ...     2.500000                 0\n",
              "\n",
              "[5 rows x 11 columns]"
            ]
          },
          "metadata": {},
          "execution_count": 27
        }
      ]
    },
    {
      "cell_type": "code",
      "metadata": {
        "colab": {
          "base_uri": "https://localhost:8080/",
          "height": 300
        },
        "id": "AHYjlRkz88_B",
        "outputId": "e145be1a-0253-4c33-803b-20e6e7c9d21b"
      },
      "source": [
        "df[['word_count','word_density','punctuation_count']].describe()"
      ],
      "execution_count": null,
      "outputs": [
        {
          "output_type": "execute_result",
          "data": {
            "text/html": [
              "<div>\n",
              "<style scoped>\n",
              "    .dataframe tbody tr th:only-of-type {\n",
              "        vertical-align: middle;\n",
              "    }\n",
              "\n",
              "    .dataframe tbody tr th {\n",
              "        vertical-align: top;\n",
              "    }\n",
              "\n",
              "    .dataframe thead th {\n",
              "        text-align: right;\n",
              "    }\n",
              "</style>\n",
              "<table border=\"1\" class=\"dataframe\">\n",
              "  <thead>\n",
              "    <tr style=\"text-align: right;\">\n",
              "      <th></th>\n",
              "      <th>word_count</th>\n",
              "      <th>word_density</th>\n",
              "      <th>punctuation_count</th>\n",
              "    </tr>\n",
              "  </thead>\n",
              "  <tbody>\n",
              "    <tr>\n",
              "      <th>count</th>\n",
              "      <td>3150.000000</td>\n",
              "      <td>3150.000000</td>\n",
              "      <td>3150.000000</td>\n",
              "    </tr>\n",
              "    <tr>\n",
              "      <th>mean</th>\n",
              "      <td>25.293016</td>\n",
              "      <td>4.605345</td>\n",
              "      <td>3.887937</td>\n",
              "    </tr>\n",
              "    <tr>\n",
              "      <th>std</th>\n",
              "      <td>34.584971</td>\n",
              "      <td>1.134737</td>\n",
              "      <td>5.762348</td>\n",
              "    </tr>\n",
              "    <tr>\n",
              "      <th>min</th>\n",
              "      <td>0.000000</td>\n",
              "      <td>0.500000</td>\n",
              "      <td>0.000000</td>\n",
              "    </tr>\n",
              "    <tr>\n",
              "      <th>25%</th>\n",
              "      <td>6.000000</td>\n",
              "      <td>4.269231</td>\n",
              "      <td>1.000000</td>\n",
              "    </tr>\n",
              "    <tr>\n",
              "      <th>50%</th>\n",
              "      <td>14.000000</td>\n",
              "      <td>4.805665</td>\n",
              "      <td>2.000000</td>\n",
              "    </tr>\n",
              "    <tr>\n",
              "      <th>75%</th>\n",
              "      <td>32.000000</td>\n",
              "      <td>5.207974</td>\n",
              "      <td>5.000000</td>\n",
              "    </tr>\n",
              "    <tr>\n",
              "      <th>max</th>\n",
              "      <td>526.000000</td>\n",
              "      <td>32.500000</td>\n",
              "      <td>121.000000</td>\n",
              "    </tr>\n",
              "  </tbody>\n",
              "</table>\n",
              "</div>"
            ],
            "text/plain": [
              "        word_count  word_density  punctuation_count\n",
              "count  3150.000000   3150.000000        3150.000000\n",
              "mean     25.293016      4.605345           3.887937\n",
              "std      34.584971      1.134737           5.762348\n",
              "min       0.000000      0.500000           0.000000\n",
              "25%       6.000000      4.269231           1.000000\n",
              "50%      14.000000      4.805665           2.000000\n",
              "75%      32.000000      5.207974           5.000000\n",
              "max     526.000000     32.500000         121.000000"
            ]
          },
          "metadata": {},
          "execution_count": 28
        }
      ]
    },
    {
      "cell_type": "markdown",
      "metadata": {
        "id": "8A2Fb_WG_tVV"
      },
      "source": [
        "# counting noun and verb in the text"
      ]
    },
    {
      "cell_type": "code",
      "metadata": {
        "colab": {
          "base_uri": "https://localhost:8080/"
        },
        "id": "eiKywa55BU4z",
        "outputId": "94f56534-1115-4b33-ebab-0ba0408398d3"
      },
      "source": [
        "import nltk\n",
        "nltk.download('punkt')\n",
        "nltk.download('averaged_perceptron_tagger')"
      ],
      "execution_count": null,
      "outputs": [
        {
          "output_type": "stream",
          "name": "stdout",
          "text": [
            "[nltk_data] Downloading package punkt to /root/nltk_data...\n",
            "[nltk_data]   Unzipping tokenizers/punkt.zip.\n",
            "[nltk_data] Downloading package averaged_perceptron_tagger to\n",
            "[nltk_data]     /root/nltk_data...\n",
            "[nltk_data]   Unzipping taggers/averaged_perceptron_tagger.zip.\n"
          ]
        },
        {
          "output_type": "execute_result",
          "data": {
            "text/plain": [
              "True"
            ]
          },
          "metadata": {},
          "execution_count": 29
        }
      ]
    },
    {
      "cell_type": "code",
      "metadata": {
        "colab": {
          "base_uri": "https://localhost:8080/"
        },
        "id": "kBYNoiOqRLtm",
        "outputId": "92f9b7a9-c13d-4fa6-a04b-4369856ff051"
      },
      "source": [
        "wiki = tb.TextBlob('love my echo')\n",
        "wiki.tags"
      ],
      "execution_count": null,
      "outputs": [
        {
          "output_type": "execute_result",
          "data": {
            "text/plain": [
              "[('love', 'VB'), ('my', 'PRP$'), ('echo', 'NN')]"
            ]
          },
          "metadata": {},
          "execution_count": 31
        }
      ]
    },
    {
      "cell_type": "code",
      "metadata": {
        "id": "cDgrbUVc_mMD"
      },
      "source": [
        "# part of speech \n",
        "\n",
        "pos_dic = {\n",
        "    'noun':['NN','NNS','NNP','NNPS'],\n",
        "    'pron':['PRP','PRP$','WP','WP$'],\n",
        "    'verb':['VB','VBD','VBG','VBN','VBP','VBZ'],\n",
        "    'adj':['JJ','JJR','JJS'],\n",
        "    'adv':['RB','RBR','RBS','WRB']\n",
        "}\n",
        "\n",
        "# FUNCTION TO CHECK AND GET PART OF SPEECH TAG COUNT OF A WORDS IN A GIVEN SENTENCE\n",
        "def pox_check(x,flag):\n",
        "  count  =0 \n",
        "  try:\n",
        "    wiki = tb.TextBlob(x)\n",
        "    for tup in wiki.tags:\n",
        "      ppo = list(tup)[1]\n",
        "      if ppo in pos_dic[flag]:\n",
        "        count+=1\n",
        "  except:\n",
        "    pass\n",
        "  return count"
      ],
      "execution_count": null,
      "outputs": []
    },
    {
      "cell_type": "code",
      "metadata": {
        "id": "Fyfv-X2Z_mD2"
      },
      "source": [
        "#noun\n",
        "df['noun_count'] = df['verified_reviews'].apply(lambda x: pox_check(x,'noun'))"
      ],
      "execution_count": null,
      "outputs": []
    },
    {
      "cell_type": "code",
      "metadata": {
        "colab": {
          "base_uri": "https://localhost:8080/",
          "height": 206
        },
        "id": "_IrjA7Pa_l7j",
        "outputId": "f68581bf-dc8b-4530-b1fe-1140ae1f6c1c"
      },
      "source": [
        "df.head()"
      ],
      "execution_count": null,
      "outputs": [
        {
          "output_type": "execute_result",
          "data": {
            "text/html": [
              "<div>\n",
              "<style scoped>\n",
              "    .dataframe tbody tr th:only-of-type {\n",
              "        vertical-align: middle;\n",
              "    }\n",
              "\n",
              "    .dataframe tbody tr th {\n",
              "        vertical-align: top;\n",
              "    }\n",
              "\n",
              "    .dataframe thead th {\n",
              "        text-align: right;\n",
              "    }\n",
              "</style>\n",
              "<table border=\"1\" class=\"dataframe\">\n",
              "  <thead>\n",
              "    <tr style=\"text-align: right;\">\n",
              "      <th></th>\n",
              "      <th>rating</th>\n",
              "      <th>date</th>\n",
              "      <th>variation</th>\n",
              "      <th>verified_reviews</th>\n",
              "      <th>feedback</th>\n",
              "      <th>length</th>\n",
              "      <th>subjectivity</th>\n",
              "      <th>polarity</th>\n",
              "      <th>word_count</th>\n",
              "      <th>word_density</th>\n",
              "      <th>punctuation_count</th>\n",
              "      <th>noun_count</th>\n",
              "    </tr>\n",
              "  </thead>\n",
              "  <tbody>\n",
              "    <tr>\n",
              "      <th>0</th>\n",
              "      <td>5</td>\n",
              "      <td>31-Jul-18</td>\n",
              "      <td>Charcoal Fabric</td>\n",
              "      <td>Love my Echo!</td>\n",
              "      <td>1</td>\n",
              "      <td>13</td>\n",
              "      <td>0.6000</td>\n",
              "      <td>0.625</td>\n",
              "      <td>3</td>\n",
              "      <td>3.250000</td>\n",
              "      <td>1</td>\n",
              "      <td>1</td>\n",
              "    </tr>\n",
              "    <tr>\n",
              "      <th>1</th>\n",
              "      <td>5</td>\n",
              "      <td>31-Jul-18</td>\n",
              "      <td>Charcoal Fabric</td>\n",
              "      <td>Loved it!</td>\n",
              "      <td>1</td>\n",
              "      <td>9</td>\n",
              "      <td>0.8000</td>\n",
              "      <td>0.875</td>\n",
              "      <td>2</td>\n",
              "      <td>3.000000</td>\n",
              "      <td>1</td>\n",
              "      <td>0</td>\n",
              "    </tr>\n",
              "    <tr>\n",
              "      <th>2</th>\n",
              "      <td>4</td>\n",
              "      <td>31-Jul-18</td>\n",
              "      <td>Walnut Finish</td>\n",
              "      <td>Sometimes while playing a game, you can answer...</td>\n",
              "      <td>1</td>\n",
              "      <td>195</td>\n",
              "      <td>0.5125</td>\n",
              "      <td>-0.100</td>\n",
              "      <td>38</td>\n",
              "      <td>5.000000</td>\n",
              "      <td>3</td>\n",
              "      <td>5</td>\n",
              "    </tr>\n",
              "    <tr>\n",
              "      <th>3</th>\n",
              "      <td>5</td>\n",
              "      <td>31-Jul-18</td>\n",
              "      <td>Charcoal Fabric</td>\n",
              "      <td>I have had a lot of fun with this thing. My 4 ...</td>\n",
              "      <td>1</td>\n",
              "      <td>172</td>\n",
              "      <td>0.4500</td>\n",
              "      <td>0.350</td>\n",
              "      <td>34</td>\n",
              "      <td>4.914286</td>\n",
              "      <td>4</td>\n",
              "      <td>11</td>\n",
              "    </tr>\n",
              "    <tr>\n",
              "      <th>4</th>\n",
              "      <td>5</td>\n",
              "      <td>31-Jul-18</td>\n",
              "      <td>Charcoal Fabric</td>\n",
              "      <td>Music</td>\n",
              "      <td>1</td>\n",
              "      <td>5</td>\n",
              "      <td>0.0000</td>\n",
              "      <td>0.000</td>\n",
              "      <td>1</td>\n",
              "      <td>2.500000</td>\n",
              "      <td>0</td>\n",
              "      <td>0</td>\n",
              "    </tr>\n",
              "  </tbody>\n",
              "</table>\n",
              "</div>"
            ],
            "text/plain": [
              "   rating       date  ... punctuation_count noun_count\n",
              "0       5  31-Jul-18  ...                 1          1\n",
              "1       5  31-Jul-18  ...                 1          0\n",
              "2       4  31-Jul-18  ...                 3          5\n",
              "3       5  31-Jul-18  ...                 4         11\n",
              "4       5  31-Jul-18  ...                 0          0\n",
              "\n",
              "[5 rows x 12 columns]"
            ]
          },
          "metadata": {},
          "execution_count": 34
        }
      ]
    },
    {
      "cell_type": "code",
      "metadata": {
        "id": "WQ83meqm_lpb"
      },
      "source": [
        "# verb\n",
        "df['verb_count'] = df['verified_reviews'].apply(lambda x: pox_check(x,'verb'))\n",
        "# pronoun\n",
        "df['pron_count'] = df['verified_reviews'].apply(lambda x: pox_check(x,'pron'))\n",
        "# adjective\n",
        "df['adj_count'] = df['verified_reviews'].apply(lambda x: pox_check(x,'adj'))\n",
        "# adverb\n",
        "df['adv_count'] = df['verified_reviews'].apply(lambda x: pox_check(x,'adv'))"
      ],
      "execution_count": null,
      "outputs": []
    },
    {
      "cell_type": "code",
      "metadata": {
        "colab": {
          "base_uri": "https://localhost:8080/",
          "height": 400
        },
        "id": "8KxktN1SB5NI",
        "outputId": "3aa73f2e-4536-4628-d72c-d2e9013fbe89"
      },
      "source": [
        "df.head()"
      ],
      "execution_count": null,
      "outputs": [
        {
          "output_type": "execute_result",
          "data": {
            "text/html": [
              "<div>\n",
              "<style scoped>\n",
              "    .dataframe tbody tr th:only-of-type {\n",
              "        vertical-align: middle;\n",
              "    }\n",
              "\n",
              "    .dataframe tbody tr th {\n",
              "        vertical-align: top;\n",
              "    }\n",
              "\n",
              "    .dataframe thead th {\n",
              "        text-align: right;\n",
              "    }\n",
              "</style>\n",
              "<table border=\"1\" class=\"dataframe\">\n",
              "  <thead>\n",
              "    <tr style=\"text-align: right;\">\n",
              "      <th></th>\n",
              "      <th>rating</th>\n",
              "      <th>date</th>\n",
              "      <th>variation</th>\n",
              "      <th>verified_reviews</th>\n",
              "      <th>feedback</th>\n",
              "      <th>length</th>\n",
              "      <th>subjectivity</th>\n",
              "      <th>polarity</th>\n",
              "      <th>word_count</th>\n",
              "      <th>word_density</th>\n",
              "      <th>punctuation_count</th>\n",
              "      <th>noun_count</th>\n",
              "      <th>verb_count</th>\n",
              "      <th>pron_count</th>\n",
              "      <th>adj_count</th>\n",
              "      <th>adv_count</th>\n",
              "    </tr>\n",
              "  </thead>\n",
              "  <tbody>\n",
              "    <tr>\n",
              "      <th>0</th>\n",
              "      <td>5</td>\n",
              "      <td>31-Jul-18</td>\n",
              "      <td>Charcoal Fabric</td>\n",
              "      <td>Love my Echo!</td>\n",
              "      <td>1</td>\n",
              "      <td>13</td>\n",
              "      <td>0.6000</td>\n",
              "      <td>0.625</td>\n",
              "      <td>3</td>\n",
              "      <td>3.250000</td>\n",
              "      <td>1</td>\n",
              "      <td>1</td>\n",
              "      <td>1</td>\n",
              "      <td>1</td>\n",
              "      <td>0</td>\n",
              "      <td>0</td>\n",
              "    </tr>\n",
              "    <tr>\n",
              "      <th>1</th>\n",
              "      <td>5</td>\n",
              "      <td>31-Jul-18</td>\n",
              "      <td>Charcoal Fabric</td>\n",
              "      <td>Loved it!</td>\n",
              "      <td>1</td>\n",
              "      <td>9</td>\n",
              "      <td>0.8000</td>\n",
              "      <td>0.875</td>\n",
              "      <td>2</td>\n",
              "      <td>3.000000</td>\n",
              "      <td>1</td>\n",
              "      <td>0</td>\n",
              "      <td>1</td>\n",
              "      <td>1</td>\n",
              "      <td>0</td>\n",
              "      <td>0</td>\n",
              "    </tr>\n",
              "    <tr>\n",
              "      <th>2</th>\n",
              "      <td>4</td>\n",
              "      <td>31-Jul-18</td>\n",
              "      <td>Walnut Finish</td>\n",
              "      <td>Sometimes while playing a game, you can answer...</td>\n",
              "      <td>1</td>\n",
              "      <td>195</td>\n",
              "      <td>0.5125</td>\n",
              "      <td>-0.100</td>\n",
              "      <td>38</td>\n",
              "      <td>5.000000</td>\n",
              "      <td>3</td>\n",
              "      <td>5</td>\n",
              "      <td>8</td>\n",
              "      <td>5</td>\n",
              "      <td>3</td>\n",
              "      <td>3</td>\n",
              "    </tr>\n",
              "    <tr>\n",
              "      <th>3</th>\n",
              "      <td>5</td>\n",
              "      <td>31-Jul-18</td>\n",
              "      <td>Charcoal Fabric</td>\n",
              "      <td>I have had a lot of fun with this thing. My 4 ...</td>\n",
              "      <td>1</td>\n",
              "      <td>172</td>\n",
              "      <td>0.4500</td>\n",
              "      <td>0.350</td>\n",
              "      <td>34</td>\n",
              "      <td>4.914286</td>\n",
              "      <td>4</td>\n",
              "      <td>11</td>\n",
              "      <td>6</td>\n",
              "      <td>2</td>\n",
              "      <td>1</td>\n",
              "      <td>5</td>\n",
              "    </tr>\n",
              "    <tr>\n",
              "      <th>4</th>\n",
              "      <td>5</td>\n",
              "      <td>31-Jul-18</td>\n",
              "      <td>Charcoal Fabric</td>\n",
              "      <td>Music</td>\n",
              "      <td>1</td>\n",
              "      <td>5</td>\n",
              "      <td>0.0000</td>\n",
              "      <td>0.000</td>\n",
              "      <td>1</td>\n",
              "      <td>2.500000</td>\n",
              "      <td>0</td>\n",
              "      <td>0</td>\n",
              "      <td>0</td>\n",
              "      <td>0</td>\n",
              "      <td>1</td>\n",
              "      <td>0</td>\n",
              "    </tr>\n",
              "  </tbody>\n",
              "</table>\n",
              "</div>"
            ],
            "text/plain": [
              "   rating       date         variation  ... pron_count  adj_count  adv_count\n",
              "0       5  31-Jul-18  Charcoal Fabric   ...          1          0          0\n",
              "1       5  31-Jul-18  Charcoal Fabric   ...          1          0          0\n",
              "2       4  31-Jul-18    Walnut Finish   ...          5          3          3\n",
              "3       5  31-Jul-18  Charcoal Fabric   ...          2          1          5\n",
              "4       5  31-Jul-18  Charcoal Fabric   ...          0          1          0\n",
              "\n",
              "[5 rows x 16 columns]"
            ]
          },
          "metadata": {},
          "execution_count": 36
        }
      ]
    },
    {
      "cell_type": "code",
      "metadata": {
        "colab": {
          "base_uri": "https://localhost:8080/",
          "height": 300
        },
        "id": "0Irk3YnpB-Cw",
        "outputId": "e0d90308-823b-4dce-a92b-4316b714651d"
      },
      "source": [
        "df[['noun_count','verb_count']].describe()"
      ],
      "execution_count": null,
      "outputs": [
        {
          "output_type": "execute_result",
          "data": {
            "text/html": [
              "<div>\n",
              "<style scoped>\n",
              "    .dataframe tbody tr th:only-of-type {\n",
              "        vertical-align: middle;\n",
              "    }\n",
              "\n",
              "    .dataframe tbody tr th {\n",
              "        vertical-align: top;\n",
              "    }\n",
              "\n",
              "    .dataframe thead th {\n",
              "        text-align: right;\n",
              "    }\n",
              "</style>\n",
              "<table border=\"1\" class=\"dataframe\">\n",
              "  <thead>\n",
              "    <tr style=\"text-align: right;\">\n",
              "      <th></th>\n",
              "      <th>noun_count</th>\n",
              "      <th>verb_count</th>\n",
              "    </tr>\n",
              "  </thead>\n",
              "  <tbody>\n",
              "    <tr>\n",
              "      <th>count</th>\n",
              "      <td>3150.000000</td>\n",
              "      <td>3150.000000</td>\n",
              "    </tr>\n",
              "    <tr>\n",
              "      <th>mean</th>\n",
              "      <td>5.927302</td>\n",
              "      <td>5.144444</td>\n",
              "    </tr>\n",
              "    <tr>\n",
              "      <th>std</th>\n",
              "      <td>8.206844</td>\n",
              "      <td>7.211263</td>\n",
              "    </tr>\n",
              "    <tr>\n",
              "      <th>min</th>\n",
              "      <td>0.000000</td>\n",
              "      <td>0.000000</td>\n",
              "    </tr>\n",
              "    <tr>\n",
              "      <th>25%</th>\n",
              "      <td>1.000000</td>\n",
              "      <td>1.000000</td>\n",
              "    </tr>\n",
              "    <tr>\n",
              "      <th>50%</th>\n",
              "      <td>3.000000</td>\n",
              "      <td>3.000000</td>\n",
              "    </tr>\n",
              "    <tr>\n",
              "      <th>75%</th>\n",
              "      <td>7.000000</td>\n",
              "      <td>7.000000</td>\n",
              "    </tr>\n",
              "    <tr>\n",
              "      <th>max</th>\n",
              "      <td>137.000000</td>\n",
              "      <td>101.000000</td>\n",
              "    </tr>\n",
              "  </tbody>\n",
              "</table>\n",
              "</div>"
            ],
            "text/plain": [
              "        noun_count   verb_count\n",
              "count  3150.000000  3150.000000\n",
              "mean      5.927302     5.144444\n",
              "std       8.206844     7.211263\n",
              "min       0.000000     0.000000\n",
              "25%       1.000000     1.000000\n",
              "50%       3.000000     3.000000\n",
              "75%       7.000000     7.000000\n",
              "max     137.000000   101.000000"
            ]
          },
          "metadata": {},
          "execution_count": 37
        }
      ]
    },
    {
      "cell_type": "markdown",
      "metadata": {
        "id": "k2E_phQ24YTH"
      },
      "source": [
        "# Cleaing the data\n",
        "  \n",
        "\n",
        "1.   Removing the punctuations and the numbers.\n",
        "2.   perform tokenization\n",
        "3.   Remove special and accented charcters\n",
        "4.   Remove stopwords\n",
        "5.   Perform stemming and lemmatization\n",
        "\n"
      ]
    },
    {
      "cell_type": "code",
      "metadata": {
        "colab": {
          "base_uri": "https://localhost:8080/",
          "height": 400
        },
        "id": "VeJk6tE34eo1",
        "outputId": "52b8468a-7718-4608-fabe-c138bbd13ceb"
      },
      "source": [
        "# removing punctuations and numbers \n",
        "df.head()"
      ],
      "execution_count": null,
      "outputs": [
        {
          "output_type": "execute_result",
          "data": {
            "text/html": [
              "<div>\n",
              "<style scoped>\n",
              "    .dataframe tbody tr th:only-of-type {\n",
              "        vertical-align: middle;\n",
              "    }\n",
              "\n",
              "    .dataframe tbody tr th {\n",
              "        vertical-align: top;\n",
              "    }\n",
              "\n",
              "    .dataframe thead th {\n",
              "        text-align: right;\n",
              "    }\n",
              "</style>\n",
              "<table border=\"1\" class=\"dataframe\">\n",
              "  <thead>\n",
              "    <tr style=\"text-align: right;\">\n",
              "      <th></th>\n",
              "      <th>rating</th>\n",
              "      <th>date</th>\n",
              "      <th>variation</th>\n",
              "      <th>verified_reviews</th>\n",
              "      <th>feedback</th>\n",
              "      <th>length</th>\n",
              "      <th>subjectivity</th>\n",
              "      <th>polarity</th>\n",
              "      <th>word_count</th>\n",
              "      <th>word_density</th>\n",
              "      <th>punctuation_count</th>\n",
              "      <th>noun_count</th>\n",
              "      <th>verb_count</th>\n",
              "      <th>pron_count</th>\n",
              "      <th>adj_count</th>\n",
              "      <th>adv_count</th>\n",
              "    </tr>\n",
              "  </thead>\n",
              "  <tbody>\n",
              "    <tr>\n",
              "      <th>0</th>\n",
              "      <td>5</td>\n",
              "      <td>31-Jul-18</td>\n",
              "      <td>Charcoal Fabric</td>\n",
              "      <td>Love my Echo!</td>\n",
              "      <td>1</td>\n",
              "      <td>13</td>\n",
              "      <td>0.6000</td>\n",
              "      <td>0.625</td>\n",
              "      <td>3</td>\n",
              "      <td>3.250000</td>\n",
              "      <td>1</td>\n",
              "      <td>1</td>\n",
              "      <td>1</td>\n",
              "      <td>1</td>\n",
              "      <td>0</td>\n",
              "      <td>0</td>\n",
              "    </tr>\n",
              "    <tr>\n",
              "      <th>1</th>\n",
              "      <td>5</td>\n",
              "      <td>31-Jul-18</td>\n",
              "      <td>Charcoal Fabric</td>\n",
              "      <td>Loved it!</td>\n",
              "      <td>1</td>\n",
              "      <td>9</td>\n",
              "      <td>0.8000</td>\n",
              "      <td>0.875</td>\n",
              "      <td>2</td>\n",
              "      <td>3.000000</td>\n",
              "      <td>1</td>\n",
              "      <td>0</td>\n",
              "      <td>1</td>\n",
              "      <td>1</td>\n",
              "      <td>0</td>\n",
              "      <td>0</td>\n",
              "    </tr>\n",
              "    <tr>\n",
              "      <th>2</th>\n",
              "      <td>4</td>\n",
              "      <td>31-Jul-18</td>\n",
              "      <td>Walnut Finish</td>\n",
              "      <td>Sometimes while playing a game, you can answer...</td>\n",
              "      <td>1</td>\n",
              "      <td>195</td>\n",
              "      <td>0.5125</td>\n",
              "      <td>-0.100</td>\n",
              "      <td>38</td>\n",
              "      <td>5.000000</td>\n",
              "      <td>3</td>\n",
              "      <td>5</td>\n",
              "      <td>8</td>\n",
              "      <td>5</td>\n",
              "      <td>3</td>\n",
              "      <td>3</td>\n",
              "    </tr>\n",
              "    <tr>\n",
              "      <th>3</th>\n",
              "      <td>5</td>\n",
              "      <td>31-Jul-18</td>\n",
              "      <td>Charcoal Fabric</td>\n",
              "      <td>I have had a lot of fun with this thing. My 4 ...</td>\n",
              "      <td>1</td>\n",
              "      <td>172</td>\n",
              "      <td>0.4500</td>\n",
              "      <td>0.350</td>\n",
              "      <td>34</td>\n",
              "      <td>4.914286</td>\n",
              "      <td>4</td>\n",
              "      <td>11</td>\n",
              "      <td>6</td>\n",
              "      <td>2</td>\n",
              "      <td>1</td>\n",
              "      <td>5</td>\n",
              "    </tr>\n",
              "    <tr>\n",
              "      <th>4</th>\n",
              "      <td>5</td>\n",
              "      <td>31-Jul-18</td>\n",
              "      <td>Charcoal Fabric</td>\n",
              "      <td>Music</td>\n",
              "      <td>1</td>\n",
              "      <td>5</td>\n",
              "      <td>0.0000</td>\n",
              "      <td>0.000</td>\n",
              "      <td>1</td>\n",
              "      <td>2.500000</td>\n",
              "      <td>0</td>\n",
              "      <td>0</td>\n",
              "      <td>0</td>\n",
              "      <td>0</td>\n",
              "      <td>1</td>\n",
              "      <td>0</td>\n",
              "    </tr>\n",
              "  </tbody>\n",
              "</table>\n",
              "</div>"
            ],
            "text/plain": [
              "   rating       date         variation  ... pron_count  adj_count  adv_count\n",
              "0       5  31-Jul-18  Charcoal Fabric   ...          1          0          0\n",
              "1       5  31-Jul-18  Charcoal Fabric   ...          1          0          0\n",
              "2       4  31-Jul-18    Walnut Finish   ...          5          3          3\n",
              "3       5  31-Jul-18  Charcoal Fabric   ...          2          1          5\n",
              "4       5  31-Jul-18  Charcoal Fabric   ...          0          1          0\n",
              "\n",
              "[5 rows x 16 columns]"
            ]
          },
          "metadata": {},
          "execution_count": 38
        }
      ]
    },
    {
      "cell_type": "code",
      "metadata": {
        "id": "cf7us3wD5jDH"
      },
      "source": [
        "# function for removing the punctuations\n",
        "def remove_punctuations(messy_words):\n",
        "  clean_list = [ch for ch in messy_words if ch not in string.punctuation]\n",
        "  clean_str = \"\".join(clean_list)\n",
        "  return clean_str\n",
        "\n"
      ],
      "execution_count": null,
      "outputs": []
    },
    {
      "cell_type": "code",
      "source": [],
      "metadata": {
        "id": "nQXaftvlnJQ-"
      },
      "execution_count": null,
      "outputs": []
    },
    {
      "cell_type": "code",
      "metadata": {
        "id": "Wstjb0NUTUyM"
      },
      "source": [
        "'hello world !@# '\n",
        "\"hello world \""
      ],
      "execution_count": null,
      "outputs": []
    },
    {
      "cell_type": "code",
      "metadata": {
        "id": "rEa7PI25uUt8"
      },
      "source": [
        "df['verified_reviews'] = df['verified_reviews'].apply(remove_punctuations)"
      ],
      "execution_count": null,
      "outputs": []
    },
    {
      "cell_type": "code",
      "metadata": {
        "colab": {
          "base_uri": "https://localhost:8080/",
          "height": 400
        },
        "id": "mhW0c6JCTqKZ",
        "outputId": "e9918579-92b5-45fe-fad0-1b61c9880abc"
      },
      "source": [
        "df.head()"
      ],
      "execution_count": null,
      "outputs": [
        {
          "output_type": "execute_result",
          "data": {
            "text/html": [
              "<div>\n",
              "<style scoped>\n",
              "    .dataframe tbody tr th:only-of-type {\n",
              "        vertical-align: middle;\n",
              "    }\n",
              "\n",
              "    .dataframe tbody tr th {\n",
              "        vertical-align: top;\n",
              "    }\n",
              "\n",
              "    .dataframe thead th {\n",
              "        text-align: right;\n",
              "    }\n",
              "</style>\n",
              "<table border=\"1\" class=\"dataframe\">\n",
              "  <thead>\n",
              "    <tr style=\"text-align: right;\">\n",
              "      <th></th>\n",
              "      <th>rating</th>\n",
              "      <th>date</th>\n",
              "      <th>variation</th>\n",
              "      <th>verified_reviews</th>\n",
              "      <th>feedback</th>\n",
              "      <th>length</th>\n",
              "      <th>subjectivity</th>\n",
              "      <th>polarity</th>\n",
              "      <th>word_count</th>\n",
              "      <th>word_density</th>\n",
              "      <th>punctuation_count</th>\n",
              "      <th>noun_count</th>\n",
              "      <th>verb_count</th>\n",
              "      <th>pron_count</th>\n",
              "      <th>adj_count</th>\n",
              "      <th>adv_count</th>\n",
              "    </tr>\n",
              "  </thead>\n",
              "  <tbody>\n",
              "    <tr>\n",
              "      <th>0</th>\n",
              "      <td>5</td>\n",
              "      <td>31-Jul-18</td>\n",
              "      <td>Charcoal Fabric</td>\n",
              "      <td>Love my Echo</td>\n",
              "      <td>1</td>\n",
              "      <td>13</td>\n",
              "      <td>0.6000</td>\n",
              "      <td>0.625</td>\n",
              "      <td>3</td>\n",
              "      <td>3.250000</td>\n",
              "      <td>1</td>\n",
              "      <td>1</td>\n",
              "      <td>1</td>\n",
              "      <td>1</td>\n",
              "      <td>0</td>\n",
              "      <td>0</td>\n",
              "    </tr>\n",
              "    <tr>\n",
              "      <th>1</th>\n",
              "      <td>5</td>\n",
              "      <td>31-Jul-18</td>\n",
              "      <td>Charcoal Fabric</td>\n",
              "      <td>Loved it</td>\n",
              "      <td>1</td>\n",
              "      <td>9</td>\n",
              "      <td>0.8000</td>\n",
              "      <td>0.875</td>\n",
              "      <td>2</td>\n",
              "      <td>3.000000</td>\n",
              "      <td>1</td>\n",
              "      <td>0</td>\n",
              "      <td>1</td>\n",
              "      <td>1</td>\n",
              "      <td>0</td>\n",
              "      <td>0</td>\n",
              "    </tr>\n",
              "    <tr>\n",
              "      <th>2</th>\n",
              "      <td>4</td>\n",
              "      <td>31-Jul-18</td>\n",
              "      <td>Walnut Finish</td>\n",
              "      <td>Sometimes while playing a game you can answer ...</td>\n",
              "      <td>1</td>\n",
              "      <td>195</td>\n",
              "      <td>0.5125</td>\n",
              "      <td>-0.100</td>\n",
              "      <td>38</td>\n",
              "      <td>5.000000</td>\n",
              "      <td>3</td>\n",
              "      <td>5</td>\n",
              "      <td>8</td>\n",
              "      <td>5</td>\n",
              "      <td>3</td>\n",
              "      <td>3</td>\n",
              "    </tr>\n",
              "    <tr>\n",
              "      <th>3</th>\n",
              "      <td>5</td>\n",
              "      <td>31-Jul-18</td>\n",
              "      <td>Charcoal Fabric</td>\n",
              "      <td>I have had a lot of fun with this thing My 4 y...</td>\n",
              "      <td>1</td>\n",
              "      <td>172</td>\n",
              "      <td>0.4500</td>\n",
              "      <td>0.350</td>\n",
              "      <td>34</td>\n",
              "      <td>4.914286</td>\n",
              "      <td>4</td>\n",
              "      <td>11</td>\n",
              "      <td>6</td>\n",
              "      <td>2</td>\n",
              "      <td>1</td>\n",
              "      <td>5</td>\n",
              "    </tr>\n",
              "    <tr>\n",
              "      <th>4</th>\n",
              "      <td>5</td>\n",
              "      <td>31-Jul-18</td>\n",
              "      <td>Charcoal Fabric</td>\n",
              "      <td>Music</td>\n",
              "      <td>1</td>\n",
              "      <td>5</td>\n",
              "      <td>0.0000</td>\n",
              "      <td>0.000</td>\n",
              "      <td>1</td>\n",
              "      <td>2.500000</td>\n",
              "      <td>0</td>\n",
              "      <td>0</td>\n",
              "      <td>0</td>\n",
              "      <td>0</td>\n",
              "      <td>1</td>\n",
              "      <td>0</td>\n",
              "    </tr>\n",
              "  </tbody>\n",
              "</table>\n",
              "</div>"
            ],
            "text/plain": [
              "   rating       date         variation  ... pron_count  adj_count  adv_count\n",
              "0       5  31-Jul-18  Charcoal Fabric   ...          1          0          0\n",
              "1       5  31-Jul-18  Charcoal Fabric   ...          1          0          0\n",
              "2       4  31-Jul-18    Walnut Finish   ...          5          3          3\n",
              "3       5  31-Jul-18  Charcoal Fabric   ...          2          1          5\n",
              "4       5  31-Jul-18  Charcoal Fabric   ...          0          1          0\n",
              "\n",
              "[5 rows x 16 columns]"
            ]
          },
          "metadata": {},
          "execution_count": 41
        }
      ]
    },
    {
      "cell_type": "code",
      "metadata": {
        "colab": {
          "base_uri": "https://localhost:8080/",
          "height": 35
        },
        "id": "tVCCKYN0T0L-",
        "outputId": "c1795a72-ac97-46b5-82ae-45400ba28061"
      },
      "source": [
        "df['verified_reviews'][3]"
      ],
      "execution_count": null,
      "outputs": [
        {
          "output_type": "execute_result",
          "data": {
            "application/vnd.google.colaboratory.intrinsic+json": {
              "type": "string"
            },
            "text/plain": [
              "'I have had a lot of fun with this thing My 4 yr old learns about dinosaurs i control the lights and play games like categories Has nice sound when playing music as well'"
            ]
          },
          "metadata": {},
          "execution_count": 42
        }
      ]
    },
    {
      "cell_type": "code",
      "metadata": {
        "id": "IfCa0P4X6ulQ"
      },
      "source": [
        "import re # regular Expression"
      ],
      "execution_count": null,
      "outputs": []
    },
    {
      "cell_type": "code",
      "metadata": {
        "id": "AFfTCmTP6EiX"
      },
      "source": [
        "# function for removing the numbers\n",
        "def remove_numbers(text):\n",
        "  new_list = []\n",
        "  for i in text:\n",
        "    if not re.search('\\d',i):\n",
        "      new_list.append(i)\n",
        "  return \"\".join(new_list)\n",
        "df['verified_reviews'] = df['verified_reviews'].apply(remove_numbers)"
      ],
      "execution_count": null,
      "outputs": []
    },
    {
      "cell_type": "code",
      "metadata": {
        "colab": {
          "base_uri": "https://localhost:8080/",
          "height": 35
        },
        "id": "KqfwzPpl6ffo",
        "outputId": "179ad529-25a5-4c64-b6ca-b87ce2945305"
      },
      "source": [
        "df['verified_reviews'][3]"
      ],
      "execution_count": null,
      "outputs": [
        {
          "output_type": "execute_result",
          "data": {
            "application/vnd.google.colaboratory.intrinsic+json": {
              "type": "string"
            },
            "text/plain": [
              "'I have had a lot of fun with this thing My  yr old learns about dinosaurs i control the lights and play games like categories Has nice sound when playing music as well'"
            ]
          },
          "metadata": {},
          "execution_count": 47
        }
      ]
    },
    {
      "cell_type": "markdown",
      "metadata": {
        "id": "vO9HP0U27QDW"
      },
      "source": [
        "\n",
        "```\n",
        "# Tokenization - is the way of seperating a piece of text into smaller unit called as tokens and tokens can be a ter, word or whole sentences. \n",
        "```\n",
        "\n"
      ]
    },
    {
      "cell_type": "code",
      "metadata": {
        "id": "HrIwADjm7JV3"
      },
      "source": [
        "import nltk\n",
        "from nltk.tokenize import sent_tokenize , word_tokenize"
      ],
      "execution_count": null,
      "outputs": []
    },
    {
      "cell_type": "code",
      "metadata": {
        "colab": {
          "base_uri": "https://localhost:8080/"
        },
        "id": "ysoGYGqo7JRu",
        "outputId": "5b2a3a14-7d3f-457b-aa3f-6aa5468ff20f"
      },
      "source": [
        "# sentence tokenize\n",
        "sentence = \"NLP is a subfield of linguistic, computer science, and artificial intelligence. it concerned with the interactions between computers and human language. this in particular how to program computers to process and analyze large amounts of natural language data.\"\n",
        "sent_tokens = sent_tokenize(sentence)\n",
        "print(sent_tokens)"
      ],
      "execution_count": null,
      "outputs": [
        {
          "output_type": "stream",
          "name": "stdout",
          "text": [
            "['NLP is a subfield of linguistic, computer science, and artificial intelligence.', 'it concerned with the interactions between computers and human language.', 'this in particular how to program computers to process and analyze large amounts of natural language data.']\n"
          ]
        }
      ]
    },
    {
      "cell_type": "code",
      "metadata": {
        "colab": {
          "base_uri": "https://localhost:8080/"
        },
        "id": "bZbOIrfn7JPM",
        "outputId": "f91fc77f-51f9-43e8-ba46-257d3d68b73d"
      },
      "source": [
        "word_tokens = word_tokenize(sentence)\n",
        "print(word_tokens)"
      ],
      "execution_count": null,
      "outputs": [
        {
          "output_type": "stream",
          "name": "stdout",
          "text": [
            "['NLP', 'is', 'a', 'subfield', 'of', 'linguistic', ',', 'computer', 'science', ',', 'and', 'artificial', 'intelligence', '.', 'it', 'concerned', 'with', 'the', 'interactions', 'between', 'computers', 'and', 'human', 'language', '.', 'this', 'in', 'particular', 'how', 'to', 'program', 'computers', 'to', 'process', 'and', 'analyze', 'large', 'amounts', 'of', 'natural', 'language', 'data', '.']\n"
          ]
        }
      ]
    },
    {
      "cell_type": "code",
      "metadata": {
        "id": "c-8eZ-O_7JMo"
      },
      "source": [
        "def make_sent_tokens(text):\n",
        "  return sent_tokenize(text)\n",
        "df['sent_tokens'] = df['verified_reviews'].apply(make_sent_tokens)"
      ],
      "execution_count": null,
      "outputs": []
    },
    {
      "cell_type": "code",
      "metadata": {
        "id": "GMG9fVt67JKF"
      },
      "source": [
        "def make_word_tokens(text):\n",
        "  return word_tokenize(text)\n",
        "df['word_tokens'] = df['verified_reviews'].apply(make_word_tokens)"
      ],
      "execution_count": null,
      "outputs": []
    },
    {
      "cell_type": "code",
      "metadata": {
        "colab": {
          "base_uri": "https://localhost:8080/",
          "height": 206
        },
        "id": "URK1GAsM7JGo",
        "outputId": "660cc357-eefd-4b39-96e7-44fd4561b809"
      },
      "source": [
        "df[['sent_tokens','word_tokens']].head()"
      ],
      "execution_count": null,
      "outputs": [
        {
          "output_type": "execute_result",
          "data": {
            "text/html": [
              "<div>\n",
              "<style scoped>\n",
              "    .dataframe tbody tr th:only-of-type {\n",
              "        vertical-align: middle;\n",
              "    }\n",
              "\n",
              "    .dataframe tbody tr th {\n",
              "        vertical-align: top;\n",
              "    }\n",
              "\n",
              "    .dataframe thead th {\n",
              "        text-align: right;\n",
              "    }\n",
              "</style>\n",
              "<table border=\"1\" class=\"dataframe\">\n",
              "  <thead>\n",
              "    <tr style=\"text-align: right;\">\n",
              "      <th></th>\n",
              "      <th>sent_tokens</th>\n",
              "      <th>word_tokens</th>\n",
              "    </tr>\n",
              "  </thead>\n",
              "  <tbody>\n",
              "    <tr>\n",
              "      <th>0</th>\n",
              "      <td>[Love my Echo]</td>\n",
              "      <td>[Love, my, Echo]</td>\n",
              "    </tr>\n",
              "    <tr>\n",
              "      <th>1</th>\n",
              "      <td>[Loved it]</td>\n",
              "      <td>[Loved, it]</td>\n",
              "    </tr>\n",
              "    <tr>\n",
              "      <th>2</th>\n",
              "      <td>[Sometimes while playing a game you can answer...</td>\n",
              "      <td>[Sometimes, while, playing, a, game, you, can,...</td>\n",
              "    </tr>\n",
              "    <tr>\n",
              "      <th>3</th>\n",
              "      <td>[I have had a lot of fun with this thing My  y...</td>\n",
              "      <td>[I, have, had, a, lot, of, fun, with, this, th...</td>\n",
              "    </tr>\n",
              "    <tr>\n",
              "      <th>4</th>\n",
              "      <td>[Music]</td>\n",
              "      <td>[Music]</td>\n",
              "    </tr>\n",
              "  </tbody>\n",
              "</table>\n",
              "</div>"
            ],
            "text/plain": [
              "                                         sent_tokens                                        word_tokens\n",
              "0                                     [Love my Echo]                                   [Love, my, Echo]\n",
              "1                                         [Loved it]                                        [Loved, it]\n",
              "2  [Sometimes while playing a game you can answer...  [Sometimes, while, playing, a, game, you, can,...\n",
              "3  [I have had a lot of fun with this thing My  y...  [I, have, had, a, lot, of, fun, with, this, th...\n",
              "4                                            [Music]                                            [Music]"
            ]
          },
          "metadata": {},
          "execution_count": 54
        }
      ]
    },
    {
      "cell_type": "code",
      "metadata": {
        "id": "RbUczPsH-Jwa"
      },
      "source": [
        "import unicodedata"
      ],
      "execution_count": null,
      "outputs": []
    },
    {
      "cell_type": "code",
      "metadata": {
        "id": "K2_ish6g7JEH"
      },
      "source": [
        "# removing special and accented charcters\n",
        "# since ascii doesn't include any accented charcter we can remove with th ehelp of encoding thetext into ascii\n",
        "def remove_accent(text):\n",
        "  new_text = unicodedata.normalize('NFKD',text).encode('ascii','ignore').decode('utf-8','ignore')\n",
        "  return new_text"
      ],
      "execution_count": null,
      "outputs": []
    },
    {
      "cell_type": "code",
      "metadata": {
        "id": "5XKOANsN94vA"
      },
      "source": [
        "df['verfied_reviews'] = df.apply(lambda x: remove_accent(x['verified_reviews']),axis=1)"
      ],
      "execution_count": null,
      "outputs": []
    },
    {
      "cell_type": "markdown",
      "metadata": {
        "id": "Ku6Hy18QXg-D"
      },
      "source": [
        "________________________________________________________________________\n"
      ]
    },
    {
      "cell_type": "code",
      "metadata": {
        "id": "HT3aZnXl-N-y"
      },
      "source": [
        "def remove_special_char(text):\n",
        "  pattern  = r'[^a-zA-Z0-9]'\n",
        "  return re.sub(pattern, ' ', text)\n"
      ],
      "execution_count": null,
      "outputs": []
    },
    {
      "cell_type": "code",
      "metadata": {
        "id": "UISlfRPv-N4F"
      },
      "source": [
        "df['verified_reviews'] = df.apply(lambda x: remove_special_char(x['verified_reviews']),axis=1)"
      ],
      "execution_count": null,
      "outputs": []
    },
    {
      "cell_type": "code",
      "metadata": {
        "colab": {
          "base_uri": "https://localhost:8080/"
        },
        "id": "oLeB6FEv-03Q",
        "outputId": "10b272cb-ae10-4281-a0fc-f5fff13f916b"
      },
      "source": [
        "df['verfied_reviews'].head(10)"
      ],
      "execution_count": null,
      "outputs": [
        {
          "data": {
            "text/plain": [
              "0                                         Love my Echo\n",
              "1                                             Loved it\n",
              "2    Sometimes while playing a game you can answer ...\n",
              "3    I have had a lot of fun with this thing My  yr...\n",
              "4                                                Music\n",
              "5    I received the echo as a gift I needed another...\n",
              "6    Without having a cellphone I cannot use many o...\n",
              "7    I think this is the th one Ive purchased Im wo...\n",
              "8                                          looks great\n",
              "9    Love it Ive listened to songs I havent heard s...\n",
              "Name: verfied_reviews, dtype: object"
            ]
          },
          "execution_count": 45,
          "metadata": {},
          "output_type": "execute_result"
        }
      ]
    },
    {
      "cell_type": "code",
      "metadata": {
        "colab": {
          "base_uri": "https://localhost:8080/",
          "height": 35
        },
        "id": "bBycEFE_-8AU",
        "outputId": "5a899643-06c3-41f2-e9ac-ffc40d25221c"
      },
      "source": [
        "remove_special_char('hii @rk i am newbie @point1 please help me @2.0')"
      ],
      "execution_count": null,
      "outputs": [
        {
          "data": {
            "application/vnd.google.colaboratory.intrinsic+json": {
              "type": "string"
            },
            "text/plain": [
              "'hii  rk i am newbie  point1 please help me  2 0'"
            ]
          },
          "execution_count": 46,
          "metadata": {},
          "output_type": "execute_result"
        }
      ]
    },
    {
      "cell_type": "code",
      "metadata": {
        "colab": {
          "base_uri": "https://localhost:8080/"
        },
        "id": "qlOJdpO1-75-",
        "outputId": "fe7e325d-5c98-4e22-9d21-c61f2e75eebd"
      },
      "source": [
        "# removing the stopwords\n",
        "nltk.download('stopwords')\n",
        "from nltk.corpus import stopwords\n",
        "stopword = stopwords.words('english')\n"
      ],
      "execution_count": null,
      "outputs": [
        {
          "output_type": "stream",
          "name": "stdout",
          "text": [
            "[nltk_data] Downloading package stopwords to /root/nltk_data...\n",
            "[nltk_data]   Package stopwords is already up-to-date!\n"
          ]
        }
      ]
    },
    {
      "cell_type": "code",
      "metadata": {
        "colab": {
          "base_uri": "https://localhost:8080/"
        },
        "id": "pca50toz-7zG",
        "outputId": "6b5db7f7-a850-4e26-c0e9-a6b5e1933956"
      },
      "source": [
        "print(stopword)"
      ],
      "execution_count": null,
      "outputs": [
        {
          "name": "stdout",
          "output_type": "stream",
          "text": [
            "['i', 'me', 'my', 'myself', 'we', 'our', 'ours', 'ourselves', 'you', \"you're\", \"you've\", \"you'll\", \"you'd\", 'your', 'yours', 'yourself', 'yourselves', 'he', 'him', 'his', 'himself', 'she', \"she's\", 'her', 'hers', 'herself', 'it', \"it's\", 'its', 'itself', 'they', 'them', 'their', 'theirs', 'themselves', 'what', 'which', 'who', 'whom', 'this', 'that', \"that'll\", 'these', 'those', 'am', 'is', 'are', 'was', 'were', 'be', 'been', 'being', 'have', 'has', 'had', 'having', 'do', 'does', 'did', 'doing', 'a', 'an', 'the', 'and', 'but', 'if', 'or', 'because', 'as', 'until', 'while', 'of', 'at', 'by', 'for', 'with', 'about', 'against', 'between', 'into', 'through', 'during', 'before', 'after', 'above', 'below', 'to', 'from', 'up', 'down', 'in', 'out', 'on', 'off', 'over', 'under', 'again', 'further', 'then', 'once', 'here', 'there', 'when', 'where', 'why', 'how', 'all', 'any', 'both', 'each', 'few', 'more', 'most', 'other', 'some', 'such', 'no', 'nor', 'not', 'only', 'own', 'same', 'so', 'than', 'too', 'very', 's', 't', 'can', 'will', 'just', 'don', \"don't\", 'should', \"should've\", 'now', 'd', 'll', 'm', 'o', 're', 've', 'y', 'ain', 'aren', \"aren't\", 'couldn', \"couldn't\", 'didn', \"didn't\", 'doesn', \"doesn't\", 'hadn', \"hadn't\", 'hasn', \"hasn't\", 'haven', \"haven't\", 'isn', \"isn't\", 'ma', 'mightn', \"mightn't\", 'mustn', \"mustn't\", 'needn', \"needn't\", 'shan', \"shan't\", 'shouldn', \"shouldn't\", 'wasn', \"wasn't\", 'weren', \"weren't\", 'won', \"won't\", 'wouldn', \"wouldn't\"]\n"
          ]
        }
      ]
    },
    {
      "cell_type": "code",
      "metadata": {
        "id": "2_Nj5SGt_01K"
      },
      "source": [
        "def remove_stopword(text):\n",
        "  # first we should do word_tokenization i have done that so i'm using it \n",
        "  new_words = [word.lower() for word in text if not word.lower() in stopword]\n",
        "  return \" \".join(new_words)"
      ],
      "execution_count": null,
      "outputs": []
    },
    {
      "cell_type": "code",
      "metadata": {
        "colab": {
          "base_uri": "https://localhost:8080/",
          "height": 69
        },
        "id": "ET5zfumP_0xw",
        "outputId": "4cb717bb-7b6c-4bd4-c3bb-72653b4eee3e"
      },
      "source": [
        "remove_stopword(['NLP', 'is', 'a', 'subfield', 'of', 'linguistic', ',', 'computer', 'science', ',', 'and', 'artificial', 'intelligence', '.', 'it', 'concerned', 'with', 'the', 'interactions', 'between', 'computers', 'and', 'human', 'language', '.', 'this', 'in', 'particular', 'how', 'to', 'program', 'computers', 'to', 'process', 'and', 'analyze', 'large', 'amounts', 'of', 'natural', 'language', 'data', '.']\n",
        ")"
      ],
      "execution_count": null,
      "outputs": [
        {
          "data": {
            "application/vnd.google.colaboratory.intrinsic+json": {
              "type": "string"
            },
            "text/plain": [
              "'nlp subfield linguistic , computer science , artificial intelligence . concerned interactions computers human language . particular program computers process analyze large amounts natural language data .'"
            ]
          },
          "execution_count": 50,
          "metadata": {},
          "output_type": "execute_result"
        }
      ]
    },
    {
      "cell_type": "code",
      "metadata": {
        "id": "84otscug_0vX"
      },
      "source": [
        "df['remove_stopword'] = df['word_tokens'].apply(remove_stopword)"
      ],
      "execution_count": null,
      "outputs": []
    },
    {
      "cell_type": "code",
      "metadata": {
        "colab": {
          "base_uri": "https://localhost:8080/"
        },
        "id": "mPSHI5zA_0s0",
        "outputId": "e8b04d7f-b885-4fbb-dd2b-ac055e3bda3c"
      },
      "source": [
        "df['remove_stopword'].head()"
      ],
      "execution_count": null,
      "outputs": [
        {
          "data": {
            "text/plain": [
              "0                                            love echo\n",
              "1                                                loved\n",
              "2    sometimes playing game answer question correct...\n",
              "3    lot fun thing yr old learns dinosaurs control ...\n",
              "4                                                music\n",
              "Name: remove_stopword, dtype: object"
            ]
          },
          "execution_count": 52,
          "metadata": {},
          "output_type": "execute_result"
        }
      ]
    },
    {
      "cell_type": "code",
      "metadata": {
        "id": "-WKx4M8RAy8x"
      },
      "source": [
        "# removing the stopword using gensim library\n",
        "from gensim.parsing.preprocessing import remove_stopwords"
      ],
      "execution_count": null,
      "outputs": []
    },
    {
      "cell_type": "code",
      "metadata": {
        "id": "KwkxkmdbAy6-"
      },
      "source": [
        "df['new_rem_stopwrods'] = df['verified_reviews'].apply(remove_stopwords)"
      ],
      "execution_count": null,
      "outputs": []
    },
    {
      "cell_type": "code",
      "metadata": {
        "colab": {
          "base_uri": "https://localhost:8080/"
        },
        "id": "7W68JmpYAy2u",
        "outputId": "ebf13ced-b28b-41f3-d705-262b26ebf9c0"
      },
      "source": [
        "df['new_rem_stopwrods'].head()"
      ],
      "execution_count": null,
      "outputs": [
        {
          "data": {
            "text/plain": [
              "0                                            Love Echo\n",
              "1                                                Loved\n",
              "2    Sometimes playing game answer question correct...\n",
              "3    I lot fun thing My yr old learns dinosaurs con...\n",
              "4                                                Music\n",
              "Name: new_rem_stopwrods, dtype: object"
            ]
          },
          "execution_count": 55,
          "metadata": {},
          "output_type": "execute_result"
        }
      ]
    },
    {
      "cell_type": "markdown",
      "metadata": {
        "id": "ebwNPESeCUsp"
      },
      "source": [
        "# stemming and lemmatizing the text - reducing the word to root word\n",
        "\n",
        "'''\n",
        "1. Stemming :  ask,asking,asked will \n",
        "reduced to root word ask. Doesn't care for the meaning of the words.\n",
        "\n",
        "\n",
        "2.  lemmatizating : good and better will reduce to good , but if we do stemming the better word reduce to bet. do care the meaning as per according to the disctionary \n",
        "'''"
      ]
    },
    {
      "cell_type": "code",
      "metadata": {
        "id": "hDszE1b6Ayz6"
      },
      "source": [
        "# for lemmatizing\n",
        "import spacy\n",
        "nlp_lemm = spacy.load('en_core_web_sm',parse=True, tag=True, entity=True)\n",
        "\n"
      ],
      "execution_count": null,
      "outputs": []
    },
    {
      "cell_type": "code",
      "metadata": {
        "id": "Xp0LvcPDAytH"
      },
      "source": [
        "def get_stem(text):\n",
        "  stemmer = nltk.porter.PorterStemmer()\n",
        "  text = ' '.join([stemmer.stem(word) for word in text.split()])\n",
        "  return text\n"
      ],
      "execution_count": null,
      "outputs": []
    },
    {
      "cell_type": "code",
      "metadata": {
        "colab": {
          "base_uri": "https://localhost:8080/",
          "height": 35
        },
        "id": "56zMhlyBAyg3",
        "outputId": "2bb138f5-dd00-4f47-cb20-41d63f03aa51"
      },
      "source": [
        "get_stem('we are eating the banana and swimming in the beach')"
      ],
      "execution_count": null,
      "outputs": [
        {
          "data": {
            "application/vnd.google.colaboratory.intrinsic+json": {
              "type": "string"
            },
            "text/plain": [
              "'we are eat the banana and swim in the beach'"
            ]
          },
          "execution_count": 58,
          "metadata": {},
          "output_type": "execute_result"
        }
      ]
    },
    {
      "cell_type": "code",
      "metadata": {
        "id": "husa6A5ZD84H"
      },
      "source": [
        "def get_lemmatize(text):\n",
        "  text = nlp_lemm(text)\n",
        "  text = \" \".join([word.lemma_ if word.lemma_ != '-pron-' else word.text for word in text])\n",
        "  return text"
      ],
      "execution_count": null,
      "outputs": []
    },
    {
      "cell_type": "code",
      "metadata": {
        "colab": {
          "base_uri": "https://localhost:8080/",
          "height": 35
        },
        "id": "1rCG6U3vD80f",
        "outputId": "9508781a-cc9f-4a5f-8dad-ac0b729c8d53"
      },
      "source": [
        "get_lemmatize('I am going to play with the players of football who is playing in basketball club')"
      ],
      "execution_count": null,
      "outputs": [
        {
          "data": {
            "application/vnd.google.colaboratory.intrinsic+json": {
              "type": "string"
            },
            "text/plain": [
              "'-PRON- be go to play with the player of football who be play in basketball club'"
            ]
          },
          "execution_count": 60,
          "metadata": {},
          "output_type": "execute_result"
        }
      ]
    },
    {
      "cell_type": "markdown",
      "metadata": {
        "id": "gbRziS5RLgc5"
      },
      "source": [
        "# Feature Extraction for NLP\n",
        "--- Feature extraction means to extract and produce feature representation that are appropriate for the nlp task.\n",
        "\n",
        "    major feature extraction technique for nlp are :\n",
        "    1. Bags of words representation\n",
        "    2. Tf-Idf\n",
        "    3. N-gram analysis\n",
        "\n"
      ]
    },
    {
      "cell_type": "markdown",
      "metadata": {
        "id": "OYPZnlp_bIkg"
      },
      "source": [
        " **1.Bags of words representation** \n",
        " \n",
        "        1. It checks the frequency of the distinct words occuring in the text\n",
        "        2. All the distinct words make the columns of the matrix and the vales are represented as 0 or 1 based on the absence or presence of the word in the text.\n",
        "  \n",
        "**2.TF-Idf representation** \n",
        "        \n",
        "        1. It is short frequency - inverse document frequency .\n",
        "        2. It is designed to reflect how importand a word is to a document in  a collection of corpus.\n",
        "        3. the TF-IDF value increases proportionally to the number of times word appears in a document .\n",
        "        4. It is calculated by \n",
        "            a. How many times a word appeard in a document.\n",
        "            b. Inverse document frequency of the qord across a set of documents.\n",
        "        5. Inverse Document frequency is basically how common a  word is in entire document set and Calculated by log(total no. of documents/ no. of documents containing word)\n",
        "        6. # higher the score the more relevent word. ie. Information Retrieval , Keyword extraction\n",
        "\n",
        "\n",
        "\n",
        "\n"
      ]
    },
    {
      "cell_type": "code",
      "metadata": {
        "id": "8hJ3KXcE7rkf"
      },
      "source": [],
      "execution_count": null,
      "outputs": []
    },
    {
      "cell_type": "code",
      "metadata": {
        "colab": {
          "base_uri": "https://localhost:8080/",
          "height": 442
        },
        "id": "VDrnbtRQ7fQA",
        "outputId": "1b6eeae6-2f01-40ee-fed5-d9a709baebf2"
      },
      "source": [
        "df.head()"
      ],
      "execution_count": null,
      "outputs": [
        {
          "data": {
            "text/html": [
              "<div>\n",
              "<style scoped>\n",
              "    .dataframe tbody tr th:only-of-type {\n",
              "        vertical-align: middle;\n",
              "    }\n",
              "\n",
              "    .dataframe tbody tr th {\n",
              "        vertical-align: top;\n",
              "    }\n",
              "\n",
              "    .dataframe thead th {\n",
              "        text-align: right;\n",
              "    }\n",
              "</style>\n",
              "<table border=\"1\" class=\"dataframe\">\n",
              "  <thead>\n",
              "    <tr style=\"text-align: right;\">\n",
              "      <th></th>\n",
              "      <th>rating</th>\n",
              "      <th>date</th>\n",
              "      <th>variation</th>\n",
              "      <th>verified_reviews</th>\n",
              "      <th>feedback</th>\n",
              "      <th>length</th>\n",
              "      <th>polarity</th>\n",
              "      <th>subjectivity</th>\n",
              "      <th>word_count</th>\n",
              "      <th>word_density</th>\n",
              "      <th>punctuation_count</th>\n",
              "      <th>noun_count</th>\n",
              "      <th>verb_count</th>\n",
              "      <th>pron_count</th>\n",
              "      <th>adj_count</th>\n",
              "      <th>adv_count</th>\n",
              "      <th>sent_tokens</th>\n",
              "      <th>word_tokens</th>\n",
              "      <th>verfied_reviews</th>\n",
              "      <th>remove_stopword</th>\n",
              "      <th>new_rem_stopwrods</th>\n",
              "    </tr>\n",
              "  </thead>\n",
              "  <tbody>\n",
              "    <tr>\n",
              "      <th>0</th>\n",
              "      <td>5</td>\n",
              "      <td>31-Jul-18</td>\n",
              "      <td>Charcoal Fabric</td>\n",
              "      <td>Love my Echo</td>\n",
              "      <td>1</td>\n",
              "      <td>13</td>\n",
              "      <td>0.625</td>\n",
              "      <td>0.6000</td>\n",
              "      <td>3</td>\n",
              "      <td>3.250000</td>\n",
              "      <td>1</td>\n",
              "      <td>1</td>\n",
              "      <td>1</td>\n",
              "      <td>1</td>\n",
              "      <td>0</td>\n",
              "      <td>0</td>\n",
              "      <td>[Love my Echo]</td>\n",
              "      <td>[Love, my, Echo]</td>\n",
              "      <td>Love my Echo</td>\n",
              "      <td>love echo</td>\n",
              "      <td>Love Echo</td>\n",
              "    </tr>\n",
              "    <tr>\n",
              "      <th>1</th>\n",
              "      <td>5</td>\n",
              "      <td>31-Jul-18</td>\n",
              "      <td>Charcoal Fabric</td>\n",
              "      <td>Loved it</td>\n",
              "      <td>1</td>\n",
              "      <td>9</td>\n",
              "      <td>0.875</td>\n",
              "      <td>0.8000</td>\n",
              "      <td>2</td>\n",
              "      <td>3.000000</td>\n",
              "      <td>1</td>\n",
              "      <td>0</td>\n",
              "      <td>1</td>\n",
              "      <td>1</td>\n",
              "      <td>0</td>\n",
              "      <td>0</td>\n",
              "      <td>[Loved it]</td>\n",
              "      <td>[Loved, it]</td>\n",
              "      <td>Loved it</td>\n",
              "      <td>loved</td>\n",
              "      <td>Loved</td>\n",
              "    </tr>\n",
              "    <tr>\n",
              "      <th>2</th>\n",
              "      <td>4</td>\n",
              "      <td>31-Jul-18</td>\n",
              "      <td>Walnut Finish</td>\n",
              "      <td>Sometimes while playing a game you can answer ...</td>\n",
              "      <td>1</td>\n",
              "      <td>195</td>\n",
              "      <td>-0.100</td>\n",
              "      <td>0.5125</td>\n",
              "      <td>38</td>\n",
              "      <td>5.000000</td>\n",
              "      <td>3</td>\n",
              "      <td>5</td>\n",
              "      <td>8</td>\n",
              "      <td>5</td>\n",
              "      <td>3</td>\n",
              "      <td>3</td>\n",
              "      <td>[Sometimes while playing a game you can answer...</td>\n",
              "      <td>[Sometimes, while, playing, a, game, you, can,...</td>\n",
              "      <td>Sometimes while playing a game you can answer ...</td>\n",
              "      <td>sometimes playing game answer question correct...</td>\n",
              "      <td>Sometimes playing game answer question correct...</td>\n",
              "    </tr>\n",
              "    <tr>\n",
              "      <th>3</th>\n",
              "      <td>5</td>\n",
              "      <td>31-Jul-18</td>\n",
              "      <td>Charcoal Fabric</td>\n",
              "      <td>I have had a lot of fun with this thing My  yr...</td>\n",
              "      <td>1</td>\n",
              "      <td>172</td>\n",
              "      <td>0.350</td>\n",
              "      <td>0.4500</td>\n",
              "      <td>34</td>\n",
              "      <td>4.914286</td>\n",
              "      <td>4</td>\n",
              "      <td>11</td>\n",
              "      <td>6</td>\n",
              "      <td>2</td>\n",
              "      <td>1</td>\n",
              "      <td>5</td>\n",
              "      <td>[I have had a lot of fun with this thing My  y...</td>\n",
              "      <td>[I, have, had, a, lot, of, fun, with, this, th...</td>\n",
              "      <td>I have had a lot of fun with this thing My  yr...</td>\n",
              "      <td>lot fun thing yr old learns dinosaurs control ...</td>\n",
              "      <td>I lot fun thing My yr old learns dinosaurs con...</td>\n",
              "    </tr>\n",
              "    <tr>\n",
              "      <th>4</th>\n",
              "      <td>5</td>\n",
              "      <td>31-Jul-18</td>\n",
              "      <td>Charcoal Fabric</td>\n",
              "      <td>Music</td>\n",
              "      <td>1</td>\n",
              "      <td>5</td>\n",
              "      <td>0.000</td>\n",
              "      <td>0.0000</td>\n",
              "      <td>1</td>\n",
              "      <td>2.500000</td>\n",
              "      <td>0</td>\n",
              "      <td>0</td>\n",
              "      <td>0</td>\n",
              "      <td>0</td>\n",
              "      <td>1</td>\n",
              "      <td>0</td>\n",
              "      <td>[Music]</td>\n",
              "      <td>[Music]</td>\n",
              "      <td>Music</td>\n",
              "      <td>music</td>\n",
              "      <td>Music</td>\n",
              "    </tr>\n",
              "  </tbody>\n",
              "</table>\n",
              "</div>"
            ],
            "text/plain": [
              "   rating  ...                                  new_rem_stopwrods\n",
              "0       5  ...                                          Love Echo\n",
              "1       5  ...                                              Loved\n",
              "2       4  ...  Sometimes playing game answer question correct...\n",
              "3       5  ...  I lot fun thing My yr old learns dinosaurs con...\n",
              "4       5  ...                                              Music\n",
              "\n",
              "[5 rows x 21 columns]"
            ]
          },
          "execution_count": 61,
          "metadata": {},
          "output_type": "execute_result"
        }
      ]
    },
    {
      "cell_type": "code",
      "metadata": {
        "id": "X9pZD7Vh6z6U"
      },
      "source": [
        "# cleaning the data using stemming \n",
        "corpus  = []\n",
        "for i in range(0,len(df)):\n",
        "  review = re.sub('[^a-zA-z]', ' ', df['verified_reviews'][i])\n",
        "  review = review.lower()\n",
        "  review = review.split()\n",
        "  ps = nltk.porter.PorterStemmer()\n",
        "  review = [ps.stem(word) for word in review if not word in set (stopword)]\n",
        "  review = ' '.join(review)\n",
        "  corpus.append(review)"
      ],
      "execution_count": null,
      "outputs": []
    },
    {
      "cell_type": "code",
      "metadata": {
        "colab": {
          "base_uri": "https://localhost:8080/"
        },
        "id": "hEr2kWjy8LzZ",
        "outputId": "efd95f71-d90e-440a-b6f8-1e0c93adfd45"
      },
      "source": [
        "corpus"
      ],
      "execution_count": null,
      "outputs": [
        {
          "data": {
            "text/plain": [
              "['love echo',\n",
              " 'love',\n",
              " 'sometim play game answer question correctli alexa say got wrong answer like abl turn light away home',\n",
              " 'lot fun thing yr old learn dinosaur control light play game like categori nice sound play music well',\n",
              " 'music',\n",
              " 'receiv echo gift need anoth bluetooth someth play music easili access found smart speaker wait see els',\n",
              " 'without cellphon cannot use mani featur ipad see use great alarm u r almost deaf hear alarm bedroom live room reason enough keep herit fun ask random question hear respons seem smartbon polit yet',\n",
              " 'think th one ive purchas im work get one everi room hous realli like featur offer specifili play music echo control light throughout hous',\n",
              " 'look great',\n",
              " 'love listen song heard sinc childhood get news weather inform great',\n",
              " 'sent year old dad talk constantli',\n",
              " 'love learn knew thing eveyday still figur everyth work far easi use understand make laugh time',\n",
              " 'purchas mother knee problem give someth tri come get around fast like didsh enjoy littl big thing doalexa play song time cook',\n",
              " 'love love love',\n",
              " 'expect',\n",
              " 'love wife hate',\n",
              " 'realli happi purchas great speaker easi set',\n",
              " 'use alexa coupl day lot fun new toy like new household member tri learn differ featu benefit come',\n",
              " 'love size nd gener echo still need littl improv sound',\n",
              " 'like origin echo shorter greater fabriccolor choic miss volum ring top plusminu button big deal ring w comfort well like use standard usb charger port instead previou round pin guess sound seem work still answer alexaechocomput what like',\n",
              " 'love echo good music sound play alexa understand command difficult time find specif playlist song spotifi good amazon music lack major program',\n",
              " 'love alexa use play music play radio itun play podcast anypod set remind listen flash brief news weather everi morn reli custom list like abl voic control volum sure well continu find new usessometim bit frustrat alexa doesnt understand say',\n",
              " 'set day still ad smart home devic speaker great play music like size station kitchen counter intrus look',\n",
              " 'love play sleep sound immedi ask',\n",
              " 'got second unit bedroom expect sound improv didnt realli see differ overal big improv st gener',\n",
              " 'amaz product',\n",
              " 'love echo easi oper load funit everyth advertis use mainli play favorit tune test alexa knowledg',\n",
              " 'sound great love',\n",
              " 'fun item play get use use sometim hard time answer question ask think better',\n",
              " 'like one',\n",
              " 'still learn capabilitiesbut far pretti pretti pretti good',\n",
              " 'like',\n",
              " 'work well need learn command uniqu owner user like alexa learn tasha birthday alexa learn definit fine etc great',\n",
              " 'speaker sound pretti good small setup pretti easi bought two reason rate follow instruct synch music unit know ive done correctli wont sync primari motiv purchas multipl unit',\n",
              " 'devic awesom',\n",
              " 'bought compar speaker qualiti first gener speaker like sound better ship daughter though like fact first gener chargeabl base bought keep mobil need better sound',\n",
              " 'love echo still learn thing abl follow instruct includ packag found great one utub',\n",
              " 'speaker better st gener echo',\n",
              " 'thing way cool get one want cool',\n",
              " 'first digit assist im give good review speaker realli good cheap price prime day fun play use alarm clock that go get first place end echo havent go one definit tri itwhat like best number devic connect purchas came smart plug connect lamp alexa turn light',\n",
              " 'husband like abl use listen music wish knew capabl',\n",
              " 'android would allow alexa connect fortun sister appl cell hour tech support fix glitch run',\n",
              " 'far good',\n",
              " 'tri play certain broadway show like camelot give ne group camelot',\n",
              " 'great',\n",
              " 'satisfi echo alexa control light famili room wife listen jimmi buffet ask alexa',\n",
              " 'like siri fact siri answer accur alexa dont see real need household though good bargain prime day deal',\n",
              " 'love echo still learn everi thing work ton fun',\n",
              " 'love much',\n",
              " 'differ appl play specif list music must amazon spotifi plusprimeetc account must pay play music star reason everyth els',\n",
              " 'excelent lo unico es que esta en espa ol',\n",
              " 'im still learn use far echo great sound actual much better expect',\n",
              " 'work expect also good sound qualiti consid price sale featur',\n",
              " 'sound echo nd gener phenomen mention love alexa help',\n",
              " 'like googl better',\n",
              " 'let play learn get',\n",
              " 'work advertis easi setup still learn',\n",
              " 'great sound easi set',\n",
              " 'love alexa bought other friend',\n",
              " 'love echo purchas compani husband alexa great say name tell joke play favorit song',\n",
              " '',\n",
              " 'love abl listen music easili still learn featur avail',\n",
              " 'realli know could use devic use thing need overview',\n",
              " 'love wish built hub',\n",
              " 'use primarili play music work wonder still get use mani thing amazon sent sever tip sinc got thank help',\n",
              " 'easi set',\n",
              " 'fast respons amaz clear concis answer sound qualiti fantast still get use alexia usd echo full extent',\n",
              " 'needna na nana',\n",
              " 'everyth expect',\n",
              " 'love echo work like said would dont smart home cannot speak function everyth els good',\n",
              " 'great sound small packag easi set use fun',\n",
              " 'work sound great',\n",
              " 'sound amaz mani collect music',\n",
              " 'set',\n",
              " 'alway listen',\n",
              " 'awesom',\n",
              " 'bought control fio televis work well hope time control fio discov thing alexa play music ask great sound alexa play game play radio station play old time radio program like long ranger alexa mani app add abil day play madlib great fun also alexa control household applianc purchas alexa compat power strip control light fan tv compon look forward implement control also add alexa compon chosen music play room compon locat',\n",
              " 'speaker excel sound work perfectli',\n",
              " 'like',\n",
              " 'love everyth',\n",
              " 'littl nervou receiv new echo im realli tech savvi found bit intimid first didnt take long figur im happi purchas think ad echo spot',\n",
              " 'like still learn use',\n",
              " 'great technolog cant believ speaker volum qualiti wonder wish bought anoth one',\n",
              " 'purchas echo dot husband father day use constantli hear qualiti sound echo nd gener nobrain best gift ever',\n",
              " 'work fine',\n",
              " '',\n",
              " 'clear music',\n",
              " 'fun use good sound qualiti',\n",
              " 'echo work well abl sync amazon music devic',\n",
              " 'work great dont think amazon charg anoth cent unlimit music prime buy echo',\n",
              " 'alreadi echo dot echo even better fuller sound also setup let phone call made contact list great',\n",
              " 'speaker sound realli good',\n",
              " 'good sound work well',\n",
              " 'love alexa savvi support help patient',\n",
              " 'love think get one prime day discount offer could pass fun ask alexa play song group come playlist amazon prime music also connect iphon bluetooth play music pandora youtub video use alexa speaker ive fun ask alexa differ type question inform like weather news even time countri downsid limit data wifi plan alexa use burn play music',\n",
              " 'like far lot tri yet',\n",
              " 'love use strictli music great',\n",
              " 'love echo love size materi speaker qualiti hook one light easili work addit light thermostat next echo dot bedroom lot echo think traffic weather trivia etc',\n",
              " 'love',\n",
              " 'entir famili love alexa echo part famili',\n",
              " 'great fun get know function product wow famili fun homework help talk grandchildrenwho also echo huge bonu cant wait learn',\n",
              " 'love',\n",
              " 'awesom thing love alexa',\n",
              " 'work exactli expect speaker great sound perfect classroom',\n",
              " 'love love new littl gadget made live much easier like person secretari live home hardli need cd anymor sinc alexa play everyth need go get alexa dot soon room thank',\n",
              " 'speaker surpris qualiti happi purchas',\n",
              " 'easi set work wonder love',\n",
              " 'im realli impress sound qualiti play music devic bass sound almost like come bigger speaker prop amazon',\n",
              " 'still great productbut sound qualiti seem worsedon get wrong definit get use within hour definit feel like echo gen sound qualiti betterbesid greatwith addit abl play bluetooth wifi even better',\n",
              " 'outlet work disappoint',\n",
              " 'great devic respons help',\n",
              " 'sound terribl u want good music get bose',\n",
              " 'like sound troubl paid extra money access million song sometim doesnt work ex alexa play italian song dont understand play opera tosca respons sorri dont',\n",
              " 'easi set use bad plug would nice take outsid oper batteri recharg',\n",
              " 'still learn way use real hit grandkid ask play music danc yr cute',\n",
              " 'star gener like product great ask like play music set timer make call reason didnt rate sometim connect die echo stop play music show red ring seem connect issu overal great product',\n",
              " 'work great upgrad echo dot full size echo happier',\n",
              " 'alexa els say',\n",
              " 'upgrad lilttl echo dot happi sound',\n",
              " 'excel product set eas well',\n",
              " 'ive first gen echo sinc first came work well purchas nd gen prime day far im happi seem improv speaker provid enhanc sound music',\n",
              " 'love echo smart speaker love volum clariti easi set wonder gift age',\n",
              " 'wonder product fast deliveri',\n",
              " 'initi harder set call tech knowledg work great',\n",
              " 'easi set famili love',\n",
              " 'great sound respons voic command',\n",
              " 'live long without echo get enjoy music style ask alexa go upgread wireless love echo love alexa',\n",
              " 'cool product speaker sound good spotifi blast',\n",
              " 'much fun alexa love abl listen music across room busi someth els',\n",
              " 'far seem nice item pick voic understand without problem day ask turn music next room heard fine ive use listen music check weather done thing well',\n",
              " 'love echo',\n",
              " 'love itsh help use rememb thing sleep ask anyth week still learn',\n",
              " 'better st gen everi way except one realli miss ring top volum control quicker easier grab top twist without look button find one press time also wish bass bit better great devic im happi',\n",
              " 'love alexa',\n",
              " 'far like',\n",
              " 'thoroughli enjoy ecoo love read audiobook offic simpli open audiobook kindl continu elsewher wonder listen music mood book great set remind much',\n",
              " 'still love',\n",
              " 'love',\n",
              " 'love sound qualiti unit clear sound',\n",
              " 'listen talk radio morn turn light etc system excel job full hous sound system stream siriu',\n",
              " 'week still learn alexa learn process love music call time listen podcast radio station start keep shop list groceri list love search paper pencil get time temperatur great wait weather report sound good fussi woofer tweeter base etc echo fine afternoon go tri drop son get home go surpris',\n",
              " 'much featur',\n",
              " 'great sound qualiti great featur great product multi room music cool',\n",
              " 'cool',\n",
              " 'everyon echo two three bought echo qvc',\n",
              " 'annoy everyth show alexa abl download spend much time tri figur phrase machin may well look',\n",
              " 'alexa sinc begin accident spill water replac nd gener decid couldnt without echo setup easi work within minut',\n",
              " 'like abl tell alexia music want hear sometim troubl find song specif titl',\n",
              " 'like look better origin echo move old echo basement famili room nice sound',\n",
              " 'echo wonder im still learn use music request somewhat limit',\n",
              " 'doesnt know half thing ask cant recogn sprinkler wifi control even though product detail say compat cant program chang wifi thermostat set match wifi router handi music player that amazon music',\n",
              " 'love',\n",
              " 'awesomeunderstand kid',\n",
              " 'pleasantli surpris sound qualiti mani featur nice easili hear particular artist hear book simpl command look forward explor option devic',\n",
              " 'met exceed expect easi set realli quick respons',\n",
              " 'like fact get kind music prime want request alexa like inform photo littl pamphlet wish includ connect tv etc command alexa realli love music',\n",
              " 'found way access echo thorough prime account think part top line video music etc also think setup app defin exampl music like well integr echo tri ask playlist echo sure even though set play list set also like fact word exact match playlist name never rememberi like readi natur echo respond queri',\n",
              " 'great item ad audibl book make even better thank',\n",
              " 'prime day nd gen echo sale couldnt resist begin smart home set couldnt happier say alexa done amaz job connect smart devic thank control light smart plug tv etc troubl connect echo wifi phone app work perfectli fine let add skill routin smart devic timer much sound qualiti good enough sinc audiophil alexa hear voic even watch movi high volum design great modern definit add nice touch home chang cover youd like sale overal great addit home enabl mani possibl havent yet sure add alexa home',\n",
              " 'versatil fun',\n",
              " 'work great killer speaker wife son love',\n",
              " 'regret wait long purchas item surpris pleas sound qualiti',\n",
              " 'stop work week didnt follow command realli fun work',\n",
              " 'far love work get thing set love groceri list app',\n",
              " 'perform pretti much expect disappoint provid terminolog need play variou kind music without subscrib amazon music servic understand music choic may limit without know ask cannot access music provid free along echo purchas chart show languag need use',\n",
              " 'easi set',\n",
              " 'like product except speaker high qualiti expect',\n",
              " 'great invest alexa help made laugh',\n",
              " 'yet anoth exho home love',\n",
              " 'love plan gender music big band jazz easi find local radio sound good stop voic command get phone call',\n",
              " 'good valu',\n",
              " 'super easi set love new echo',\n",
              " 'what like speaker ask alexa',\n",
              " 'best father day gift dad joke mom alexa one listen repeat stori go forward',\n",
              " 'great addit breakfast room kitchen tune inform instantli avail slowli learn featur',\n",
              " 'sound qualiti',\n",
              " 'sad joke worthless',\n",
              " 'entertain',\n",
              " 'good qualiti',\n",
              " 'work great sound great miss beat wish batteri better portabl',\n",
              " 'love till someon stole cant afford replac yet go',\n",
              " 'alexa rock',\n",
              " 'got gift love never would bought one allow play music amozon prime music that worth also give news brief tell joke',\n",
              " '',\n",
              " 'mom bought echo dot repeat ask take one great told two day made take hour later could live life without amaz four larg speaker small echo dot return say go order alexa speaker go big get echo otherwis tou return two echo dot live without',\n",
              " 'love great product',\n",
              " 'easi set user friendli',\n",
              " 'realli disappoint alexa plugin wall socket time fault check made assumpt compani technolog advanc amazon would sell product recharg batteri could return would appl music boom speaker give flexibl alexa',\n",
              " 'dont think nd gen sound good st aux could add extern speaker go wouldnt get dot nd issu isnt uniqu unit dont understand cant overrid default prevent play blue tooth speaker play group get delay use bt speaker unit heard abl play group use bt speaker',\n",
              " 'everyth',\n",
              " 'like interact ask question like ask setup schedul connect lamp',\n",
              " 'supberb sound definit worth extra money listen lot music',\n",
              " 'realli love amazon echo think sound qualiti great lot fun realli handi music get updat weather sport',\n",
              " 'love grandkid',\n",
              " 'far work well alway intuit link differ devic skill get hang',\n",
              " 'work advertis',\n",
              " 'love',\n",
              " 'love new addit hous speaker qualiti great love alexa two complaint suggest futur seri would better commun abil exampl smart light hous unless specifi kitchen light kitchen light prior command either respond say recogn may want alexa respond say thank afterward repeat alexa thank time respond husband know sound odd laugh mayb southern thing want alexa manner',\n",
              " 'like everyth music trivia game weather',\n",
              " 'describ receiv time like automat enrol music',\n",
              " 'great devic',\n",
              " 'own echo overa year new lack easi way increas decreas volum without tell increas decreas volum hard wife sinc english second languag born korea sound echo superb keep',\n",
              " 'love kitchen work well',\n",
              " 'nice im impress wish say though',\n",
              " 'love product nice easi access much info',\n",
              " 'got great sound bass doesnt work time still hot miss recogn thing',\n",
              " 'still discov echo',\n",
              " 'amaz paroduct',\n",
              " 'good hear rang sound qualiti bit complic set doesnt quit understand lot even speak slowli clearli love flash brief featur interfac abod home secur system',\n",
              " 'speaker sound good',\n",
              " 'absolut love',\n",
              " 'best part product control thermostat light hous anyth dislik',\n",
              " 'thoroughli enjoy amazon echo instal easi use alexa app purchas kasa smart plug control live room light instal easi use kasa app sinqu right echo enjoy play music echo sound qualiti awesom weve ad kasa smart bulb kitchen setup seamless look forward ad autom home',\n",
              " 'home entertain',\n",
              " 'cool product easi setup fun use sound qualiti much better anticip',\n",
              " 'love great sound easi connect use',\n",
              " 'doesnt work fairli new smart tv that mainli tv manufacturerslg fault due support anyth older tv year smart lock also need addit piec equip order connect well speaker sound great work well',\n",
              " 'great sound littl speaker',\n",
              " 'enjoy',\n",
              " '',\n",
              " 'cool',\n",
              " 'good qualiti great sound qualiti',\n",
              " 'work perfectli',\n",
              " 'great product sometim alexa understand command fire tv fabul speaker',\n",
              " 'love echo great sound smart',\n",
              " 'sure love',\n",
              " 'play great',\n",
              " 'work absolut great',\n",
              " 'amaz product great sound qualiti',\n",
              " 'best thing ive invest thank much',\n",
              " 'extrem impress item bought warehous outlet minor imperfect cant tell even one work great didnt come packag seal damag wasnt miss anyth like sound qualiti see knock bose great famili easi use minor learn curv learn voic integr seamlessli amazon servicesc wait get classroom lot fun even speaker let alon plan',\n",
              " 'love echo show bedroom wonder music info sleep sound',\n",
              " 'awesom life changer serious abl start morn alexa wakem alarm play music gotten use voic anoth room listen say love echo dont hesit get one price speaker unbeliev buy cordless holder take echo anywher love purchas love alexa',\n",
              " 'super impress alexa prime laps wouldnt play anyth isnt smart enough differenti among spotifi account cant use either randomli speak nobodi talk today unplug hernot sure ill ever use alexa',\n",
              " 'like everyth',\n",
              " 'like',\n",
              " 'never issu buy use electron long get good like new read comment see use',\n",
              " 'famili realli love new echo',\n",
              " 'bought wife love',\n",
              " 'fun got today pod go car use hous',\n",
              " 'like',\n",
              " 'third echo worth everi penni like household employe small flat rate keep bedroom live room dropin use intercom listen music answer quick question alarm wake school etc',\n",
              " 'listen music set timer',\n",
              " 'receiv echo perfect condit devic easi set respond quickli without issu alexa great addit famili',\n",
              " 'good sound like music schedul like get random thought record think joke cute',\n",
              " 'purchas begin learn far pleas amaz differ action perform enjoy look forward learn option provid',\n",
              " 'echo great other even though smaller',\n",
              " 'funni buy someth look fun wind total use part home love',\n",
              " 'bought replac dot live room speaker slightli better hear better tv unfortun doesnt understand respond request well dot frequent request time get want dot usual exactli want first request dont consid upgrad',\n",
              " 'good experi far second gener echo mani thing learn time yet right mostli enjoy music weather updat use alarm featur person also purchas mini smart socket ye excit begin use',\n",
              " 'troubl connect tv exactli tech smart sure one grandson figur far use mostli music',\n",
              " 'simpli love echo hardli watch tv anymor im busi listen music speaker pretti goo size fun skill realli make echo fun whole famili',\n",
              " 'enjoy entir echo experi',\n",
              " 'easi set',\n",
              " 'echo amaz devic mani time seem intuit time ask someth seem clear simpl get result instal fairli straightforward mess sever time simpli thought step complet wasnt actual made lose ground figur advic patient app let know move next stepmi biggest issu moment sever echo devic home would like use intercom told done howev cant make echo awar other exist ask alexa answer instruct chang name know like fault would think design would anticip make easier find need instruct small deal mani devic savvi peopl challeng',\n",
              " 'love much',\n",
              " 'origin alexa tap far nd gener best im happi see make improv new oneit would great updat littl ai think would help lot bug happi play music throughout whole hous adjust bass trebl thank',\n",
              " 'pleas echo nd gener nice alexa avail music weather news probabl lot discov',\n",
              " 'pleasantli surpris sound qualiti echo big fan deep bass might suffici though potenti control home option explor evolv home smart home voic recognit impress stylish fun regret purchas great technic chang peopl ask play song movi respond instantli elderli love one would great gift connect wifi simpl use want unlimit music control sure amazon prime premium spotifi blown away person dj even convers echo embarrass say echo made laugh coupl time ask tell joke tell packag sinc amazon prime addict come extrem handi',\n",
              " 'easi setup love thing',\n",
              " 'alexa throughout houseth futur arriv',\n",
              " 'alreadi alexa amazon find today could resist get echo also best thing ever use side hous couldnt happier',\n",
              " 'arriv expect',\n",
              " 'bought week ago everyth product excel dont forget buy charger order must take outsid pool worri hire electrician put outlet yard',\n",
              " 'terrif',\n",
              " 'love echo',\n",
              " 'smaller origin look nicer',\n",
              " 'work great',\n",
              " 'husband would call late adopt come technolog decid would tri echo serv primarili music sourc wow amaz great sound weve also great time listen favorit song buy ask alexa may even buy one elderli dad think enjoy one listen music even place call us',\n",
              " 'realli enjoy chang directv channel play iheartradio pandora adjust ac thermostat turn live room light outsid light',\n",
              " 'want one bought prime day absolut love',\n",
              " 'glad got echo bluetooth speaker alexa much stuff non smart speaker person love timer featur help cook multipl thing simultan pandora integr anoth featur use daili happi prime day purchas get echo hub echo dot futur',\n",
              " 'see subject line love',\n",
              " 'love',\n",
              " 'easi setup',\n",
              " 'hesit buy echo echo dot seem good enough echo except sound qualiti realli didnt feel need howev glad got differ sound realli far superior echo dot listen greatest showman littl power',\n",
              " 'sound qualiti great still learn differ thing fun',\n",
              " 'got good deal work great prime setup bit pain fault crappi internet servic work great nice sound small speaker',\n",
              " 'love',\n",
              " 'work great perfect offic',\n",
              " 'love one insid hous one pool good bose speaker around hous',\n",
              " 'easi useamaz',\n",
              " 'nice product',\n",
              " 'love echo total amaz speaker qualiti bum buy two sinc got prime day',\n",
              " 'respons great sound qualiti size',\n",
              " 'effici amaz cool use often everi day',\n",
              " 'impress qualiti sound echo definit compar bose mini gave star use appl music account',\n",
              " 'technolog small devic price good sound amaz must featur home',\n",
              " 'mainli use music learn time realli noth bad say',\n",
              " 'replac st gen concern smaller unit soundi wrong anyth volum clear good product',\n",
              " 'great addit echo plu',\n",
              " 'best',\n",
              " 'love featur play music everi room multipl echo',\n",
              " 'love alexa surpris much use',\n",
              " 'use product enjoy love',\n",
              " 'easi use great soundit great purchas great price',\n",
              " 'easi set issu',\n",
              " 'unit add much pleasur echo plu music inform home one room',\n",
              " 'extrem use simpl thing like spotifi audibl thing like sometim doesnt answer everyth ask still nice use',\n",
              " 'difficult set keep time enter password',\n",
              " 'get use use echo use shop list listen music timer work great far',\n",
              " 'cool lot fun use week still learn capabl',\n",
              " 'love love',\n",
              " 'love hard time set app',\n",
              " 'use offic anoth apart music inform',\n",
              " 'great music littl hard figur work',\n",
              " 'given year time birthday gift dad love ask alexa anyth answer plu good homework purchas one prime day bathroom get readi work listen music base metro boom replac clock radio plu echo dot night stand alarm clock',\n",
              " 'impress look clariti sound color',\n",
              " 'alexa amaz great speaker',\n",
              " 'still get use alexa dont connect tv yet thing right use music inform great',\n",
              " 'work sound great hous bare sf sit kitchen counter hear speak room lot function still discov',\n",
              " 'pure fun echo weather joke news brief music still much use lot fun money',\n",
              " 'use time especi commun kid throughout home',\n",
              " 'love still learn make lot thing easier like forget turn light anoth room ask alexa turn light',\n",
              " 'bought daughter turn love especi like call featur sinc cell phone love play music danc amazon music play favorit song sometim lol',\n",
              " 'got wed gift discov featur yet updat play music great though',\n",
              " 'impress sound qualiti',\n",
              " 'pleas purchas echo smart speaker love fact play music differ genr whenev wanthad troubl first wi fi work',\n",
              " 'wife enjoy eas play music game fun entertain look forward ad smart product home',\n",
              " 'second echo love help kitchen set timer listen news prepar groceri list get great music',\n",
              " 'sound qualiti good wish alexa could answer question',\n",
              " 'second echo dot speaker weak purchas listen music speaker great',\n",
              " 'great sound',\n",
              " 'great',\n",
              " 'realli use speaker stream music month kinda useless',\n",
              " 'set user friendli setup wasnt user friendli id hope alexa app abl download pc without instal invas driver wife retir wouldnt abl instal alexa son wasnt suppli smart phone wouldnt use alexa yet',\n",
              " 'easi set realli enjoy',\n",
              " 'echo come built batteri plug time use make quit inconveni',\n",
              " 'compact bit better origin',\n",
              " 'love pretti cool',\n",
              " 'live room music sound realli good live room hear upstair',\n",
              " 'great product set easi sound wonder',\n",
              " 'far like bought music though sound pretti good',\n",
              " 'love',\n",
              " 'love',\n",
              " 'glad bought',\n",
              " 'like type funmus',\n",
              " 'like volum top turn quickli',\n",
              " 'beyond capabl program grandkid lve',\n",
              " 'love new echo give hour music help thingsit difficult set help tekki',\n",
              " 'almost good bose love whole hous music',\n",
              " 'alexa hardli came',\n",
              " 'easi setup use app also easi instal phone sound qualiti listen music pandora wonder',\n",
              " 'still learn use echo far love',\n",
              " 'work awesom',\n",
              " 'work great',\n",
              " 'small speaker sound great',\n",
              " 'great sound size prize coursealexa',\n",
              " 'dont echo definit need one',\n",
              " 'great devic seem work better st gener',\n",
              " 'item longer work month use connect wifi unrespons reset request',\n",
              " 'love echo dot easi fun get drop grandaught live mile away sound like right next',\n",
              " 'work great differ new one',\n",
              " 'one go kitchen timermus duti',\n",
              " 'love volum could definit use boost better built speaker would definit star thought ahead put audio auxiliari input bought dedic speaker echo prove best way go',\n",
              " 'work fine',\n",
              " 'work great look brand new love new echo dot get main room hous',\n",
              " 'refurbish item work like new love easi set love issu volum listen relax fine expect anyth els recommend purchas speaker',\n",
              " 'loud',\n",
              " 'nd one love',\n",
              " 'sure feel echo dot mani thing need get use ask right question wont understand',\n",
              " 'thing bare work select rd parti app stuff youd think could box im send mine back asap wast money',\n",
              " 'gift man like plug pictur show cord would prefer cordless still work though purpos bought',\n",
              " 'th amazon echo devic purchas refurbish satisfi time differ cant tell brand new price cheaper echo wake us keep timer play music us act encyclopedia turn light much',\n",
              " 'small echo dot amaz sound come greatit chang nest thermostatand phillip hue lightswithout leav chair',\n",
              " 'talk time song dislik devic',\n",
              " 'never disappoint amazon technolog',\n",
              " 'work promis',\n",
              " 'return echo dot get refund return one packag want refund packag see',\n",
              " 'work',\n",
              " 'weird paus speech pattern present echo devic',\n",
              " 'sure love alexa lol thank great price product',\n",
              " 'work',\n",
              " 'im echo fan one work',\n",
              " '',\n",
              " 'bought bathroom listen im shower love',\n",
              " 'doesnt alway respond spoken promp word thought would connect echo upstair use like intercom havent abl',\n",
              " 'fast ship work well',\n",
              " 'love',\n",
              " 'love love love new free assist',\n",
              " 'six word alexa tell poop joke',\n",
              " 'work month stop ive tri everyth tri make work noth work want refund',\n",
              " 'poor qualiti gave away',\n",
              " 'refurbish way go echo work like new',\n",
              " 'love',\n",
              " 'five need say',\n",
              " 'speaker arent loud alexa great though besid naw',\n",
              " 'work great sound good',\n",
              " 'never could get work techi friend look said adapt wasnt strong enough power look like bought dollar store go replac adapt hope work',\n",
              " 'almost like star trek home fun tri outsmart',\n",
              " 'add echo system refurbish product work like new',\n",
              " 'great offic use daili mani way includ spell background music',\n",
              " 'awesom love alexa',\n",
              " 'wasnt sure realli want one extrem use get one youll love',\n",
              " 'initi echo dot work well time dot stop respond alexa unless within one foot yell echosecho dot room would respond without respons echo dot would recommend buy refurbish',\n",
              " 'great product fast ship',\n",
              " 'bought echo dot refurbish stop whatev function perform quit often doesnt wake everi time randomli turn noth buy refurbish echo dot',\n",
              " 'perfect work great problem refurbish',\n",
              " 'dont trust',\n",
              " 'perfect condit love echo',\n",
              " 'love beauti experi especi hook smart light accessori',\n",
              " 'got within last coupl week tell issu son want alexa th birthday could tell joke could ask question listen music enjoy one much bought second one week prime deal day',\n",
              " 'divertido',\n",
              " 'great product work great',\n",
              " 'bought guest room radio alarm clock inform center much',\n",
              " 'great buy bought go echo love speaker best music work great kitchen timer alarm',\n",
              " '',\n",
              " 'work perfect save buck buy refurbish look brand new',\n",
              " 'look work perfect glad got good deal',\n",
              " 'good new one bought less',\n",
              " 'love work well',\n",
              " 'everyth perfect',\n",
              " 'good price prompt ship work flawlessli',\n",
              " 'love alexa',\n",
              " 'there room improv price cannot complain much still complain howev audio terribl kind like listen speaknspel',\n",
              " 'iov bought son want awesom',\n",
              " 'echo work price great deal issu dot speaker bit tinni good second unit like attach extern speaker soundgood buy',\n",
              " 'thank',\n",
              " 'want use radio intercom get terribl fm recept live speech recognit softwar horribl wife nativ american whose languag english north texa neither accent birth area yet good job understand us bought two thing addit wifi recept poor margin buy wifi rang extend offic ten feet router problem switch around differ disconnect dust collector',\n",
              " 'third dot work perfectli use one multipl time day absolut love',\n",
              " 'item never work box broken spent sever day tri get work run fix amazon thing accomplish never order anoth refurbish devic',\n",
              " 'alreadi echo plu bought one bedroom love function',\n",
              " 'simpl set music everywher',\n",
              " 'work like brand new dot satisfi',\n",
              " 'great product return new alexa dot refurbish alreadi give problem connect',\n",
              " 'echo alreadi went one refurbish save buck work great love new gener one rubber bottom nice',\n",
              " 'love fact unplug take basement want laundri',\n",
              " 'refurbish good new one ive bought',\n",
              " 'good new',\n",
              " 'granddaught love',\n",
              " 'price great troubl hear across room move anoth spot seem work fine buy want everi room',\n",
              " 'set alexa blue tooth speaker enjoy listen music outdoor cant wait tri new stuff use alexa',\n",
              " 'thank',\n",
              " 'work great',\n",
              " 'never buy certifi refurbish echo dot bought certifi refurbish echo dot unit poor receiv command sometim even acknowledg command never buy refurbish echo dot unit receiv probabl never certifi refurbish indic also bought new echo dot work perfectlyveri disappoint',\n",
              " 'start amazon productsand regret noth absolut great journey product continu improv daytoday life',\n",
              " 'use sever month without problem',\n",
              " 'first smart devic sure buy devic compat one',\n",
              " 'love',\n",
              " 'love good new one',\n",
              " 'larger echo time love bought one anoth portion hous sinc sever wifi home devic want voic control hous',\n",
              " 'love product use turn light answer quick question',\n",
              " 'great buy',\n",
              " 'leari refurbish work great',\n",
              " 'puni sound work great',\n",
              " 'great',\n",
              " 'exactli like new tell differ new dot got prior one work perfectli love alexa',\n",
              " 'work perfect wear tear devic love alexa work make home smart',\n",
              " 'work good',\n",
              " 'thing dont like shut work great',\n",
              " 'excel product mint condit refurbish unit would never know refurbish',\n",
              " 'alreadi own coupl echo frustrat also use intercom final amazon enabl dropin featur use echo reach famili remot part hous teenag insist never heard yell come dinnera featur mainli use echo standard stuff play music set alarm answer question etc lifechang home devic amazon would believ conveni around refurb save buck look work brandnew one',\n",
              " 'love worri refurbish part first first echo awesom use everyth light sinc work night shop well spotifi plan get parent help everyday thing take grant young would recommend everyon',\n",
              " 'love alexa hope everi room soon',\n",
              " 'simplic use set',\n",
              " 'great got one gazebo one upstair',\n",
              " 'work great never issu',\n",
              " 'everyth ask',\n",
              " 'work great good sound',\n",
              " 'use echo listen music well sortof research tool answer varieti question would like volum could go littl bit louder cant complaini also believ intern power sourc order use echo must plug time use univers charg cord would nice use echo dot go without buy product',\n",
              " 'love great fun',\n",
              " 'love',\n",
              " 'outstand use timework like say',\n",
              " 'save alway nice son alway say buy refurbish mean get new devic product less run diagnost everyth correct',\n",
              " 'work perfectli alexa turn light tv roomba',\n",
              " 'never would know refurbish',\n",
              " 'far good',\n",
              " 'look perform new complaint',\n",
              " 'goe great echo',\n",
              " 'work great like new one alreadi',\n",
              " 'item work certifi refurbish mean work advertis instead item crash soon turn plug tri connect phone echo dot crash would disconnect orang light would freez thing would reboot blue light alexa would tell readi connect freez mid sentenc tri hold action button second anyth return immedi hope actual fix item next buyer purchas',\n",
              " 'fast servic got order thank',\n",
              " 'love even though still tri figur thing item work great phone',\n",
              " 'none',\n",
              " 'echo one bought brand new refurbish onehonestli cant tell differ perform look',\n",
              " 'great productonc learn work itthi thing awesom',\n",
              " 'work',\n",
              " 'work time',\n",
              " 'love though wish portabl',\n",
              " 'cours',\n",
              " 'could tell refurbish work excel would highli recommend instead purchas new',\n",
              " 'got mom love',\n",
              " 'love echo dot look brand new work perfect satisfi',\n",
              " 'new',\n",
              " 'small problem box rep amazon call walk reset process solv issu shock get respons quickli real effort made includ follow email get thing work one googl clone use learn like also plan instal one car boat garag alexa new best friend loli think gf worri alexa learn cook time limit',\n",
              " 'love alexa dot play game son ask weather love work amazon fire tv',\n",
              " 'like could ask differ question differ thing work intermitt smart tv ask chang volum sometim ask chang channel doesnt sometim reset dont know refurbish okay expect',\n",
              " 'far certifi refurbish echo dot work well littl confus green ring echo dot know ask alexa said receiv call drop case took minut figur notif deliveri amazon believ ring suppos yellow pulsat messag notif refurbish echo dot green puls',\n",
              " 'arriv quickli easi set refurbish amazon echo dot beyond expect alexa becom buddi great assist',\n",
              " 'work advertis speak clearli research command also get wall holder keep way set breez make sure close devic initi connect phone reason made set easierthough could psycholog haha',\n",
              " 'love two echo dot third one order give gift defect speaker return process still isnt done alreadi taken week',\n",
              " 'ive alreadi return',\n",
              " 'refurbish echo wonder purchas mother love abil contact without phone listen music weather ask question wonder gift work excel problem',\n",
              " 'work good howev price went week purchas',\n",
              " 'work amazingli bought daughter love',\n",
              " 'love alexa great help make appoint play song like els look forward',\n",
              " 'got bathroom love listen music whe shower',\n",
              " 'dot origin new one work perfectli buy futur dot recondit',\n",
              " 'littl hard get pare other problem',\n",
              " 'im weari pick convers activ use heard happen news concern wish amazon would releas someth widespread push firmwar prevent heard yet',\n",
              " 'there realli dislik alexa dot thought cortna cool alexa awesom applic famili unbeliev devic seem aliv must get',\n",
              " 'happi refurbish echo dot two week far work perfectli even though come origin box look like new happi purchas',\n",
              " 'thumb',\n",
              " 'workreat',\n",
              " 'someth wrong first one even rep spoke could fix replac regist someon els price dot went price refurbish one bought brand spank new one problem new one',\n",
              " 'work expect',\n",
              " 'problem',\n",
              " 'almost everi room realli enjoy work perfectli',\n",
              " 'purchas grandson',\n",
              " 'like new',\n",
              " 'happi order',\n",
              " 'love dot especi abil talk one realli conveni issu refurbish like new',\n",
              " 'start take use sinc unplug day one talk daughter lay bed next start go movi moana complet scare sht daughter',\n",
              " 'work great speaker sound fine overal would recommend',\n",
              " 'great like new',\n",
              " 'love price essenti brand new dot open realli tell refurbish everyth look brand new less new unit consid better deal realli love versatil echo dot get one',\n",
              " 'pleas order want',\n",
              " 'think throughout hous conveni set timer check weather whatev wherev',\n",
              " 'love best experi refurbish devic excel',\n",
              " 'love echo dot',\n",
              " 'refurbish item finebut wasnt awar fee echo set room howev miss cordthank',\n",
              " 'two week set longer work connect light sound guess shouldnt purchas refurbish dot',\n",
              " 'work like brandnew unit great addit collect',\n",
              " 'great price work perfectli save money refurb would buy',\n",
              " '',\n",
              " 'verygod',\n",
              " 'good',\n",
              " 'great bought one bought anoth right away grab smart switch your set smart home capabl highli recommend',\n",
              " 'like new',\n",
              " 'work still need figur link devic though set sono pretti easi product fault time figur',\n",
              " 'use',\n",
              " 'worst amazon purchas made big amazon fanlov brandunlimit digit musicprim videoseven buy onlin game music movi amazon app tri use make simpl purchas anyth useless',\n",
              " 'work well microphon dont pick well full size echo audio qualiti okay size',\n",
              " 'bought two refurbish one work home work perfectli appear brand new',\n",
              " 'amazon doesnt disappoint',\n",
              " 'work great bt receiv output connect vintag stereo equip',\n",
              " 'work great far cant tell new edit longev year that real test',\n",
              " 'amaz',\n",
              " 'love everyth',\n",
              " 'use dot work fine compliment echo',\n",
              " 'work like new one tell differ new one bough refurbish one',\n",
              " 'well big fan echo one went bathroom work great expect',\n",
              " 'purchas year old mothersh love talk alexa responsivecan detect name room',\n",
              " 'like new perform brand new one problem',\n",
              " 'echo dot disconnect speaker time day buy refurbish product star effort',\n",
              " 'love great product',\n",
              " 'work good satisfi',\n",
              " 'love alexa sound dot best echo nd gen kitchenliv room got bedroom signific differ sound dot lack full base sound sound come cheap portabl speaker realli disappoint return right away shell money buy second echo bedroom also',\n",
              " 'took awhil get connect im electron savi love',\n",
              " 'cant seem get thing sink wireless sure return tri one time',\n",
              " 'absolut love',\n",
              " 'product stop work return time ran',\n",
              " 'second dot work great refurbishedthought new',\n",
              " 'love guy work great',\n",
              " 'love second alexa bedroom great check weather medit music timer perfect husband use eye drop multipl time day keep eye close minut',\n",
              " 'purchas refurbish work like brand new minut set easi echo dot command start play music backyard deck sound system',\n",
              " 'substitut origin echo dot perform well sound qualiti poor listen highest level',\n",
              " 'love echo dot help husband get netflix app amazon fire tv problem refurbish plan get anoth one amazon fire stick bedroom',\n",
              " 'stop work month warranti good month would assum amazon product sold amazon would higher standard guarante would work whole month mean product suppos piec junkthey offer discount want buy anoth one would want buy anoth one',\n",
              " 'like new problem whatsoev alexa thank',\n",
              " 'like uncl sometim goe littl haywir',\n",
              " 'bought son work return',\n",
              " 'bought quit connect wifi respond voic within month hard soft reset fix problem',\n",
              " 'receiv echo dot today good condit advis paid amazon write rais price research buy get good dealset dot went simpl enough plug follow app instruct except initi took actual show iphon wifi set call amazon custom servic dunno late get terribl support guy took call rambl complet unhelp script end set dot middl spieli sure norm refurbish dot pretti finicki wifi rang randomli disconnect even though app show rang ghz connect strong reconnect pain time wellal said alexa work work amazingli well speaker hook one thing realli enjoy mic rang sensit one annoy limit appl siri play audio devic speaker music podcast etc hey siri featur useless alexa problem hear whatev play time amazingli fast respons tri louder speaker yet sure continu hold trueset alexa control wireless devic breez albeit limit support arlo devic nil special set led devic eg rainbow effect alexa handl know chang solid color bright levelsal rate would lower gotten decent price item connect problem persist may exchangereturn item want though alexa kind grow',\n",
              " 'bought everyon say much love need use volum loud enough play music treadmil rather use tower speaker xs louder',\n",
              " 'work like new',\n",
              " 'second one refurbish model workat least home',\n",
              " 'bad devic know refurbish activ nobodi talk activ start talk talk yell super laud',\n",
              " 'good new like brand new save money get one',\n",
              " 'ad room conveni',\n",
              " 'nice work goodsom time easi recogn voic repeat sever time time almost scream',\n",
              " 'took chanc certifi refurbish unit look brand newno excus disappoint minut troublefre set effortless bluetooth speaker connect alexa app iphon flawless listen favorit tune bose bluetooth setup couldnt happier walk door ask alexa play music viola instant atmospher open ipad go set turn bluetooth access pandora app make thing effortless true joy right box didnt discov use fine piec technolog worth everi penni',\n",
              " 'alexa sister second dot',\n",
              " 'love alexa echo dot two one new one refurbish work great becom go sooo mani thing love alarm everi morn whenev love play music sound ocean natur sound tri sleep love mani thing',\n",
              " 'bought refurb work new one bought prior came origin packag well',\n",
              " 'love like second wife',\n",
              " 'far impress save group correctli understand time im sure excit alexa voic sound like water suppos understandim go return tri googl home',\n",
              " 'work well obviou issu refurbish',\n",
              " 'work great cant tell refurbish set kid mode home ad love thing',\n",
              " 'great product useless overal mani unnecessari featur unless smart home dont need',\n",
              " 'work good two new echo dot precious purchas',\n",
              " 'bought mother love itsh love guard dog featuresh say give sens secur night leav hous',\n",
              " 'bought mainli speaker play music video phone work read instruct work',\n",
              " 'work',\n",
              " 'bought two work great im much electron run home alexa want need done',\n",
              " 'nd one come',\n",
              " 'blue light blink time',\n",
              " 'fun use still learn new trick use function futur human comput interfac household autom like star trek knew would soon',\n",
              " 'work great control tv light variou devic late ive use wake dont know time dont want open eye shout alexa time could figur get hous hold chore walk dog itd golden sound great size expect echo plu much better audio get larger expens echo',\n",
              " 'work great',\n",
              " 'wasnt sure id like product littl want one everi room daughter constantli ask alexa spell word weve bare tap thing product capabl im look forward learn capabl',\n",
              " '',\n",
              " 'great product work well',\n",
              " 'absolutli love',\n",
              " 'bought first echo dot love got work absolut love',\n",
              " 'work promis',\n",
              " 'work great exist smart home setup',\n",
              " 'perfect could tell differ new one',\n",
              " 'cant figur use',\n",
              " 'good sometim hear well',\n",
              " 'littl apprehens buy refurbish electron product amazon guarante thought would tri glad probabl buy anoth refurb product form amazon love alexa product sever one sit desk small footprint great sound use daili work great',\n",
              " 'bad bad speaker sound',\n",
              " 'great devic mainli use verbal add thing shop list occasion use number fun thing program like go red alert make tardi land ye hous geek even chose wakeword comput instead alexa need majel barret voic geek heaven easi get premium spotifi work properli still sure get multipl music account attach listen differ music differ room far still worth often ask time weather even give us news brief also use intercom system realli awesom plu fun know nsa listen everyth',\n",
              " 'love',\n",
              " 'purchas daughter love amaz love game',\n",
              " 'alway work',\n",
              " 'good new perfectli packag zero issu dot',\n",
              " 'love bought granddaught play music ask question entertain hour good buy honest opinion',\n",
              " 'issueswork look great',\n",
              " 'fun toy daughter read',\n",
              " 'refurbish echo dot receiv new condit new packag complaint neat littl gadgetdr wife nut',\n",
              " 'receiv echo gift love much decid get dot bedroom easi set big differ sound qualiti would still buy',\n",
              " 'work advertis thank',\n",
              " 'new amazon product great everyth bought refurbish complet garbag never purchas amazon refurbish total dissatisfact',\n",
              " 'work good microphon good better echo product',\n",
              " 'took littl work set final got sound qualiti best got work great check weather ask cook question kitchen play radio want music probabl upgrad echo plu better sound',\n",
              " 'love alexa best thing ever bought dont know ever live thing amaz happi product wish would use googl',\n",
              " 'love work great',\n",
              " 'extrem low volum',\n",
              " 'troubl get program download phone end use comput interest answer come wikipedia howev give echo dot music play depart heard song music total forgotten mainstream station also amus alexa respond dont know think yard cotton fabric refer footbal play paid full price gadget would sore disappoint seem reason step hal',\n",
              " 'brought replac one move doesnt rang previou non refurbish unit would seldom abl find wifi couldnt connect got tire hear messag troubl connectingcheck alexa app unplug went troubleshoot reconnect sever time strong',\n",
              " 'want listen music come sever echodot unit simultan must pay monthli fee thought amazon appl paid mani could one room enough money',\n",
              " 'purchas gift',\n",
              " 'love',\n",
              " 'overal good devic bought workout room issu reach volum heard standard row machin could use much better speaker',\n",
              " 'work great simpl set alexa way accur imagin im use thought wish alarm could set bit that complaintno she listen dont say wake word your worri lose conspiraci theori speaker great dont hold get one turn gen like',\n",
              " 'voic clariti made eavesdrop effort much easier govern',\n",
              " 'work perfect',\n",
              " 'littl troubl begin replac old router work good except current temperatur time alexa much degre like degre alexa would say degre otherwis everyth work expect enjoy listen music amazon pandora station request favorit song record artist',\n",
              " 'bought three three work flawlessli werent label refurbish wouldnt known',\n",
              " 'devic work perfectli good price love alexa great fun music great get radio station need morn traffic report think would enjoy ai hous fun educ entertain even peopl tech savvi',\n",
              " 'eh work half time respond say wake name work fine',\n",
              " 'great littl thing work better siri',\n",
              " 'amaz love',\n",
              " 'bought son love',\n",
              " 'first second gener echo dot think prefer volum ring first gen better button second gen still job great price got id still definit recommend',\n",
              " 'fun use morn brief',\n",
              " 'arriv time work amaz',\n",
              " 'like new setup quick easi',\n",
              " 'like new good refurbish',\n",
              " 'love',\n",
              " 'love echo dot',\n",
              " 'like know music typeth least isnt wireless volum high',\n",
              " 'great product',\n",
              " 'work great reason im leav star wont play unless plug whole time pretti irrit especi outlet avail',\n",
              " 'work great',\n",
              " 'love ita like person assist comput everyth els one',\n",
              " 'problem item could inexperi order wrong thing decid set use alexa tri replac small bluetooth speaker bedroom thought could learn go download app never could get echo sync iphon decid give one kid probabl enjoy use intend',\n",
              " 'es perfecto',\n",
              " 'work good far',\n",
              " 'work great daughter love',\n",
              " 'work great',\n",
              " 'love',\n",
              " 'want white dot white bathroom top black shown knew realiz cord plug also black want white cord plug',\n",
              " '',\n",
              " 'work great',\n",
              " 'amaz',\n",
              " 'great product',\n",
              " 'work perfectli',\n",
              " 'perfect',\n",
              " 'set echo dot work hour die complet buy refurbish sent back return day receiv',\n",
              " 'echo dot horribl volum phone louder devic boss one case',\n",
              " 'overal work well connect issu definit worth money',\n",
              " 'issu refurbish unit perform expect would buy anoth one need',\n",
              " 'great mom insid owlhead jacuzzi',\n",
              " 'work great put son room use drop option get attent game watch tv',\n",
              " 'perfect',\n",
              " 'look brand nrw noth tocomplain defent order',\n",
              " 'ok speaker pretti terribl googl home better product',\n",
              " 'love',\n",
              " 'love answer stupid question tell weather get couch',\n",
              " 'first one quit work shortli got next one becom unrespons voic time way get work app sure dot way',\n",
              " 'bought go niec room cant tell refurbish look good work like new',\n",
              " 'devic work follow instruct alexa echo dot come upset',\n",
              " 'sent back due crackl nois turn expect refurbish item',\n",
              " 'best price could find use around answer question handi find phone also intercom system',\n",
              " 'never satisfi product perfect introduct alexa',\n",
              " 'work well speaker grand get anoth speaker drop futur would gone full size echo',\n",
              " 'love echo thing full size version sound better though',\n",
              " 'work great',\n",
              " 'need life plan time date music',\n",
              " 'seem troubl hear say wake word despit train voic wonder someth buy refurbish googl home mini problem hear us much louder',\n",
              " 'love work perfectli',\n",
              " 'brand new echo dot thought refurbish would good quit differ expect refurbish unit even turn realiz power adapt faulti way amazon send power adapt accord return option love amazon buy even toilet paper truli let downupd amazon contact credit enough buy new power adapt shop amazon alway trust deliv product',\n",
              " 'bought famili member gift call see like said love',\n",
              " 'loud qualiti eas use great sound perfect background music would suggest connect togeth tri use host louder parti',\n",
              " 'look brand new work great love echo dot refurbish one like new',\n",
              " 'nd one use time',\n",
              " 'work like new one l anoth alexa devic lm fanat',\n",
              " 'echo good',\n",
              " 'work great',\n",
              " 'great price extend rang super valu dot offer hook wireless speaker use work outsidethi dot made outdoor sound rang possibl without disturb indoor light control possibl',\n",
              " 'amazingli fun daughter ask question first day set daili alarm weekend remind playlist morn show random song daili bibl vers weather morn commut tell way go dodg traffic get one link phone yet',\n",
              " 'work perfect differ refurb one new one hous buy refurb',\n",
              " 'great product wake everi morn time',\n",
              " 'like new differ new unus origin',\n",
              " 'complaint far know exactli like new littl cheaper great',\n",
              " 'perfect condit',\n",
              " 'like new',\n",
              " 'work well new version got discount echo speaker decid purchas version amazon state warranti',\n",
              " 'receiv echo gift need anoth bluetooth someth play music easili access found smart speaker wait see els',\n",
              " 'without cellphon cannot use mani featur ipad see use great alarm u r almost deaf hear alarm bedroom live room reason enough keep herit fun ask random question hear respons seem smartbon polit yet',\n",
              " 'think th one ive purchas im work get one everi room hous realli like featur offer specifili play music echo control light throughout hous',\n",
              " 'look great',\n",
              " 'love listen song heard sinc childhood get news weather inform great',\n",
              " 'sent year old dad talk constantli',\n",
              " 'love learn knew thing eveyday still figur everyth work far easi use understand make laugh time',\n",
              " 'purchas mother knee problem give someth tri come get around fast like didsh enjoy littl big thing doalexa play song time cook',\n",
              " 'love love love',\n",
              " 'expect',\n",
              " 'love wife hate',\n",
              " 'realli happi purchas great speaker easi set',\n",
              " 'use alexa coupl day lot fun new toy like new household member tri learn differ featu benefit come',\n",
              " 'love size nd gener echo still need littl improv sound',\n",
              " 'like origin echo shorter greater fabriccolor choic miss volum ring top plusminu button big deal ring w comfort well like use standard usb charger port instead previou round pin guess sound seem work still answer alexaechocomput what like',\n",
              " 'love echo good music sound play alexa understand command difficult time find specif playlist song spotifi good amazon music lack major program',\n",
              " 'love alexa use play music play radio itun play podcast anypod set remind listen flash brief news weather everi morn reli custom list like abl voic control volum sure well continu find new usessometim bit frustrat alexa doesnt understand say',\n",
              " 'set day still ad smart home devic speaker great play music like size station kitchen counter intrus look',\n",
              " 'love play sleep sound immedi ask',\n",
              " 'got second unit bedroom expect sound improv didnt realli see differ overal big improv st gener',\n",
              " 'amaz product',\n",
              " 'love echo easi oper load funit everyth advertis use mainli play favorit tune test alexa knowledg',\n",
              " 'sound great love',\n",
              " 'fun item play get use use sometim hard time answer question ask think better',\n",
              " 'like one',\n",
              " 'still learn capabilitiesbut far pretti pretti pretti good',\n",
              " 'like',\n",
              " 'work well need learn command uniqu owner user like alexa learn tasha birthday alexa learn definit fine etc great',\n",
              " 'speaker sound pretti good small setup pretti easi bought two reason rate follow instruct synch music unit know ive done correctli wont sync primari motiv purchas multipl unit',\n",
              " 'devic awesom',\n",
              " 'bought compar speaker qualiti first gener speaker like sound better ship daughter though like fact first gener chargeabl base bought keep mobil need better sound',\n",
              " 'love echo still learn thing abl follow instruct includ packag found great one utub',\n",
              " 'speaker better st gener echo',\n",
              " 'thing way cool get one want cool',\n",
              " 'first digit assist im give good review speaker realli good cheap price prime day fun play use alarm clock that go get first place end echo havent go one definit tri itwhat like best number devic connect purchas came smart plug connect lamp alexa turn light',\n",
              " 'husband like abl use listen music wish knew capabl',\n",
              " 'android would allow alexa connect fortun sister appl cell hour tech support fix glitch run',\n",
              " 'far good',\n",
              " 'tri play certain broadway show like camelot give ne group camelot',\n",
              " 'great',\n",
              " 'satisfi echo alexa control light famili room wife listen jimmi buffet ask alexa',\n",
              " 'like siri fact siri answer accur alexa dont see real need household though good bargain prime day deal',\n",
              " 'love echo still learn everi thing work ton fun',\n",
              " 'love much',\n",
              " 'differ appl play specif list music must amazon spotifi plusprimeetc account must pay play music star reason everyth els',\n",
              " 'excelent lo unico es que esta en espa ol',\n",
              " 'im still learn use far echo great sound actual much better expect',\n",
              " 'work expect also good sound qualiti consid price sale featur',\n",
              " 'sound echo nd gener phenomen mention love alexa help',\n",
              " 'like googl better',\n",
              " 'let play learn get',\n",
              " 'work advertis easi setup still learn',\n",
              " 'great sound easi set',\n",
              " 'love alexa bought other friend',\n",
              " 'love echo purchas compani husband alexa great say name tell joke play favorit song',\n",
              " '',\n",
              " 'love abl listen music easili still learn featur avail',\n",
              " 'realli know could use devic use thing need overview',\n",
              " 'love wish built hub',\n",
              " 'use primarili play music work wonder still get use mani thing amazon sent sever tip sinc got thank help',\n",
              " 'easi set',\n",
              " 'fast respons amaz clear concis answer sound qualiti fantast still get use alexia usd echo full extent',\n",
              " 'needna na nana',\n",
              " 'everyth expect',\n",
              " 'love echo work like said would dont smart home cannot speak function everyth els good',\n",
              " 'great sound small packag easi set use fun',\n",
              " 'work sound great',\n",
              " 'sound amaz mani collect music',\n",
              " 'set',\n",
              " 'alway listen',\n",
              " 'awesom',\n",
              " 'bought control fio televis work well hope time control fio discov thing alexa play music ask great sound alexa play game play radio station play old time radio program like long ranger alexa mani app add abil day play madlib great fun also alexa control household applianc purchas alexa compat power strip control light fan tv compon look forward implement control also add alexa compon chosen music play room compon locat',\n",
              " 'speaker excel sound work perfectli',\n",
              " 'like',\n",
              " 'love everyth',\n",
              " 'littl nervou receiv new echo im realli tech savvi found bit intimid first didnt take long figur im happi purchas think ad echo spot',\n",
              " 'like still learn use',\n",
              " 'great technolog cant believ speaker volum qualiti wonder wish bought anoth one',\n",
              " 'purchas echo dot husband father day use constantli hear qualiti sound echo nd gener nobrain best gift ever',\n",
              " 'work fine',\n",
              " '',\n",
              " 'clear music',\n",
              " 'fun use good sound qualiti',\n",
              " 'echo work well abl sync amazon music devic',\n",
              " 'work great dont think amazon charg anoth cent unlimit music prime buy echo',\n",
              " 'alreadi echo dot echo even better fuller sound also setup let phone call made contact list great',\n",
              " 'speaker sound realli good',\n",
              " 'good sound work well',\n",
              " 'love alexa savvi support help patient',\n",
              " 'love think get one prime day discount offer could pass fun ask alexa play song group come playlist amazon prime music also connect iphon bluetooth play music pandora youtub video use alexa speaker ive fun ask alexa differ type question inform like weather news even time countri downsid limit data wifi plan alexa use burn play music',\n",
              " 'like far lot tri yet',\n",
              " 'love use strictli music great',\n",
              " 'love echo love size materi speaker qualiti hook one light easili work addit light thermostat next echo dot bedroom lot echo think traffic weather trivia etc',\n",
              " 'love',\n",
              " 'entir famili love alexa echo part famili',\n",
              " 'great fun get know function product wow famili fun homework help talk grandchildrenwho also echo huge bonu cant wait learn',\n",
              " 'love',\n",
              " 'awesom thing love alexa',\n",
              " 'work exactli expect speaker great sound perfect classroom',\n",
              " 'love love new littl gadget made live much easier like person secretari live home hardli need cd anymor sinc alexa play everyth need go get alexa dot soon room thank',\n",
              " 'speaker surpris qualiti happi purchas',\n",
              " 'easi set work wonder love',\n",
              " 'im realli impress sound qualiti play music devic bass sound almost like come bigger speaker prop amazon',\n",
              " 'still great productbut sound qualiti seem worsedon get wrong definit get use within hour definit feel like echo gen sound qualiti betterbesid greatwith addit abl play bluetooth wifi even better',\n",
              " 'outlet work disappoint',\n",
              " 'great devic respons help',\n",
              " 'sound terribl u want good music get bose',\n",
              " 'like sound troubl paid extra money access million song sometim doesnt work ex alexa play italian song dont understand play opera tosca respons sorri dont',\n",
              " 'easi set use bad plug would nice take outsid oper batteri recharg',\n",
              " 'still learn way use real hit grandkid ask play music danc yr cute',\n",
              " 'star gener like product great ask like play music set timer make call reason didnt rate sometim connect die echo stop play music show red ring seem connect issu overal great product',\n",
              " 'work great upgrad echo dot full size echo happier',\n",
              " 'alexa els say',\n",
              " 'upgrad lilttl echo dot happi sound',\n",
              " 'excel product set eas well',\n",
              " 'ive first gen echo sinc first came work well purchas nd gen prime day far im happi seem improv speaker provid enhanc sound music',\n",
              " 'love echo smart speaker love volum clariti easi set wonder gift age',\n",
              " 'wonder product fast deliveri',\n",
              " 'initi harder set call tech knowledg work great',\n",
              " 'easi set famili love',\n",
              " 'great sound respons voic command',\n",
              " 'live long without echo get enjoy music style ask alexa go upgread wireless love echo love alexa',\n",
              " 'cool product speaker sound good spotifi blast',\n",
              " 'much fun alexa love abl listen music across room busi someth els',\n",
              " 'far seem nice item pick voic understand without problem day ask turn music next room heard fine ive use listen music check weather done thing well',\n",
              " 'love echo',\n",
              " 'love itsh help use rememb thing sleep ask anyth week still learn',\n",
              " 'better st gen everi way except one realli miss ring top volum control quicker easier grab top twist without look button find one press time also wish bass bit better great devic im happi',\n",
              " 'love alexa',\n",
              " 'far like',\n",
              " 'thoroughli enjoy ecoo love read audiobook offic simpli open audiobook kindl continu elsewher wonder listen music mood book great set remind much',\n",
              " 'still love',\n",
              " 'love',\n",
              " 'love sound qualiti unit clear sound',\n",
              " 'listen talk radio morn turn light etc system excel job full hous sound system stream siriu',\n",
              " 'week still learn alexa learn process love music call time listen podcast radio station start keep shop list groceri list love search paper pencil get time temperatur great wait weather report sound good fussi woofer tweeter base etc echo fine afternoon go tri drop son get home go surpris',\n",
              " 'much featur',\n",
              " 'great sound qualiti great featur great product multi room music cool',\n",
              " 'cool',\n",
              " 'everyon echo two three bought echo qvc',\n",
              " 'annoy everyth show alexa abl download spend much time tri figur phrase machin may well look',\n",
              " 'alexa sinc begin accident spill water replac nd gener decid couldnt without echo setup easi work within minut',\n",
              " 'like abl tell alexia music want hear sometim troubl find song specif titl',\n",
              " 'like look better origin echo move old echo basement famili room nice sound',\n",
              " 'echo wonder im still learn use music request somewhat limit',\n",
              " 'doesnt know half thing ask cant recogn sprinkler wifi control even though product detail say compat cant program chang wifi thermostat set match wifi router handi music player that amazon music',\n",
              " 'love',\n",
              " 'awesomeunderstand kid',\n",
              " 'pleasantli surpris sound qualiti mani featur nice easili hear particular artist hear book simpl command look forward explor option devic',\n",
              " 'met exceed expect easi set realli quick respons',\n",
              " 'like fact get kind music prime want request alexa like inform photo littl pamphlet wish includ connect tv etc command alexa realli love music',\n",
              " 'found way access echo thorough prime account think part top line video music etc also think setup app defin exampl music like well integr echo tri ask playlist echo sure even though set play list set also like fact word exact match playlist name never rememberi like readi natur echo respond queri',\n",
              " 'great item ad audibl book make even better thank',\n",
              " 'prime day nd gen echo sale couldnt resist begin smart home set couldnt happier say alexa done amaz job connect smart devic thank control light smart plug tv etc troubl connect echo wifi phone app work perfectli fine let add skill routin smart devic timer much sound qualiti good enough sinc audiophil alexa hear voic even watch movi high volum design great modern definit add nice touch home chang cover youd like sale overal great addit home enabl mani possibl havent yet sure add alexa home',\n",
              " 'versatil fun',\n",
              " 'work great killer speaker wife son love',\n",
              " 'regret wait long purchas item surpris pleas sound qualiti',\n",
              " 'stop work week didnt follow command realli fun work',\n",
              " 'far love work get thing set love groceri list app',\n",
              " 'perform pretti much expect disappoint provid terminolog need play variou kind music without subscrib amazon music servic understand music choic may limit without know ask cannot access music provid free along echo purchas chart show languag need use',\n",
              " 'easi set',\n",
              " 'like product except speaker high qualiti expect',\n",
              " 'great invest alexa help made laugh',\n",
              " 'yet anoth exho home love',\n",
              " 'love plan gender music big band jazz easi find local radio sound good stop voic command get phone call',\n",
              " 'good valu',\n",
              " 'super easi set love new echo',\n",
              " 'what like speaker ask alexa',\n",
              " 'best father day gift dad joke mom alexa one listen repeat stori go forward',\n",
              " 'great addit breakfast room kitchen tune inform instantli avail slowli learn featur',\n",
              " 'sound qualiti',\n",
              " 'sad joke worthless',\n",
              " 'entertain',\n",
              " 'good qualiti',\n",
              " 'work great sound great miss beat wish batteri better portabl',\n",
              " 'love till someon stole cant afford replac yet go',\n",
              " 'alexa rock',\n",
              " 'got gift love never would bought one allow play music amozon prime music that worth also give news brief tell joke',\n",
              " '',\n",
              " 'mom bought echo dot repeat ask take one great told two day made take hour later could live life without amaz four larg speaker small echo dot return say go order alexa speaker go big get echo otherwis tou return two echo dot live without',\n",
              " 'love great product',\n",
              " 'easi set user friendli',\n",
              " 'realli disappoint alexa plugin wall socket time fault check made assumpt compani technolog advanc amazon would sell product recharg batteri could return would appl music boom speaker give flexibl alexa',\n",
              " 'dont think nd gen sound good st aux could add extern speaker go wouldnt get dot nd issu isnt uniqu unit dont understand cant overrid default prevent play blue tooth speaker play group get delay use bt speaker unit heard abl play group use bt speaker',\n",
              " 'everyth',\n",
              " 'like interact ask question like ask setup schedul connect lamp',\n",
              " 'supberb sound definit worth extra money listen lot music',\n",
              " 'realli love amazon echo think sound qualiti great lot fun realli handi music get updat weather sport',\n",
              " 'love grandkid',\n",
              " 'far work well alway intuit link differ devic skill get hang',\n",
              " 'work advertis',\n",
              " 'love',\n",
              " 'love new addit hous speaker qualiti great love alexa two complaint suggest futur seri would better commun abil exampl smart light hous unless specifi kitchen light kitchen light prior command either respond say recogn may want alexa respond say thank afterward repeat alexa thank time respond husband know sound odd laugh mayb southern thing want alexa manner',\n",
              " 'like everyth music trivia game weather',\n",
              " 'describ receiv time like automat enrol music',\n",
              " 'great devic',\n",
              " 'own echo overa year new lack easi way increas decreas volum without tell increas decreas volum hard wife sinc english second languag born korea sound echo superb keep',\n",
              " 'love kitchen work well',\n",
              " 'nice im impress wish say though',\n",
              " 'love product nice easi access much info',\n",
              " 'got great sound bass doesnt work time still hot miss recogn thing',\n",
              " 'still discov echo',\n",
              " 'amaz paroduct',\n",
              " 'good hear rang sound qualiti bit complic set doesnt quit understand lot even speak slowli clearli love flash brief featur interfac abod home secur system',\n",
              " 'speaker sound good',\n",
              " 'absolut love',\n",
              " 'best part product control thermostat light hous anyth dislik',\n",
              " 'thoroughli enjoy amazon echo instal easi use alexa app purchas kasa smart plug control live room light instal easi use kasa app sinqu right echo enjoy play music echo sound qualiti awesom weve ad kasa smart bulb kitchen setup seamless look forward ad autom home',\n",
              " 'home entertain',\n",
              " 'cool product easi setup fun use sound qualiti much better anticip',\n",
              " 'love great sound easi connect use',\n",
              " 'doesnt work fairli new smart tv that mainli tv manufacturerslg fault due support anyth older tv year smart lock also need addit piec equip order connect well speaker sound great work well',\n",
              " 'great sound littl speaker',\n",
              " 'enjoy',\n",
              " '',\n",
              " 'cool',\n",
              " 'good qualiti great sound qualiti',\n",
              " 'work perfectli',\n",
              " 'great product sometim alexa understand command fire tv fabul speaker',\n",
              " 'love echo great sound smart',\n",
              " 'sure love',\n",
              " 'play great',\n",
              " 'work absolut great',\n",
              " 'amaz product great sound qualiti',\n",
              " 'best thing ive invest thank much',\n",
              " 'extrem impress item bought warehous outlet minor imperfect cant tell even one work great didnt come packag seal damag wasnt miss anyth like sound qualiti see knock bose great famili easi use minor learn curv learn voic integr seamlessli amazon servicesc wait get classroom lot fun even speaker let alon plan',\n",
              " 'love echo show bedroom wonder music info sleep sound',\n",
              " 'awesom life changer serious abl start morn alexa wakem alarm play music gotten use voic anoth room listen say love echo dont hesit get one price speaker unbeliev buy cordless holder take echo anywher love purchas love alexa',\n",
              " 'super impress alexa prime laps wouldnt play anyth isnt smart enough differenti among spotifi account cant use either randomli speak nobodi talk today unplug hernot sure ill ever use alexa',\n",
              " 'like everyth',\n",
              " 'like',\n",
              " 'never issu buy use electron long get good like new read comment see use',\n",
              " 'famili realli love new echo',\n",
              " 'bought wife love',\n",
              " 'fun got today pod go car use hous',\n",
              " 'like',\n",
              " 'third echo worth everi penni like household employe small flat rate keep bedroom live room dropin use intercom listen music answer quick question alarm wake school etc',\n",
              " 'listen music set timer',\n",
              " 'receiv echo perfect condit devic easi set respond quickli without issu alexa great addit famili',\n",
              " 'good sound like music schedul like get random thought record think joke cute',\n",
              " 'purchas begin learn far pleas amaz differ action perform enjoy look forward learn option provid',\n",
              " 'echo great other even though smaller',\n",
              " 'funni buy someth look fun wind total use part home love',\n",
              " 'bought replac dot live room speaker slightli better hear better tv unfortun doesnt understand respond request well dot frequent request time get want dot usual exactli want first request dont consid upgrad',\n",
              " 'good experi far second gener echo mani thing learn time yet right mostli enjoy music weather updat use alarm featur person also purchas mini smart socket ye excit begin use',\n",
              " 'troubl connect tv exactli tech smart sure one grandson figur far use mostli music',\n",
              " 'simpli love echo hardli watch tv anymor im busi listen music speaker pretti goo size fun skill realli make echo fun whole famili',\n",
              " 'enjoy entir echo experi',\n",
              " 'easi set',\n",
              " 'echo amaz devic mani time seem intuit time ask someth seem clear simpl get result instal fairli straightforward mess sever time simpli thought step complet wasnt actual made lose ground figur advic patient app let know move next stepmi biggest issu moment sever echo devic home would like use intercom told done howev cant make echo awar other exist ask alexa answer instruct chang name know like fault would think design would anticip make easier find need instruct small deal mani devic savvi peopl challeng',\n",
              " 'love much',\n",
              " 'origin alexa tap far nd gener best im happi see make improv new oneit would great updat littl ai think would help lot bug happi play music throughout whole hous adjust bass trebl thank',\n",
              " 'pleas echo nd gener nice alexa avail music weather news probabl lot discov',\n",
              " 'pleasantli surpris sound qualiti echo big fan deep bass might suffici though potenti control home option explor evolv home smart home voic recognit impress stylish fun regret purchas great technic chang peopl ask play song movi respond instantli elderli love one would great gift connect wifi simpl use want unlimit music control sure amazon prime premium spotifi blown away person dj even convers echo embarrass say echo made laugh coupl time ask tell joke tell packag sinc amazon prime addict come extrem handi',\n",
              " 'easi setup love thing',\n",
              " 'alexa throughout houseth futur arriv',\n",
              " 'alreadi alexa amazon find today could resist get echo also best thing ever use side hous couldnt happier',\n",
              " 'arriv expect',\n",
              " 'bought week ago everyth product excel dont forget buy charger order must take outsid pool worri hire electrician put outlet yard',\n",
              " 'terrif',\n",
              " 'love echo',\n",
              " 'smaller origin look nicer',\n",
              " 'work great',\n",
              " 'husband would call late adopt come technolog decid would tri echo serv primarili music sourc wow amaz great sound weve also great time listen favorit song buy ask alexa may even buy one elderli dad think enjoy one listen music even place call us',\n",
              " 'realli enjoy chang directv channel play iheartradio pandora adjust ac thermostat turn live room light outsid light',\n",
              " 'want one bought prime day absolut love',\n",
              " 'glad got echo bluetooth speaker alexa much stuff non smart speaker person love timer featur help cook multipl thing simultan pandora integr anoth featur use daili happi prime day purchas get echo hub echo dot futur',\n",
              " 'see subject line love',\n",
              " 'love',\n",
              " 'easi setup',\n",
              " 'hesit buy echo echo dot seem good enough echo except sound qualiti realli didnt feel need howev glad got differ sound realli far superior echo dot listen greatest showman littl power',\n",
              " 'sound qualiti great still learn differ thing fun',\n",
              " 'got good deal work great prime setup bit pain fault crappi internet servic work great nice sound small speaker',\n",
              " 'love',\n",
              " 'work great perfect offic',\n",
              " 'love one insid hous one pool good bose speaker around hous',\n",
              " 'easi useamaz',\n",
              " 'nice product',\n",
              " 'love echo total amaz speaker qualiti bum buy two sinc got prime day',\n",
              " 'respons great sound qualiti size',\n",
              " 'effici amaz cool use often everi day',\n",
              " 'impress qualiti sound echo definit compar bose mini gave star use appl music account',\n",
              " 'technolog small devic price good sound amaz must featur home',\n",
              " 'mainli use music learn time realli noth bad say',\n",
              " 'replac st gen concern smaller unit soundi wrong anyth volum clear good product',\n",
              " 'great addit echo plu',\n",
              " 'best',\n",
              " 'love featur play music everi room multipl echo',\n",
              " 'love alexa surpris much use',\n",
              " 'use product enjoy love',\n",
              " 'easi use great soundit great purchas great price',\n",
              " 'easi set issu',\n",
              " 'unit add much pleasur echo plu music inform home one room',\n",
              " 'extrem use simpl thing like spotifi audibl thing like sometim doesnt answer everyth ask still nice use',\n",
              " 'difficult set keep time enter password',\n",
              " 'get use use echo use shop list listen music timer work great far',\n",
              " 'cool lot fun use week still learn capabl',\n",
              " 'love love',\n",
              " 'love hard time set app',\n",
              " 'use offic anoth apart music inform',\n",
              " ...]"
            ]
          },
          "execution_count": 63,
          "metadata": {},
          "output_type": "execute_result"
        }
      ]
    },
    {
      "cell_type": "code",
      "metadata": {
        "id": "TTaJA58sbIBF"
      },
      "source": [
        "# creating bag of words \n",
        "from sklearn.feature_extraction.text import CountVectorizer\n",
        "cv = CountVectorizer(max_features = 2500)\n",
        "x1 = cv.fit_transform(corpus).toarray()\n",
        "y1 =  df.iloc[:,4].values"
      ],
      "execution_count": null,
      "outputs": []
    },
    {
      "cell_type": "code",
      "metadata": {
        "colab": {
          "base_uri": "https://localhost:8080/"
        },
        "id": "V7sY2DXAG3qq",
        "outputId": "88b1dd14-db9e-4cc6-88b8-919c9a40f465"
      },
      "source": [
        "print(x1.shape, y1.shape)"
      ],
      "execution_count": null,
      "outputs": [
        {
          "name": "stdout",
          "output_type": "stream",
          "text": [
            "(3150, 2500) (3150,)\n"
          ]
        }
      ]
    },
    {
      "cell_type": "code",
      "metadata": {
        "id": "zN9dSBsRG3m6"
      },
      "source": [
        "# creating the TF-Idf\n",
        "from sklearn.feature_extraction.text import TfidfVectorizer\n",
        "tf = TfidfVectorizer(max_features = 2500)\n",
        "x2 = tf.fit_transform(corpus).toarray()\n",
        "y2 = df.iloc[:,4].values\n"
      ],
      "execution_count": null,
      "outputs": []
    },
    {
      "cell_type": "code",
      "metadata": {
        "colab": {
          "base_uri": "https://localhost:8080/"
        },
        "id": "6VA_nuLNG3fE",
        "outputId": "0fe53e4b-f71e-4ea4-bf4d-1a549750c9cd"
      },
      "source": [
        "print(x2.shape, y2.shape)"
      ],
      "execution_count": null,
      "outputs": [
        {
          "name": "stdout",
          "output_type": "stream",
          "text": [
            "(3150, 2500) (3150,)\n"
          ]
        }
      ]
    },
    {
      "cell_type": "markdown",
      "metadata": {
        "id": "2KXLO0iO-5MJ"
      },
      "source": [
        "#  N-gram analysis\n",
        "  -- sequence of n words\n",
        "     i.e. I am rankush.\n",
        "     1 - gram => \"I\",  \"am\" , \"rankush\"\n",
        "     2 - gram => \"I am\" , \"am rankush\" , \"rankush\"\n",
        "     3 - gram => \"I am rankush\"\n",
        "\n",
        "     importance : commonly we use n-gram analysis in text mining such as auto completion of sentence and auto spell checking.\n"
      ]
    },
    {
      "cell_type": "code",
      "metadata": {
        "id": "-TVzelV8-z2W"
      },
      "source": [
        "# n-gram implementation\n",
        "cv = CountVectorizer(max_features = 2500, ngram_range=(2,2)) # two gram , if we want 3-gram (3,3)\n",
        "x3 = cv.fit_transform(corpus).toarray()\n",
        "y3 =  df.iloc[:,4].values"
      ],
      "execution_count": null,
      "outputs": []
    },
    {
      "cell_type": "code",
      "metadata": {
        "id": "gE5eiy-D-zy1"
      },
      "source": [
        "tf = TfidfVectorizer(max_features = 2500, ngram_range=(2,2)) # to use tri-gram pass (3,3)\n",
        "x4 = tf.fit_transform(corpus).toarray()\n",
        "y4 = df.iloc[:,4].values"
      ],
      "execution_count": null,
      "outputs": []
    },
    {
      "cell_type": "markdown",
      "metadata": {
        "id": "iDweYQ-_dygI"
      },
      "source": [
        "# Data visualization in nlp\n"
      ]
    },
    {
      "cell_type": "code",
      "metadata": {
        "colab": {
          "base_uri": "https://localhost:8080/",
          "height": 442
        },
        "id": "WwqB8b-Gersy",
        "outputId": "f3ff4b35-0e0d-4203-88d8-ac84cbf1e35a"
      },
      "source": [
        "df.head()"
      ],
      "execution_count": null,
      "outputs": [
        {
          "data": {
            "text/html": [
              "<div>\n",
              "<style scoped>\n",
              "    .dataframe tbody tr th:only-of-type {\n",
              "        vertical-align: middle;\n",
              "    }\n",
              "\n",
              "    .dataframe tbody tr th {\n",
              "        vertical-align: top;\n",
              "    }\n",
              "\n",
              "    .dataframe thead th {\n",
              "        text-align: right;\n",
              "    }\n",
              "</style>\n",
              "<table border=\"1\" class=\"dataframe\">\n",
              "  <thead>\n",
              "    <tr style=\"text-align: right;\">\n",
              "      <th></th>\n",
              "      <th>rating</th>\n",
              "      <th>date</th>\n",
              "      <th>variation</th>\n",
              "      <th>verified_reviews</th>\n",
              "      <th>feedback</th>\n",
              "      <th>length</th>\n",
              "      <th>polarity</th>\n",
              "      <th>subjectivity</th>\n",
              "      <th>word_count</th>\n",
              "      <th>word_density</th>\n",
              "      <th>punctuation_count</th>\n",
              "      <th>noun_count</th>\n",
              "      <th>verb_count</th>\n",
              "      <th>pron_count</th>\n",
              "      <th>adj_count</th>\n",
              "      <th>adv_count</th>\n",
              "      <th>sent_tokens</th>\n",
              "      <th>word_tokens</th>\n",
              "      <th>verfied_reviews</th>\n",
              "      <th>remove_stopword</th>\n",
              "      <th>new_rem_stopwrods</th>\n",
              "    </tr>\n",
              "  </thead>\n",
              "  <tbody>\n",
              "    <tr>\n",
              "      <th>0</th>\n",
              "      <td>5</td>\n",
              "      <td>31-Jul-18</td>\n",
              "      <td>Charcoal Fabric</td>\n",
              "      <td>Love my Echo</td>\n",
              "      <td>1</td>\n",
              "      <td>13</td>\n",
              "      <td>0.625</td>\n",
              "      <td>0.6000</td>\n",
              "      <td>3</td>\n",
              "      <td>3.250000</td>\n",
              "      <td>1</td>\n",
              "      <td>1</td>\n",
              "      <td>1</td>\n",
              "      <td>1</td>\n",
              "      <td>0</td>\n",
              "      <td>0</td>\n",
              "      <td>[Love my Echo]</td>\n",
              "      <td>[Love, my, Echo]</td>\n",
              "      <td>Love my Echo</td>\n",
              "      <td>love echo</td>\n",
              "      <td>Love Echo</td>\n",
              "    </tr>\n",
              "    <tr>\n",
              "      <th>1</th>\n",
              "      <td>5</td>\n",
              "      <td>31-Jul-18</td>\n",
              "      <td>Charcoal Fabric</td>\n",
              "      <td>Loved it</td>\n",
              "      <td>1</td>\n",
              "      <td>9</td>\n",
              "      <td>0.875</td>\n",
              "      <td>0.8000</td>\n",
              "      <td>2</td>\n",
              "      <td>3.000000</td>\n",
              "      <td>1</td>\n",
              "      <td>0</td>\n",
              "      <td>1</td>\n",
              "      <td>1</td>\n",
              "      <td>0</td>\n",
              "      <td>0</td>\n",
              "      <td>[Loved it]</td>\n",
              "      <td>[Loved, it]</td>\n",
              "      <td>Loved it</td>\n",
              "      <td>loved</td>\n",
              "      <td>Loved</td>\n",
              "    </tr>\n",
              "    <tr>\n",
              "      <th>2</th>\n",
              "      <td>4</td>\n",
              "      <td>31-Jul-18</td>\n",
              "      <td>Walnut Finish</td>\n",
              "      <td>Sometimes while playing a game you can answer ...</td>\n",
              "      <td>1</td>\n",
              "      <td>195</td>\n",
              "      <td>-0.100</td>\n",
              "      <td>0.5125</td>\n",
              "      <td>38</td>\n",
              "      <td>5.000000</td>\n",
              "      <td>3</td>\n",
              "      <td>5</td>\n",
              "      <td>8</td>\n",
              "      <td>5</td>\n",
              "      <td>3</td>\n",
              "      <td>3</td>\n",
              "      <td>[Sometimes while playing a game you can answer...</td>\n",
              "      <td>[Sometimes, while, playing, a, game, you, can,...</td>\n",
              "      <td>Sometimes while playing a game you can answer ...</td>\n",
              "      <td>sometimes playing game answer question correct...</td>\n",
              "      <td>Sometimes playing game answer question correct...</td>\n",
              "    </tr>\n",
              "    <tr>\n",
              "      <th>3</th>\n",
              "      <td>5</td>\n",
              "      <td>31-Jul-18</td>\n",
              "      <td>Charcoal Fabric</td>\n",
              "      <td>I have had a lot of fun with this thing My  yr...</td>\n",
              "      <td>1</td>\n",
              "      <td>172</td>\n",
              "      <td>0.350</td>\n",
              "      <td>0.4500</td>\n",
              "      <td>34</td>\n",
              "      <td>4.914286</td>\n",
              "      <td>4</td>\n",
              "      <td>11</td>\n",
              "      <td>6</td>\n",
              "      <td>2</td>\n",
              "      <td>1</td>\n",
              "      <td>5</td>\n",
              "      <td>[I have had a lot of fun with this thing My  y...</td>\n",
              "      <td>[I, have, had, a, lot, of, fun, with, this, th...</td>\n",
              "      <td>I have had a lot of fun with this thing My  yr...</td>\n",
              "      <td>lot fun thing yr old learns dinosaurs control ...</td>\n",
              "      <td>I lot fun thing My yr old learns dinosaurs con...</td>\n",
              "    </tr>\n",
              "    <tr>\n",
              "      <th>4</th>\n",
              "      <td>5</td>\n",
              "      <td>31-Jul-18</td>\n",
              "      <td>Charcoal Fabric</td>\n",
              "      <td>Music</td>\n",
              "      <td>1</td>\n",
              "      <td>5</td>\n",
              "      <td>0.000</td>\n",
              "      <td>0.0000</td>\n",
              "      <td>1</td>\n",
              "      <td>2.500000</td>\n",
              "      <td>0</td>\n",
              "      <td>0</td>\n",
              "      <td>0</td>\n",
              "      <td>0</td>\n",
              "      <td>1</td>\n",
              "      <td>0</td>\n",
              "      <td>[Music]</td>\n",
              "      <td>[Music]</td>\n",
              "      <td>Music</td>\n",
              "      <td>music</td>\n",
              "      <td>Music</td>\n",
              "    </tr>\n",
              "  </tbody>\n",
              "</table>\n",
              "</div>"
            ],
            "text/plain": [
              "   rating  ...                                  new_rem_stopwrods\n",
              "0       5  ...                                          Love Echo\n",
              "1       5  ...                                              Loved\n",
              "2       4  ...  Sometimes playing game answer question correct...\n",
              "3       5  ...  I lot fun thing My yr old learns dinosaurs con...\n",
              "4       5  ...                                              Music\n",
              "\n",
              "[5 rows x 21 columns]"
            ]
          },
          "execution_count": 70,
          "metadata": {},
          "output_type": "execute_result"
        }
      ]
    },
    {
      "cell_type": "code",
      "metadata": {
        "colab": {
          "base_uri": "https://localhost:8080/",
          "height": 395
        },
        "id": "iH0I-X8sCTv_",
        "outputId": "96873e39-e9ed-4cdd-8043-620c2ca44f88"
      },
      "source": [
        "# visualizing the polarity and subjectivity \n",
        "import seaborn as sns\n",
        "import matplotlib.pyplot as plt\n",
        "plt.rcParams['figure.figsize'] = (10,4)\n",
        "plt.subplot(1,2,1)\n",
        "sns.distplot(df['polarity'])\n",
        "plt.subplot(1,2,2)\n",
        "sns.distplot(df['subjectivity'])\n",
        "plt.suptitle('distribution of polarity and subjectivity ')\n",
        "plt.show()"
      ],
      "execution_count": null,
      "outputs": [
        {
          "name": "stderr",
          "output_type": "stream",
          "text": [
            "/usr/local/lib/python3.7/dist-packages/seaborn/distributions.py:2557: FutureWarning: `distplot` is a deprecated function and will be removed in a future version. Please adapt your code to use either `displot` (a figure-level function with similar flexibility) or `histplot` (an axes-level function for histograms).\n",
            "  warnings.warn(msg, FutureWarning)\n",
            "/usr/local/lib/python3.7/dist-packages/seaborn/distributions.py:2557: FutureWarning: `distplot` is a deprecated function and will be removed in a future version. Please adapt your code to use either `displot` (a figure-level function with similar flexibility) or `histplot` (an axes-level function for histograms).\n",
            "  warnings.warn(msg, FutureWarning)\n"
          ]
        },
        {
          "data": {
            "image/png": "[encoded data removed]",
            "text/plain": [
              "<Figure size 720x288 with 2 Axes>"
            ]
          },
          "metadata": {},
          "output_type": "display_data"
        }
      ]
    },
    {
      "cell_type": "code",
      "metadata": {
        "colab": {
          "base_uri": "https://localhost:8080/",
          "height": 349
        },
        "id": "3U9o4rOx-zvz",
        "outputId": "6b2d7f07-fa31-411c-a076-1c31db396a34"
      },
      "source": [
        "# lets check the relationship between the polarity and subjectivity \n",
        "sns.scatterplot(df['polarity'], df['subjectivity'])\n",
        "plt.title('polarity vs subjectivity')\n",
        "plt.show()"
      ],
      "execution_count": null,
      "outputs": [
        {
          "name": "stderr",
          "output_type": "stream",
          "text": [
            "/usr/local/lib/python3.7/dist-packages/seaborn/_decorators.py:43: FutureWarning: Pass the following variables as keyword args: x, y. From version 0.12, the only valid positional argument will be `data`, and passing other arguments without an explicit keyword will result in an error or misinterpretation.\n",
            "  FutureWarning\n"
          ]
        },
        {
          "data": {
            "image/png": "[encoded data removed]",
            "text/plain": [
              "<Figure size 720x288 with 1 Axes>"
            ]
          },
          "metadata": {},
          "output_type": "display_data"
        }
      ]
    },
    {
      "cell_type": "code",
      "metadata": {
        "colab": {
          "base_uri": "https://localhost:8080/"
        },
        "id": "Bzot7Brb-zsl",
        "outputId": "d058c1b0-d9d8-4392-b679-21dea75793ed"
      },
      "source": [
        "# process whole document\n",
        "text = (\"\"\"These are short, famous texts in English from classic sources like the Bible or Shakespeare. Some texts have word definitions and explanations to help you. Some of these texts are written in an old style of English. Try to understand them, because the English that we speak today is based on what our great, great, great, great grandparents spoke before! Of course, not all these texts were originally written in English\n",
        "\"\"\")\n",
        "\n",
        "doc = nlp_lemm(text)\n",
        "# token and tag\n",
        "#for token in doc:\n",
        "#  print(token,token.pos_)\n",
        "print(\"verbs:\",[token.text for token in doc if token.pos_ == \"VERB\"])"
      ],
      "execution_count": null,
      "outputs": [
        {
          "name": "stdout",
          "output_type": "stream",
          "text": [
            "verbs: ['help', 'written', 'Try', 'understand', 'speak', 'based', 'spoke', 'written']\n"
          ]
        }
      ]
    },
    {
      "cell_type": "code",
      "metadata": {
        "colab": {
          "base_uri": "https://localhost:8080/"
        },
        "id": "T4Lb5b-F-zpl",
        "outputId": "d6004f24-56d0-4302-c077-fde2abea99db"
      },
      "source": [
        "# name and entity location\n",
        "doc = nlp_lemm(\"rankush is looking for data science role in California with ctc of $1.5 cr/annum\")\n",
        "for ent in doc.ents:\n",
        "  print(ent.text, ent.start_char, ent.end_char, ent.label_)"
      ],
      "execution_count": null,
      "outputs": [
        {
          "name": "stdout",
          "output_type": "stream",
          "text": [
            "rankush 0 7 PERSON\n",
            "California 44 54 GPE\n",
            "1.5 68 71 MONEY\n"
          ]
        }
      ]
    },
    {
      "cell_type": "code",
      "metadata": {
        "colab": {
          "background_save": true,
          "base_uri": "https://localhost:8080/"
        },
        "id": "3u0KPt-0-zl8",
        "outputId": "2c25f16b-ca74-456c-a739-b7461317acb0"
      },
      "source": [
        "# using displacy\n",
        "from spacy import displacy\n",
        "doc = nlp_lemm(df['verified_reviews'][0])\n",
        "displacy.serve(doc,style=\"dep\")"
      ],
      "execution_count": null,
      "outputs": [
        {
          "name": "stdout",
          "output_type": "stream",
          "text": [
            "\n",
            "Using the 'dep' visualizer\n",
            "Serving on http://0.0.0.0:5000 ...\n",
            "\n"
          ]
        }
      ]
    },
    {
      "cell_type": "code",
      "metadata": {
        "id": "ABVEcP5Kjw_x"
      },
      "source": [
        "import numpy as np"
      ],
      "execution_count": null,
      "outputs": []
    },
    {
      "cell_type": "code",
      "metadata": {
        "colab": {
          "base_uri": "https://localhost:8080/",
          "height": 228
        },
        "id": "b02b-WaDh6tX",
        "outputId": "e33c2f82-c9ab-4c99-c315-7f1e4d122d26"
      },
      "source": [
        "# most frequent word in doc\n",
        "cv = CountVectorizer(stop_words='english')\n",
        "words = cv.fit_transform(df.verified_reviews)\n",
        "sum_word = words.sum(axis=0)\n",
        "\n",
        "word_freq = [(word, sum_word[0,idx]) for word,idx in cv.vocabulary_.items()]\n",
        "word_freq = sorted(word_freq,key = lambda x : x[1], reverse = True)\n",
        "frequency = pd.DataFrame(word_freq,columns=['word','freq'])\n",
        "\n",
        "plt.style.use('fivethirtyeight')\n",
        "color = plt.cm.ocean(np.linspace(0,1,20))\n",
        "frequency.head(20).plot(x='word', y='freq', figsize=(20,6), color = color)\n",
        "plt.title(\"most frequently occuring word - top 20\")\n",
        "plt.show()"
      ],
      "execution_count": null,
      "outputs": [
        {
          "data": {
            "image/png": "[encoded data removed]",
            "text/plain": [
              "<Figure size 1440x432 with 1 Axes>"
            ]
          },
          "metadata": {},
          "output_type": "display_data"
        }
      ]
    },
    {
      "cell_type": "code",
      "metadata": {
        "colab": {
          "base_uri": "https://localhost:8080/",
          "height": 343
        },
        "id": "fKScjzqnkIFL",
        "outputId": "c4afc916-2245-4056-9565-46e6bceabf67"
      },
      "source": [
        "plt.style.use('fivethirtyeight')\n",
        "color = plt.cm.ocean(np.linspace(0,1,20))\n",
        "frequency.tail(20).plot(x='word', y='freq', figsize=(20,10), color = color)\n",
        "plt.title(\"least frequently occuring word - last 20\")\n",
        "plt.show()"
      ],
      "execution_count": null,
      "outputs": [
        {
          "data": {
            "image/png": "[encoded data removed]",
            "text/plain": [
              "<Figure size 1440x720 with 1 Axes>"
            ]
          },
          "metadata": {},
          "output_type": "display_data"
        }
      ]
    },
    {
      "cell_type": "code",
      "metadata": {
        "id": "CyCExgRmkIB2"
      },
      "source": [
        "# visualizing n-gram\n",
        "import collections\n",
        "from nltk.util import ngrams\n"
      ],
      "execution_count": null,
      "outputs": []
    },
    {
      "cell_type": "code",
      "metadata": {
        "colab": {
          "base_uri": "https://localhost:8080/"
        },
        "id": "jn11KWbckH83",
        "outputId": "a1664409-dc2e-46ba-9725-55e37ac1fad6"
      },
      "source": [
        "text = str(df['verified_reviews'])\n",
        "tokenize = text.split()\n",
        "# getting list of bi-grams\n",
        "bigram = ngrams(tokenize,2)\n",
        "# getting the frequency of each bigram in our corpus\n",
        "bigram_freq = collections.Counter(bigram)\n",
        "# ten most popular ngrams \n",
        "bigram_freq.most_common(10)"
      ],
      "execution_count": null,
      "outputs": [
        {
          "data": {
            "text/plain": [
              "[(('I', 'have'), 2),\n",
              " (('0', 'Love'), 1),\n",
              " (('Love', 'my'), 1),\n",
              " (('my', 'Echo'), 1),\n",
              " (('Echo', '1'), 1),\n",
              " (('1', 'Loved'), 1),\n",
              " (('Loved', 'it'), 1),\n",
              " (('it', '2'), 1),\n",
              " (('2', 'Sometimes'), 1),\n",
              " (('Sometimes', 'while'), 1)]"
            ]
          },
          "execution_count": 80,
          "metadata": {},
          "output_type": "execute_result"
        }
      ]
    },
    {
      "cell_type": "code",
      "metadata": {
        "colab": {
          "base_uri": "https://localhost:8080/"
        },
        "id": "-yRaFNmCkH3Q",
        "outputId": "9899f310-77b5-4abc-eb44-3d5a49bfade7"
      },
      "source": [
        "# tri-gram\n",
        "text = str(df['verified_reviews'])\n",
        "tokenize = text.split()\n",
        "# getting list of bi-grams\n",
        "trigram = ngrams(tokenize,3)\n",
        "# getting the frequency of each bigram in our corpus\n",
        "trigram_freq = collections.Counter(trigram)\n",
        "# ten most popular ngrams \n",
        "trigram_freq.most_common(10)"
      ],
      "execution_count": null,
      "outputs": [
        {
          "data": {
            "text/plain": [
              "[(('0', 'Love', 'my'), 1),\n",
              " (('Love', 'my', 'Echo'), 1),\n",
              " (('my', 'Echo', '1'), 1),\n",
              " (('Echo', '1', 'Loved'), 1),\n",
              " (('1', 'Loved', 'it'), 1),\n",
              " (('Loved', 'it', '2'), 1),\n",
              " (('it', '2', 'Sometimes'), 1),\n",
              " (('2', 'Sometimes', 'while'), 1),\n",
              " (('Sometimes', 'while', 'playing'), 1),\n",
              " (('while', 'playing', 'a'), 1)]"
            ]
          },
          "execution_count": 81,
          "metadata": {},
          "output_type": "execute_result"
        }
      ]
    },
    {
      "cell_type": "markdown",
      "metadata": {
        "id": "xbQ-mqnHXO0a"
      },
      "source": [
        "# introduction to word cloud \n",
        "  --  display the list of words and the importance or the frequency of each word is depicted by the word size and color.\n",
        "Word clouds are widely used for analyzing data from social networking sites.\n",
        "\n"
      ]
    },
    {
      "cell_type": "code",
      "metadata": {
        "colab": {
          "base_uri": "https://localhost:8080/"
        },
        "id": "uGVWWVJjXmjd",
        "outputId": "328e208e-d909-4528-821f-5097c71aff36"
      },
      "source": [
        "!pip install wordcloud"
      ],
      "execution_count": null,
      "outputs": [
        {
          "name": "stdout",
          "output_type": "stream",
          "text": [
            "Requirement already satisfied: wordcloud in /usr/local/lib/python3.7/dist-packages (1.5.0)\n",
            "Requirement already satisfied: pillow in /usr/local/lib/python3.7/dist-packages (from wordcloud) (7.1.2)\n",
            "Requirement already satisfied: numpy>=1.6.1 in /usr/local/lib/python3.7/dist-packages (from wordcloud) (1.19.5)\n"
          ]
        }
      ]
    },
    {
      "cell_type": "code",
      "metadata": {
        "id": "KDgZ6qE4XmgH"
      },
      "source": [
        "from wordcloud import WordCloud"
      ],
      "execution_count": null,
      "outputs": []
    },
    {
      "cell_type": "code",
      "metadata": {
        "colab": {
          "base_uri": "https://localhost:8080/",
          "height": 635
        },
        "id": "CBOQ7dKQXmdm",
        "outputId": "0a3cae05-31f9-4861-831b-f6217f514a11"
      },
      "source": [
        "cv = CountVectorizer(stop_words='english')\n",
        "words = cv.fit_transform(df.verified_reviews)\n",
        "sum_word = words.sum(axis=0)\n",
        "\n",
        "word_freq = [(word, sum_word[0,idx]) for word,idx in cv.vocabulary_.items()]\n",
        "word_freq = sorted(word_freq,key = lambda x : x[1], reverse = True)\n",
        "wordcloud = WordCloud(background_color='lightcyan',width = 2000, height = 2000).generate_from_frequencies(dict(word_freq))\n",
        "plt.style.use('fivethirtyeight')\n",
        "plt.figure(figsize=(10,10))\n",
        "plt.axis('off')\n",
        "plt.title(\"Vocablary from reviews\", fontsize = 20)\n",
        "plt.show()"
      ],
      "execution_count": null,
      "outputs": [
        {
          "data": {
            "image/png": "[encoded data removed]",
            "text/plain": [
              "<Figure size 720x720 with 1 Axes>"
            ]
          },
          "metadata": {},
          "output_type": "display_data"
        }
      ]
    },
    {
      "cell_type": "markdown",
      "metadata": {
        "id": "3PlpFgXsaO0T"
      },
      "source": [
        "# Text Classification using ml \n",
        "    \n",
        "\n",
        "```\n",
        "process of analyzing the natural language text and then labelling the text with a predefined set of labels or tags.\n",
        "\n",
        "# for example : Email classification spam or not spam, sentiment analysis , language detection\n",
        "```\n",
        "# models for text classification\n",
        "1. Naive bayes family of algoriths\n",
        "2. Support vector Machines (svm)\n",
        "3. Deep learning\n"
      ]
    },
    {
      "cell_type": "markdown",
      "metadata": {
        "id": "swHWft-afB0G"
      },
      "source": [
        "# naive bayes\n",
        " --  is based on conditional probability the probability of an event occuring based on the occurance of the previous event.\n",
        " # bayes theoram\n",
        " P(A/B) = P(A and B)/P(B) => P(A and B) = P(A/B) P(B)   .......(i)\n",
        " P(B/A) = P(B AND A)/P(A) => P(B AND A) = P(B/A) P(A)   ........(ii)\n",
        " from both equation we will get\n",
        "\n",
        " P(A/B) = [P(B/A) P(A)]/P(B)\n"
      ]
    },
    {
      "cell_type": "code",
      "metadata": {
        "id": "y3CB0Y1fXmb3"
      },
      "source": [
        "from sklearn.model_selection import train_test_split\n",
        "x_train, x_test, y_train, y_test = train_test_split(x2,y2, test_size=0.3, random_state = 15)\n"
      ],
      "execution_count": null,
      "outputs": []
    },
    {
      "cell_type": "code",
      "metadata": {
        "colab": {
          "base_uri": "https://localhost:8080/"
        },
        "id": "1gxpQWSaXmXt",
        "outputId": "b3d436ec-6785-41f5-8712-40fd6946753c"
      },
      "source": [
        "from sklearn.naive_bayes import GaussianNB\n",
        "model = GaussianNB()\n",
        "model.fit(x_train,y_train)\n",
        "y_pred = model.predict(x_test)\n",
        "print('training accuracy:-',model.score(x_train,y_train))\n",
        "print('testing accuracy:-',model.score(x_test,y_test))"
      ],
      "execution_count": null,
      "outputs": [
        {
          "name": "stdout",
          "output_type": "stream",
          "text": [
            "training accuracy:- 0.6444444444444445\n",
            "testing accuracy:- 0.5936507936507937\n"
          ]
        }
      ]
    },
    {
      "cell_type": "code",
      "metadata": {
        "colab": {
          "base_uri": "https://localhost:8080/"
        },
        "id": "IDcf9fB5XmUp",
        "outputId": "9af8c27e-a609-47dd-d3c0-4dcc773246dc"
      },
      "source": [
        "# Implementing the Support vector machine\n",
        "from sklearn.svm import SVC\n",
        "model2 = SVC()\n",
        "model2.fit(x_train,y_train)\n",
        "y_pred = model2.predict(x_test)\n",
        "print('training accuracy:-',model2.score(x_train,y_train))\n",
        "print('testing accuracy:-',model2.score(x_test,y_test))"
      ],
      "execution_count": null,
      "outputs": [
        {
          "name": "stdout",
          "output_type": "stream",
          "text": [
            "training accuracy:- 0.981859410430839\n",
            "testing accuracy:- 0.9301587301587302\n"
          ]
        }
      ]
    },
    {
      "cell_type": "code",
      "metadata": {
        "colab": {
          "base_uri": "https://localhost:8080/"
        },
        "id": "vPyMkwdpkH0B",
        "outputId": "471e8de0-d745-43ac-f41f-f3a4c30d289d"
      },
      "source": [
        "!pip install tweepy"
      ],
      "execution_count": null,
      "outputs": [
        {
          "name": "stdout",
          "output_type": "stream",
          "text": [
            "Requirement already satisfied: tweepy in /usr/local/lib/python3.7/dist-packages (3.10.0)\n",
            "Requirement already satisfied: requests-oauthlib>=0.7.0 in /usr/local/lib/python3.7/dist-packages (from tweepy) (1.3.0)\n",
            "Requirement already satisfied: six>=1.10.0 in /usr/local/lib/python3.7/dist-packages (from tweepy) (1.15.0)\n",
            "Requirement already satisfied: requests[socks]>=2.11.1 in /usr/local/lib/python3.7/dist-packages (from tweepy) (2.23.0)\n",
            "Requirement already satisfied: oauthlib>=3.0.0 in /usr/local/lib/python3.7/dist-packages (from requests-oauthlib>=0.7.0->tweepy) (3.1.1)\n",
            "Requirement already satisfied: idna<3,>=2.5 in /usr/local/lib/python3.7/dist-packages (from requests[socks]>=2.11.1->tweepy) (2.10)\n",
            "Requirement already satisfied: urllib3!=1.25.0,!=1.25.1,<1.26,>=1.21.1 in /usr/local/lib/python3.7/dist-packages (from requests[socks]>=2.11.1->tweepy) (1.24.3)\n",
            "Requirement already satisfied: chardet<4,>=3.0.2 in /usr/local/lib/python3.7/dist-packages (from requests[socks]>=2.11.1->tweepy) (3.0.4)\n",
            "Requirement already satisfied: certifi>=2017.4.17 in /usr/local/lib/python3.7/dist-packages (from requests[socks]>=2.11.1->tweepy) (2021.5.30)\n",
            "Requirement already satisfied: PySocks!=1.5.7,>=1.5.6 in /usr/local/lib/python3.7/dist-packages (from requests[socks]>=2.11.1->tweepy) (1.7.1)\n"
          ]
        }
      ]
    },
    {
      "cell_type": "markdown",
      "metadata": {
        "id": "oygLBju3hbEi"
      },
      "source": [
        "# Project Setiment analysis engine\n",
        "---  A processing technique used to determine whether the data is positive , negative, or neutral.\n",
        "\n"
      ]
    },
    {
      "cell_type": "code",
      "metadata": {
        "id": "AXccO9b8hayK"
      },
      "source": [
        "# loading the dataset \n",
        "data = pd.read_csv(\"/content/drive/MyDrive/sentiment140.csv\",encoding = \"ISO-8859-1\",nrows=1000)"
      ],
      "execution_count": null,
      "outputs": []
    },
    {
      "cell_type": "code",
      "metadata": {
        "id": "4bGwZ65_kHwF"
      },
      "source": [
        "# removing the text start with @ and not alphaneumeric and start with https and adding the remaining charcters\n",
        "def clean_data(text):\n",
        "  return \" \".join(re.sub(\"(@[a-zA-z0-9]+)|([^0-9A-Za-z])|(https://[\\w.]+/[\\w]+)\",\" \", text).split())"
      ],
      "execution_count": null,
      "outputs": []
    },
    {
      "cell_type": "code",
      "metadata": {
        "id": "qYzh7UUFkHsa"
      },
      "source": [
        "data['cleaned_text'] = data['Reviews'].apply(clean_data)"
      ],
      "execution_count": null,
      "outputs": []
    },
    {
      "cell_type": "code",
      "metadata": {
        "colab": {
          "base_uri": "https://localhost:8080/",
          "height": 237
        },
        "id": "UfTa_XxbrzRp",
        "outputId": "87bb193d-5122-498e-a9ae-8545d54c752f"
      },
      "source": [
        "data.head()"
      ],
      "execution_count": null,
      "outputs": [
        {
          "data": {
            "text/html": [
              "<div>\n",
              "<style scoped>\n",
              "    .dataframe tbody tr th:only-of-type {\n",
              "        vertical-align: middle;\n",
              "    }\n",
              "\n",
              "    .dataframe tbody tr th {\n",
              "        vertical-align: top;\n",
              "    }\n",
              "\n",
              "    .dataframe thead th {\n",
              "        text-align: right;\n",
              "    }\n",
              "</style>\n",
              "<table border=\"1\" class=\"dataframe\">\n",
              "  <thead>\n",
              "    <tr style=\"text-align: right;\">\n",
              "      <th></th>\n",
              "      <th>Reviews</th>\n",
              "      <th>cleaned_text</th>\n",
              "    </tr>\n",
              "  </thead>\n",
              "  <tbody>\n",
              "    <tr>\n",
              "      <th>0</th>\n",
              "      <td>is upset that he can't update his Facebook by ...</td>\n",
              "      <td>is upset that he can t update his Facebook by ...</td>\n",
              "    </tr>\n",
              "    <tr>\n",
              "      <th>1</th>\n",
              "      <td>@Kenichan I dived many times for the ball. Man...</td>\n",
              "      <td>I dived many times for the ball Managed to sav...</td>\n",
              "    </tr>\n",
              "    <tr>\n",
              "      <th>2</th>\n",
              "      <td>my whole body feels itchy and like its on fire</td>\n",
              "      <td>my whole body feels itchy and like its on fire</td>\n",
              "    </tr>\n",
              "    <tr>\n",
              "      <th>3</th>\n",
              "      <td>@nationwideclass no, it's not behaving at all....</td>\n",
              "      <td>no it s not behaving at all i m mad why am i h...</td>\n",
              "    </tr>\n",
              "    <tr>\n",
              "      <th>4</th>\n",
              "      <td>@Kwesidei not the whole crew</td>\n",
              "      <td>not the whole crew</td>\n",
              "    </tr>\n",
              "  </tbody>\n",
              "</table>\n",
              "</div>"
            ],
            "text/plain": [
              "                                             Reviews                                       cleaned_text\n",
              "0  is upset that he can't update his Facebook by ...  is upset that he can t update his Facebook by ...\n",
              "1  @Kenichan I dived many times for the ball. Man...  I dived many times for the ball Managed to sav...\n",
              "2    my whole body feels itchy and like its on fire      my whole body feels itchy and like its on fire\n",
              "3  @nationwideclass no, it's not behaving at all....  no it s not behaving at all i m mad why am i h...\n",
              "4                      @Kwesidei not the whole crew                                  not the whole crew"
            ]
          },
          "execution_count": 92,
          "metadata": {},
          "output_type": "execute_result"
        }
      ]
    },
    {
      "cell_type": "code",
      "metadata": {
        "id": "6-dFi_8crzOP"
      },
      "source": [
        "# droping the numbers from the text\n",
        "def drop_num(list_text):\n",
        "  new_list = []\n",
        "  for i in list_text:\n",
        "    if not re.search('\\d',i):\n",
        "      new_list.append(i)\n",
        "  return ''.join(new_list)\n"
      ],
      "execution_count": null,
      "outputs": []
    },
    {
      "cell_type": "code",
      "metadata": {
        "id": "msJ4ENJWrzMN"
      },
      "source": [
        "data['cleaned_text'] = data['cleaned_text'].apply(drop_num)"
      ],
      "execution_count": null,
      "outputs": []
    },
    {
      "cell_type": "code",
      "metadata": {
        "colab": {
          "base_uri": "https://localhost:8080/"
        },
        "id": "9bqXNuTRrzJR",
        "outputId": "5c0dfe39-5db2-4f99-92c9-ba195508ea0b"
      },
      "source": [
        "print(data.Reviews[100],'\\n', data.cleaned_text[100])"
      ],
      "execution_count": null,
      "outputs": [
        {
          "name": "stdout",
          "output_type": "stream",
          "text": [
            "@mangaaa I hope they will increase the capacity fast, yesterday was such a pain. Got the fail whale +15 times in 2 hours....  \n",
            " I hope they will increase the capacity fast yesterday was such a pain Got the fail whale  times in  hours\n"
          ]
        }
      ]
    },
    {
      "cell_type": "code",
      "metadata": {
        "id": "ZJUdP0FGrzGn"
      },
      "source": [
        "# converting all the charcter in lower case\n",
        "def lower_case(text):\n",
        "  text_token = word_tokenize(text)\n",
        "  text_lower = [x.lower() for x in text_token]\n",
        "  return ' '.join(text_lower)"
      ],
      "execution_count": null,
      "outputs": []
    },
    {
      "cell_type": "code",
      "metadata": {
        "id": "eiNhwzV2rzD2"
      },
      "source": [
        "data['cleaned_text'] = data['cleaned_text'].apply(lower_case)"
      ],
      "execution_count": null,
      "outputs": []
    },
    {
      "cell_type": "code",
      "metadata": {
        "colab": {
          "base_uri": "https://localhost:8080/"
        },
        "id": "orvrtVUmry_a",
        "outputId": "cd368131-f8f2-4452-8d17-74a1c6c8e458"
      },
      "source": [
        "print(data.Reviews[50],'\\n', data.cleaned_text[50])"
      ],
      "execution_count": null,
      "outputs": [
        {
          "name": "stdout",
          "output_type": "stream",
          "text": [
            "@localtweeps Wow, tons of replies from you, may have to unfollow so I can see my friends' tweets, you're scrolling the feed a lot.  \n",
            " wow tons of replies from you may have to unfollow so i can see my friends tweets you re scrolling the feed a lot\n"
          ]
        }
      ]
    },
    {
      "cell_type": "code",
      "metadata": {
        "id": "lsKseEO0tGKc"
      },
      "source": [
        "import nltk"
      ],
      "execution_count": null,
      "outputs": []
    },
    {
      "cell_type": "code",
      "metadata": {
        "colab": {
          "base_uri": "https://localhost:8080/"
        },
        "id": "-XIuJrUEvL_u",
        "outputId": "78bdab41-9fe2-40f4-ae41-8e6f335af4c9"
      },
      "source": [
        "nltk.download('wordnet')"
      ],
      "execution_count": null,
      "outputs": [
        {
          "output_type": "stream",
          "name": "stdout",
          "text": [
            "[nltk_data] Downloading package wordnet to /root/nltk_data...\n",
            "[nltk_data]   Package wordnet is already up-to-date!\n"
          ]
        },
        {
          "output_type": "execute_result",
          "data": {
            "text/plain": [
              "True"
            ]
          },
          "metadata": {},
          "execution_count": 54
        }
      ]
    },
    {
      "cell_type": "code",
      "metadata": {
        "id": "qijbVpy6ry4j"
      },
      "source": [
        "# lemmatizing the text\n",
        "from nltk.stem.wordnet import WordNetLemmatizer\n",
        "lemmatizer = WordNetLemmatizer()\n",
        "def lemmatizing(text):\n",
        "  text_token = word_tokenize(text)\n",
        "  text_lemma = [lemmatizer.lemmatize(word) for word in text_token]\n",
        "  return ' '.join(text_lemma)"
      ],
      "execution_count": null,
      "outputs": []
    },
    {
      "cell_type": "code",
      "metadata": {
        "id": "CoNPHgiqu_EG"
      },
      "source": [
        "data['cleaned_text'] = data['cleaned_text'].apply(lemmatizing)"
      ],
      "execution_count": null,
      "outputs": []
    },
    {
      "cell_type": "code",
      "metadata": {
        "colab": {
          "base_uri": "https://localhost:8080/"
        },
        "id": "KrfKBCNqu-_o",
        "outputId": "225c715c-3bc8-4aab-c502-95c8bba6ffab"
      },
      "source": [
        "print(data.Reviews[250],'\\n', data.cleaned_text[250])"
      ],
      "execution_count": null,
      "outputs": [
        {
          "name": "stdout",
          "output_type": "stream",
          "text": [
            "feeling lost, naked and confused (JK, sort of).....no iphone for me.  \n",
            " feeling lost naked and confused jk sort of no iphone for me\n"
          ]
        }
      ]
    },
    {
      "cell_type": "code",
      "metadata": {
        "id": "PeVCM1yYu-9E"
      },
      "source": [
        "data['cleaned_text'].values"
      ],
      "execution_count": null,
      "outputs": []
    },
    {
      "cell_type": "code",
      "metadata": {
        "id": "Iy8BADMHu-6m"
      },
      "source": [
        "# removing the stopword\n",
        "def remove_stopword(text):\n",
        "  text_tokens = word_tokenize(text)\n",
        "  tokens = [word for word in text_tokens if not word in set(stopwords.words('english'))]\n",
        "  token_text = ' '.join(tokens)\n",
        "  return token_text"
      ],
      "execution_count": null,
      "outputs": []
    },
    {
      "cell_type": "code",
      "metadata": {
        "id": "TPz-yHRAu-4Q"
      },
      "source": [
        "data['cleaned_text'] = data['cleaned_text'].apply(remove_stopword)"
      ],
      "execution_count": null,
      "outputs": []
    },
    {
      "cell_type": "code",
      "metadata": {
        "id": "YBVBuOynu-1M"
      },
      "source": [
        "# removing accent word\n",
        "data['cleaned_text'] = data.apply(lambda x: remove_accent(x['cleaned_text']),axis=1)\n"
      ],
      "execution_count": null,
      "outputs": []
    },
    {
      "cell_type": "code",
      "metadata": {
        "id": "sw20yDdIQJ5n"
      },
      "source": [
        "# removing the punctuations\n",
        "data['cleaned_text'] = data['cleaned_text'].apply(remove_punctuations)"
      ],
      "execution_count": null,
      "outputs": []
    },
    {
      "cell_type": "code",
      "metadata": {
        "colab": {
          "base_uri": "https://localhost:8080/"
        },
        "id": "rmUuIXF-QZOv",
        "outputId": "3870d808-3152-4d24-d85c-0c1317d31bfc"
      },
      "source": [
        "print(data.Reviews[250],'\\n', data.cleaned_text[250])"
      ],
      "execution_count": null,
      "outputs": [
        {
          "name": "stdout",
          "output_type": "stream",
          "text": [
            "feeling lost, naked and confused (JK, sort of).....no iphone for me.  \n",
            " feeling lost naked confused jk sort iphone\n"
          ]
        }
      ]
    },
    {
      "cell_type": "code",
      "metadata": {
        "colab": {
          "base_uri": "https://localhost:8080/"
        },
        "id": "R5h5JYYVWVaa",
        "outputId": "8e192fb3-dd6d-4050-93bf-ffb8124daf14"
      },
      "source": [
        "!pip install textblob"
      ],
      "execution_count": null,
      "outputs": [
        {
          "name": "stdout",
          "output_type": "stream",
          "text": [
            "Requirement already satisfied: textblob in /usr/local/lib/python3.7/dist-packages (0.15.3)\n",
            "Requirement already satisfied: nltk>=3.1 in /usr/local/lib/python3.7/dist-packages (from textblob) (3.2.5)\n",
            "Requirement already satisfied: six in /usr/local/lib/python3.7/dist-packages (from nltk>=3.1->textblob) (1.15.0)\n"
          ]
        }
      ]
    },
    {
      "cell_type": "code",
      "metadata": {
        "id": "zBFhJ0VmWjHV"
      },
      "source": [
        "from textblob import TextBlob"
      ],
      "execution_count": null,
      "outputs": []
    },
    {
      "cell_type": "code",
      "metadata": {
        "id": "Gme94v-fQdnJ"
      },
      "source": [
        "# lets calculate polarity of the review\n",
        "# polarity is the Expression which Determine the sentimental aspect of an opinion\n",
        "def get_polarity(text):\n",
        "  textblob = TextBlob(str(text))\n",
        "  pol = textblob.sentiment.polarity\n",
        "  if(pol==0):\n",
        "    return \"Neutral\"\n",
        "  elif(pol>0 and pol<=0.3):\n",
        "    return \"weakly Positive\"\n",
        "  elif(pol>0.3 and pol<=0.6):\n",
        "    return \"positive\"\n",
        "  elif(pol>0.6 and pol<=1):\n",
        "    return \"strongly Positive\"\n",
        "  elif(pol>-0.3 and pol<=0):\n",
        "    return \"weekly Negative\"\n",
        "  elif(pol>-0.6 and pol<=-0.3):\n",
        "    return \"Negative\"\n",
        "  elif(pol>-1 and pol<=-0.6):\n",
        "    return \"Strongly negative\"\n",
        "\n"
      ],
      "execution_count": null,
      "outputs": []
    },
    {
      "cell_type": "code",
      "metadata": {
        "id": "4OAJ-dNjXmWK"
      },
      "source": [
        "data['polarity'] = data['cleaned_text'].apply(get_polarity)"
      ],
      "execution_count": null,
      "outputs": []
    },
    {
      "cell_type": "code",
      "metadata": {
        "colab": {
          "base_uri": "https://localhost:8080/"
        },
        "id": "t9ZFlupPXslG",
        "outputId": "73bb3716-4fe4-4d7b-f484-32744083726d"
      },
      "source": [
        "data['polarity'].value_counts()"
      ],
      "execution_count": null,
      "outputs": [
        {
          "data": {
            "text/plain": [
              "Neutral              374\n",
              "weakly Positive      179\n",
              "weekly Negative      147\n",
              "Negative             127\n",
              "positive              78\n",
              "Strongly negative     52\n",
              "strongly Positive     36\n",
              "Name: polarity, dtype: int64"
            ]
          },
          "execution_count": 113,
          "metadata": {},
          "output_type": "execute_result"
        }
      ]
    },
    {
      "cell_type": "markdown",
      "metadata": {
        "id": "39wCAFUba4cl"
      },
      "source": [
        "# Drug prescription using reviews\n",
        " -- Problem statement :- for the aquisition process the startup are required to tabulate all drugs that they have sold and accout for the drug effectiveness. provide a sophisticated and useful model and find out most useful drug for each condition."
      ]
    },
    {
      "cell_type": "code",
      "metadata": {
        "id": "LDSEBLAdjlKI"
      },
      "source": [
        "import pandas as pd\n",
        "import numpy as np\n"
      ],
      "execution_count": null,
      "outputs": []
    },
    {
      "cell_type": "code",
      "metadata": {
        "id": "CUumEoAaYDSo"
      },
      "source": [
        "df_drug = pd.read_csv(\"/content/drive/MyDrive/drug.csv\")"
      ],
      "execution_count": null,
      "outputs": []
    },
    {
      "cell_type": "code",
      "metadata": {
        "colab": {
          "base_uri": "https://localhost:8080/",
          "height": 388
        },
        "id": "Oh4LFFr3U-TU",
        "outputId": "98203436-f056-41b5-8098-411adef15324"
      },
      "source": [
        "df_drug.head()"
      ],
      "execution_count": null,
      "outputs": [
        {
          "output_type": "execute_result",
          "data": {
            "text/html": [
              "<div>\n",
              "<style scoped>\n",
              "    .dataframe tbody tr th:only-of-type {\n",
              "        vertical-align: middle;\n",
              "    }\n",
              "\n",
              "    .dataframe tbody tr th {\n",
              "        vertical-align: top;\n",
              "    }\n",
              "\n",
              "    .dataframe thead th {\n",
              "        text-align: right;\n",
              "    }\n",
              "</style>\n",
              "<table border=\"1\" class=\"dataframe\">\n",
              "  <thead>\n",
              "    <tr style=\"text-align: right;\">\n",
              "      <th></th>\n",
              "      <th>uniqueID</th>\n",
              "      <th>drugName</th>\n",
              "      <th>condition</th>\n",
              "      <th>review</th>\n",
              "      <th>rating</th>\n",
              "      <th>date</th>\n",
              "      <th>usefulCount</th>\n",
              "    </tr>\n",
              "  </thead>\n",
              "  <tbody>\n",
              "    <tr>\n",
              "      <th>0</th>\n",
              "      <td>206461</td>\n",
              "      <td>Valsartan</td>\n",
              "      <td>Left Ventricular Dysfunction</td>\n",
              "      <td>\"It has no side effect, I take it in combinati...</td>\n",
              "      <td>9</td>\n",
              "      <td>20-May-12</td>\n",
              "      <td>27</td>\n",
              "    </tr>\n",
              "    <tr>\n",
              "      <th>1</th>\n",
              "      <td>95260</td>\n",
              "      <td>Guanfacine</td>\n",
              "      <td>ADHD</td>\n",
              "      <td>\"My son is halfway through his fourth week of ...</td>\n",
              "      <td>8</td>\n",
              "      <td>27-Apr-10</td>\n",
              "      <td>192</td>\n",
              "    </tr>\n",
              "    <tr>\n",
              "      <th>2</th>\n",
              "      <td>92703</td>\n",
              "      <td>Lybrel</td>\n",
              "      <td>Birth Control</td>\n",
              "      <td>\"I used to take another oral contraceptive, wh...</td>\n",
              "      <td>5</td>\n",
              "      <td>14-Dec-09</td>\n",
              "      <td>17</td>\n",
              "    </tr>\n",
              "    <tr>\n",
              "      <th>3</th>\n",
              "      <td>138000</td>\n",
              "      <td>Ortho Evra</td>\n",
              "      <td>Birth Control</td>\n",
              "      <td>\"This is my first time using any form of birth...</td>\n",
              "      <td>8</td>\n",
              "      <td>03-Nov-15</td>\n",
              "      <td>10</td>\n",
              "    </tr>\n",
              "    <tr>\n",
              "      <th>4</th>\n",
              "      <td>35696</td>\n",
              "      <td>Buprenorphine / naloxone</td>\n",
              "      <td>Opiate Dependence</td>\n",
              "      <td>\"Suboxone has completely turned my life around...</td>\n",
              "      <td>9</td>\n",
              "      <td>27-Nov-16</td>\n",
              "      <td>37</td>\n",
              "    </tr>\n",
              "  </tbody>\n",
              "</table>\n",
              "</div>"
            ],
            "text/plain": [
              "   uniqueID                  drugName  ...       date usefulCount\n",
              "0    206461                 Valsartan  ...  20-May-12          27\n",
              "1     95260                Guanfacine  ...  27-Apr-10         192\n",
              "2     92703                    Lybrel  ...  14-Dec-09          17\n",
              "3    138000                Ortho Evra  ...  03-Nov-15          10\n",
              "4     35696  Buprenorphine / naloxone  ...  27-Nov-16          37\n",
              "\n",
              "[5 rows x 7 columns]"
            ]
          },
          "metadata": {},
          "execution_count": 8
        }
      ]
    },
    {
      "cell_type": "code",
      "metadata": {
        "colab": {
          "base_uri": "https://localhost:8080/"
        },
        "id": "vsjlJPWfU-a2",
        "outputId": "9e420cd3-2868-454f-9ac9-177ae1e8b829"
      },
      "source": [
        "print(df_drug.shape)"
      ],
      "execution_count": null,
      "outputs": [
        {
          "output_type": "stream",
          "name": "stdout",
          "text": [
            "(161297, 7)\n"
          ]
        }
      ]
    },
    {
      "cell_type": "code",
      "metadata": {
        "colab": {
          "base_uri": "https://localhost:8080/"
        },
        "id": "79EFCLm3U-eB",
        "outputId": "c5c5b265-b301-4c7e-bdae-6a6a6fc85183"
      },
      "source": [
        "# exploring the dataset\n",
        "print(\"number of unique drug present in the dataset : \", df_drug['drugName'].nunique())\n",
        "print(\"number of unique medical condition present in the dataset : \", df_drug['condition'].nunique())\n",
        "print('the time period of the data colelction are : ', df_drug['date'].min(), df_drug['date'].max())"
      ],
      "execution_count": null,
      "outputs": [
        {
          "output_type": "stream",
          "name": "stdout",
          "text": [
            "number of unique drug present in the dataset :  3436\n",
            "number of unique medical condition present in the dataset :  884\n",
            "the time period of the data colelction are :  01-Apr-08 31-Oct-17\n"
          ]
        }
      ]
    },
    {
      "cell_type": "code",
      "metadata": {
        "id": "GwMGSkrmU-hS",
        "colab": {
          "base_uri": "https://localhost:8080/",
          "height": 295
        },
        "outputId": "ce235cbd-9317-4783-a862-064e7e72392c"
      },
      "source": [
        "# summerizing the dataset\n",
        "df_drug[['rating','usefulCount']].describe()"
      ],
      "execution_count": null,
      "outputs": [
        {
          "output_type": "execute_result",
          "data": {
            "text/html": [
              "<div>\n",
              "<style scoped>\n",
              "    .dataframe tbody tr th:only-of-type {\n",
              "        vertical-align: middle;\n",
              "    }\n",
              "\n",
              "    .dataframe tbody tr th {\n",
              "        vertical-align: top;\n",
              "    }\n",
              "\n",
              "    .dataframe thead th {\n",
              "        text-align: right;\n",
              "    }\n",
              "</style>\n",
              "<table border=\"1\" class=\"dataframe\">\n",
              "  <thead>\n",
              "    <tr style=\"text-align: right;\">\n",
              "      <th></th>\n",
              "      <th>rating</th>\n",
              "      <th>usefulCount</th>\n",
              "    </tr>\n",
              "  </thead>\n",
              "  <tbody>\n",
              "    <tr>\n",
              "      <th>count</th>\n",
              "      <td>161297.000000</td>\n",
              "      <td>161297.000000</td>\n",
              "    </tr>\n",
              "    <tr>\n",
              "      <th>mean</th>\n",
              "      <td>6.994377</td>\n",
              "      <td>28.004755</td>\n",
              "    </tr>\n",
              "    <tr>\n",
              "      <th>std</th>\n",
              "      <td>3.272329</td>\n",
              "      <td>36.403742</td>\n",
              "    </tr>\n",
              "    <tr>\n",
              "      <th>min</th>\n",
              "      <td>1.000000</td>\n",
              "      <td>0.000000</td>\n",
              "    </tr>\n",
              "    <tr>\n",
              "      <th>25%</th>\n",
              "      <td>5.000000</td>\n",
              "      <td>6.000000</td>\n",
              "    </tr>\n",
              "    <tr>\n",
              "      <th>50%</th>\n",
              "      <td>8.000000</td>\n",
              "      <td>16.000000</td>\n",
              "    </tr>\n",
              "    <tr>\n",
              "      <th>75%</th>\n",
              "      <td>10.000000</td>\n",
              "      <td>36.000000</td>\n",
              "    </tr>\n",
              "    <tr>\n",
              "      <th>max</th>\n",
              "      <td>10.000000</td>\n",
              "      <td>1291.000000</td>\n",
              "    </tr>\n",
              "  </tbody>\n",
              "</table>\n",
              "</div>"
            ],
            "text/plain": [
              "              rating    usefulCount\n",
              "count  161297.000000  161297.000000\n",
              "mean        6.994377      28.004755\n",
              "std         3.272329      36.403742\n",
              "min         1.000000       0.000000\n",
              "25%         5.000000       6.000000\n",
              "50%         8.000000      16.000000\n",
              "75%        10.000000      36.000000\n",
              "max        10.000000    1291.000000"
            ]
          },
          "metadata": {},
          "execution_count": 120
        }
      ]
    },
    {
      "cell_type": "code",
      "metadata": {
        "id": "WwRYnrSQU-lL",
        "colab": {
          "base_uri": "https://localhost:8080/"
        },
        "outputId": "769ab6c7-2212-4567-ea18-7b2d5e9d2dca"
      },
      "source": [
        "# useful and useless drug\n",
        "print(\"analysing useless drug count\\n____________________________________\\n\")\n",
        "print('drug having 0 usefullness : ',df_drug[df_drug['usefulCount']==0].count()[0])\n",
        "print('number of good drug with lesser useful count : ',df_drug[(df_drug['usefulCount'] ==0) & df_drug['rating']>=8].count()[0])\n",
        "print('average rating of drug with zero usefullness : ',np.average(df_drug[df_drug['usefulCount']==0]['rating']))\n",
        "#print('name, condition and rating of these drugs : \\n',df_drug[df_drug['usefulCount']==0][['drugName','condition','rating']].reset_index(drop = True))"
      ],
      "execution_count": null,
      "outputs": [
        {
          "output_type": "stream",
          "name": "stdout",
          "text": [
            "analysing useless drug count\n",
            "____________________________________\n",
            "\n",
            "drug having 0 usefullness :  6318\n",
            "number of good drug with lesser useful count :  0\n",
            "average rating of drug with zero usefullness :  5.799778410889522\n"
          ]
        }
      ]
    },
    {
      "cell_type": "code",
      "metadata": {
        "id": "17sBivFNU-oe",
        "colab": {
          "base_uri": "https://localhost:8080/"
        },
        "outputId": "0eedee2e-9b98-41e5-cfcd-f9e809dc52c4"
      },
      "source": [
        "print('analysing thr useful drug count\\n___________________________________________\\n')\n",
        "print('drug having greater usefulness : ',df_drug[df_drug['usefulCount']>1000].count()[0])\n",
        "print('average rating of drug with zero usefullness : ',np.average(df_drug[df_drug['usefulCount']>1000]['rating']))\n",
        "print('name, condition and rating of these drugs : \\n',df_drug[df_drug['usefulCount']>1000][['drugName','condition','rating']].reset_index(drop = True))"
      ],
      "execution_count": null,
      "outputs": [
        {
          "output_type": "stream",
          "name": "stdout",
          "text": [
            "analysing thr useful drug count\n",
            "___________________________________________\n",
            "\n",
            "drug having greater usefulness :  4\n",
            "average rating of drug with zero usefullness :  10.0\n",
            "name, condition and rating of these drugs : \n",
            "          drugName      condition  rating\n",
            "0          Mirena  Birth Control      10\n",
            "1      Sertraline     Depression      10\n",
            "2  Levonorgestrel  Birth Control      10\n",
            "3          Zoloft     Depression      10\n"
          ]
        }
      ]
    },
    {
      "cell_type": "code",
      "metadata": {
        "colab": {
          "base_uri": "https://localhost:8080/",
          "height": 172
        },
        "id": "ynOTyGHhlfUL",
        "outputId": "a2ece469-e93a-4e6e-89f0-0fe9fdf8e9c0"
      },
      "source": [
        "# lets summarize the categorical data\n",
        "df_drug[['drugName','condition','review']].describe(include = 'object')"
      ],
      "execution_count": null,
      "outputs": [
        {
          "output_type": "execute_result",
          "data": {
            "text/html": [
              "<div>\n",
              "<style scoped>\n",
              "    .dataframe tbody tr th:only-of-type {\n",
              "        vertical-align: middle;\n",
              "    }\n",
              "\n",
              "    .dataframe tbody tr th {\n",
              "        vertical-align: top;\n",
              "    }\n",
              "\n",
              "    .dataframe thead th {\n",
              "        text-align: right;\n",
              "    }\n",
              "</style>\n",
              "<table border=\"1\" class=\"dataframe\">\n",
              "  <thead>\n",
              "    <tr style=\"text-align: right;\">\n",
              "      <th></th>\n",
              "      <th>drugName</th>\n",
              "      <th>condition</th>\n",
              "      <th>review</th>\n",
              "    </tr>\n",
              "  </thead>\n",
              "  <tbody>\n",
              "    <tr>\n",
              "      <th>count</th>\n",
              "      <td>161297</td>\n",
              "      <td>160398</td>\n",
              "      <td>161297</td>\n",
              "    </tr>\n",
              "    <tr>\n",
              "      <th>unique</th>\n",
              "      <td>3436</td>\n",
              "      <td>884</td>\n",
              "      <td>112329</td>\n",
              "    </tr>\n",
              "    <tr>\n",
              "      <th>top</th>\n",
              "      <td>Levonorgestrel</td>\n",
              "      <td>Birth Control</td>\n",
              "      <td>\"Good\"</td>\n",
              "    </tr>\n",
              "    <tr>\n",
              "      <th>freq</th>\n",
              "      <td>3657</td>\n",
              "      <td>28788</td>\n",
              "      <td>33</td>\n",
              "    </tr>\n",
              "  </tbody>\n",
              "</table>\n",
              "</div>"
            ],
            "text/plain": [
              "              drugName      condition  review\n",
              "count           161297         160398  161297\n",
              "unique            3436            884  112329\n",
              "top     Levonorgestrel  Birth Control  \"Good\"\n",
              "freq              3657          28788      33"
            ]
          },
          "metadata": {},
          "execution_count": 27
        }
      ]
    },
    {
      "cell_type": "code",
      "metadata": {
        "colab": {
          "base_uri": "https://localhost:8080/"
        },
        "id": "GQ2tlGkNlfMG",
        "outputId": "a04155ff-85bb-4847-d4d7-4fbdb3fd2ea6"
      },
      "source": [
        "# is there any missing value\n",
        "df_drug.isnull().sum()"
      ],
      "execution_count": null,
      "outputs": [
        {
          "output_type": "execute_result",
          "data": {
            "text/plain": [
              "uniqueID         0\n",
              "drugName         0\n",
              "condition      899\n",
              "review           0\n",
              "rating           0\n",
              "date             0\n",
              "usefulCount      0\n",
              "dtype: int64"
            ]
          },
          "metadata": {},
          "execution_count": 28
        }
      ]
    },
    {
      "cell_type": "code",
      "metadata": {
        "colab": {
          "base_uri": "https://localhost:8080/"
        },
        "id": "KdoA-OkdnWek",
        "outputId": "995eaccb-8411-4044-e2af-ac66cf58f41a"
      },
      "source": [
        "# since condition is very crucial thing in order to predict the drug so we are removing the values having null condition\n",
        "df_drug = df_drug.dropna()\n",
        "df_drug.isnull().sum()"
      ],
      "execution_count": null,
      "outputs": [
        {
          "output_type": "execute_result",
          "data": {
            "text/plain": [
              "uniqueID       0\n",
              "drugName       0\n",
              "condition      0\n",
              "review         0\n",
              "rating         0\n",
              "date           0\n",
              "usefulCount    0\n",
              "dtype: int64"
            ]
          },
          "metadata": {},
          "execution_count": 29
        }
      ]
    },
    {
      "cell_type": "code",
      "metadata": {
        "colab": {
          "base_uri": "https://localhost:8080/",
          "height": 318
        },
        "id": "oeEg2cMlnWRb",
        "outputId": "b829d64d-94e6-4a9b-9a93-0fd5c4f4e318"
      },
      "source": [
        "# unveiling hidden pattern from the dataset\n",
        "import matplotlib.pyplot as plt\n",
        "import seaborn as sns\n",
        "plt.rcParams['figure.figsize'] = (15,4)\n",
        "plt.subplot(1,2,1)\n",
        "sns.distplot(df_drug['rating'])\n",
        "plt.subplot(1,2,2)\n",
        "sns.distplot(df_drug['usefulCount'])\n",
        "plt.suptitle('Distribution of rating and usefull Count')\n",
        "plt.show()"
      ],
      "execution_count": null,
      "outputs": [
        {
          "output_type": "stream",
          "name": "stderr",
          "text": [
            "/usr/local/lib/python3.7/dist-packages/seaborn/distributions.py:2557: FutureWarning: `distplot` is a deprecated function and will be removed in a future version. Please adapt your code to use either `displot` (a figure-level function with similar flexibility) or `histplot` (an axes-level function for histograms).\n",
            "  warnings.warn(msg, FutureWarning)\n",
            "/usr/local/lib/python3.7/dist-packages/seaborn/distributions.py:2557: FutureWarning: `distplot` is a deprecated function and will be removed in a future version. Please adapt your code to use either `displot` (a figure-level function with similar flexibility) or `histplot` (an axes-level function for histograms).\n",
            "  warnings.warn(msg, FutureWarning)\n"
          ]
        },
        {
          "output_type": "display_data",
          "data": {
            "image/png": "[encoded data removed]",
            "text/plain": [
              "<Figure size 1080x288 with 2 Axes>"
            ]
          },
          "metadata": {
            "needs_background": "light"
          }
        }
      ]
    },
    {
      "cell_type": "code",
      "metadata": {
        "colab": {
          "base_uri": "https://localhost:8080/",
          "height": 349
        },
        "id": "jBenbXCkpd-h",
        "outputId": "81a17d37-de92-40bb-c0ab-668f9c327a98"
      },
      "source": [
        "# lets check the impact of rating on usefulness\n",
        "sns.barplot(df_drug['rating'],df_drug['usefulCount'], palette='hot')\n",
        "plt.grid()\n",
        "plt.xlabel('Rating')\n",
        "plt.ylabel('Count')\n",
        "plt.title('Rating vs usefullness')\n",
        "plt.show()"
      ],
      "execution_count": null,
      "outputs": [
        {
          "output_type": "stream",
          "name": "stderr",
          "text": [
            "/usr/local/lib/python3.7/dist-packages/seaborn/_decorators.py:43: FutureWarning: Pass the following variables as keyword args: x, y. From version 0.12, the only valid positional argument will be `data`, and passing other arguments without an explicit keyword will result in an error or misinterpretation.\n",
            "  FutureWarning\n"
          ]
        },
        {
          "output_type": "display_data",
          "data": {
            "image/png": "[encoded data removed]",
            "text/plain": [
              "<Figure size 1080x288 with 1 Axes>"
            ]
          },
          "metadata": {
            "needs_background": "light"
          }
        }
      ]
    },
    {
      "cell_type": "code",
      "metadata": {
        "id": "dqiec7Smpd7G"
      },
      "source": [
        "# checking if length of review has any impact on rating of the drugs\n",
        "# for that we need to first find out the length of review column\n",
        "df_drug['len'] = df_drug['review'].apply(len)\n"
      ],
      "execution_count": null,
      "outputs": []
    },
    {
      "cell_type": "code",
      "metadata": {
        "colab": {
          "base_uri": "https://localhost:8080/",
          "height": 438
        },
        "id": "4rtLIyd3rLB2",
        "outputId": "56939a0a-dc3c-4687-b787-cb8d30ab38e2"
      },
      "source": [
        "df_drug.head()"
      ],
      "execution_count": null,
      "outputs": [
        {
          "output_type": "execute_result",
          "data": {
            "text/html": [
              "<div>\n",
              "<style scoped>\n",
              "    .dataframe tbody tr th:only-of-type {\n",
              "        vertical-align: middle;\n",
              "    }\n",
              "\n",
              "    .dataframe tbody tr th {\n",
              "        vertical-align: top;\n",
              "    }\n",
              "\n",
              "    .dataframe thead th {\n",
              "        text-align: right;\n",
              "    }\n",
              "</style>\n",
              "<table border=\"1\" class=\"dataframe\">\n",
              "  <thead>\n",
              "    <tr style=\"text-align: right;\">\n",
              "      <th></th>\n",
              "      <th>uniqueID</th>\n",
              "      <th>drugName</th>\n",
              "      <th>condition</th>\n",
              "      <th>review</th>\n",
              "      <th>rating</th>\n",
              "      <th>date</th>\n",
              "      <th>usefulCount</th>\n",
              "      <th>len</th>\n",
              "    </tr>\n",
              "  </thead>\n",
              "  <tbody>\n",
              "    <tr>\n",
              "      <th>0</th>\n",
              "      <td>206461</td>\n",
              "      <td>Valsartan</td>\n",
              "      <td>Left Ventricular Dysfunction</td>\n",
              "      <td>\"It has no side effect, I take it in combinati...</td>\n",
              "      <td>9</td>\n",
              "      <td>20-May-12</td>\n",
              "      <td>27</td>\n",
              "      <td>79</td>\n",
              "    </tr>\n",
              "    <tr>\n",
              "      <th>1</th>\n",
              "      <td>95260</td>\n",
              "      <td>Guanfacine</td>\n",
              "      <td>ADHD</td>\n",
              "      <td>\"My son is halfway through his fourth week of ...</td>\n",
              "      <td>8</td>\n",
              "      <td>27-Apr-10</td>\n",
              "      <td>192</td>\n",
              "      <td>741</td>\n",
              "    </tr>\n",
              "    <tr>\n",
              "      <th>2</th>\n",
              "      <td>92703</td>\n",
              "      <td>Lybrel</td>\n",
              "      <td>Birth Control</td>\n",
              "      <td>\"I used to take another oral contraceptive, wh...</td>\n",
              "      <td>5</td>\n",
              "      <td>14-Dec-09</td>\n",
              "      <td>17</td>\n",
              "      <td>755</td>\n",
              "    </tr>\n",
              "    <tr>\n",
              "      <th>3</th>\n",
              "      <td>138000</td>\n",
              "      <td>Ortho Evra</td>\n",
              "      <td>Birth Control</td>\n",
              "      <td>\"This is my first time using any form of birth...</td>\n",
              "      <td>8</td>\n",
              "      <td>03-Nov-15</td>\n",
              "      <td>10</td>\n",
              "      <td>448</td>\n",
              "    </tr>\n",
              "    <tr>\n",
              "      <th>4</th>\n",
              "      <td>35696</td>\n",
              "      <td>Buprenorphine / naloxone</td>\n",
              "      <td>Opiate Dependence</td>\n",
              "      <td>\"Suboxone has completely turned my life around...</td>\n",
              "      <td>9</td>\n",
              "      <td>27-Nov-16</td>\n",
              "      <td>37</td>\n",
              "      <td>719</td>\n",
              "    </tr>\n",
              "  </tbody>\n",
              "</table>\n",
              "</div>"
            ],
            "text/plain": [
              "   uniqueID                  drugName  ... usefulCount  len\n",
              "0    206461                 Valsartan  ...          27   79\n",
              "1     95260                Guanfacine  ...         192  741\n",
              "2     92703                    Lybrel  ...          17  755\n",
              "3    138000                Ortho Evra  ...          10  448\n",
              "4     35696  Buprenorphine / naloxone  ...          37  719\n",
              "\n",
              "[5 rows x 8 columns]"
            ]
          },
          "metadata": {},
          "execution_count": 39
        }
      ]
    },
    {
      "cell_type": "code",
      "metadata": {
        "colab": {
          "base_uri": "https://localhost:8080/",
          "height": 418
        },
        "id": "r8tLFKmvq3ku",
        "outputId": "9b73e0d3-d1a7-4204-f119-c333acf05f05"
      },
      "source": [
        "# lets check the impact\n",
        "df_drug[['rating','len']].groupby(['rating']).agg(['min','mean','max'])"
      ],
      "execution_count": null,
      "outputs": [
        {
          "output_type": "execute_result",
          "data": {
            "text/html": [
              "<div>\n",
              "<style scoped>\n",
              "    .dataframe tbody tr th:only-of-type {\n",
              "        vertical-align: middle;\n",
              "    }\n",
              "\n",
              "    .dataframe tbody tr th {\n",
              "        vertical-align: top;\n",
              "    }\n",
              "\n",
              "    .dataframe thead tr th {\n",
              "        text-align: left;\n",
              "    }\n",
              "\n",
              "    .dataframe thead tr:last-of-type th {\n",
              "        text-align: right;\n",
              "    }\n",
              "</style>\n",
              "<table border=\"1\" class=\"dataframe\">\n",
              "  <thead>\n",
              "    <tr>\n",
              "      <th></th>\n",
              "      <th colspan=\"3\" halign=\"left\">len</th>\n",
              "    </tr>\n",
              "    <tr>\n",
              "      <th></th>\n",
              "      <th>min</th>\n",
              "      <th>mean</th>\n",
              "      <th>max</th>\n",
              "    </tr>\n",
              "    <tr>\n",
              "      <th>rating</th>\n",
              "      <th></th>\n",
              "      <th></th>\n",
              "      <th></th>\n",
              "    </tr>\n",
              "  </thead>\n",
              "  <tbody>\n",
              "    <tr>\n",
              "      <th>1</th>\n",
              "      <td>5</td>\n",
              "      <td>428.784505</td>\n",
              "      <td>3692</td>\n",
              "    </tr>\n",
              "    <tr>\n",
              "      <th>2</th>\n",
              "      <td>9</td>\n",
              "      <td>452.902893</td>\n",
              "      <td>10787</td>\n",
              "    </tr>\n",
              "    <tr>\n",
              "      <th>3</th>\n",
              "      <td>8</td>\n",
              "      <td>461.249961</td>\n",
              "      <td>5112</td>\n",
              "    </tr>\n",
              "    <tr>\n",
              "      <th>4</th>\n",
              "      <td>7</td>\n",
              "      <td>464.077912</td>\n",
              "      <td>3030</td>\n",
              "    </tr>\n",
              "    <tr>\n",
              "      <th>5</th>\n",
              "      <td>6</td>\n",
              "      <td>477.982661</td>\n",
              "      <td>2048</td>\n",
              "    </tr>\n",
              "    <tr>\n",
              "      <th>6</th>\n",
              "      <td>4</td>\n",
              "      <td>467.957150</td>\n",
              "      <td>2202</td>\n",
              "    </tr>\n",
              "    <tr>\n",
              "      <th>7</th>\n",
              "      <td>6</td>\n",
              "      <td>485.597765</td>\n",
              "      <td>3063</td>\n",
              "    </tr>\n",
              "    <tr>\n",
              "      <th>8</th>\n",
              "      <td>3</td>\n",
              "      <td>483.584163</td>\n",
              "      <td>4087</td>\n",
              "    </tr>\n",
              "    <tr>\n",
              "      <th>9</th>\n",
              "      <td>3</td>\n",
              "      <td>477.696117</td>\n",
              "      <td>6182</td>\n",
              "    </tr>\n",
              "    <tr>\n",
              "      <th>10</th>\n",
              "      <td>3</td>\n",
              "      <td>443.215923</td>\n",
              "      <td>6192</td>\n",
              "    </tr>\n",
              "  </tbody>\n",
              "</table>\n",
              "</div>"
            ],
            "text/plain": [
              "       len                   \n",
              "       min        mean    max\n",
              "rating                       \n",
              "1        5  428.784505   3692\n",
              "2        9  452.902893  10787\n",
              "3        8  461.249961   5112\n",
              "4        7  464.077912   3030\n",
              "5        6  477.982661   2048\n",
              "6        4  467.957150   2202\n",
              "7        6  485.597765   3063\n",
              "8        3  483.584163   4087\n",
              "9        3  477.696117   6182\n",
              "10       3  443.215923   6192"
            ]
          },
          "metadata": {},
          "execution_count": 40
        }
      ]
    },
    {
      "cell_type": "markdown",
      "metadata": {
        "id": "V1hFby_QrhDV"
      },
      "source": [
        "**got varying len and rating having no linear relation we can say that the length of review has no impact on the rating**"
      ]
    },
    {
      "cell_type": "markdown",
      "metadata": {
        "id": "KYnpC6Wqt-cb"
      },
      "source": [
        "# Cleaning the data"
      ]
    },
    {
      "cell_type": "code",
      "metadata": {
        "colab": {
          "base_uri": "https://localhost:8080/"
        },
        "id": "NGD-IXAf3bJr",
        "outputId": "0dc89e95-2993-437e-f57f-9fe33edfc79c"
      },
      "source": [
        "df_drug2 = df_drug[:1000] # ca be used with whole dataset\n",
        "len(df_drug2)"
      ],
      "execution_count": null,
      "outputs": [
        {
          "output_type": "execute_result",
          "data": {
            "text/plain": [
              "1000"
            ]
          },
          "metadata": {},
          "execution_count": 69
        }
      ]
    },
    {
      "cell_type": "code",
      "metadata": {
        "colab": {
          "base_uri": "https://localhost:8080/"
        },
        "id": "l986CN9orbcI",
        "outputId": "03d5408b-332b-4d2d-cc1e-bdbaa6b0b341"
      },
      "source": [
        "import string\n",
        "\n",
        "df_drug2['cleaned_text'] = df_drug2['review'].apply(clean_data)\n",
        "df_drug2['cleaned_text'] = df_drug2['cleaned_text'].apply(drop_num)\n",
        "df_drug2['cleaned_text'] = df_drug2['cleaned_text'].apply(lower_case)\n",
        "df_drug2['cleaned_text'] = df_drug2['cleaned_text'].apply(lemmatizing)\n"
      ],
      "execution_count": null,
      "outputs": [
        {
          "output_type": "stream",
          "name": "stderr",
          "text": [
            "/usr/local/lib/python3.7/dist-packages/ipykernel_launcher.py:3: SettingWithCopyWarning: \n",
            "A value is trying to be set on a copy of a slice from a DataFrame.\n",
            "Try using .loc[row_indexer,col_indexer] = value instead\n",
            "\n",
            "See the caveats in the documentation: https://pandas.pydata.org/pandas-docs/stable/user_guide/indexing.html#returning-a-view-versus-a-copy\n",
            "  This is separate from the ipykernel package so we can avoid doing imports until\n",
            "/usr/local/lib/python3.7/dist-packages/ipykernel_launcher.py:4: SettingWithCopyWarning: \n",
            "A value is trying to be set on a copy of a slice from a DataFrame.\n",
            "Try using .loc[row_indexer,col_indexer] = value instead\n",
            "\n",
            "See the caveats in the documentation: https://pandas.pydata.org/pandas-docs/stable/user_guide/indexing.html#returning-a-view-versus-a-copy\n",
            "  after removing the cwd from sys.path.\n",
            "/usr/local/lib/python3.7/dist-packages/ipykernel_launcher.py:5: SettingWithCopyWarning: \n",
            "A value is trying to be set on a copy of a slice from a DataFrame.\n",
            "Try using .loc[row_indexer,col_indexer] = value instead\n",
            "\n",
            "See the caveats in the documentation: https://pandas.pydata.org/pandas-docs/stable/user_guide/indexing.html#returning-a-view-versus-a-copy\n",
            "  \"\"\"\n",
            "/usr/local/lib/python3.7/dist-packages/ipykernel_launcher.py:6: SettingWithCopyWarning: \n",
            "A value is trying to be set on a copy of a slice from a DataFrame.\n",
            "Try using .loc[row_indexer,col_indexer] = value instead\n",
            "\n",
            "See the caveats in the documentation: https://pandas.pydata.org/pandas-docs/stable/user_guide/indexing.html#returning-a-view-versus-a-copy\n",
            "  \n"
          ]
        }
      ]
    },
    {
      "cell_type": "code",
      "metadata": {
        "colab": {
          "base_uri": "https://localhost:8080/"
        },
        "id": "Gm2EBpVsrbY0",
        "outputId": "77fdd8d6-88c4-474b-ca31-31313e3af2f7"
      },
      "source": [
        "df_drug2['cleaned_text'] = df_drug2.apply(lambda x: remove_accent(x['cleaned_text']),axis=1)\n",
        "df_drug2['cleaned_text'] = df_drug2['cleaned_text'].apply(remove_stopword)\n",
        "df_drug2['cleaned_text'] = df_drug2['cleaned_text'].apply(remove_punctuations)"
      ],
      "execution_count": null,
      "outputs": [
        {
          "output_type": "stream",
          "name": "stderr",
          "text": [
            "/usr/local/lib/python3.7/dist-packages/ipykernel_launcher.py:1: SettingWithCopyWarning: \n",
            "A value is trying to be set on a copy of a slice from a DataFrame.\n",
            "Try using .loc[row_indexer,col_indexer] = value instead\n",
            "\n",
            "See the caveats in the documentation: https://pandas.pydata.org/pandas-docs/stable/user_guide/indexing.html#returning-a-view-versus-a-copy\n",
            "  \"\"\"Entry point for launching an IPython kernel.\n",
            "/usr/local/lib/python3.7/dist-packages/ipykernel_launcher.py:2: SettingWithCopyWarning: \n",
            "A value is trying to be set on a copy of a slice from a DataFrame.\n",
            "Try using .loc[row_indexer,col_indexer] = value instead\n",
            "\n",
            "See the caveats in the documentation: https://pandas.pydata.org/pandas-docs/stable/user_guide/indexing.html#returning-a-view-versus-a-copy\n",
            "  \n",
            "/usr/local/lib/python3.7/dist-packages/ipykernel_launcher.py:3: SettingWithCopyWarning: \n",
            "A value is trying to be set on a copy of a slice from a DataFrame.\n",
            "Try using .loc[row_indexer,col_indexer] = value instead\n",
            "\n",
            "See the caveats in the documentation: https://pandas.pydata.org/pandas-docs/stable/user_guide/indexing.html#returning-a-view-versus-a-copy\n",
            "  This is separate from the ipykernel package so we can avoid doing imports until\n"
          ]
        }
      ]
    },
    {
      "cell_type": "code",
      "metadata": {
        "colab": {
          "base_uri": "https://localhost:8080/",
          "height": 542
        },
        "id": "mUeUzEyErbV0",
        "outputId": "9e52f5c3-1ca6-4391-c756-aa1b99f4bcae"
      },
      "source": [
        "df_drug2.head()"
      ],
      "execution_count": null,
      "outputs": [
        {
          "output_type": "execute_result",
          "data": {
            "text/html": [
              "<div>\n",
              "<style scoped>\n",
              "    .dataframe tbody tr th:only-of-type {\n",
              "        vertical-align: middle;\n",
              "    }\n",
              "\n",
              "    .dataframe tbody tr th {\n",
              "        vertical-align: top;\n",
              "    }\n",
              "\n",
              "    .dataframe thead th {\n",
              "        text-align: right;\n",
              "    }\n",
              "</style>\n",
              "<table border=\"1\" class=\"dataframe\">\n",
              "  <thead>\n",
              "    <tr style=\"text-align: right;\">\n",
              "      <th></th>\n",
              "      <th>uniqueID</th>\n",
              "      <th>drugName</th>\n",
              "      <th>condition</th>\n",
              "      <th>review</th>\n",
              "      <th>rating</th>\n",
              "      <th>date</th>\n",
              "      <th>usefulCount</th>\n",
              "      <th>len</th>\n",
              "      <th>cleaned_text</th>\n",
              "    </tr>\n",
              "  </thead>\n",
              "  <tbody>\n",
              "    <tr>\n",
              "      <th>0</th>\n",
              "      <td>206461</td>\n",
              "      <td>Valsartan</td>\n",
              "      <td>Left Ventricular Dysfunction</td>\n",
              "      <td>\"It has no side effect, I take it in combinati...</td>\n",
              "      <td>9</td>\n",
              "      <td>20-May-12</td>\n",
              "      <td>27</td>\n",
              "      <td>79</td>\n",
              "      <td>ha side effect take combination bystolic mg fi...</td>\n",
              "    </tr>\n",
              "    <tr>\n",
              "      <th>1</th>\n",
              "      <td>95260</td>\n",
              "      <td>Guanfacine</td>\n",
              "      <td>ADHD</td>\n",
              "      <td>\"My son is halfway through his fourth week of ...</td>\n",
              "      <td>8</td>\n",
              "      <td>27-Apr-10</td>\n",
              "      <td>192</td>\n",
              "      <td>741</td>\n",
              "      <td>son halfway fourth week intuniv became concern...</td>\n",
              "    </tr>\n",
              "    <tr>\n",
              "      <th>2</th>\n",
              "      <td>92703</td>\n",
              "      <td>Lybrel</td>\n",
              "      <td>Birth Control</td>\n",
              "      <td>\"I used to take another oral contraceptive, wh...</td>\n",
              "      <td>5</td>\n",
              "      <td>14-Dec-09</td>\n",
              "      <td>17</td>\n",
              "      <td>755</td>\n",
              "      <td>used take another oral contraceptive pill cycl...</td>\n",
              "    </tr>\n",
              "    <tr>\n",
              "      <th>3</th>\n",
              "      <td>138000</td>\n",
              "      <td>Ortho Evra</td>\n",
              "      <td>Birth Control</td>\n",
              "      <td>\"This is my first time using any form of birth...</td>\n",
              "      <td>8</td>\n",
              "      <td>03-Nov-15</td>\n",
              "      <td>10</td>\n",
              "      <td>448</td>\n",
              "      <td>first time using form birth control glad went ...</td>\n",
              "    </tr>\n",
              "    <tr>\n",
              "      <th>4</th>\n",
              "      <td>35696</td>\n",
              "      <td>Buprenorphine / naloxone</td>\n",
              "      <td>Opiate Dependence</td>\n",
              "      <td>\"Suboxone has completely turned my life around...</td>\n",
              "      <td>9</td>\n",
              "      <td>27-Nov-16</td>\n",
              "      <td>37</td>\n",
              "      <td>719</td>\n",
              "      <td>suboxone ha completely turned life around feel...</td>\n",
              "    </tr>\n",
              "  </tbody>\n",
              "</table>\n",
              "</div>"
            ],
            "text/plain": [
              "   uniqueID  ...                                       cleaned_text\n",
              "0    206461  ...  ha side effect take combination bystolic mg fi...\n",
              "1     95260  ...  son halfway fourth week intuniv became concern...\n",
              "2     92703  ...  used take another oral contraceptive pill cycl...\n",
              "3    138000  ...  first time using form birth control glad went ...\n",
              "4     35696  ...  suboxone ha completely turned life around feel...\n",
              "\n",
              "[5 rows x 9 columns]"
            ]
          },
          "metadata": {},
          "execution_count": 72
        }
      ]
    },
    {
      "cell_type": "code",
      "metadata": {
        "colab": {
          "base_uri": "https://localhost:8080/"
        },
        "id": "_xyDeWm3rbTH",
        "outputId": "e7466f6a-52a1-4a26-d956-890ccb4e2094"
      },
      "source": [
        "# calculating the sentiment\n",
        "nltk.download('vader_lexicon')"
      ],
      "execution_count": null,
      "outputs": [
        {
          "output_type": "stream",
          "name": "stdout",
          "text": [
            "[nltk_data] Downloading package vader_lexicon to /root/nltk_data...\n"
          ]
        },
        {
          "output_type": "execute_result",
          "data": {
            "text/plain": [
              "True"
            ]
          },
          "metadata": {},
          "execution_count": 73
        }
      ]
    },
    {
      "cell_type": "code",
      "metadata": {
        "colab": {
          "base_uri": "https://localhost:8080/"
        },
        "id": "Ygl_wmbR4X9O",
        "outputId": "38caebce-c119-4683-d2b7-49ad5a604972"
      },
      "source": [
        "from nltk.sentiment.vader import SentimentIntensityAnalyzer\n",
        "sid = SentimentIntensityAnalyzer()\n",
        "train_sentiments = []\n",
        "for i in df_drug2['review']:\n",
        "  train_sentiments.append(sid.polarity_scores(i).get('compound'))\n",
        "train_sentiments = np.asarray(train_sentiments)\n",
        "df_drug2['sentiment'] = pd.Series(data = train_sentiments)"
      ],
      "execution_count": null,
      "outputs": [
        {
          "output_type": "stream",
          "name": "stderr",
          "text": [
            "/usr/local/lib/python3.7/dist-packages/ipykernel_launcher.py:7: SettingWithCopyWarning: \n",
            "A value is trying to be set on a copy of a slice from a DataFrame.\n",
            "Try using .loc[row_indexer,col_indexer] = value instead\n",
            "\n",
            "See the caveats in the documentation: https://pandas.pydata.org/pandas-docs/stable/user_guide/indexing.html#returning-a-view-versus-a-copy\n",
            "  import sys\n"
          ]
        }
      ]
    },
    {
      "cell_type": "code",
      "metadata": {
        "colab": {
          "base_uri": "https://localhost:8080/",
          "height": 542
        },
        "id": "PBVv0ist4X04",
        "outputId": "ae6ca430-256e-4633-9c0b-b6f2b153e248"
      },
      "source": [
        "df_drug2.head()"
      ],
      "execution_count": null,
      "outputs": [
        {
          "output_type": "execute_result",
          "data": {
            "text/html": [
              "<div>\n",
              "<style scoped>\n",
              "    .dataframe tbody tr th:only-of-type {\n",
              "        vertical-align: middle;\n",
              "    }\n",
              "\n",
              "    .dataframe tbody tr th {\n",
              "        vertical-align: top;\n",
              "    }\n",
              "\n",
              "    .dataframe thead th {\n",
              "        text-align: right;\n",
              "    }\n",
              "</style>\n",
              "<table border=\"1\" class=\"dataframe\">\n",
              "  <thead>\n",
              "    <tr style=\"text-align: right;\">\n",
              "      <th></th>\n",
              "      <th>uniqueID</th>\n",
              "      <th>drugName</th>\n",
              "      <th>condition</th>\n",
              "      <th>review</th>\n",
              "      <th>rating</th>\n",
              "      <th>date</th>\n",
              "      <th>usefulCount</th>\n",
              "      <th>len</th>\n",
              "      <th>cleaned_text</th>\n",
              "      <th>sentiment</th>\n",
              "    </tr>\n",
              "  </thead>\n",
              "  <tbody>\n",
              "    <tr>\n",
              "      <th>0</th>\n",
              "      <td>206461</td>\n",
              "      <td>Valsartan</td>\n",
              "      <td>Left Ventricular Dysfunction</td>\n",
              "      <td>\"It has no side effect, I take it in combinati...</td>\n",
              "      <td>9</td>\n",
              "      <td>20-May-12</td>\n",
              "      <td>27</td>\n",
              "      <td>79</td>\n",
              "      <td>ha side effect take combination bystolic mg fi...</td>\n",
              "      <td>-0.2960</td>\n",
              "    </tr>\n",
              "    <tr>\n",
              "      <th>1</th>\n",
              "      <td>95260</td>\n",
              "      <td>Guanfacine</td>\n",
              "      <td>ADHD</td>\n",
              "      <td>\"My son is halfway through his fourth week of ...</td>\n",
              "      <td>8</td>\n",
              "      <td>27-Apr-10</td>\n",
              "      <td>192</td>\n",
              "      <td>741</td>\n",
              "      <td>son halfway fourth week intuniv became concern...</td>\n",
              "      <td>0.8603</td>\n",
              "    </tr>\n",
              "    <tr>\n",
              "      <th>2</th>\n",
              "      <td>92703</td>\n",
              "      <td>Lybrel</td>\n",
              "      <td>Birth Control</td>\n",
              "      <td>\"I used to take another oral contraceptive, wh...</td>\n",
              "      <td>5</td>\n",
              "      <td>14-Dec-09</td>\n",
              "      <td>17</td>\n",
              "      <td>755</td>\n",
              "      <td>used take another oral contraceptive pill cycl...</td>\n",
              "      <td>0.7645</td>\n",
              "    </tr>\n",
              "    <tr>\n",
              "      <th>3</th>\n",
              "      <td>138000</td>\n",
              "      <td>Ortho Evra</td>\n",
              "      <td>Birth Control</td>\n",
              "      <td>\"This is my first time using any form of birth...</td>\n",
              "      <td>8</td>\n",
              "      <td>03-Nov-15</td>\n",
              "      <td>10</td>\n",
              "      <td>448</td>\n",
              "      <td>first time using form birth control glad went ...</td>\n",
              "      <td>0.7184</td>\n",
              "    </tr>\n",
              "    <tr>\n",
              "      <th>4</th>\n",
              "      <td>35696</td>\n",
              "      <td>Buprenorphine / naloxone</td>\n",
              "      <td>Opiate Dependence</td>\n",
              "      <td>\"Suboxone has completely turned my life around...</td>\n",
              "      <td>9</td>\n",
              "      <td>27-Nov-16</td>\n",
              "      <td>37</td>\n",
              "      <td>719</td>\n",
              "      <td>suboxone ha completely turned life around feel...</td>\n",
              "      <td>0.9403</td>\n",
              "    </tr>\n",
              "  </tbody>\n",
              "</table>\n",
              "</div>"
            ],
            "text/plain": [
              "   uniqueID  ... sentiment\n",
              "0    206461  ...   -0.2960\n",
              "1     95260  ...    0.8603\n",
              "2     92703  ...    0.7645\n",
              "3    138000  ...    0.7184\n",
              "4     35696  ...    0.9403\n",
              "\n",
              "[5 rows x 10 columns]"
            ]
          },
          "metadata": {},
          "execution_count": 77
        }
      ]
    },
    {
      "cell_type": "code",
      "metadata": {
        "colab": {
          "base_uri": "https://localhost:8080/",
          "height": 418
        },
        "id": "fsAA8NwM5JLo",
        "outputId": "be3d47cc-5edd-4245-866e-15d1a4ad06af"
      },
      "source": [
        "df_drug2[['rating','sentiment']].groupby(['rating']).agg(['min','mean','max']) # no proper pattern"
      ],
      "execution_count": null,
      "outputs": [
        {
          "output_type": "execute_result",
          "data": {
            "text/html": [
              "<div>\n",
              "<style scoped>\n",
              "    .dataframe tbody tr th:only-of-type {\n",
              "        vertical-align: middle;\n",
              "    }\n",
              "\n",
              "    .dataframe tbody tr th {\n",
              "        vertical-align: top;\n",
              "    }\n",
              "\n",
              "    .dataframe thead tr th {\n",
              "        text-align: left;\n",
              "    }\n",
              "\n",
              "    .dataframe thead tr:last-of-type th {\n",
              "        text-align: right;\n",
              "    }\n",
              "</style>\n",
              "<table border=\"1\" class=\"dataframe\">\n",
              "  <thead>\n",
              "    <tr>\n",
              "      <th></th>\n",
              "      <th colspan=\"3\" halign=\"left\">sentiment</th>\n",
              "    </tr>\n",
              "    <tr>\n",
              "      <th></th>\n",
              "      <th>min</th>\n",
              "      <th>mean</th>\n",
              "      <th>max</th>\n",
              "    </tr>\n",
              "    <tr>\n",
              "      <th>rating</th>\n",
              "      <th></th>\n",
              "      <th></th>\n",
              "      <th></th>\n",
              "    </tr>\n",
              "  </thead>\n",
              "  <tbody>\n",
              "    <tr>\n",
              "      <th>1</th>\n",
              "      <td>-0.9904</td>\n",
              "      <td>-0.109672</td>\n",
              "      <td>0.9822</td>\n",
              "    </tr>\n",
              "    <tr>\n",
              "      <th>2</th>\n",
              "      <td>-0.9846</td>\n",
              "      <td>-0.187300</td>\n",
              "      <td>0.9486</td>\n",
              "    </tr>\n",
              "    <tr>\n",
              "      <th>3</th>\n",
              "      <td>-0.9902</td>\n",
              "      <td>0.009912</td>\n",
              "      <td>0.9548</td>\n",
              "    </tr>\n",
              "    <tr>\n",
              "      <th>4</th>\n",
              "      <td>-0.9675</td>\n",
              "      <td>-0.037506</td>\n",
              "      <td>0.9585</td>\n",
              "    </tr>\n",
              "    <tr>\n",
              "      <th>5</th>\n",
              "      <td>-0.9710</td>\n",
              "      <td>-0.111626</td>\n",
              "      <td>0.9470</td>\n",
              "    </tr>\n",
              "    <tr>\n",
              "      <th>6</th>\n",
              "      <td>-0.9729</td>\n",
              "      <td>-0.092732</td>\n",
              "      <td>0.9695</td>\n",
              "    </tr>\n",
              "    <tr>\n",
              "      <th>7</th>\n",
              "      <td>-0.9810</td>\n",
              "      <td>-0.035436</td>\n",
              "      <td>0.9638</td>\n",
              "    </tr>\n",
              "    <tr>\n",
              "      <th>8</th>\n",
              "      <td>-0.9776</td>\n",
              "      <td>-0.044995</td>\n",
              "      <td>0.9818</td>\n",
              "    </tr>\n",
              "    <tr>\n",
              "      <th>9</th>\n",
              "      <td>-0.9852</td>\n",
              "      <td>-0.069137</td>\n",
              "      <td>0.9746</td>\n",
              "    </tr>\n",
              "    <tr>\n",
              "      <th>10</th>\n",
              "      <td>-0.9911</td>\n",
              "      <td>-0.073455</td>\n",
              "      <td>0.9804</td>\n",
              "    </tr>\n",
              "  </tbody>\n",
              "</table>\n",
              "</div>"
            ],
            "text/plain": [
              "       sentiment                  \n",
              "             min      mean     max\n",
              "rating                            \n",
              "1        -0.9904 -0.109672  0.9822\n",
              "2        -0.9846 -0.187300  0.9486\n",
              "3        -0.9902  0.009912  0.9548\n",
              "4        -0.9675 -0.037506  0.9585\n",
              "5        -0.9710 -0.111626  0.9470\n",
              "6        -0.9729 -0.092732  0.9695\n",
              "7        -0.9810 -0.035436  0.9638\n",
              "8        -0.9776 -0.044995  0.9818\n",
              "9        -0.9852 -0.069137  0.9746\n",
              "10       -0.9911 -0.073455  0.9804"
            ]
          },
          "metadata": {},
          "execution_count": 78
        }
      ]
    },
    {
      "cell_type": "code",
      "metadata": {
        "id": "f46s2L9j5JIG"
      },
      "source": [
        "df_ = df_drug2.drop(['date','uniqueID','sentiment','review','len'],axis = 1)"
      ],
      "execution_count": null,
      "outputs": []
    },
    {
      "cell_type": "code",
      "metadata": {
        "colab": {
          "base_uri": "https://localhost:8080/"
        },
        "id": "bStRgDNy5JFU",
        "outputId": "e1cdf7b7-f8c8-4249-c296-7fcbcdd23f78"
      },
      "source": [
        "df_.columns"
      ],
      "execution_count": null,
      "outputs": [
        {
          "output_type": "execute_result",
          "data": {
            "text/plain": [
              "Index(['drugName', 'condition', 'rating', 'usefulCount', 'cleaned_text'], dtype='object')"
            ]
          },
          "metadata": {},
          "execution_count": 80
        }
      ]
    },
    {
      "cell_type": "code",
      "metadata": {
        "id": "uUCilCrk5JCT"
      },
      "source": [
        "# calculating the effectiveness and usefulness\n",
        "min_rating = df_['rating'].min()\n",
        "max_rating = df_['rating'].max()\n",
        "def scale_rating(rating):\n",
        "  rating -=min_rating\n",
        "  rating = rating/(max_rating-1)\n",
        "  rating *= 5\n",
        "  rating = int(round(rating,0))\n",
        "  if (int(rating)==0 or int(rating) == 1 or int(rating == 2)):\n",
        "    return 0\n",
        "  else:\n",
        "    return 1\n",
        "  "
      ],
      "execution_count": null,
      "outputs": []
    },
    {
      "cell_type": "code",
      "metadata": {
        "id": "sSndgkG05I_v"
      },
      "source": [
        "df_['eff_score'] = df_['rating'].apply(scale_rating)"
      ],
      "execution_count": null,
      "outputs": []
    },
    {
      "cell_type": "code",
      "metadata": {
        "colab": {
          "base_uri": "https://localhost:8080/",
          "height": 371
        },
        "id": "urqELzg05I9B",
        "outputId": "9eff45ca-df4d-4792-e49a-ee4ff22c4e1a"
      },
      "source": [
        "df_.head()"
      ],
      "execution_count": null,
      "outputs": [
        {
          "output_type": "execute_result",
          "data": {
            "text/html": [
              "<div>\n",
              "<style scoped>\n",
              "    .dataframe tbody tr th:only-of-type {\n",
              "        vertical-align: middle;\n",
              "    }\n",
              "\n",
              "    .dataframe tbody tr th {\n",
              "        vertical-align: top;\n",
              "    }\n",
              "\n",
              "    .dataframe thead th {\n",
              "        text-align: right;\n",
              "    }\n",
              "</style>\n",
              "<table border=\"1\" class=\"dataframe\">\n",
              "  <thead>\n",
              "    <tr style=\"text-align: right;\">\n",
              "      <th></th>\n",
              "      <th>drugName</th>\n",
              "      <th>condition</th>\n",
              "      <th>rating</th>\n",
              "      <th>usefulCount</th>\n",
              "      <th>cleaned_text</th>\n",
              "      <th>eff_score</th>\n",
              "    </tr>\n",
              "  </thead>\n",
              "  <tbody>\n",
              "    <tr>\n",
              "      <th>0</th>\n",
              "      <td>Valsartan</td>\n",
              "      <td>Left Ventricular Dysfunction</td>\n",
              "      <td>9</td>\n",
              "      <td>27</td>\n",
              "      <td>ha side effect take combination bystolic mg fi...</td>\n",
              "      <td>1</td>\n",
              "    </tr>\n",
              "    <tr>\n",
              "      <th>1</th>\n",
              "      <td>Guanfacine</td>\n",
              "      <td>ADHD</td>\n",
              "      <td>8</td>\n",
              "      <td>192</td>\n",
              "      <td>son halfway fourth week intuniv became concern...</td>\n",
              "      <td>1</td>\n",
              "    </tr>\n",
              "    <tr>\n",
              "      <th>2</th>\n",
              "      <td>Lybrel</td>\n",
              "      <td>Birth Control</td>\n",
              "      <td>5</td>\n",
              "      <td>17</td>\n",
              "      <td>used take another oral contraceptive pill cycl...</td>\n",
              "      <td>0</td>\n",
              "    </tr>\n",
              "    <tr>\n",
              "      <th>3</th>\n",
              "      <td>Ortho Evra</td>\n",
              "      <td>Birth Control</td>\n",
              "      <td>8</td>\n",
              "      <td>10</td>\n",
              "      <td>first time using form birth control glad went ...</td>\n",
              "      <td>1</td>\n",
              "    </tr>\n",
              "    <tr>\n",
              "      <th>4</th>\n",
              "      <td>Buprenorphine / naloxone</td>\n",
              "      <td>Opiate Dependence</td>\n",
              "      <td>9</td>\n",
              "      <td>37</td>\n",
              "      <td>suboxone ha completely turned life around feel...</td>\n",
              "      <td>1</td>\n",
              "    </tr>\n",
              "  </tbody>\n",
              "</table>\n",
              "</div>"
            ],
            "text/plain": [
              "                   drugName  ... eff_score\n",
              "0                 Valsartan  ...         1\n",
              "1                Guanfacine  ...         1\n",
              "2                    Lybrel  ...         0\n",
              "3                Ortho Evra  ...         1\n",
              "4  Buprenorphine / naloxone  ...         1\n",
              "\n",
              "[5 rows x 6 columns]"
            ]
          },
          "metadata": {},
          "execution_count": 84
        }
      ]
    },
    {
      "cell_type": "code",
      "metadata": {
        "id": "16kmN4JY5I6e"
      },
      "source": [
        "# calculating the usefulness\n",
        "df_['usefulness'] = df_['rating']*df_['usefulCount']*df_['eff_score']"
      ],
      "execution_count": null,
      "outputs": []
    },
    {
      "cell_type": "code",
      "metadata": {
        "colab": {
          "base_uri": "https://localhost:8080/",
          "height": 357
        },
        "id": "ftDNDgZ55I3k",
        "outputId": "d5b2b06c-63a1-41bb-b045-ce3e1556cfb8"
      },
      "source": [
        "# lets check the top most drug with their respective condition\n",
        "df_[['drugName','condition','usefulness']][df_['usefulness'] > df_['usefulness'].mean()].sort_values(by = 'usefulness', ascending = False).head(10).reset_index(drop=True)"
      ],
      "execution_count": null,
      "outputs": [
        {
          "output_type": "execute_result",
          "data": {
            "text/html": [
              "<div>\n",
              "<style scoped>\n",
              "    .dataframe tbody tr th:only-of-type {\n",
              "        vertical-align: middle;\n",
              "    }\n",
              "\n",
              "    .dataframe tbody tr th {\n",
              "        vertical-align: top;\n",
              "    }\n",
              "\n",
              "    .dataframe thead th {\n",
              "        text-align: right;\n",
              "    }\n",
              "</style>\n",
              "<table border=\"1\" class=\"dataframe\">\n",
              "  <thead>\n",
              "    <tr style=\"text-align: right;\">\n",
              "      <th></th>\n",
              "      <th>drugName</th>\n",
              "      <th>condition</th>\n",
              "      <th>usefulness</th>\n",
              "    </tr>\n",
              "  </thead>\n",
              "  <tbody>\n",
              "    <tr>\n",
              "      <th>0</th>\n",
              "      <td>Escitalopram</td>\n",
              "      <td>Depression</td>\n",
              "      <td>3008</td>\n",
              "    </tr>\n",
              "    <tr>\n",
              "      <th>1</th>\n",
              "      <td>Clonazepam</td>\n",
              "      <td>Anxiety</td>\n",
              "      <td>2610</td>\n",
              "    </tr>\n",
              "    <tr>\n",
              "      <th>2</th>\n",
              "      <td>Zoloft</td>\n",
              "      <td>Depression</td>\n",
              "      <td>1790</td>\n",
              "    </tr>\n",
              "    <tr>\n",
              "      <th>3</th>\n",
              "      <td>Fluoxetine</td>\n",
              "      <td>Anxiety and Stress</td>\n",
              "      <td>1730</td>\n",
              "    </tr>\n",
              "    <tr>\n",
              "      <th>4</th>\n",
              "      <td>Seroquel</td>\n",
              "      <td>Generalized Anxiety Disorde</td>\n",
              "      <td>1720</td>\n",
              "    </tr>\n",
              "    <tr>\n",
              "      <th>5</th>\n",
              "      <td>Effexor XR</td>\n",
              "      <td>Depression</td>\n",
              "      <td>1660</td>\n",
              "    </tr>\n",
              "    <tr>\n",
              "      <th>6</th>\n",
              "      <td>Guanfacine</td>\n",
              "      <td>ADHD</td>\n",
              "      <td>1536</td>\n",
              "    </tr>\n",
              "    <tr>\n",
              "      <th>7</th>\n",
              "      <td>Liothyronine</td>\n",
              "      <td>Hypothyroidism, After Thyroid Removal</td>\n",
              "      <td>1521</td>\n",
              "    </tr>\n",
              "    <tr>\n",
              "      <th>8</th>\n",
              "      <td>Terbinafine</td>\n",
              "      <td>Onychomycosis, Toenail</td>\n",
              "      <td>1510</td>\n",
              "    </tr>\n",
              "    <tr>\n",
              "      <th>9</th>\n",
              "      <td>Wellbutrin XL</td>\n",
              "      <td>Major Depressive Disorde</td>\n",
              "      <td>1431</td>\n",
              "    </tr>\n",
              "  </tbody>\n",
              "</table>\n",
              "</div>"
            ],
            "text/plain": [
              "        drugName                              condition  usefulness\n",
              "0   Escitalopram                             Depression        3008\n",
              "1     Clonazepam                                Anxiety        2610\n",
              "2         Zoloft                             Depression        1790\n",
              "3     Fluoxetine                     Anxiety and Stress        1730\n",
              "4       Seroquel            Generalized Anxiety Disorde        1720\n",
              "5     Effexor XR                             Depression        1660\n",
              "6     Guanfacine                                   ADHD        1536\n",
              "7   Liothyronine  Hypothyroidism, After Thyroid Removal        1521\n",
              "8    Terbinafine                 Onychomycosis, Toenail        1510\n",
              "9  Wellbutrin XL               Major Depressive Disorde        1431"
            ]
          },
          "metadata": {},
          "execution_count": 87
        }
      ]
    },
    {
      "cell_type": "code",
      "metadata": {
        "id": "tQT_vCky9En0"
      },
      "source": [
        "import ipywidgets\n",
        "from ipywidgets import interact"
      ],
      "execution_count": null,
      "outputs": []
    },
    {
      "cell_type": "code",
      "metadata": {
        "colab": {
          "base_uri": "https://localhost:8080/",
          "height": 99,
          "referenced_widgets": [
            "5e13f13257834759830aacd85833e655",
            "90503a2fab544acd932c4ca92009500a",
            "f93a5023fd8945b4860a42d19647d7bd",
            "25eef225b9254e35b21c59f4b6a8adfb",
            "85bb3380134c487ab34caa3ec85ac9ca",
            "215f330bcedc48feb56b543c1a4021fd",
            "3e255fdc517c43ae962065e3cad3477d"
          ]
        },
        "id": "z52-jQdD5I03",
        "outputId": "caa6773d-12e4-419b-a05f-dcfca0dbb483"
      },
      "source": [
        "# lets caluculate the number of useless and useful drug for each consition\n",
        "@interact\n",
        "def check(condition = list(df_['condition'].value_counts().index)):\n",
        "  return df_[df_['condition'] == condition]['eff_score'].value_counts()"
      ],
      "execution_count": null,
      "outputs": [
        {
          "output_type": "display_data",
          "data": {
            "application/vnd.jupyter.widget-view+json": {
              "model_id": "5e13f13257834759830aacd85833e655",
              "version_minor": 0,
              "version_major": 2
            },
            "text/plain": [
              "interactive(children=(Dropdown(description='condition', options=('Birth Control', 'Depression', 'Pain', 'Acne'…"
            ]
          },
          "metadata": {}
        }
      ]
    },
    {
      "cell_type": "code",
      "metadata": {
        "id": "1qP069zz8zqA"
      },
      "source": [
        "#finding most useful and useless drug for each condition\n",
        "df_ = df_.drop_duplicates()"
      ],
      "execution_count": null,
      "outputs": []
    },
    {
      "cell_type": "code",
      "metadata": {
        "colab": {
          "base_uri": "https://localhost:8080/",
          "height": 284,
          "referenced_widgets": [
            "cf2ca1774d74433f85248e7acff281b5",
            "19a114ad731f4d6aad29ca5291670343",
            "47b5ebdf2ac048b287d34d0138809d36",
            "9c61626e9f8647128c42ee93ed0f6001",
            "e55d639719464a1aadfe1c34b63ff326",
            "d59bfd84a2394f6ead48c06228528c88",
            "90f7992af75c43adafce17dc20601b27"
          ]
        },
        "id": "F0IjBC0y9-2G",
        "outputId": "d91352f3-2e38-45a7-e719-474a703f1857"
      },
      "source": [
        "@interact\n",
        "def high_low_rate(condition = list(df_['condition'].value_counts().index)):\n",
        "  print('top 5 drug')\n",
        "  print(df_[df_['condition'] == condition][['drugName','usefulness']].sort_values(by='usefulness',ascending = False).head().reset_index(drop=True))\n",
        "\n",
        "  print('last 5 drug')\n",
        "  print(df_[df_['condition'] == condition][['drugName','usefulness']].sort_values(by='usefulness',ascending = True).head().reset_index(drop=True))\n"
      ],
      "execution_count": null,
      "outputs": [
        {
          "output_type": "display_data",
          "data": {
            "application/vnd.jupyter.widget-view+json": {
              "model_id": "cf2ca1774d74433f85248e7acff281b5",
              "version_minor": 0,
              "version_major": 2
            },
            "text/plain": [
              "interactive(children=(Dropdown(description='condition', options=('Birth Control', 'Depression', 'Pain', 'Acne'…"
            ]
          },
          "metadata": {}
        }
      ]
    }
  ]
}