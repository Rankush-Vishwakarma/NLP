{
  "nbformat": 4,
  "nbformat_minor": 0,
  "metadata": {
    "colab": {
      "provenance": []
    },
    "kernelspec": {
      "name": "python3",
      "display_name": "Python 3"
    }
  },
  "cells": [
    {
      "cell_type": "markdown",
      "metadata": {
        "id": "lTzKpotBjO4n"
      },
      "source": [
        "**Topic covered**\n",
        "\n",
        "1.**RegEx**\n",
        "Regular expression or regex is a sequence of charcter(s) mainly used to find and replace pattern in a string or file. Regex is used to find the pattern of special charcters having an associated textual meaning.(ex.'\\d':'numbers')\n",
        "commanly uses of regex are:\n",
        "\n",
        "    1. Search for a particular string\n",
        "    2. Finding for a particular string\n",
        "    3. Replace a particular string\n",
        "\n",
        "2.**Why Regex (applications)**\n",
        "\n",
        "    1. segemetation of words from sentences.\n",
        "    2. segmentation of sentences from paragraphs.\n",
        "    3. text-cleaning and noise removal.\n",
        "    4. information retrival from texts.\n",
        "3.**Types of Regular Expressions***\n",
        "\n",
        "    abc... : Letters\n",
        "    123... : Digits\n",
        "    \\d     : Any digits\n",
        "    \\D     : Any Non-digit charcter\n",
        "    .      : Any charcter\n",
        "    \\.     : Periods\n",
        "    [abc]  : Only abc\n",
        "    [^abc] : Not abc\n",
        "    [a-z]  : Charcters from a to z\n",
        "    [0-9]  : Numbers from 0 to 9\n",
        "    \\w     : Any alphaneumeric charcter\n",
        "    \\W     : Any non-alpha neumeric charcter\n",
        "    {m}    : 'm' Repetition \n",
        "    {m,n}  : m to n Repetition\n",
        "    *      : Zero or more Repitions\n",
        "    +      : One or more Repitions\n",
        "    ?      : Optional charcter\n",
        "    \\s     : Any white Space\n",
        "    \\S     : Any non- white Space\n",
        "    ^..$   : Starts and ends with\n",
        "    (...)  : Capture group\n",
        "    (s(uv)): Capture Subgroup\n",
        "    (.*)   : Capture all\n",
        "    (abc|xyz): Matches abc or xyz\n",
        "\n",
        "4.**Regular Expression Funtions**\n",
        "    python has built-in library 're' for regular expression and has some intresting funtion mentioned below.\n",
        "    \n",
        "    match  : finds the first occurance of pattern in the string\n",
        "    search : locates the pattern in the string\n",
        "    findall: find all the occurances of patterns in the string\n",
        "    sub    : used to search and replace\n",
        "    split  : split the text by the given regualar expression pattern\n"
      ]
    },
    {
      "cell_type": "code",
      "metadata": {
        "id": "HW7FBjxQjDYJ",
        "colab": {
          "base_uri": "https://localhost:8080/",
          "height": 34
        },
        "outputId": "0c2f7320-9ee8-4334-b4c9-40b12e286319"
      },
      "source": [
        "#import 're' library\n",
        "import re\n",
        "\n",
        "string = \"Half of our life problem can be solved with just 'let it go'. \"\n",
        "pattern = 'life'\n",
        "result = re.match(pattern, string)\n",
        "print(result)"
      ],
      "execution_count": null,
      "outputs": [
        {
          "output_type": "stream",
          "text": [
            "None\n"
          ],
          "name": "stdout"
        }
      ]
    },
    {
      "cell_type": "code",
      "metadata": {
        "id": "S60KtFWrpmBB",
        "colab": {
          "base_uri": "https://localhost:8080/",
          "height": 34
        },
        "outputId": "dcb072a7-007e-4376-9be6-b7b48ee31064"
      },
      "source": [
        "result = re.search(pattern, string)\n",
        "print(result)"
      ],
      "execution_count": null,
      "outputs": [
        {
          "output_type": "stream",
          "text": [
            "<_sre.SRE_Match object; span=(12, 16), match='life'>\n"
          ],
          "name": "stdout"
        }
      ]
    },
    {
      "cell_type": "code",
      "metadata": {
        "id": "U8SRTYZwpy7P",
        "colab": {
          "base_uri": "https://localhost:8080/",
          "height": 34
        },
        "outputId": "35d5cfd3-9fef-409a-cd35-3298a969b8ec"
      },
      "source": [
        "# find all the dates in the string\n",
        "string = \"rankush 08-2001 08-08-2001, abc 88-2001 09-09-2001, Xyz 45-3423 11-09-2001\"\n",
        "pattern = r'\\d{2}-\\d{2}-\\d{4}' \n",
        "result = re.findall(pattern, string)\n",
        "print(result)\n"
      ],
      "execution_count": null,
      "outputs": [
        {
          "output_type": "stream",
          "text": [
            "['08-08-2001', '09-09-2001', '11-09-2001']\n"
          ],
          "name": "stdout"
        }
      ]
    },
    {
      "cell_type": "code",
      "metadata": {
        "id": "0WBcUZUlsnTu",
        "colab": {
          "base_uri": "https://localhost:8080/",
          "height": 34
        },
        "outputId": "e1cd936d-757f-4404-b0a6-1e46204aa84e"
      },
      "source": [
        "# use of split funtion\n",
        "string = \"this is a, simple, very simple, simplest, etc., etc., string\"\n",
        "pattern = r'[:\\s]'\n",
        "result = re.split(pattern, string)\n",
        "print(result)\n"
      ],
      "execution_count": null,
      "outputs": [
        {
          "output_type": "stream",
          "text": [
            "['this', 'is', 'a,', 'simple,', 'very', 'simple,', 'simplest,', 'etc.,', 'etc.,', 'string']\n"
          ],
          "name": "stdout"
        }
      ]
    },
    {
      "cell_type": "code",
      "metadata": {
        "id": "HnzACMrztDpU",
        "colab": {
          "base_uri": "https://localhost:8080/",
          "height": 34
        },
        "outputId": "b372a1f9-69de-44d8-8557-60fe9e6b7c5e"
      },
      "source": [
        "# using sub funtion\n",
        "string = \"we are data scientist\"\n",
        "pattern = \"scientist\"\n",
        "replace = \"engineer\"\n",
        "result = re.sub(pattern, replace,string)\n",
        "print(result)\n"
      ],
      "execution_count": null,
      "outputs": [
        {
          "output_type": "stream",
          "text": [
            "we are data engineer\n"
          ],
          "name": "stdout"
        }
      ]
    },
    {
      "cell_type": "markdown",
      "metadata": {
        "id": "gVJNamubuqPP"
      },
      "source": [
        "Findall function examples : containers "
      ]
    },
    {
      "cell_type": "code",
      "metadata": {
        "id": "cqoSm4oXt5Pl",
        "colab": {
          "base_uri": "https://localhost:8080/",
          "height": 34
        },
        "outputId": "b0013178-a003-47ab-ed93-2ca7c82e68f0"
      },
      "source": [
        "re.findall(\"[a-d0-3]\",\"abcdefg234567890\")"
      ],
      "execution_count": null,
      "outputs": [
        {
          "output_type": "execute_result",
          "data": {
            "text/plain": [
              "['a', 'b', 'c', 'd', '2', '3', '0']"
            ]
          },
          "metadata": {
            "tags": []
          },
          "execution_count": 17
        }
      ]
    },
    {
      "cell_type": "code",
      "metadata": {
        "id": "GIp8LfG2uV--",
        "colab": {
          "base_uri": "https://localhost:8080/",
          "height": 34
        },
        "outputId": "e455f589-f67e-45e5-98e3-8083ccb547c2"
      },
      "source": [
        "re.findall(\"[aghxyz]\",\"abcdefg234567890\")"
      ],
      "execution_count": null,
      "outputs": [
        {
          "output_type": "execute_result",
          "data": {
            "text/plain": [
              "['a', 'g']"
            ]
          },
          "metadata": {
            "tags": []
          },
          "execution_count": 18
        }
      ]
    },
    {
      "cell_type": "code",
      "metadata": {
        "id": "8-CeX1qmuV1r",
        "colab": {
          "base_uri": "https://localhost:8080/",
          "height": 34
        },
        "outputId": "966c8c21-50ce-431e-d011-c468c5480e35"
      },
      "source": [
        "re.findall(\"[^a-d0-3]\",\"abcdefg234567890\")"
      ],
      "execution_count": null,
      "outputs": [
        {
          "output_type": "execute_result",
          "data": {
            "text/plain": [
              "['e', 'f', 'g', '4', '5', '6', '7', '8', '9']"
            ]
          },
          "metadata": {
            "tags": []
          },
          "execution_count": 19
        }
      ]
    },
    {
      "cell_type": "markdown",
      "metadata": {
        "id": "-mIQfBHtu4HE"
      },
      "source": [
        "Findall function exapmle : charcter classes"
      ]
    },
    {
      "cell_type": "code",
      "metadata": {
        "id": "UMOo9ppRuVvc",
        "colab": {
          "base_uri": "https://localhost:8080/",
          "height": 306
        },
        "outputId": "075993c2-cb64-46f7-a6b1-89b9cc68ca1c"
      },
      "source": [
        "re.findall(\"\\w\",'i am a datascientist')"
      ],
      "execution_count": null,
      "outputs": [
        {
          "output_type": "execute_result",
          "data": {
            "text/plain": [
              "['i',\n",
              " 'a',\n",
              " 'm',\n",
              " 'a',\n",
              " 'd',\n",
              " 'a',\n",
              " 't',\n",
              " 'a',\n",
              " 's',\n",
              " 'c',\n",
              " 'i',\n",
              " 'e',\n",
              " 'n',\n",
              " 't',\n",
              " 'i',\n",
              " 's',\n",
              " 't']"
            ]
          },
          "metadata": {
            "tags": []
          },
          "execution_count": 20
        }
      ]
    },
    {
      "cell_type": "code",
      "metadata": {
        "id": "6rOb5SBruVrD",
        "colab": {
          "base_uri": "https://localhost:8080/",
          "height": 34
        },
        "outputId": "6e58258a-edaa-406d-b7b9-cf5aef8eb9c1"
      },
      "source": [
        "re.findall(\"\\d\",'i am a datascientist')"
      ],
      "execution_count": null,
      "outputs": [
        {
          "output_type": "execute_result",
          "data": {
            "text/plain": [
              "[]"
            ]
          },
          "metadata": {
            "tags": []
          },
          "execution_count": 21
        }
      ]
    },
    {
      "cell_type": "code",
      "metadata": {
        "id": "qtyTKDOOuVjy",
        "colab": {
          "base_uri": "https://localhost:8080/",
          "height": 34
        },
        "outputId": "795a091e-f750-4b3e-8f47-82e0746c1b19"
      },
      "source": [
        "re.findall(\"\\d\",'i love me 3000')"
      ],
      "execution_count": null,
      "outputs": [
        {
          "output_type": "execute_result",
          "data": {
            "text/plain": [
              "['3', '0', '0', '0']"
            ]
          },
          "metadata": {
            "tags": []
          },
          "execution_count": 23
        }
      ]
    },
    {
      "cell_type": "code",
      "metadata": {
        "id": "p2UMnqdJvZV6",
        "colab": {
          "base_uri": "https://localhost:8080/",
          "height": 34
        },
        "outputId": "be34492b-8dd5-4304-c71a-54d0e90827a4"
      },
      "source": [
        "re.findall(\"\\D\",'i love me 3000')"
      ],
      "execution_count": null,
      "outputs": [
        {
          "output_type": "execute_result",
          "data": {
            "text/plain": [
              "['i', ' ', 'l', 'o', 'v', 'e', ' ', 'm', 'e', ' ']"
            ]
          },
          "metadata": {
            "tags": []
          },
          "execution_count": 24
        }
      ]
    },
    {
      "cell_type": "code",
      "metadata": {
        "id": "ovknlZ5ivZTq",
        "colab": {
          "base_uri": "https://localhost:8080/",
          "height": 34
        },
        "outputId": "774a2829-bdde-4bd4-dd1a-37074fa13927"
      },
      "source": [
        "re.findall(\"\\s\",'i love me 3000 \\t 6,968 ')"
      ],
      "execution_count": null,
      "outputs": [
        {
          "output_type": "execute_result",
          "data": {
            "text/plain": [
              "[' ', ' ', ' ', ' ', '\\t', ' ', ' ']"
            ]
          },
          "metadata": {
            "tags": []
          },
          "execution_count": 25
        }
      ]
    },
    {
      "cell_type": "code",
      "metadata": {
        "id": "lhiIWC_mvZRh",
        "colab": {
          "base_uri": "https://localhost:8080/",
          "height": 289
        },
        "outputId": "22433a70-b94a-43de-bf2b-475b5719d5cf"
      },
      "source": [
        "re.findall(\"\\S\",'i love me 3000 \\t 6,968 ')"
      ],
      "execution_count": null,
      "outputs": [
        {
          "output_type": "execute_result",
          "data": {
            "text/plain": [
              "['i',\n",
              " 'l',\n",
              " 'o',\n",
              " 'v',\n",
              " 'e',\n",
              " 'm',\n",
              " 'e',\n",
              " '3',\n",
              " '0',\n",
              " '0',\n",
              " '0',\n",
              " '6',\n",
              " ',',\n",
              " '9',\n",
              " '6',\n",
              " '8']"
            ]
          },
          "metadata": {
            "tags": []
          },
          "execution_count": 26
        }
      ]
    },
    {
      "cell_type": "markdown",
      "metadata": {
        "id": "YkA_fPOLv5Ct"
      },
      "source": [
        "Findall : Special chacters"
      ]
    },
    {
      "cell_type": "code",
      "metadata": {
        "id": "ycQ2AVoovZJt",
        "colab": {
          "base_uri": "https://localhost:8080/",
          "height": 425
        },
        "outputId": "971a1609-62a0-46f5-afe6-62c0ac8d972a"
      },
      "source": [
        "re.findall(\".\",'i love me 3000! \\t 6,968 ')"
      ],
      "execution_count": null,
      "outputs": [
        {
          "output_type": "execute_result",
          "data": {
            "text/plain": [
              "['i',\n",
              " ' ',\n",
              " 'l',\n",
              " 'o',\n",
              " 'v',\n",
              " 'e',\n",
              " ' ',\n",
              " 'm',\n",
              " 'e',\n",
              " ' ',\n",
              " '3',\n",
              " '0',\n",
              " '0',\n",
              " '0',\n",
              " '!',\n",
              " ' ',\n",
              " '\\t',\n",
              " ' ',\n",
              " '6',\n",
              " ',',\n",
              " '9',\n",
              " '6',\n",
              " '8',\n",
              " ' ']"
            ]
          },
          "metadata": {
            "tags": []
          },
          "execution_count": 29
        }
      ]
    },
    {
      "cell_type": "code",
      "metadata": {
        "id": "3Ru3xwM_vUKu",
        "colab": {
          "base_uri": "https://localhost:8080/",
          "height": 289
        },
        "outputId": "bf5bcb7e-eed7-41a5-ed24-e18e2db482dc"
      },
      "source": [
        "re.findall(\"[^[a-zA-Z]\",'i love me 3000 \\t 6,968 ')"
      ],
      "execution_count": null,
      "outputs": [
        {
          "output_type": "execute_result",
          "data": {
            "text/plain": [
              "[' ',\n",
              " ' ',\n",
              " ' ',\n",
              " '3',\n",
              " '0',\n",
              " '0',\n",
              " '0',\n",
              " ' ',\n",
              " '\\t',\n",
              " ' ',\n",
              " '6',\n",
              " ',',\n",
              " '9',\n",
              " '6',\n",
              " '8',\n",
              " ' ']"
            ]
          },
          "metadata": {
            "tags": []
          },
          "execution_count": 30
        }
      ]
    },
    {
      "cell_type": "code",
      "metadata": {
        "id": "bhGQjJeDvUha",
        "colab": {
          "base_uri": "https://localhost:8080/",
          "height": 34
        },
        "outputId": "d0c572cc-e814-491f-caaf-751276568e5c"
      },
      "source": [
        "re.findall(\"[a-zA-Z]$\",'i love me 3000 \\t 6,968 ')"
      ],
      "execution_count": null,
      "outputs": [
        {
          "output_type": "execute_result",
          "data": {
            "text/plain": [
              "[]"
            ]
          },
          "metadata": {
            "tags": []
          },
          "execution_count": 31
        }
      ]
    },
    {
      "cell_type": "code",
      "metadata": {
        "id": "Rhuc4KF5weOB",
        "colab": {
          "base_uri": "https://localhost:8080/",
          "height": 34
        },
        "outputId": "208a125b-de1d-4ab1-bef2-316a04fa0ba7"
      },
      "source": [
        "re.findall(\"[a-zA-Z]$\",'i love me')"
      ],
      "execution_count": null,
      "outputs": [
        {
          "output_type": "execute_result",
          "data": {
            "text/plain": [
              "['e']"
            ]
          },
          "metadata": {
            "tags": []
          },
          "execution_count": 32
        }
      ]
    },
    {
      "cell_type": "code",
      "metadata": {
        "id": "fxcpUoukweLt"
      },
      "source": [
        "re.findall(\"*\",'i love me') #error"
      ],
      "execution_count": null,
      "outputs": []
    },
    {
      "cell_type": "code",
      "metadata": {
        "id": "VnHPKTtTweH6",
        "colab": {
          "base_uri": "https://localhost:8080/",
          "height": 34
        },
        "outputId": "1857ce6b-40e4-4151-aee7-fe8f60b9a698"
      },
      "source": [
        "re.findall(\"\\*\",'i love me ******') "
      ],
      "execution_count": null,
      "outputs": [
        {
          "output_type": "execute_result",
          "data": {
            "text/plain": [
              "['*', '*', '*', '*', '*', '*']"
            ]
          },
          "metadata": {
            "tags": []
          },
          "execution_count": 35
        }
      ]
    },
    {
      "cell_type": "code",
      "metadata": {
        "id": "tWajNv12weCq",
        "colab": {
          "base_uri": "https://localhost:8080/",
          "height": 34
        },
        "outputId": "a9f6996c-b0e1-452e-cdce-ebd8cd273e7a"
      },
      "source": [
        "re.findall(\"a.\",'have some data tea') "
      ],
      "execution_count": null,
      "outputs": [
        {
          "output_type": "execute_result",
          "data": {
            "text/plain": [
              "['av', 'at', 'a ']"
            ]
          },
          "metadata": {
            "tags": []
          },
          "execution_count": 36
        }
      ]
    },
    {
      "cell_type": "code",
      "metadata": {
        "id": "F51awz2bwdxy",
        "colab": {
          "base_uri": "https://localhost:8080/",
          "height": 34
        },
        "outputId": "cb63316e-aca4-4a7f-aa44-01142a0dea2c"
      },
      "source": [
        "re.findall(\"a.*\",'have some data tea') "
      ],
      "execution_count": null,
      "outputs": [
        {
          "output_type": "execute_result",
          "data": {
            "text/plain": [
              "['ave some data tea']"
            ]
          },
          "metadata": {
            "tags": []
          },
          "execution_count": 37
        }
      ]
    },
    {
      "cell_type": "code",
      "metadata": {
        "id": "BgSnDEnKxRCD",
        "colab": {
          "base_uri": "https://localhost:8080/",
          "height": 34
        },
        "outputId": "ffa94d01-6092-4041-a70f-622f44ef0770"
      },
      "source": [
        "re.findall(\"a.*a\",'have some data tea with me') "
      ],
      "execution_count": null,
      "outputs": [
        {
          "output_type": "execute_result",
          "data": {
            "text/plain": [
              "['ave some data tea']"
            ]
          },
          "metadata": {
            "tags": []
          },
          "execution_count": 39
        }
      ]
    },
    {
      "cell_type": "code",
      "metadata": {
        "id": "Uss5ATU1xZK7",
        "colab": {
          "base_uri": "https://localhost:8080/",
          "height": 34
        },
        "outputId": "f2c0f11d-5dbe-4a15-a7cc-4d55f1583d0d"
      },
      "source": [
        "re.findall(\"a.*?a\",'have some data tea') "
      ],
      "execution_count": null,
      "outputs": [
        {
          "output_type": "execute_result",
          "data": {
            "text/plain": [
              "['ave some da', 'a tea']"
            ]
          },
          "metadata": {
            "tags": []
          },
          "execution_count": 40
        }
      ]
    },
    {
      "cell_type": "code",
      "metadata": {
        "id": "30R1navqxZ18",
        "colab": {
          "base_uri": "https://localhost:8080/",
          "height": 34
        },
        "outputId": "48d5fa95-1be7-4e0a-e4e9-ddd2bc6fecb6"
      },
      "source": [
        "re.findall(\"a.?e\",'have some data tea') "
      ],
      "execution_count": null,
      "outputs": [
        {
          "output_type": "execute_result",
          "data": {
            "text/plain": [
              "['ave']"
            ]
          },
          "metadata": {
            "tags": []
          },
          "execution_count": 41
        }
      ]
    },
    {
      "cell_type": "code",
      "metadata": {
        "id": "BXSnGlwfxlVw",
        "colab": {
          "base_uri": "https://localhost:8080/",
          "height": 35
        },
        "outputId": "0574850d-9e90-4ada-b4de-0d503f45aeb7"
      },
      "source": [
        "a=\"this is going to the end of 2020 i can't wait for the coming year\"\n",
        "result = re.sub(\"\\d{4}\",\"the coming year\",a)\n",
        "result"
      ],
      "execution_count": null,
      "outputs": [
        {
          "output_type": "execute_result",
          "data": {
            "application/vnd.google.colaboratory.intrinsic+json": {
              "type": "string"
            },
            "text/plain": [
              "\"this is going to the end of the coming year i can't wait for the coming year\""
            ]
          },
          "metadata": {
            "tags": []
          },
          "execution_count": 55
        }
      ]
    },
    {
      "cell_type": "code",
      "metadata": {
        "id": "q5pwHEn2zsPt",
        "colab": {
          "base_uri": "https://localhost:8080/",
          "height": 34
        },
        "outputId": "2f409261-f89c-4882-ba7e-7d83e232928d"
      },
      "source": [
        "re.search(\"([\\w.-]+)@([\\w.-]+)\",\" contact me on rkvishwakarma098@gmail.com \")"
      ],
      "execution_count": null,
      "outputs": [
        {
          "output_type": "execute_result",
          "data": {
            "text/plain": [
              "<_sre.SRE_Match object; span=(15, 41), match='rkvishwakarma098@gmail.com'>"
            ]
          },
          "metadata": {
            "tags": []
          },
          "execution_count": 6
        }
      ]
    }
  ]
}